{
 "cells": [
  {
   "cell_type": "markdown",
   "metadata": {},
   "source": [
    "# Text Mining with Sklearn\n",
    "\n",
    "\n",
    "\n",
    "__Author:__ Colin Cambo\n",
    "\n",
    "__Date:__ 4/10/2017\n",
    "\n",
    "__About:__ This notebook covers the basics of text mining with sklearn.\n",
    "\n",
    "__Contents:__\n",
    "\n",
    "  * [0 Introduction 20 newsgroups Dataset](#0)\n",
    "    * [0.1 Loading Data](#0.1)\n",
    "    * [0.2 Simple Exploration](#0.2)\n",
    "  * [1 Text Mining Basics](#1)\n",
    "    * [1.1 CountVectorizer](#1.1)\n",
    "        * [1.1.1 Description](#1.1.1)\n",
    "        * [1.1.2 Example](#1.1.2)\n",
    "        * [1.1.3 Parameters](#1.1.3)\n",
    "          * [1.1.3.1 min_df](#1.1.3.1)\n",
    "          * [1.1.3.2 max_df](#1.1.3.2)\n",
    "          * [1.1.3.3 ngram_range](#1.1.3.3)\n",
    "          * [1.1.3.4 max_features](#1.1.3.4)\n",
    "    * [1.2 TfidfTransformer](#1.2)\n",
    "      * [1.2.1 Description](#1.2.1)\n",
    "      * [1.2.2 Example](#1.2.2)\n",
    "      * [1.2.3 Parameters](#1.2.3)\n",
    "          * [1.2.3.1 norm](#1.2.3.1)\n",
    "          * [1.2.3.2 use_idf](#1.2.3.2)\n",
    "  * [2 Modeling](#2)\n",
    "    * [2.1 Multinomial Naive Bayes](#2.1)\n",
    "      * [2.1.1 Description](#2.1.1)\n",
    "      * [2.1.2 Example](#2.1.2)\n",
    "      * [2.1.3 Parameters](#2.1.3)\n",
    "        * [2.1.3.1 alpha](#2.1.3.1)\n",
    "    * [2.2 Stochastic Gradient Descent](#2.2)\n",
    "      * [2.2.1 Description](#2.2.1)\n",
    "      * [2.2.2 Example](#2.2.2)\n",
    "      * [2.2.3 Parameters](#2.2.3)\n",
    "        * [2.2.3.1 alpha](#2.2.3.1)\n",
    "        * [2.2.3.2 epsilon](#2.2.3.2)\n",
    "  * [3 Tuning Models](#3)\n",
    "    * [3.1 Pipelines](#3.1)\n",
    "      * [3.1.1 Description](#3.1.1)\n",
    "      * [3.1.2 Example](#3.1.2)\n",
    "    * [3.2 Parameter Seach](#3.2)\n",
    "      * [3.2.1 GridSearchCV](#3.2.1)\n",
    "        * [3.2.1.1 Description](#3.2.1)\n",
    "        * [3.2.1.2 Example](#3.2.2)\n",
    "        * [3.2.1.3 Parameters](#3.2.3)\n",
    "      * [3.2.1 RandomizedSearchCV](#3.2.1)\n",
    "        * [3.2.1.1 Description](#3.2.1)\n",
    "        * [3.2.1.2 Example](#3.2.2)\n",
    "        * [3.2.1.3 Parameters](#3.2.3)\n",
    "  * [4 Increasing Performance](#4)\n",
    "    * [4.1 Stemming](#4.1)\n",
    "      * [4.1.1 Description](#4.1.1)\n",
    "      * [4.1.2 Example](#4.1.2)\n",
    "      * [4.1.3 Types](#4.1.3)\n",
    "        * [2.2.3.1 Porter](#4.1.3.1)\n",
    "        * [2.2.3.1 Lancaster](#4.1.3.2)\n",
    "        * [4.1.3.3 Snowball](#4.1.3.3)\n",
    "    * [4.2 Custom Transformers](#4.2)\n",
    "      * [4.2.1 ColSelector](#4.2.1)\n",
    "        \n",
    "__Requirements__\n",
    "\n",
    "Run the cell below to pip install all dependencies"
   ]
  },
  {
   "cell_type": "code",
   "execution_count": 2,
   "metadata": {
    "collapsed": false
   },
   "outputs": [],
   "source": [
    "#!pip install -r requirements.txt"
   ]
  },
  {
   "cell_type": "code",
   "execution_count": 3,
   "metadata": {
    "collapsed": false
   },
   "outputs": [],
   "source": [
    "from sklearn.feature_extraction.text import CountVectorizer, TfidfTransformer\n",
    "from sklearn.pipeline import make_pipeline\n",
    "from sklearn.metrics import f1_score, accuracy_score, log_loss\n",
    "from sklearn.pipeline import Pipeline\n",
    "from sklearn.naive_bayes import MultinomialNB\n",
    "from sklearn.model_selection import train_test_split, GridSearchCV, RandomizedSearchCV\n",
    "from sklearn.metrics import classification_report, confusion_matrix\n",
    "from sklearn.linear_model import SGDClassifier\n",
    "from ipywidgets import interact\n",
    "from time import time\n",
    "\n",
    "import pandas as pd\n",
    "import seaborn as sns\n",
    "import matplotlib.pyplot as plt\n",
    "import numpy as np\n",
    "\n",
    "%matplotlib inline"
   ]
  },
  {
   "cell_type": "markdown",
   "metadata": {},
   "source": [
    "<a id='0'></a>\n",
    "# 0 Introduction 20 Newsgroups Dataset\n",
    "\n",
    "The 20 newsgroups dataset comprises around 18000 newsgroups posts on 20 topics split in two subsets: one for training (or development) and the other one for testing (or for performance evaluation). The split between the train and test set is based upon a messages posted before and after a specific date.\n",
    "\n",
    "For more information about the data: http://qwone.com/~jason/20Newsgroups/"
   ]
  },
  {
   "cell_type": "markdown",
   "metadata": {},
   "source": [
    "<a id='0.1'></a>\n",
    "## 0.1 Loading Data\n",
    "\n",
    "We will use sklearn to load the data, so we will import the function fetch_20newsgroups from sklearn.datasets"
   ]
  },
  {
   "cell_type": "code",
   "execution_count": 4,
   "metadata": {
    "collapsed": true
   },
   "outputs": [],
   "source": [
    "from sklearn.datasets import fetch_20newsgroups"
   ]
  },
  {
   "cell_type": "markdown",
   "metadata": {},
   "source": [
    "The default parameters will return the entire dataset as a python object. Below we will set data equal to the dataset"
   ]
  },
  {
   "cell_type": "code",
   "execution_count": 5,
   "metadata": {
    "collapsed": true
   },
   "outputs": [],
   "source": [
    "data = fetch_20newsgroups()"
   ]
  },
  {
   "cell_type": "markdown",
   "metadata": {},
   "source": [
    "Target names are stored in data.target_names, below are all of the target names currently in our dataset. "
   ]
  },
  {
   "cell_type": "code",
   "execution_count": 6,
   "metadata": {
    "collapsed": false
   },
   "outputs": [
    {
     "data": {
      "text/plain": [
       "['alt.atheism',\n",
       " 'comp.graphics',\n",
       " 'comp.os.ms-windows.misc',\n",
       " 'comp.sys.ibm.pc.hardware',\n",
       " 'comp.sys.mac.hardware',\n",
       " 'comp.windows.x',\n",
       " 'misc.forsale',\n",
       " 'rec.autos',\n",
       " 'rec.motorcycles',\n",
       " 'rec.sport.baseball',\n",
       " 'rec.sport.hockey',\n",
       " 'sci.crypt',\n",
       " 'sci.electronics',\n",
       " 'sci.med',\n",
       " 'sci.space',\n",
       " 'soc.religion.christian',\n",
       " 'talk.politics.guns',\n",
       " 'talk.politics.mideast',\n",
       " 'talk.politics.misc',\n",
       " 'talk.religion.misc']"
      ]
     },
     "execution_count": 6,
     "metadata": {},
     "output_type": "execute_result"
    }
   ],
   "source": [
    "data.target_names"
   ]
  },
  {
   "cell_type": "markdown",
   "metadata": {},
   "source": [
    "Using Counter we can see just how many observations belong to each of our classes"
   ]
  },
  {
   "cell_type": "code",
   "execution_count": 7,
   "metadata": {
    "collapsed": true
   },
   "outputs": [],
   "source": [
    "from collections import Counter"
   ]
  },
  {
   "cell_type": "code",
   "execution_count": 8,
   "metadata": {
    "collapsed": false
   },
   "outputs": [
    {
     "data": {
      "text/plain": [
       "Counter({0: 480,\n",
       "         1: 584,\n",
       "         2: 591,\n",
       "         3: 590,\n",
       "         4: 578,\n",
       "         5: 593,\n",
       "         6: 585,\n",
       "         7: 594,\n",
       "         8: 598,\n",
       "         9: 597,\n",
       "         10: 600,\n",
       "         11: 595,\n",
       "         12: 591,\n",
       "         13: 594,\n",
       "         14: 593,\n",
       "         15: 599,\n",
       "         16: 546,\n",
       "         17: 564,\n",
       "         18: 465,\n",
       "         19: 377})"
      ]
     },
     "execution_count": 8,
     "metadata": {},
     "output_type": "execute_result"
    }
   ],
   "source": [
    "Counter(data.target)"
   ]
  },
  {
   "cell_type": "markdown",
   "metadata": {},
   "source": [
    "Overall the dataset is pretty balanced between the classes, which makes classification easier for us, but there are still too many observations for us to effectively model in a short period, so we will subset the dataset by taking only 5 classes.\n",
    "\n",
    "To subset the dataset by classes you just have to pass a list of the classes you're interested in to the fetch_20newsgroups function's categories variable. We will also subset our dataset to just get the train set."
   ]
  },
  {
   "cell_type": "code",
   "execution_count": 9,
   "metadata": {
    "collapsed": true
   },
   "outputs": [],
   "source": [
    "cat = ['rec.sport.baseball', 'sci.electronics', 'talk.politics.misc', 'sci.crypt', 'misc.forsale']"
   ]
  },
  {
   "cell_type": "code",
   "execution_count": 10,
   "metadata": {
    "collapsed": true
   },
   "outputs": [],
   "source": [
    "train = fetch_20newsgroups(subset='train', categories=cat, shuffle=True, random_state=42)"
   ]
  },
  {
   "cell_type": "markdown",
   "metadata": {},
   "source": [
    "<a id='0.2'></a>\n",
    "## 0.2 Simple Data Exploration\n",
    "\n",
    "This lecture is for text mining so our data exploration will be minimal"
   ]
  },
  {
   "cell_type": "code",
   "execution_count": 11,
   "metadata": {
    "collapsed": false
   },
   "outputs": [
    {
     "data": {
      "text/plain": [
       "2833"
      ]
     },
     "execution_count": 11,
     "metadata": {},
     "output_type": "execute_result"
    }
   ],
   "source": [
    "len(train.data)"
   ]
  },
  {
   "cell_type": "code",
   "execution_count": 13,
   "metadata": {
    "collapsed": false
   },
   "outputs": [
    {
     "data": {
      "text/plain": [
       "2833"
      ]
     },
     "execution_count": 13,
     "metadata": {},
     "output_type": "execute_result"
    }
   ],
   "source": [
    "len(train.target)"
   ]
  },
  {
   "cell_type": "code",
   "execution_count": 14,
   "metadata": {
    "collapsed": false
   },
   "outputs": [
    {
     "data": {
      "text/plain": [
       "['misc.forsale',\n",
       " 'rec.sport.baseball',\n",
       " 'sci.crypt',\n",
       " 'sci.electronics',\n",
       " 'talk.politics.misc']"
      ]
     },
     "execution_count": 14,
     "metadata": {},
     "output_type": "execute_result"
    }
   ],
   "source": [
    "train.target_names"
   ]
  },
  {
   "cell_type": "code",
   "execution_count": 15,
   "metadata": {
    "collapsed": false
   },
   "outputs": [
    {
     "data": {
      "text/plain": [
       "Counter({0: 585, 1: 597, 2: 595, 3: 591, 4: 465})"
      ]
     },
     "execution_count": 15,
     "metadata": {},
     "output_type": "execute_result"
    }
   ],
   "source": [
    "Counter(train.target)"
   ]
  },
  {
   "cell_type": "code",
   "execution_count": 154,
   "metadata": {
    "collapsed": false
   },
   "outputs": [],
   "source": [
    "df = pd.DataFrame({'Text':train.data, 'Target':train.target})"
   ]
  },
  {
   "cell_type": "code",
   "execution_count": 17,
   "metadata": {
    "collapsed": false
   },
   "outputs": [
    {
     "data": {
      "text/html": [
       "<div>\n",
       "<table border=\"1\" class=\"dataframe\">\n",
       "  <thead>\n",
       "    <tr style=\"text-align: right;\">\n",
       "      <th></th>\n",
       "      <th>Target</th>\n",
       "      <th>Text</th>\n",
       "    </tr>\n",
       "  </thead>\n",
       "  <tbody>\n",
       "    <tr>\n",
       "      <th>0</th>\n",
       "      <td>0</td>\n",
       "      <td>From: jay@gdx.UUCP (Jay Snyder)\\nSubject: WANT...</td>\n",
       "    </tr>\n",
       "    <tr>\n",
       "      <th>1</th>\n",
       "      <td>4</td>\n",
       "      <td>From: VEAL@utkvm1.utk.edu (David Veal)\\nSubjec...</td>\n",
       "    </tr>\n",
       "    <tr>\n",
       "      <th>2</th>\n",
       "      <td>1</td>\n",
       "      <td>From: rickert@NeXTwork.Rose-Hulman.Edu (John H...</td>\n",
       "    </tr>\n",
       "    <tr>\n",
       "      <th>3</th>\n",
       "      <td>0</td>\n",
       "      <td>From: rosen@kranz.enet.dec.com (Jim Rosenkranz...</td>\n",
       "    </tr>\n",
       "    <tr>\n",
       "      <th>4</th>\n",
       "      <td>0</td>\n",
       "      <td>From: shapiro@oucsace.cs.ohiou.edu (Brian Shap...</td>\n",
       "    </tr>\n",
       "  </tbody>\n",
       "</table>\n",
       "</div>"
      ],
      "text/plain": [
       "   Target                                               Text\n",
       "0       0  From: jay@gdx.UUCP (Jay Snyder)\\nSubject: WANT...\n",
       "1       4  From: VEAL@utkvm1.utk.edu (David Veal)\\nSubjec...\n",
       "2       1  From: rickert@NeXTwork.Rose-Hulman.Edu (John H...\n",
       "3       0  From: rosen@kranz.enet.dec.com (Jim Rosenkranz...\n",
       "4       0  From: shapiro@oucsace.cs.ohiou.edu (Brian Shap..."
      ]
     },
     "execution_count": 17,
     "metadata": {},
     "output_type": "execute_result"
    }
   ],
   "source": [
    "df.head()"
   ]
  },
  {
   "cell_type": "code",
   "execution_count": 19,
   "metadata": {
    "collapsed": false
   },
   "outputs": [
    {
     "name": "stdout",
     "output_type": "stream",
     "text": [
      "From: VEAL@utkvm1.utk.edu (David Veal)\n",
      "Subject: Re: My Gun is like my American Express Car\n",
      "Lines: 137\n",
      "Organization: University of Tennessee Division of Continuing Education\n",
      "\n",
      "In article <1993Apr14.195912.16613@grace.rt.cs.boeing.com> rwojcik@atc.boeing.com (Richard Wojcik) writes:\n",
      "\n",
      ">In article 734629856@misty, john@anasazi.com (John R. Moore) writes:\n",
      ">>papresco@undergrad.math.uwaterloo.ca (Paul Prescod) writes:\n",
      ">>\n",
      ">>]I'm not.  I'm in Canada.  We have far fewer shootings like this.  We have\n",
      ">>]had, I believe, one mass murder in the last twenty years.\n",
      ">>\n",
      ">>]I'm not going to say we don't have our gun problems.  But we do have the\n",
      ">>]world's largest undefended boarder with one of the most gun-happy countries \n",
      ">>]in the world.  I think Canada illustrates that gun control does have an \n",
      ">>]effect.  In fact, it's suprising that there is any difference considering\n",
      ">>]how easy it is to smuggle a gun from the U.S.\n",
      ">>\n",
      ">>Yes, it's amazing, isn't it. In fact, it should tell you that gun control\n",
      ">>is NOT the reason your crime rate is low, since any idiot can smuggle guns\n",
      ">>into Canada from the US at any time.\n",
      ">\n",
      ">I think Paul was trying to make the point that \"any idiot\" doesn't.  There are\n",
      ">surely some idiots who do smuggle guns, but Paul seems to feel that the exis-\n",
      ">tence of stricter gun control laws has had a deterrent effect.  \n",
      "\n",
      "       This seems a strange argument to make considering that Canada's\n",
      "violent crime rate in general is far lower than that of the U.S.  (Our\n",
      "non-gun crime rate is greater than their *entire* crime rate).  It\n",
      "would seem strange to suggest that it, to, were the result of gun\n",
      "control laws.\n",
      "\n",
      "       I think if we looked we'd find very specific (cultural and\n",
      "enforcement) reasons why the non-gun rate is low as well, and then\n",
      "that reasons could be applied to the with-gun rates as easily.\n",
      "\n",
      ">Given that most\n",
      ">criminally used guns are either legally purchased or stolen from those who\n",
      ">purchase them legally, having more restrictions on legal possession does \n",
      ">seem to have the effect of reducing gun-related crimes.  \n",
      "\n",
      "       Aside from the fact that I find the idea of being punished\n",
      "because somebody might steal something from me and go and commit a\n",
      "crime with it a silly solution, it still doesn't address the\n",
      "question of Canada.  (Which is now, by the way, blaming their rising\n",
      "gun-crime rate on the U.S.  Strange that the border used to \"magically\"\n",
      "keep the guns out, but now isn't.)\n",
      "\n",
      ">It certainly makes\n",
      ">sense that it would.  (Well, it makes sense to some of us, anyway.  ;-)\n",
      "\n",
      "       The other side of the coin, of course, is that far \"illegal drugs\"\n",
      "are purchases legally or stolen from people who purchase them legally. \n",
      "I've still not been convinced that guns, a commodity which criminals\n",
      "have shown their perfectly willing to pay for from illegal sources\n",
      "(stolen either from police, military, or civilian) we wouldn't simply\n",
      "see South American sources from which drugs come start smuggling guns as\n",
      "well, since there's a thriving gun manufacturing industry down there.\n",
      "\n",
      ">>If you would just look a little closer at the crime statistics, you would\n",
      ">>realize that:\n",
      ">>  -our non-gun crime rate is also very high, so guns per se are not the issue\n",
      ">\n",
      ">Directly contradicted by the NEJM study that compared crime in Seattle and\n",
      ">Vancouver, B.C.  The non-gun rates were roughly the same for both cities.  The\n",
      ">difference in violent crime rates was almost totally gun-related.  \n",
      "\n",
      "        And as was not pointed out in the study, but in critiques\n",
      "of it, (two seperate articles by James Wright and David Kopel come\n",
      "to mind) it was pointed out that the difference was *also* almost\n",
      "entirely minority related.  That is, the gun crime rate skyrocketed\n",
      "for poor minorities (Blacks and Hispanics primarily) while when you\n",
      "compared the white majority they were virutally identical.\n",
      "\n",
      "        The problem with the NEJM study was they compared minority vs.\n",
      "non-minority percentages but failed to take into account the relative\n",
      "conditions of those minorities.  That there was an eqaul percentage of\n",
      "nomn-whites was about as far as they went.  They failed to take into\n",
      "account that the non-whites in either city were not living in the\n",
      "same conditions.\n",
      "\n",
      "        If the situation was entirely based on availability of guns,\n",
      "then we'd expect that the white rates, the two groups which are\n",
      "arguably fairly comparative in the two cities, would have a far\n",
      "higher rate in Seattle.  Yet the majority in Seattle is not only\n",
      "not significantly higher when the minorities are excluded, but slightly\n",
      "lower.\n",
      "\n",
      ">>  -violent crime is highly concentrated in the inner city\n",
      ">\n",
      ">Surprise.  Pick the area with the highest incidence of poverty, drug use, disease,\n",
      ">etc.  Since rates are lower in suburbia, us middle class folks can ignore the\n",
      ">problem.\n",
      "\n",
      "\n",
      "       The point is, of course, that many of the U.S. \"inner-city\"\n",
      "problems are not mirrored in Canada.  As such  if there is a condition\n",
      "which is significantly different in Canada from the U.S., and violent\n",
      "crime is highly correlated to that area, suggesting that gun control\n",
      "is the source of Canada's low rate is highly questionable.  (As one\n",
      "Canadian pointed out on talk.politics.guns, Canada's major gun control\n",
      "in 1978 did not result in either a reduction or a slowing of an increase\n",
      "in violent crime rates, which have been rising steadily since.  Apparently\n",
      "they didn't even mirror the U.S.s very large drop of violent crime in\n",
      "the early eighties.\n",
      "\n",
      ">>  -most violent crime occurs in areas with strict gun control already\n",
      ">\n",
      ">Post hoc ergo propter hoc.  Those areas implemented gun control because of\n",
      ">the high rates.  \n",
      "\n",
      "       True only to a certain extent.  Take Washington D.C., where\n",
      "gun control was instituted while it had crime problems true, but that\n",
      "crime proceeded to explode afterwards.  Similarly for New York.\n",
      "\n",
      "       The question is not simply a point in time where crime was high\n",
      "or low.  Did the gun control significantly and positively impact\n",
      "violent crime.  Since it's gone up in those areas, often faster than it\n",
      "was going up before, you can't simply dismiss the high crime rate by\n",
      "saying gun control was caused by it.  Yes, gun control may be instituted\n",
      "to deal with high crime.  But if the crime is not positively impacted, you\n",
      "can't continually say that that crime rate was entirely a cause of\n",
      "that gun control, since much of that crime rate increased after gun control\n",
      "was implemented, just as happened in Canada.\n",
      "\n",
      ">Similar or worse rates exist in cities with poor gun control.\n",
      "\n",
      "       As would be expected if violent crime was generally independent\n",
      "of gun control.\n",
      "\n",
      ">And the jury is still out on the question of whether recent tough laws in \n",
      ">Washington D.C. may have alleviated violence and suicide rates there.\n",
      "\n",
      "       Would this be the laws which made manufacturers liable for what\n",
      "others did with their guns, and suddenly the police found nobody would\n",
      "sell to them?\n",
      "------------------------------------------------------------------------\n",
      "David Veal Univ. of Tenn. Div. of Cont. Education Info. Services Group\n",
      "PA146008@utkvm1.utk.edu - \"I still remember the way you laughed, the day\n",
      "your pushed me down the elevator shaft;  I'm beginning to think you don't\n",
      "love me anymore.\" - \"Weird Al\"\n",
      "\n"
     ]
    }
   ],
   "source": [
    "print(df.iloc[1]['Text'])"
   ]
  },
  {
   "cell_type": "markdown",
   "metadata": {},
   "source": [
    "This isn't your usual text data, so we will see if this still follows Zipf's law\n",
    "\n",
    "__[Zipf's Law](https://en.wikipedia.org/wiki/Zipf%27s_law):__  Zipf's law states that given some corpus of natural language utterances, the frequency of any word is inversely proportional to its rank in the frequency table. Thus the most frequent word will occur approximately twice as often as the second most frequent word, three times as often as the third most frequent word, etc.: the rank-frequency distribution is an inverse relation."
   ]
  },
  {
   "cell_type": "code",
   "execution_count": 21,
   "metadata": {
    "collapsed": false
   },
   "outputs": [],
   "source": [
    "from functools import reduce\n",
    "import re\n",
    "token_regex = re.compile(r'\\b\\w\\w+\\b')\n",
    "\n",
    "#Here we're just combining all tokens into one massive string\n",
    "all_msgs = reduce((lambda x, y: x + y), map(lambda x: token_regex.findall(x.lower()), df['Text'].tolist()))"
   ]
  },
  {
   "cell_type": "code",
   "execution_count": 22,
   "metadata": {
    "collapsed": true
   },
   "outputs": [],
   "source": [
    "count = Counter(all_msgs)"
   ]
  },
  {
   "cell_type": "code",
   "execution_count": 23,
   "metadata": {
    "collapsed": true
   },
   "outputs": [],
   "source": [
    "#Sorting counts\n",
    "word_counts = sorted(list(count.items()), key=lambda x:x[1], reverse=True)"
   ]
  },
  {
   "cell_type": "code",
   "execution_count": 24,
   "metadata": {
    "collapsed": false
   },
   "outputs": [
    {
     "data": {
      "text/plain": [
       "[('the', 35118),\n",
       " ('to', 18795),\n",
       " ('of', 15683),\n",
       " ('and', 13647),\n",
       " ('in', 11243),\n",
       " ('is', 10122),\n",
       " ('that', 9305),\n",
       " ('it', 7648),\n",
       " ('for', 7607),\n",
       " ('you', 6014)]"
      ]
     },
     "execution_count": 24,
     "metadata": {},
     "output_type": "execute_result"
    }
   ],
   "source": [
    "#Displaying first 10\n",
    "word_counts[:10]"
   ]
  },
  {
   "cell_type": "code",
   "execution_count": 25,
   "metadata": {
    "collapsed": false
   },
   "outputs": [
    {
     "data": {
      "text/plain": [
       "<matplotlib.text.Text at 0x159ad470>"
      ]
     },
     "execution_count": 25,
     "metadata": {},
     "output_type": "execute_result"
    },
    {
     "data": {
      "image/png": "[encoded data removed]",
      "text/plain": [
       "<matplotlib.figure.Figure at 0xb683cf8>"
      ]
     },
     "metadata": {},
     "output_type": "display_data"
    }
   ],
   "source": [
    "subset_word_counts = word_counts[:1000]\n",
    "plt.figure(figsize=(8,8))\n",
    "plt.scatter(x=range(len(subset_word_counts)), y=[w[1] for w in subset_word_counts])\n",
    "plt.title('Count for Words')\n",
    "plt.ylabel('Count')\n",
    "plt.xlabel('Word index')"
   ]
  },
  {
   "cell_type": "code",
   "execution_count": 234,
   "metadata": {
    "collapsed": false
   },
   "outputs": [
    {
     "data": {
      "text/plain": [
       "<matplotlib.text.Text at 0x1f1db828>"
      ]
     },
     "execution_count": 234,
     "metadata": {},
     "output_type": "execute_result"
    },
    {
     "data": {
      "image/png": "[encoded data removed]",
      "text/plain": [
       "<matplotlib.figure.Figure at 0x1f8c2c50>"
      ]
     },
     "metadata": {},
     "output_type": "display_data"
    }
   ],
   "source": [
    "subset_word_counts = word_counts[:1000]\n",
    "plt.figure(figsize=(8,8))\n",
    "plt.scatter(x=range(len(subset_word_counts)), y=[np.log(w[1]) for w in subset_word_counts])\n",
    "plt.title('log of Count for Words')\n",
    "plt.ylabel('log(Count)')\n",
    "plt.xlabel('Word index')"
   ]
  },
  {
   "cell_type": "markdown",
   "metadata": {},
   "source": [
    "Yup that's Zipf's law"
   ]
  },
  {
   "cell_type": "markdown",
   "metadata": {},
   "source": [
    "<a id='1'></a>\n",
    "# 1 sklearn Text Mining Basics\n",
    "\n",
    "sklearn has many great tools for text mining, in this section we will cover two of the more important ones"
   ]
  },
  {
   "cell_type": "markdown",
   "metadata": {},
   "source": [
    "<a id='1.1'></a>\n",
    "## 1.1 CountVectorizer\n",
    "\n",
    "In order to perform machine learning on text documents, we first need to turn the text content into numerical feature vectors. This is typically done with __Bag-of-Words__, and this is where the CountVectorizer class comes in handy. You can read more about the CountVectorizer [here](http://scikit-learn.org/stable/modules/generated/sklearn.feature_extraction.text.CountVectorizer.html)"
   ]
  },
  {
   "cell_type": "markdown",
   "metadata": {},
   "source": [
    "<a id='1.1.1'></a>\n",
    "### 1.1.1 Description\n",
    "\n",
    "__FROM SKLEARN [DOCUMENTATION](http://scikit-learn.org/stable/modules/generated/sklearn.feature_extraction.text.CountVectorizer.html)__\n",
    "\n",
    "Convert a collection of text documents to a matrix of token counts\n",
    "\n",
    "This implementation produces a sparse representation of the counts using scipy.sparse.coo_matrix."
   ]
  },
  {
   "cell_type": "markdown",
   "metadata": {},
   "source": [
    "<a id='1.1.2'></a>\n",
    "### 1.1.2 Example\n",
    "\n",
    "To get a better understanding of the class we will do an example below"
   ]
  },
  {
   "cell_type": "code",
   "execution_count": 26,
   "metadata": {
    "collapsed": true
   },
   "outputs": [],
   "source": [
    "text = ['cat dog dog dog dog dog dog dog', 'cat fish puppy', 'fish cat']"
   ]
  },
  {
   "cell_type": "code",
   "execution_count": 27,
   "metadata": {
    "collapsed": true
   },
   "outputs": [],
   "source": [
    "vect = CountVectorizer()"
   ]
  },
  {
   "cell_type": "code",
   "execution_count": 28,
   "metadata": {
    "collapsed": true
   },
   "outputs": [],
   "source": [
    "#vect.fit(text)\n",
    "#dtm = vect.transform(text)\n",
    "dtm = vect.fit_transform(text)"
   ]
  },
  {
   "cell_type": "code",
   "execution_count": 29,
   "metadata": {
    "collapsed": false
   },
   "outputs": [
    {
     "name": "stdout",
     "output_type": "stream",
     "text": [
      "  (0, 1)\t7\n",
      "  (0, 0)\t1\n",
      "  (1, 3)\t1\n",
      "  (1, 2)\t1\n",
      "  (1, 0)\t1\n",
      "  (2, 2)\t1\n",
      "  (2, 0)\t1\n"
     ]
    }
   ],
   "source": [
    "print(dtm)"
   ]
  },
  {
   "cell_type": "code",
   "execution_count": 30,
   "metadata": {
    "collapsed": false
   },
   "outputs": [
    {
     "data": {
      "text/plain": [
       "matrix([[1, 7, 0, 0],\n",
       "        [1, 0, 1, 1],\n",
       "        [1, 0, 1, 0]], dtype=int64)"
      ]
     },
     "execution_count": 30,
     "metadata": {},
     "output_type": "execute_result"
    }
   ],
   "source": [
    "dtm.todense()"
   ]
  },
  {
   "cell_type": "code",
   "execution_count": 31,
   "metadata": {
    "collapsed": false
   },
   "outputs": [
    {
     "data": {
      "text/plain": [
       "['cat', 'dog', 'fish', 'puppy']"
      ]
     },
     "execution_count": 31,
     "metadata": {},
     "output_type": "execute_result"
    }
   ],
   "source": [
    "vect.get_feature_names()"
   ]
  },
  {
   "cell_type": "code",
   "execution_count": 32,
   "metadata": {
    "collapsed": true
   },
   "outputs": [],
   "source": [
    "df2 = pd.DataFrame(dtm.toarray(), columns=vect.get_feature_names())"
   ]
  },
  {
   "cell_type": "code",
   "execution_count": 33,
   "metadata": {
    "collapsed": false
   },
   "outputs": [
    {
     "data": {
      "text/html": [
       "<div>\n",
       "<table border=\"1\" class=\"dataframe\">\n",
       "  <thead>\n",
       "    <tr style=\"text-align: right;\">\n",
       "      <th></th>\n",
       "      <th>cat</th>\n",
       "      <th>dog</th>\n",
       "      <th>fish</th>\n",
       "      <th>puppy</th>\n",
       "    </tr>\n",
       "  </thead>\n",
       "  <tbody>\n",
       "    <tr>\n",
       "      <th>0</th>\n",
       "      <td>1</td>\n",
       "      <td>7</td>\n",
       "      <td>0</td>\n",
       "      <td>0</td>\n",
       "    </tr>\n",
       "    <tr>\n",
       "      <th>1</th>\n",
       "      <td>1</td>\n",
       "      <td>0</td>\n",
       "      <td>1</td>\n",
       "      <td>1</td>\n",
       "    </tr>\n",
       "    <tr>\n",
       "      <th>2</th>\n",
       "      <td>1</td>\n",
       "      <td>0</td>\n",
       "      <td>1</td>\n",
       "      <td>0</td>\n",
       "    </tr>\n",
       "  </tbody>\n",
       "</table>\n",
       "</div>"
      ],
      "text/plain": [
       "   cat  dog  fish  puppy\n",
       "0    1    7     0      0\n",
       "1    1    0     1      1\n",
       "2    1    0     1      0"
      ]
     },
     "execution_count": 33,
     "metadata": {},
     "output_type": "execute_result"
    }
   ],
   "source": [
    "df2"
   ]
  },
  {
   "cell_type": "code",
   "execution_count": 34,
   "metadata": {
    "collapsed": true
   },
   "outputs": [],
   "source": [
    "def dtm_todf(dtm, vect):\n",
    "    return pd.DataFrame(dtm.toarray(), columns=vect.get_feature_names())"
   ]
  },
  {
   "cell_type": "code",
   "execution_count": 35,
   "metadata": {
    "collapsed": false
   },
   "outputs": [
    {
     "data": {
      "text/html": [
       "<div>\n",
       "<table border=\"1\" class=\"dataframe\">\n",
       "  <thead>\n",
       "    <tr style=\"text-align: right;\">\n",
       "      <th></th>\n",
       "      <th>cat</th>\n",
       "      <th>dog</th>\n",
       "      <th>fish</th>\n",
       "      <th>puppy</th>\n",
       "    </tr>\n",
       "  </thead>\n",
       "  <tbody>\n",
       "    <tr>\n",
       "      <th>0</th>\n",
       "      <td>1</td>\n",
       "      <td>7</td>\n",
       "      <td>0</td>\n",
       "      <td>0</td>\n",
       "    </tr>\n",
       "    <tr>\n",
       "      <th>1</th>\n",
       "      <td>1</td>\n",
       "      <td>0</td>\n",
       "      <td>1</td>\n",
       "      <td>1</td>\n",
       "    </tr>\n",
       "    <tr>\n",
       "      <th>2</th>\n",
       "      <td>1</td>\n",
       "      <td>0</td>\n",
       "      <td>1</td>\n",
       "      <td>0</td>\n",
       "    </tr>\n",
       "  </tbody>\n",
       "</table>\n",
       "</div>"
      ],
      "text/plain": [
       "   cat  dog  fish  puppy\n",
       "0    1    7     0      0\n",
       "1    1    0     1      1\n",
       "2    1    0     1      0"
      ]
     },
     "execution_count": 35,
     "metadata": {},
     "output_type": "execute_result"
    }
   ],
   "source": [
    "dtm_todf(dtm, vect)"
   ]
  },
  {
   "cell_type": "markdown",
   "metadata": {},
   "source": [
    "__EXERCISE:__\n",
    "\n",
    "  * 1) Transform new_str below into a document term matrix with our fitted CountVectorizer. Does the output look like you thought?"
   ]
  },
  {
   "cell_type": "code",
   "execution_count": 86,
   "metadata": {
    "collapsed": true
   },
   "outputs": [],
   "source": [
    "new_str = ['kitten puPPy fish', \"Fish dog's\"]"
   ]
  },
  {
   "cell_type": "code",
   "execution_count": null,
   "metadata": {
    "collapsed": true
   },
   "outputs": [],
   "source": []
  },
  {
   "cell_type": "code",
   "execution_count": 235,
   "metadata": {
    "collapsed": false
   },
   "outputs": [],
   "source": [
    "# %load exercise1.txt"
   ]
  },
  {
   "cell_type": "markdown",
   "metadata": {},
   "source": [
    "<a id='1.1.3'></a>\n",
    "### 1.1.3 Parameters\n",
    "\n",
    "This class has many parameters but we will highlight a few of the most important ones"
   ]
  },
  {
   "cell_type": "markdown",
   "metadata": {},
   "source": [
    "<a id='1.1.3.1'></a>\n",
    "#### 1.1.3.1 min_df\n",
    "\n",
    "__min_df__ : float in range [0.0, 1.0] or int, default=1\n",
    "\n",
    "When building the vocabulary ignore terms that have a document frequency strictly lower than the given threshold. This value is also called cut-off in the literature. If float, the parameter represents a proportion of documents, integer absolute counts. This parameter is ignored if vocabulary is not None."
   ]
  },
  {
   "cell_type": "markdown",
   "metadata": {},
   "source": [
    "__Example__\n",
    "\n",
    "We will show what the document term matrix looks like before and after min_df parameter is used"
   ]
  },
  {
   "cell_type": "code",
   "execution_count": 36,
   "metadata": {
    "collapsed": true
   },
   "outputs": [],
   "source": [
    "cv = CountVectorizer()"
   ]
  },
  {
   "cell_type": "code",
   "execution_count": 37,
   "metadata": {
    "collapsed": true
   },
   "outputs": [],
   "source": [
    "train_dtm = cv.fit_transform(df['Text'])"
   ]
  },
  {
   "cell_type": "code",
   "execution_count": 38,
   "metadata": {
    "collapsed": false
   },
   "outputs": [
    {
     "data": {
      "text/plain": [
       "(2833, 38850)"
      ]
     },
     "execution_count": 38,
     "metadata": {},
     "output_type": "execute_result"
    }
   ],
   "source": [
    "train_dtm.shape"
   ]
  },
  {
   "cell_type": "markdown",
   "metadata": {},
   "source": [
    "So the shape of our dtm is (2833, 38850) before using min_df.\n",
    "\n",
    "Lets see what the shape is after using a min_df of 5"
   ]
  },
  {
   "cell_type": "code",
   "execution_count": 39,
   "metadata": {
    "collapsed": true
   },
   "outputs": [],
   "source": [
    "cv = CountVectorizer(min_df=5)"
   ]
  },
  {
   "cell_type": "code",
   "execution_count": 40,
   "metadata": {
    "collapsed": true
   },
   "outputs": [],
   "source": [
    "train_dtm = cv.fit_transform(df['Text'])"
   ]
  },
  {
   "cell_type": "code",
   "execution_count": 41,
   "metadata": {
    "collapsed": false
   },
   "outputs": [
    {
     "data": {
      "text/plain": [
       "(2833, 9819)"
      ]
     },
     "execution_count": 41,
     "metadata": {},
     "output_type": "execute_result"
    }
   ],
   "source": [
    "train_dtm.shape"
   ]
  },
  {
   "cell_type": "markdown",
   "metadata": {},
   "source": [
    "Too see how the min_df affects the dtm's shape for different values we will number of columns below for a min_df from 1 to 10"
   ]
  },
  {
   "cell_type": "code",
   "execution_count": 236,
   "metadata": {
    "collapsed": false
   },
   "outputs": [
    {
     "name": "stdout",
     "output_type": "stream",
     "text": [
      "min_df=1 has shape (2833, 38850)\n",
      "min_df=2 has shape (2833, 20541)\n",
      "min_df=3 has shape (2833, 14609)\n",
      "min_df=4 has shape (2833, 11662)\n",
      "min_df=5 has shape (2833, 9819)\n",
      "min_df=6 has shape (2833, 8508)\n",
      "min_df=7 has shape (2833, 7561)\n",
      "min_df=8 has shape (2833, 6797)\n",
      "min_df=9 has shape (2833, 6160)\n"
     ]
    },
    {
     "data": {
      "image/png": "[encoded data removed]",
      "text/plain": [
       "<matplotlib.figure.Figure at 0x1f8c1710>"
      ]
     },
     "metadata": {},
     "output_type": "display_data"
    }
   ],
   "source": [
    "start = 1\n",
    "end = 10\n",
    "plt.figure(figsize=(8,8))\n",
    "plt.title('Columns vs min_df')\n",
    "plt.xlabel('min_df')\n",
    "plt.ylabel('Column Number')\n",
    "for min_df in np.arange(start,end,1):\n",
    "    cv = CountVectorizer(min_df=min_df)\n",
    "    train_dtm = cv.fit_transform(df['Text'])\n",
    "    num_cols = train_dtm.shape[1]\n",
    "    print('min_df={} has shape {}'.format(min_df, train_dtm.shape))\n",
    "    plt.scatter(min_df, num_cols)"
   ]
  },
  {
   "cell_type": "code",
   "execution_count": null,
   "metadata": {
    "collapsed": true
   },
   "outputs": [],
   "source": []
  },
  {
   "cell_type": "markdown",
   "metadata": {},
   "source": [
    "<a id='1.1.3.2'></a>\n",
    "#### 1.1.3.2 max_df\n",
    "\n",
    "__max_df :__ float in range [0.0, 1.0] or int, default=1.0\n",
    "\n",
    "When building the vocabulary ignore terms that have a document frequency strictly higher than the given threshold (corpus-specific stop words). If float, the parameter represents a proportion of documents, integer absolute counts. This parameter is ignored if vocabulary is not None."
   ]
  },
  {
   "cell_type": "markdown",
   "metadata": {},
   "source": [
    "__Example__\n",
    "\n",
    "We will show what max_df does to the document term matrix"
   ]
  },
  {
   "cell_type": "code",
   "execution_count": 43,
   "metadata": {
    "collapsed": false
   },
   "outputs": [
    {
     "name": "stdout",
     "output_type": "stream",
     "text": [
      "The shape of the dtm with default max_df: (2833, 38850)\n"
     ]
    }
   ],
   "source": [
    "cv = CountVectorizer()\n",
    "train_dtm = cv.fit_transform(df['Text'])\n",
    "print(\"The shape of the dtm with default max_df: {}\".format(train_dtm.shape))"
   ]
  },
  {
   "cell_type": "code",
   "execution_count": 44,
   "metadata": {
    "collapsed": false
   },
   "outputs": [
    {
     "name": "stdout",
     "output_type": "stream",
     "text": [
      "The shape of the dtm with .5 max_df: (2833, 38826)\n"
     ]
    }
   ],
   "source": [
    "cv = CountVectorizer(max_df=.5)\n",
    "train_dtm = cv.fit_transform(df['Text'])\n",
    "print(\"The shape of the dtm with .5 max_df: {}\".format(train_dtm.shape))"
   ]
  },
  {
   "cell_type": "markdown",
   "metadata": {},
   "source": [
    "To view the impact of max_df for different values we will plot the feature space for a range of max_df values"
   ]
  },
  {
   "cell_type": "code",
   "execution_count": 45,
   "metadata": {
    "collapsed": false
   },
   "outputs": [
    {
     "name": "stdout",
     "output_type": "stream",
     "text": [
      "max_df=0.100000 has shape (2833, 38663)\n",
      "max_df=0.200000 has shape (2833, 38767)\n",
      "max_df=0.300000 has shape (2833, 38793)\n",
      "max_df=0.400000 has shape (2833, 38814)\n",
      "max_df=0.500000 has shape (2833, 38826)\n",
      "max_df=0.600000 has shape (2833, 38835)\n",
      "max_df=0.700000 has shape (2833, 38839)\n",
      "max_df=0.800000 has shape (2833, 38841)\n",
      "max_df=0.900000 has shape (2833, 38845)\n"
     ]
    },
    {
     "data": {
      "image/png": "[encoded data removed]",
      "text/plain": [
       "<matplotlib.figure.Figure at 0xbf354a8>"
      ]
     },
     "metadata": {},
     "output_type": "display_data"
    }
   ],
   "source": [
    "plt.figure(figsize=(8,8))\n",
    "plt.ylabel('Number of Columns')\n",
    "plt.xlabel('Value of max_df')\n",
    "plt.title('Columns vs max_df')\n",
    "for max_df in np.arange(.1,1.0,.1):\n",
    "    cv = CountVectorizer(max_df=max_df)\n",
    "    train_dtm = cv.fit_transform(df['Text'])\n",
    "    num_cols = train_dtm.shape[1]\n",
    "    print('max_df={:f} has shape {}'.format(max_df, train_dtm.shape))\n",
    "    plt.scatter(max_df, num_cols)"
   ]
  },
  {
   "cell_type": "code",
   "execution_count": 237,
   "metadata": {
    "collapsed": false
   },
   "outputs": [
    {
     "name": "stdout",
     "output_type": "stream",
     "text": [
      "max_df=25 has shape (2833, 36397)\n",
      "max_df=50 has shape (2833, 37560)\n",
      "max_df=75 has shape (2833, 37997)\n",
      "max_df=100 has shape (2833, 38231)\n",
      "max_df=125 has shape (2833, 38365)\n",
      "max_df=150 has shape (2833, 38447)\n",
      "max_df=175 has shape (2833, 38519)\n"
     ]
    },
    {
     "data": {
      "image/png": "[encoded data removed]",
      "text/plain": [
       "<matplotlib.figure.Figure at 0x1f86b550>"
      ]
     },
     "metadata": {},
     "output_type": "display_data"
    }
   ],
   "source": [
    "plt.figure(figsize=(8,8))\n",
    "plt.title('Columns vs max_df')\n",
    "plt.xlabel('max_df')\n",
    "plt.ylabel('Number Columns')\n",
    "for max_df in np.arange(25,200,25):\n",
    "    cv = CountVectorizer(max_df=max_df)\n",
    "    train_dtm = cv.fit_transform(df['Text'])\n",
    "    num_cols = train_dtm.shape[1]\n",
    "    print('max_df={} has shape {}'.format(max_df, train_dtm.shape))\n",
    "    plt.scatter(max_df, num_cols)"
   ]
  },
  {
   "cell_type": "markdown",
   "metadata": {
    "collapsed": true
   },
   "source": [
    "__Exercise:__\n",
    "\n",
    "  * 1) Find a max_df value that will return half the number of columns (19,000)\n",
    "  * 2) Find a min_df value that will return half the number of columns"
   ]
  },
  {
   "cell_type": "code",
   "execution_count": 53,
   "metadata": {
    "collapsed": false
   },
   "outputs": [
    {
     "name": "stdout",
     "output_type": "stream",
     "text": [
      "The shape of the dtm with .5 max_df: (2833, 18309)\n"
     ]
    }
   ],
   "source": [
    "cv = CountVectorizer(max_df=1)\n",
    "train_dtm = cv.fit_transform(df['Text'])\n",
    "print(\"The shape of the dtm with .5 max_df: {}\".format(train_dtm.shape))"
   ]
  },
  {
   "cell_type": "markdown",
   "metadata": {},
   "source": [
    "<a id='1.1.3.3'></a>\n",
    "#### 1.1.3.3 ngram_range\n",
    "\n",
    "__ngram_range :__ tuple (min_n, max_n)\n",
    "\n",
    "The lower and upper boundary of the range of n-values for different n-grams to be extracted. All values of n such that min_n <= n <= max_n will be used."
   ]
  },
  {
   "cell_type": "markdown",
   "metadata": {},
   "source": [
    "__Example__\n",
    "\n",
    "We will show what happens to the document term matrix when different combinations are used"
   ]
  },
  {
   "cell_type": "code",
   "execution_count": 54,
   "metadata": {
    "collapsed": false
   },
   "outputs": [
    {
     "name": "stdout",
     "output_type": "stream",
     "text": [
      "The shape of the dtm with ngram_range=(1,1): (2833, 38850)\n"
     ]
    }
   ],
   "source": [
    "cv = CountVectorizer(ngram_range=(1,1))\n",
    "train_dtm = cv.fit_transform(df['Text'])\n",
    "print(\"The shape of the dtm with ngram_range=(1,1): {}\".format(train_dtm.shape))"
   ]
  },
  {
   "cell_type": "code",
   "execution_count": 55,
   "metadata": {
    "collapsed": false
   },
   "outputs": [
    {
     "name": "stdout",
     "output_type": "stream",
     "text": [
      "The shape of the dtm with ngram_range=(1,2): (2833, 331486)\n"
     ]
    }
   ],
   "source": [
    "cv = CountVectorizer(ngram_range=(1,2))\n",
    "train_dtm = cv.fit_transform(df['Text'])\n",
    "print(\"The shape of the dtm with ngram_range=(1,2): {}\".format(train_dtm.shape))"
   ]
  },
  {
   "cell_type": "code",
   "execution_count": 239,
   "metadata": {
    "collapsed": false
   },
   "outputs": [
    {
     "data": {
      "text/html": [
       "<div>\n",
       "<table border=\"1\" class=\"dataframe\">\n",
       "  <thead>\n",
       "    <tr style=\"text-align: right;\">\n",
       "      <th></th>\n",
       "      <th>cat</th>\n",
       "      <th>cat dog</th>\n",
       "      <th>cat fish</th>\n",
       "      <th>dog</th>\n",
       "      <th>dog dog</th>\n",
       "      <th>fish</th>\n",
       "      <th>fish cat</th>\n",
       "      <th>fish puppy</th>\n",
       "      <th>puppy</th>\n",
       "    </tr>\n",
       "  </thead>\n",
       "  <tbody>\n",
       "    <tr>\n",
       "      <th>0</th>\n",
       "      <td>1</td>\n",
       "      <td>1</td>\n",
       "      <td>0</td>\n",
       "      <td>7</td>\n",
       "      <td>6</td>\n",
       "      <td>0</td>\n",
       "      <td>0</td>\n",
       "      <td>0</td>\n",
       "      <td>0</td>\n",
       "    </tr>\n",
       "    <tr>\n",
       "      <th>1</th>\n",
       "      <td>1</td>\n",
       "      <td>0</td>\n",
       "      <td>1</td>\n",
       "      <td>0</td>\n",
       "      <td>0</td>\n",
       "      <td>1</td>\n",
       "      <td>0</td>\n",
       "      <td>1</td>\n",
       "      <td>1</td>\n",
       "    </tr>\n",
       "    <tr>\n",
       "      <th>2</th>\n",
       "      <td>1</td>\n",
       "      <td>0</td>\n",
       "      <td>0</td>\n",
       "      <td>0</td>\n",
       "      <td>0</td>\n",
       "      <td>1</td>\n",
       "      <td>1</td>\n",
       "      <td>0</td>\n",
       "      <td>0</td>\n",
       "    </tr>\n",
       "  </tbody>\n",
       "</table>\n",
       "</div>"
      ],
      "text/plain": [
       "   cat  cat dog  cat fish  dog  dog dog  fish  fish cat  fish puppy  puppy\n",
       "0    1        1         0    7        6     0         0           0      0\n",
       "1    1        0         1    0        0     1         0           1      1\n",
       "2    1        0         0    0        0     1         1           0      0"
      ]
     },
     "execution_count": 239,
     "metadata": {},
     "output_type": "execute_result"
    }
   ],
   "source": [
    "text = ['cat dog dog dog dog dog dog dog', 'cat fish puppy', 'fish cat']\n",
    "cv = CountVectorizer(ngram_range=(1,2))\n",
    "test_dtm = cv.fit_transform(text)\n",
    "dtm_todf(test_dtm, cv)"
   ]
  },
  {
   "cell_type": "code",
   "execution_count": null,
   "metadata": {
    "collapsed": false
   },
   "outputs": [],
   "source": []
  },
  {
   "cell_type": "markdown",
   "metadata": {},
   "source": [
    "<a id='1.1.3.4'></a>\n",
    "#### 1.1.3.4 stop_words\n",
    "\n",
    "__stop_words :__ string {‘english’}, list, or None (default)\n",
    "\n",
    "If ‘english’, a built-in stop word list for English is used.\n",
    "If a list, that list is assumed to contain stop words, all of which will be removed from the resulting tokens. Only applies if analyzer == 'word'.\n",
    "\n",
    "If None, no stop words will be used. max_df can be set to a value in the range [0.7, 1.0) to automatically detect and filter stop words based on intra corpus document frequency of terms.\n",
    "\n",
    "__Example__\n",
    "\n",
    "We will show how removing stop_words affects our document term matrix"
   ]
  },
  {
   "cell_type": "code",
   "execution_count": 44,
   "metadata": {
    "collapsed": false
   },
   "outputs": [
    {
     "name": "stdout",
     "output_type": "stream",
     "text": [
      "The shape of the dtm with stop_words=None: (2833, 38850)\n"
     ]
    }
   ],
   "source": [
    "cv = CountVectorizer(stop_words=None)\n",
    "train_dtm = cv.fit_transform(df['Text'])\n",
    "print(\"The shape of the dtm with stop_words=None: {}\".format(train_dtm.shape))"
   ]
  },
  {
   "cell_type": "code",
   "execution_count": 45,
   "metadata": {
    "collapsed": false
   },
   "outputs": [
    {
     "name": "stdout",
     "output_type": "stream",
     "text": [
      "The shape of the dtm with stop_words=None: (2833, 38546)\n"
     ]
    }
   ],
   "source": [
    "cv = CountVectorizer(stop_words='english')\n",
    "train_dtm = cv.fit_transform(df['Text'])\n",
    "print(\"The shape of the dtm with stop_words=None: {}\".format(train_dtm.shape))"
   ]
  },
  {
   "cell_type": "markdown",
   "metadata": {},
   "source": [
    "<a id='1.1.3.5'></a>\n",
    "#### 1.1.3.5 max_features\n",
    "\n",
    "__max_features :__ int or None, default=None\n",
    "\n",
    "If not None, build a vocabulary that only consider the top max_features ordered by term frequency across the corpus.\n",
    "\n",
    "This parameter is ignored if vocabulary is not None.\n",
    "\n",
    "__Example__\n",
    "\n",
    "We will show how max_features affects our dtm, and how it interacts with other CountVectorizer parameters"
   ]
  },
  {
   "cell_type": "code",
   "execution_count": 56,
   "metadata": {
    "collapsed": false
   },
   "outputs": [
    {
     "data": {
      "text/html": [
       "<div>\n",
       "<table border=\"1\" class=\"dataframe\">\n",
       "  <thead>\n",
       "    <tr style=\"text-align: right;\">\n",
       "      <th></th>\n",
       "      <th>and</th>\n",
       "      <th>are</th>\n",
       "      <th>as</th>\n",
       "      <th>be</th>\n",
       "      <th>edu</th>\n",
       "      <th>for</th>\n",
       "      <th>from</th>\n",
       "      <th>have</th>\n",
       "      <th>in</th>\n",
       "      <th>is</th>\n",
       "      <th>it</th>\n",
       "      <th>not</th>\n",
       "      <th>of</th>\n",
       "      <th>on</th>\n",
       "      <th>that</th>\n",
       "      <th>the</th>\n",
       "      <th>this</th>\n",
       "      <th>to</th>\n",
       "      <th>with</th>\n",
       "      <th>you</th>\n",
       "    </tr>\n",
       "  </thead>\n",
       "  <tbody>\n",
       "    <tr>\n",
       "      <th>0</th>\n",
       "      <td>2</td>\n",
       "      <td>0</td>\n",
       "      <td>0</td>\n",
       "      <td>0</td>\n",
       "      <td>0</td>\n",
       "      <td>2</td>\n",
       "      <td>1</td>\n",
       "      <td>0</td>\n",
       "      <td>1</td>\n",
       "      <td>4</td>\n",
       "      <td>0</td>\n",
       "      <td>0</td>\n",
       "      <td>0</td>\n",
       "      <td>3</td>\n",
       "      <td>0</td>\n",
       "      <td>4</td>\n",
       "      <td>4</td>\n",
       "      <td>1</td>\n",
       "      <td>1</td>\n",
       "      <td>2</td>\n",
       "    </tr>\n",
       "    <tr>\n",
       "      <th>1</th>\n",
       "      <td>13</td>\n",
       "      <td>8</td>\n",
       "      <td>10</td>\n",
       "      <td>4</td>\n",
       "      <td>2</td>\n",
       "      <td>5</td>\n",
       "      <td>11</td>\n",
       "      <td>10</td>\n",
       "      <td>31</td>\n",
       "      <td>23</td>\n",
       "      <td>18</td>\n",
       "      <td>13</td>\n",
       "      <td>29</td>\n",
       "      <td>5</td>\n",
       "      <td>30</td>\n",
       "      <td>66</td>\n",
       "      <td>3</td>\n",
       "      <td>21</td>\n",
       "      <td>9</td>\n",
       "      <td>8</td>\n",
       "    </tr>\n",
       "    <tr>\n",
       "      <th>2</th>\n",
       "      <td>5</td>\n",
       "      <td>0</td>\n",
       "      <td>0</td>\n",
       "      <td>0</td>\n",
       "      <td>6</td>\n",
       "      <td>0</td>\n",
       "      <td>1</td>\n",
       "      <td>0</td>\n",
       "      <td>5</td>\n",
       "      <td>0</td>\n",
       "      <td>0</td>\n",
       "      <td>1</td>\n",
       "      <td>1</td>\n",
       "      <td>0</td>\n",
       "      <td>1</td>\n",
       "      <td>3</td>\n",
       "      <td>1</td>\n",
       "      <td>3</td>\n",
       "      <td>0</td>\n",
       "      <td>0</td>\n",
       "    </tr>\n",
       "    <tr>\n",
       "      <th>3</th>\n",
       "      <td>3</td>\n",
       "      <td>2</td>\n",
       "      <td>1</td>\n",
       "      <td>1</td>\n",
       "      <td>1</td>\n",
       "      <td>1</td>\n",
       "      <td>3</td>\n",
       "      <td>1</td>\n",
       "      <td>4</td>\n",
       "      <td>2</td>\n",
       "      <td>4</td>\n",
       "      <td>0</td>\n",
       "      <td>4</td>\n",
       "      <td>0</td>\n",
       "      <td>0</td>\n",
       "      <td>5</td>\n",
       "      <td>0</td>\n",
       "      <td>4</td>\n",
       "      <td>0</td>\n",
       "      <td>0</td>\n",
       "    </tr>\n",
       "    <tr>\n",
       "      <th>4</th>\n",
       "      <td>3</td>\n",
       "      <td>0</td>\n",
       "      <td>0</td>\n",
       "      <td>1</td>\n",
       "      <td>2</td>\n",
       "      <td>4</td>\n",
       "      <td>1</td>\n",
       "      <td>0</td>\n",
       "      <td>1</td>\n",
       "      <td>1</td>\n",
       "      <td>0</td>\n",
       "      <td>0</td>\n",
       "      <td>4</td>\n",
       "      <td>1</td>\n",
       "      <td>0</td>\n",
       "      <td>4</td>\n",
       "      <td>0</td>\n",
       "      <td>5</td>\n",
       "      <td>1</td>\n",
       "      <td>0</td>\n",
       "    </tr>\n",
       "  </tbody>\n",
       "</table>\n",
       "</div>"
      ],
      "text/plain": [
       "   and  are  as  be  edu  for  from  have  in  is  it  not  of  on  that  the  \\\n",
       "0    2    0   0   0    0    2     1     0   1   4   0    0   0   3     0    4   \n",
       "1   13    8  10   4    2    5    11    10  31  23  18   13  29   5    30   66   \n",
       "2    5    0   0   0    6    0     1     0   5   0   0    1   1   0     1    3   \n",
       "3    3    2   1   1    1    1     3     1   4   2   4    0   4   0     0    5   \n",
       "4    3    0   0   1    2    4     1     0   1   1   0    0   4   1     0    4   \n",
       "\n",
       "   this  to  with  you  \n",
       "0     4   1     1    2  \n",
       "1     3  21     9    8  \n",
       "2     1   3     0    0  \n",
       "3     0   4     0    0  \n",
       "4     0   5     1    0  "
      ]
     },
     "execution_count": 56,
     "metadata": {},
     "output_type": "execute_result"
    }
   ],
   "source": [
    "cv = CountVectorizer(max_features=20)\n",
    "train_dtm = cv.fit_transform(df['Text'])\n",
    "dtm_todf(train_dtm, cv).head()"
   ]
  },
  {
   "cell_type": "code",
   "execution_count": 57,
   "metadata": {
    "collapsed": false
   },
   "outputs": [
    {
     "data": {
      "text/html": [
       "<div>\n",
       "<table border=\"1\" class=\"dataframe\">\n",
       "  <thead>\n",
       "    <tr style=\"text-align: right;\">\n",
       "      <th></th>\n",
       "      <th>article</th>\n",
       "      <th>com</th>\n",
       "      <th>don</th>\n",
       "      <th>edu</th>\n",
       "      <th>good</th>\n",
       "      <th>host</th>\n",
       "      <th>just</th>\n",
       "      <th>key</th>\n",
       "      <th>know</th>\n",
       "      <th>like</th>\n",
       "      <th>lines</th>\n",
       "      <th>new</th>\n",
       "      <th>nntp</th>\n",
       "      <th>organization</th>\n",
       "      <th>people</th>\n",
       "      <th>posting</th>\n",
       "      <th>subject</th>\n",
       "      <th>university</th>\n",
       "      <th>use</th>\n",
       "      <th>writes</th>\n",
       "    </tr>\n",
       "  </thead>\n",
       "  <tbody>\n",
       "    <tr>\n",
       "      <th>0</th>\n",
       "      <td>0</td>\n",
       "      <td>2</td>\n",
       "      <td>1</td>\n",
       "      <td>0</td>\n",
       "      <td>1</td>\n",
       "      <td>0</td>\n",
       "      <td>0</td>\n",
       "      <td>0</td>\n",
       "      <td>0</td>\n",
       "      <td>0</td>\n",
       "      <td>1</td>\n",
       "      <td>1</td>\n",
       "      <td>0</td>\n",
       "      <td>1</td>\n",
       "      <td>0</td>\n",
       "      <td>0</td>\n",
       "      <td>1</td>\n",
       "      <td>0</td>\n",
       "      <td>0</td>\n",
       "      <td>0</td>\n",
       "    </tr>\n",
       "    <tr>\n",
       "      <th>1</th>\n",
       "      <td>2</td>\n",
       "      <td>3</td>\n",
       "      <td>2</td>\n",
       "      <td>2</td>\n",
       "      <td>0</td>\n",
       "      <td>0</td>\n",
       "      <td>2</td>\n",
       "      <td>0</td>\n",
       "      <td>0</td>\n",
       "      <td>2</td>\n",
       "      <td>1</td>\n",
       "      <td>1</td>\n",
       "      <td>0</td>\n",
       "      <td>1</td>\n",
       "      <td>1</td>\n",
       "      <td>0</td>\n",
       "      <td>1</td>\n",
       "      <td>1</td>\n",
       "      <td>1</td>\n",
       "      <td>3</td>\n",
       "    </tr>\n",
       "    <tr>\n",
       "      <th>2</th>\n",
       "      <td>1</td>\n",
       "      <td>0</td>\n",
       "      <td>0</td>\n",
       "      <td>6</td>\n",
       "      <td>0</td>\n",
       "      <td>1</td>\n",
       "      <td>0</td>\n",
       "      <td>0</td>\n",
       "      <td>1</td>\n",
       "      <td>0</td>\n",
       "      <td>1</td>\n",
       "      <td>0</td>\n",
       "      <td>1</td>\n",
       "      <td>1</td>\n",
       "      <td>0</td>\n",
       "      <td>1</td>\n",
       "      <td>1</td>\n",
       "      <td>0</td>\n",
       "      <td>0</td>\n",
       "      <td>1</td>\n",
       "    </tr>\n",
       "    <tr>\n",
       "      <th>3</th>\n",
       "      <td>1</td>\n",
       "      <td>15</td>\n",
       "      <td>1</td>\n",
       "      <td>1</td>\n",
       "      <td>0</td>\n",
       "      <td>0</td>\n",
       "      <td>1</td>\n",
       "      <td>0</td>\n",
       "      <td>0</td>\n",
       "      <td>0</td>\n",
       "      <td>2</td>\n",
       "      <td>0</td>\n",
       "      <td>0</td>\n",
       "      <td>2</td>\n",
       "      <td>1</td>\n",
       "      <td>0</td>\n",
       "      <td>2</td>\n",
       "      <td>0</td>\n",
       "      <td>0</td>\n",
       "      <td>1</td>\n",
       "    </tr>\n",
       "    <tr>\n",
       "      <th>4</th>\n",
       "      <td>0</td>\n",
       "      <td>1</td>\n",
       "      <td>0</td>\n",
       "      <td>2</td>\n",
       "      <td>0</td>\n",
       "      <td>0</td>\n",
       "      <td>0</td>\n",
       "      <td>0</td>\n",
       "      <td>0</td>\n",
       "      <td>0</td>\n",
       "      <td>1</td>\n",
       "      <td>0</td>\n",
       "      <td>0</td>\n",
       "      <td>1</td>\n",
       "      <td>0</td>\n",
       "      <td>0</td>\n",
       "      <td>1</td>\n",
       "      <td>2</td>\n",
       "      <td>0</td>\n",
       "      <td>0</td>\n",
       "    </tr>\n",
       "  </tbody>\n",
       "</table>\n",
       "</div>"
      ],
      "text/plain": [
       "   article  com  don  edu  good  host  just  key  know  like  lines  new  \\\n",
       "0        0    2    1    0     1     0     0    0     0     0      1    1   \n",
       "1        2    3    2    2     0     0     2    0     0     2      1    1   \n",
       "2        1    0    0    6     0     1     0    0     1     0      1    0   \n",
       "3        1   15    1    1     0     0     1    0     0     0      2    0   \n",
       "4        0    1    0    2     0     0     0    0     0     0      1    0   \n",
       "\n",
       "   nntp  organization  people  posting  subject  university  use  writes  \n",
       "0     0             1       0        0        1           0    0       0  \n",
       "1     0             1       1        0        1           1    1       3  \n",
       "2     1             1       0        1        1           0    0       1  \n",
       "3     0             2       1        0        2           0    0       1  \n",
       "4     0             1       0        0        1           2    0       0  "
      ]
     },
     "execution_count": 57,
     "metadata": {},
     "output_type": "execute_result"
    }
   ],
   "source": [
    "cv = CountVectorizer(max_features=20, stop_words='english')\n",
    "train_dtm = cv.fit_transform(df['Text'])\n",
    "dtm_todf(train_dtm, cv).head()"
   ]
  },
  {
   "cell_type": "markdown",
   "metadata": {},
   "source": [
    "How can we get rid of these?"
   ]
  },
  {
   "cell_type": "markdown",
   "metadata": {
    "collapsed": false
   },
   "source": [
    "__Exercise:__\n",
    "\n",
    "  * 1) Find the 20 most common bi-grams in our dataset"
   ]
  },
  {
   "cell_type": "code",
   "execution_count": null,
   "metadata": {
    "collapsed": true
   },
   "outputs": [],
   "source": []
  },
  {
   "cell_type": "markdown",
   "metadata": {},
   "source": [
    "<a id='1.2'></a>\n",
    "## 1.2 TfidfTransformer\n",
    "\n",
    "Counting occurences is a good start but there is still the issue of longer documents having higher average count values than shorter documents, even though they might talk about the same topics.\n",
    "\n",
    "The way to get around this issue is to divide the number of occurences of each word in each document by the total number of words in the document. These new features are called term frequencies.\n",
    "\n",
    "Another common addition to term frequencies is to downscale weights for words that will occur in many documents in the corpus. This will help us in our models because we are making the assumption that these common words are less informative than the words that are less frequent.\n",
    "\n",
    "This downscaling is called tf–idf for “Term Frequency times Inverse Document Frequency”.\n",
    "\n",
    "This process is implemented by the __TfidfTransformer__ in sklearn, to read more about it click [here](http://scikit-learn.org/stable/modules/generated/sklearn.feature_extraction.text.TfidfTransformer.html)"
   ]
  },
  {
   "cell_type": "markdown",
   "metadata": {},
   "source": [
    "<a id='1.2.1'></a>\n",
    "### 1.2.1 Description\n",
    "\n",
    "__FROM SKLEARN [DOCUMENTATION](http://scikit-learn.org/stable/modules/generated/sklearn.feature_extraction.text.TfidfTransformer.html)__\n",
    "\n",
    "Transform a count matrix to a normalized tf or tf-idf representation\n",
    "\n",
    "Tf means term-frequency while tf-idf means term-frequency times inverse document-frequency. This is a common term weighting scheme in information retrieval, that has also found good use in document classification.\n",
    "\n",
    "The goal of using tf-idf instead of the raw frequencies of occurrence of a token in a given document is to scale down the impact of tokens that occur very frequently in a given corpus and that are hence empirically less informative than features that occur in a small fraction of the training corpus.\n",
    "\n",
    "The formula that is used to compute the tf-idf of term t is tf-idf(d, t) = tf(t) * idf(d, t), and the idf is computed as idf(d, t) = log [ n / df(d, t) ] + 1 (if smooth_idf=False), where n is the total number of documents and df(d, t) is the document frequency; the document frequency is the number of documents d that contain term t. The effect of adding “1” to the idf in the equation above is that terms with zero idf, i.e., terms that occur in all documents in a training set, will not be entirely ignored. (Note that the idf formula above differs from the standard textbook notation that defines the idf as idf(d, t) = log [ n / (df(d, t) + 1) ]).\n",
    "\n",
    "If smooth_idf=True (the default), the constant “1” is added to the numerator and denominator of the idf as if an extra document was seen containing every term in the collection exactly once, which prevents zero divisions: idf(d, t) = log [ (1 + n) / 1 + df(d, t) ] + 1.\n",
    "\n",
    "Furthermore, the formulas used to compute tf and idf depend on parameter settings that correspond to the SMART notation used in IR as follows:\n",
    "\n",
    "Tf is “n” (natural) by default, “l” (logarithmic) when sublinear_tf=True. Idf is “t” when use_idf is given, “n” (none) otherwise. Normalization is “c” (cosine) when norm='l2', “n” (none) when norm=None."
   ]
  },
  {
   "cell_type": "markdown",
   "metadata": {},
   "source": [
    "<a id='1.2.2'></a>\n",
    "### 1.2.2 Example\n",
    "\n",
    "To get a better understanding of the class we will do an example below"
   ]
  },
  {
   "cell_type": "code",
   "execution_count": 58,
   "metadata": {
    "collapsed": true
   },
   "outputs": [],
   "source": [
    "text = ['cat dog dog dog dog dog dog dog', 'cat fish puppy', 'fish cat']\n",
    "vect = CountVectorizer()\n",
    "dtm = vect.fit_transform(text)\n",
    "example_df = dtm_todf(dtm, vect)"
   ]
  },
  {
   "cell_type": "code",
   "execution_count": 59,
   "metadata": {
    "collapsed": false
   },
   "outputs": [
    {
     "data": {
      "text/html": [
       "<div>\n",
       "<table border=\"1\" class=\"dataframe\">\n",
       "  <thead>\n",
       "    <tr style=\"text-align: right;\">\n",
       "      <th></th>\n",
       "      <th>cat</th>\n",
       "      <th>dog</th>\n",
       "      <th>fish</th>\n",
       "      <th>puppy</th>\n",
       "    </tr>\n",
       "  </thead>\n",
       "  <tbody>\n",
       "    <tr>\n",
       "      <th>0</th>\n",
       "      <td>1</td>\n",
       "      <td>7</td>\n",
       "      <td>0</td>\n",
       "      <td>0</td>\n",
       "    </tr>\n",
       "    <tr>\n",
       "      <th>1</th>\n",
       "      <td>1</td>\n",
       "      <td>0</td>\n",
       "      <td>1</td>\n",
       "      <td>1</td>\n",
       "    </tr>\n",
       "    <tr>\n",
       "      <th>2</th>\n",
       "      <td>1</td>\n",
       "      <td>0</td>\n",
       "      <td>1</td>\n",
       "      <td>0</td>\n",
       "    </tr>\n",
       "  </tbody>\n",
       "</table>\n",
       "</div>"
      ],
      "text/plain": [
       "   cat  dog  fish  puppy\n",
       "0    1    7     0      0\n",
       "1    1    0     1      1\n",
       "2    1    0     1      0"
      ]
     },
     "execution_count": 59,
     "metadata": {},
     "output_type": "execute_result"
    }
   ],
   "source": [
    "example_df.head()"
   ]
  },
  {
   "cell_type": "code",
   "execution_count": 60,
   "metadata": {
    "collapsed": true
   },
   "outputs": [],
   "source": [
    "tfidf = TfidfTransformer()"
   ]
  },
  {
   "cell_type": "code",
   "execution_count": 61,
   "metadata": {
    "collapsed": false
   },
   "outputs": [],
   "source": [
    "dtm = tfidf.fit_transform(example_df)"
   ]
  },
  {
   "cell_type": "code",
   "execution_count": 62,
   "metadata": {
    "collapsed": false
   },
   "outputs": [
    {
     "data": {
      "text/html": [
       "<div>\n",
       "<table border=\"1\" class=\"dataframe\">\n",
       "  <thead>\n",
       "    <tr style=\"text-align: right;\">\n",
       "      <th></th>\n",
       "      <th>cat</th>\n",
       "      <th>dog</th>\n",
       "      <th>fish</th>\n",
       "      <th>puppy</th>\n",
       "    </tr>\n",
       "  </thead>\n",
       "  <tbody>\n",
       "    <tr>\n",
       "      <th>0</th>\n",
       "      <td>0.084075</td>\n",
       "      <td>0.996459</td>\n",
       "      <td>0.000000</td>\n",
       "      <td>0.000000</td>\n",
       "    </tr>\n",
       "    <tr>\n",
       "      <th>1</th>\n",
       "      <td>0.425441</td>\n",
       "      <td>0.000000</td>\n",
       "      <td>0.547832</td>\n",
       "      <td>0.720333</td>\n",
       "    </tr>\n",
       "    <tr>\n",
       "      <th>2</th>\n",
       "      <td>0.613356</td>\n",
       "      <td>0.000000</td>\n",
       "      <td>0.789807</td>\n",
       "      <td>0.000000</td>\n",
       "    </tr>\n",
       "  </tbody>\n",
       "</table>\n",
       "</div>"
      ],
      "text/plain": [
       "        cat       dog      fish     puppy\n",
       "0  0.084075  0.996459  0.000000  0.000000\n",
       "1  0.425441  0.000000  0.547832  0.720333\n",
       "2  0.613356  0.000000  0.789807  0.000000"
      ]
     },
     "execution_count": 62,
     "metadata": {},
     "output_type": "execute_result"
    }
   ],
   "source": [
    "dtm_todf(dtm, vect)"
   ]
  },
  {
   "cell_type": "markdown",
   "metadata": {},
   "source": [
    "These results are hard to explain without first looking at each default parameter individually"
   ]
  },
  {
   "cell_type": "markdown",
   "metadata": {},
   "source": [
    "<a id='1.2.3'></a>\n",
    "### 1.2.3 Parameters\n",
    "\n",
    "This class has much less parameters than CountVectorizer but these parameters aren't as intuitive so we'll cover them below"
   ]
  },
  {
   "cell_type": "markdown",
   "metadata": {},
   "source": [
    "<a id='1.2.3.1'></a>\n",
    "#### 1.2.3.1 norm\n",
    "\n",
    "__norm :__ ‘l1’, ‘l2’ or None, optional\n",
    "\n",
    "Norm used to normalize term vectors. None for no normalization."
   ]
  },
  {
   "cell_type": "markdown",
   "metadata": {},
   "source": [
    "__Example__\n",
    "\n",
    "We will compare what each norm does to our document term matrix"
   ]
  },
  {
   "cell_type": "code",
   "execution_count": 63,
   "metadata": {
    "collapsed": false
   },
   "outputs": [
    {
     "data": {
      "text/html": [
       "<div>\n",
       "<table border=\"1\" class=\"dataframe\">\n",
       "  <thead>\n",
       "    <tr style=\"text-align: right;\">\n",
       "      <th></th>\n",
       "      <th>cat</th>\n",
       "      <th>dog</th>\n",
       "      <th>fish</th>\n",
       "      <th>puppy</th>\n",
       "    </tr>\n",
       "  </thead>\n",
       "  <tbody>\n",
       "    <tr>\n",
       "      <th>0</th>\n",
       "      <td>1</td>\n",
       "      <td>7</td>\n",
       "      <td>0</td>\n",
       "      <td>0</td>\n",
       "    </tr>\n",
       "    <tr>\n",
       "      <th>1</th>\n",
       "      <td>1</td>\n",
       "      <td>0</td>\n",
       "      <td>1</td>\n",
       "      <td>1</td>\n",
       "    </tr>\n",
       "    <tr>\n",
       "      <th>2</th>\n",
       "      <td>1</td>\n",
       "      <td>0</td>\n",
       "      <td>1</td>\n",
       "      <td>0</td>\n",
       "    </tr>\n",
       "  </tbody>\n",
       "</table>\n",
       "</div>"
      ],
      "text/plain": [
       "   cat  dog  fish  puppy\n",
       "0    1    7     0      0\n",
       "1    1    0     1      1\n",
       "2    1    0     1      0"
      ]
     },
     "execution_count": 63,
     "metadata": {},
     "output_type": "execute_result"
    }
   ],
   "source": [
    "example_df.head()"
   ]
  },
  {
   "cell_type": "markdown",
   "metadata": {},
   "source": [
    "We haven't covered it yet but the use_idf parameter can be set to false so only term frequencies are done. We will set it equal to false for this example because it will really help to highlight what the norm parameter is doing"
   ]
  },
  {
   "cell_type": "markdown",
   "metadata": {},
   "source": [
    "__norm = 'l1'__"
   ]
  },
  {
   "cell_type": "code",
   "execution_count": 64,
   "metadata": {
    "collapsed": true
   },
   "outputs": [],
   "source": [
    "tfidf = TfidfTransformer(norm='l1', use_idf=False)"
   ]
  },
  {
   "cell_type": "code",
   "execution_count": 65,
   "metadata": {
    "collapsed": false
   },
   "outputs": [],
   "source": [
    "dtm = tfidf.fit_transform(example_df)"
   ]
  },
  {
   "cell_type": "code",
   "execution_count": 66,
   "metadata": {
    "collapsed": false
   },
   "outputs": [
    {
     "data": {
      "text/html": [
       "<div>\n",
       "<table border=\"1\" class=\"dataframe\">\n",
       "  <thead>\n",
       "    <tr style=\"text-align: right;\">\n",
       "      <th></th>\n",
       "      <th>cat</th>\n",
       "      <th>dog</th>\n",
       "      <th>fish</th>\n",
       "      <th>puppy</th>\n",
       "    </tr>\n",
       "  </thead>\n",
       "  <tbody>\n",
       "    <tr>\n",
       "      <th>0</th>\n",
       "      <td>0.125000</td>\n",
       "      <td>0.875</td>\n",
       "      <td>0.000000</td>\n",
       "      <td>0.000000</td>\n",
       "    </tr>\n",
       "    <tr>\n",
       "      <th>1</th>\n",
       "      <td>0.333333</td>\n",
       "      <td>0.000</td>\n",
       "      <td>0.333333</td>\n",
       "      <td>0.333333</td>\n",
       "    </tr>\n",
       "    <tr>\n",
       "      <th>2</th>\n",
       "      <td>0.500000</td>\n",
       "      <td>0.000</td>\n",
       "      <td>0.500000</td>\n",
       "      <td>0.000000</td>\n",
       "    </tr>\n",
       "  </tbody>\n",
       "</table>\n",
       "</div>"
      ],
      "text/plain": [
       "        cat    dog      fish     puppy\n",
       "0  0.125000  0.875  0.000000  0.000000\n",
       "1  0.333333  0.000  0.333333  0.333333\n",
       "2  0.500000  0.000  0.500000  0.000000"
      ]
     },
     "execution_count": 66,
     "metadata": {},
     "output_type": "execute_result"
    }
   ],
   "source": [
    "dtm_todf(dtm, vect)"
   ]
  },
  {
   "cell_type": "markdown",
   "metadata": {},
   "source": [
    "__norm = 'l2'__"
   ]
  },
  {
   "cell_type": "code",
   "execution_count": 67,
   "metadata": {
    "collapsed": true
   },
   "outputs": [],
   "source": [
    "tfidf = TfidfTransformer(norm='l2', use_idf=False)"
   ]
  },
  {
   "cell_type": "code",
   "execution_count": 68,
   "metadata": {
    "collapsed": true
   },
   "outputs": [],
   "source": [
    "dtm = tfidf.fit_transform(example_df)"
   ]
  },
  {
   "cell_type": "code",
   "execution_count": 69,
   "metadata": {
    "collapsed": false
   },
   "outputs": [
    {
     "data": {
      "text/html": [
       "<div>\n",
       "<table border=\"1\" class=\"dataframe\">\n",
       "  <thead>\n",
       "    <tr style=\"text-align: right;\">\n",
       "      <th></th>\n",
       "      <th>cat</th>\n",
       "      <th>dog</th>\n",
       "      <th>fish</th>\n",
       "      <th>puppy</th>\n",
       "    </tr>\n",
       "  </thead>\n",
       "  <tbody>\n",
       "    <tr>\n",
       "      <th>0</th>\n",
       "      <td>0.141421</td>\n",
       "      <td>0.989949</td>\n",
       "      <td>0.000000</td>\n",
       "      <td>0.00000</td>\n",
       "    </tr>\n",
       "    <tr>\n",
       "      <th>1</th>\n",
       "      <td>0.577350</td>\n",
       "      <td>0.000000</td>\n",
       "      <td>0.577350</td>\n",
       "      <td>0.57735</td>\n",
       "    </tr>\n",
       "    <tr>\n",
       "      <th>2</th>\n",
       "      <td>0.707107</td>\n",
       "      <td>0.000000</td>\n",
       "      <td>0.707107</td>\n",
       "      <td>0.00000</td>\n",
       "    </tr>\n",
       "  </tbody>\n",
       "</table>\n",
       "</div>"
      ],
      "text/plain": [
       "        cat       dog      fish    puppy\n",
       "0  0.141421  0.989949  0.000000  0.00000\n",
       "1  0.577350  0.000000  0.577350  0.57735\n",
       "2  0.707107  0.000000  0.707107  0.00000"
      ]
     },
     "execution_count": 69,
     "metadata": {},
     "output_type": "execute_result"
    }
   ],
   "source": [
    "dtm_todf(dtm, vect)"
   ]
  },
  {
   "cell_type": "markdown",
   "metadata": {},
   "source": [
    "What's the l2 norm doing to our document term matrix?"
   ]
  },
  {
   "cell_type": "code",
   "execution_count": 70,
   "metadata": {
    "collapsed": false
   },
   "outputs": [],
   "source": [
    "mat = example_df.as_matrix()"
   ]
  },
  {
   "cell_type": "code",
   "execution_count": 71,
   "metadata": {
    "collapsed": false
   },
   "outputs": [
    {
     "data": {
      "text/plain": [
       "[array([ 0.14142136,  0.98994949,  0.        ,  0.        ]),\n",
       " array([ 0.57735027,  0.        ,  0.57735027,  0.57735027]),\n",
       " array([ 0.70710678,  0.        ,  0.70710678,  0.        ])]"
      ]
     },
     "execution_count": 71,
     "metadata": {},
     "output_type": "execute_result"
    }
   ],
   "source": [
    "[np.sqrt(x**2/sum(x**2)) for x in mat]"
   ]
  },
  {
   "cell_type": "markdown",
   "metadata": {},
   "source": [
    "__norm = None__\n",
    "\n",
    "This is perhaps the least exciting norm, but it is still very important"
   ]
  },
  {
   "cell_type": "code",
   "execution_count": 72,
   "metadata": {
    "collapsed": true
   },
   "outputs": [],
   "source": [
    "tfidf = TfidfTransformer(norm=None, use_idf=False)"
   ]
  },
  {
   "cell_type": "code",
   "execution_count": 73,
   "metadata": {
    "collapsed": true
   },
   "outputs": [],
   "source": [
    "dtm = tfidf.fit_transform(example_df)"
   ]
  },
  {
   "cell_type": "code",
   "execution_count": 74,
   "metadata": {
    "collapsed": false
   },
   "outputs": [
    {
     "data": {
      "text/html": [
       "<div>\n",
       "<table border=\"1\" class=\"dataframe\">\n",
       "  <thead>\n",
       "    <tr style=\"text-align: right;\">\n",
       "      <th></th>\n",
       "      <th>cat</th>\n",
       "      <th>dog</th>\n",
       "      <th>fish</th>\n",
       "      <th>puppy</th>\n",
       "    </tr>\n",
       "  </thead>\n",
       "  <tbody>\n",
       "    <tr>\n",
       "      <th>0</th>\n",
       "      <td>1.0</td>\n",
       "      <td>7.0</td>\n",
       "      <td>0.0</td>\n",
       "      <td>0.0</td>\n",
       "    </tr>\n",
       "    <tr>\n",
       "      <th>1</th>\n",
       "      <td>1.0</td>\n",
       "      <td>0.0</td>\n",
       "      <td>1.0</td>\n",
       "      <td>1.0</td>\n",
       "    </tr>\n",
       "    <tr>\n",
       "      <th>2</th>\n",
       "      <td>1.0</td>\n",
       "      <td>0.0</td>\n",
       "      <td>1.0</td>\n",
       "      <td>0.0</td>\n",
       "    </tr>\n",
       "  </tbody>\n",
       "</table>\n",
       "</div>"
      ],
      "text/plain": [
       "   cat  dog  fish  puppy\n",
       "0  1.0  7.0   0.0    0.0\n",
       "1  1.0  0.0   1.0    1.0\n",
       "2  1.0  0.0   1.0    0.0"
      ]
     },
     "execution_count": 74,
     "metadata": {},
     "output_type": "execute_result"
    }
   ],
   "source": [
    "dtm_todf(dtm, vect)"
   ]
  },
  {
   "cell_type": "markdown",
   "metadata": {},
   "source": [
    "<a id='1.2.3.2'></a>\n",
    "#### 1.2.3.2 use_idf\n",
    "\n",
    "__use_idf :__ boolean, default=True\n",
    "\n",
    "Enable inverse-document-frequency reweighting."
   ]
  },
  {
   "cell_type": "markdown",
   "metadata": {},
   "source": [
    "__Example__\n",
    "\n",
    "We will show how use_idf=True will interact with the different norms"
   ]
  },
  {
   "cell_type": "code",
   "execution_count": 75,
   "metadata": {
    "collapsed": false
   },
   "outputs": [
    {
     "data": {
      "text/html": [
       "<div>\n",
       "<table border=\"1\" class=\"dataframe\">\n",
       "  <thead>\n",
       "    <tr style=\"text-align: right;\">\n",
       "      <th></th>\n",
       "      <th>cat</th>\n",
       "      <th>dog</th>\n",
       "      <th>fish</th>\n",
       "      <th>puppy</th>\n",
       "    </tr>\n",
       "  </thead>\n",
       "  <tbody>\n",
       "    <tr>\n",
       "      <th>0</th>\n",
       "      <td>1.0</td>\n",
       "      <td>11.85203</td>\n",
       "      <td>0.000000</td>\n",
       "      <td>0.000000</td>\n",
       "    </tr>\n",
       "    <tr>\n",
       "      <th>1</th>\n",
       "      <td>1.0</td>\n",
       "      <td>0.00000</td>\n",
       "      <td>1.287682</td>\n",
       "      <td>1.693147</td>\n",
       "    </tr>\n",
       "    <tr>\n",
       "      <th>2</th>\n",
       "      <td>1.0</td>\n",
       "      <td>0.00000</td>\n",
       "      <td>1.287682</td>\n",
       "      <td>0.000000</td>\n",
       "    </tr>\n",
       "  </tbody>\n",
       "</table>\n",
       "</div>"
      ],
      "text/plain": [
       "   cat       dog      fish     puppy\n",
       "0  1.0  11.85203  0.000000  0.000000\n",
       "1  1.0   0.00000  1.287682  1.693147\n",
       "2  1.0   0.00000  1.287682  0.000000"
      ]
     },
     "execution_count": 75,
     "metadata": {},
     "output_type": "execute_result"
    }
   ],
   "source": [
    "tfidf = TfidfTransformer(norm=None, use_idf=True)\n",
    "dtm = tfidf.fit_transform(example_df)\n",
    "dtm_todf(dtm, vect)"
   ]
  },
  {
   "cell_type": "code",
   "execution_count": 77,
   "metadata": {
    "collapsed": false
   },
   "outputs": [
    {
     "data": {
      "text/html": [
       "<div>\n",
       "<table border=\"1\" class=\"dataframe\">\n",
       "  <thead>\n",
       "    <tr style=\"text-align: right;\">\n",
       "      <th></th>\n",
       "      <th>cat</th>\n",
       "      <th>dog</th>\n",
       "      <th>fish</th>\n",
       "      <th>puppy</th>\n",
       "    </tr>\n",
       "  </thead>\n",
       "  <tbody>\n",
       "    <tr>\n",
       "      <th>0</th>\n",
       "      <td>0.077809</td>\n",
       "      <td>0.922191</td>\n",
       "      <td>0.000000</td>\n",
       "      <td>0.000000</td>\n",
       "    </tr>\n",
       "    <tr>\n",
       "      <th>1</th>\n",
       "      <td>0.251204</td>\n",
       "      <td>0.000000</td>\n",
       "      <td>0.323471</td>\n",
       "      <td>0.425325</td>\n",
       "    </tr>\n",
       "    <tr>\n",
       "      <th>2</th>\n",
       "      <td>0.437124</td>\n",
       "      <td>0.000000</td>\n",
       "      <td>0.562876</td>\n",
       "      <td>0.000000</td>\n",
       "    </tr>\n",
       "  </tbody>\n",
       "</table>\n",
       "</div>"
      ],
      "text/plain": [
       "        cat       dog      fish     puppy\n",
       "0  0.077809  0.922191  0.000000  0.000000\n",
       "1  0.251204  0.000000  0.323471  0.425325\n",
       "2  0.437124  0.000000  0.562876  0.000000"
      ]
     },
     "execution_count": 77,
     "metadata": {},
     "output_type": "execute_result"
    }
   ],
   "source": [
    "tfidf = TfidfTransformer(norm='l1', use_idf=True)\n",
    "dtm = tfidf.fit_transform(example_df)\n",
    "dtm_todf(dtm, vect)"
   ]
  },
  {
   "cell_type": "code",
   "execution_count": 78,
   "metadata": {
    "collapsed": false
   },
   "outputs": [
    {
     "data": {
      "text/html": [
       "<div>\n",
       "<table border=\"1\" class=\"dataframe\">\n",
       "  <thead>\n",
       "    <tr style=\"text-align: right;\">\n",
       "      <th></th>\n",
       "      <th>cat</th>\n",
       "      <th>dog</th>\n",
       "      <th>fish</th>\n",
       "      <th>puppy</th>\n",
       "    </tr>\n",
       "  </thead>\n",
       "  <tbody>\n",
       "    <tr>\n",
       "      <th>0</th>\n",
       "      <td>0.084075</td>\n",
       "      <td>0.996459</td>\n",
       "      <td>0.000000</td>\n",
       "      <td>0.000000</td>\n",
       "    </tr>\n",
       "    <tr>\n",
       "      <th>1</th>\n",
       "      <td>0.425441</td>\n",
       "      <td>0.000000</td>\n",
       "      <td>0.547832</td>\n",
       "      <td>0.720333</td>\n",
       "    </tr>\n",
       "    <tr>\n",
       "      <th>2</th>\n",
       "      <td>0.613356</td>\n",
       "      <td>0.000000</td>\n",
       "      <td>0.789807</td>\n",
       "      <td>0.000000</td>\n",
       "    </tr>\n",
       "  </tbody>\n",
       "</table>\n",
       "</div>"
      ],
      "text/plain": [
       "        cat       dog      fish     puppy\n",
       "0  0.084075  0.996459  0.000000  0.000000\n",
       "1  0.425441  0.000000  0.547832  0.720333\n",
       "2  0.613356  0.000000  0.789807  0.000000"
      ]
     },
     "execution_count": 78,
     "metadata": {},
     "output_type": "execute_result"
    }
   ],
   "source": [
    "tfidf = TfidfTransformer(norm='l2', use_idf=True)\n",
    "dtm = tfidf.fit_transform(example_df)\n",
    "dtm_todf(dtm, vect)"
   ]
  },
  {
   "cell_type": "markdown",
   "metadata": {},
   "source": [
    "<a id='2'></a>\n",
    "# 2 Modeling\n",
    "\n",
    "Now that we learned the basics we can begin the modeling process. There are many different algorithms and techniques but I will only cover two of the ones we tried in our practicum project.\n",
    "\n",
    "We will also split our data up here:"
   ]
  },
  {
   "cell_type": "code",
   "execution_count": 79,
   "metadata": {
    "collapsed": true
   },
   "outputs": [],
   "source": [
    "X_train, X_test, y_train, y_test = train_test_split(df['Text'], df['Target'], test_size=.2, random_state=0)"
   ]
  },
  {
   "cell_type": "markdown",
   "metadata": {},
   "source": [
    "<a id='2.1'></a>\n",
    "## 2.1 MultinomialNB\n",
    "\n",
    "Multinomial Naive Bayes is known as a good dependable baseline for text classification\n",
    "\n",
    "__Advantages:__ \n",
    "\n",
    "  * Very fast\n",
    "  * Robust to irrelevant features\n",
    "  * Works well with little data\n",
    "  * Very hard to overfit due to simplicity\n",
    "\n",
    "__Disadvantages:__\n",
    "\n",
    "  * Will most likely underfit if independence assumption doesn't hold"
   ]
  },
  {
   "cell_type": "markdown",
   "metadata": {},
   "source": [
    "<a id='2.1.1'></a>\n",
    "### 2.1.1 Description\n",
    "\n",
    "__FROM SKLEARN [DOCUMENTATION](http://scikit-learn.org/stable/modules/generated/sklearn.naive_bayes.MultinomialNB.html)__\n",
    "\n",
    "Naive Bayes classifier for multinomial models\n",
    "\n",
    "The multinomial Naive Bayes classifier is suitable for classification with discrete features (e.g., word counts for text classification). The multinomial distribution normally requires integer feature counts. However, in practice, fractional counts such as tf-idf may also work."
   ]
  },
  {
   "cell_type": "markdown",
   "metadata": {},
   "source": [
    "<a id='2.1.2'></a>\n",
    "### 2.1.2 Example\n",
    "\n",
    "We will begin the modeling process with the actual dataset now"
   ]
  },
  {
   "cell_type": "markdown",
   "metadata": {},
   "source": [
    "We will just use the default parameters and see what they give us.\n",
    "\n",
    "__NOTE:__ Make sure you're not fitting CountVectorizer or TfidfTransformer with test data! This is cheating and no one likes a cheater!"
   ]
  },
  {
   "cell_type": "markdown",
   "metadata": {},
   "source": [
    "__FITTING TRAIN SET__"
   ]
  },
  {
   "cell_type": "code",
   "execution_count": 103,
   "metadata": {
    "collapsed": false
   },
   "outputs": [
    {
     "data": {
      "text/plain": [
       "MultinomialNB(alpha=1.0, class_prior=None, fit_prior=True)"
      ]
     },
     "execution_count": 103,
     "metadata": {},
     "output_type": "execute_result"
    }
   ],
   "source": [
    "cv = CountVectorizer()\n",
    "clf = MultinomialNB()\n",
    "\n",
    "X_train_dtm = cv.fit_transform(X_train)\n",
    "clf.fit(X_train_dtm, y_train)"
   ]
  },
  {
   "cell_type": "markdown",
   "metadata": {},
   "source": [
    "__PREDICTING TEST SET__"
   ]
  },
  {
   "cell_type": "code",
   "execution_count": 104,
   "metadata": {
    "collapsed": true
   },
   "outputs": [],
   "source": [
    "X_test_dtm = cv.transform(X_test)\n",
    "y_pred = clf.predict(X_test_dtm)"
   ]
  },
  {
   "cell_type": "markdown",
   "metadata": {},
   "source": [
    "__EVALUATING PREDICTIONS__"
   ]
  },
  {
   "cell_type": "code",
   "execution_count": 105,
   "metadata": {
    "collapsed": false
   },
   "outputs": [],
   "source": [
    "def evaluate_model(actual, prediction):\n",
    "    \n",
    "    print(\"Classification report: \\n{}\".format(classification_report(actual, prediction)))\n",
    "    print('Confusion Matrix: \\n{}'.format(confusion_matrix(actual, prediction)))\n",
    "    print('\\nAccuracy: {}'.format(accuracy_score(actual, prediction)))"
   ]
  },
  {
   "cell_type": "code",
   "execution_count": 106,
   "metadata": {
    "collapsed": false
   },
   "outputs": [
    {
     "name": "stdout",
     "output_type": "stream",
     "text": [
      "Classification report: \n",
      "             precision    recall  f1-score   support\n",
      "\n",
      "          0       0.99      0.82      0.89       114\n",
      "          1       0.97      0.97      0.97       132\n",
      "          2       0.94      0.98      0.96       117\n",
      "          3       0.88      0.97      0.92       116\n",
      "          4       0.92      0.95      0.94        88\n",
      "\n",
      "avg / total       0.94      0.94      0.94       567\n",
      "\n",
      "Confusion Matrix: \n",
      "[[ 93   2   3  13   3]\n",
      " [  0 128   1   3   0]\n",
      " [  0   0 115   0   2]\n",
      " [  1   1   0 112   2]\n",
      " [  0   1   3   0  84]]\n",
      "\n",
      "Accuracy: 0.9382716049382716\n"
     ]
    }
   ],
   "source": [
    "evaluate_model(y_test, y_pred)"
   ]
  },
  {
   "cell_type": "code",
   "execution_count": 159,
   "metadata": {
    "collapsed": false
   },
   "outputs": [
    {
     "name": "stdout",
     "output_type": "stream",
     "text": [
      "Classification report: \n",
      "             precision    recall  f1-score   support\n",
      "\n",
      "          0       0.96      0.86      0.91       114\n",
      "          1       0.97      0.97      0.97       132\n",
      "          2       0.96      0.99      0.97       117\n",
      "          3       0.90      0.97      0.94       116\n",
      "          4       0.97      0.95      0.96        88\n",
      "\n",
      "avg / total       0.95      0.95      0.95       567\n",
      "\n",
      "Confusion Matrix: \n",
      "[[ 98   3   1  10   2]\n",
      " [  1 128   1   2   0]\n",
      " [  0   0 116   0   1]\n",
      " [  3   0   0 113   0]\n",
      " [  0   1   3   0  84]]\n",
      "\n",
      "Accuracy: 0.9506172839506173\n"
     ]
    }
   ],
   "source": [
    "idf_options = ['False', 'True']\n",
    "norm_options = ['l1', 'l2', 'None']\n",
    "@interact\n",
    "def try_alpha(use_idf=idf_options, norm=norm_options):\n",
    "    clf = MultinomialNB()\n",
    "    \n",
    "    if norm == 'None':\n",
    "        norm = None\n",
    "    if use_idf == 'False':\n",
    "        use_idf = False\n",
    "    else:\n",
    "        use_idf = True\n",
    "    tfidf = TfidfTransformer(use_idf=use_idf, norm=norm)\n",
    "    \n",
    "    new_train_dtm = tfidf.fit_transform(X_train_dtm)\n",
    "    new_test_dtm = tfidf.transform(X_test_dtm)\n",
    "    \n",
    "    clf.fit(new_train_dtm, y_train)\n",
    "    y_pred = clf.predict(new_test_dtm)\n",
    "    evaluate_model(y_test, y_pred)"
   ]
  },
  {
   "cell_type": "markdown",
   "metadata": {},
   "source": [
    "<a id='2.1.3'></a>\n",
    "### 2.1.3 Parameters\n",
    "\n",
    "One of the benefits of multinomial naive bayes is that there are very little parameters to tune"
   ]
  },
  {
   "cell_type": "markdown",
   "metadata": {
    "collapsed": true
   },
   "source": [
    "<a id='2.1.3.1'></a>\n",
    "#### 2.1.3.1 alpha\n",
    "\n",
    "__alpha :__ float, optional (default=1.0)\n",
    "\n",
    "Additive (Laplace/Lidstone) smoothing parameter (0 for no smoothing).\n",
    "\n",
    "__Example__\n",
    "\n",
    "We will show what a different alpha value does to coefficients and prediction power\n"
   ]
  },
  {
   "cell_type": "code",
   "execution_count": 109,
   "metadata": {
    "collapsed": true
   },
   "outputs": [],
   "source": [
    "cv = CountVectorizer(max_features=1000)\n",
    "X_train_dtm = cv.fit_transform(X_train)\n",
    "X_test_dtm = cv.transform(X_test)"
   ]
  },
  {
   "cell_type": "code",
   "execution_count": 110,
   "metadata": {
    "collapsed": false
   },
   "outputs": [
    {
     "name": "stdout",
     "output_type": "stream",
     "text": [
      "Classification report: \n",
      "             precision    recall  f1-score   support\n",
      "\n",
      "          0       0.84      0.84      0.84       114\n",
      "          1       0.95      0.92      0.93       132\n",
      "          2       0.94      0.94      0.94       117\n",
      "          3       0.84      0.84      0.84       116\n",
      "          4       0.88      0.90      0.89        88\n",
      "\n",
      "avg / total       0.89      0.89      0.89       567\n",
      "\n",
      "Confusion Matrix: \n",
      "[[ 96   1   1  15   1]\n",
      " [  5 122   0   4   1]\n",
      " [  2   0 110   0   5]\n",
      " [  9   3   2  98   4]\n",
      " [  2   3   4   0  79]]\n",
      "\n",
      "Accuracy: 0.890652557319224\n"
     ]
    }
   ],
   "source": [
    "alphas = [0, .00001, .0001, .0001, .001, .01, .1, 1]\n",
    "idf_options = [False, True]\n",
    "norm_options = ['l1', 'l2', None]\n",
    "@interact\n",
    "def try_alpha(alpha=alphas):\n",
    "    clf = MultinomialNB(alpha=float(alpha))\n",
    "    clf.fit(X_train_dtm, y_train)\n",
    "    y_pred = clf.predict(X_test_dtm)\n",
    "    evaluate_model(y_test, y_pred)\n",
    "    "
   ]
  },
  {
   "cell_type": "markdown",
   "metadata": {},
   "source": [
    "<a id='2.2'></a>\n",
    "## 2.2 SGDClassifier\n",
    "\n",
    "__FROM SKLEARN [DOCUMENTATION](http://scikit-learn.org/stable/modules/generated/sklearn.linear_model.SGDClassifier.html#sklearn.linear_model.SGDClassifier):__\n",
    "\n",
    "Linear classifiers (SVM, logistic regression, a.o.) with SGD training.\n",
    "\n",
    "This estimator implements regularized linear models with stochastic gradient descent (SGD) learning: the gradient of the loss is estimated each sample at a time and the model is updated along the way with a decreasing strength schedule (aka learning rate). SGD allows minibatch (online/out-of-core) learning, see the partial_fit method. For best results using the default learning rate schedule, the data should have zero mean and unit variance.\n",
    "\n",
    "This implementation works with data represented as dense or sparse arrays of floating point values for the features. The model it fits can be controlled with the loss parameter; by default, it fits a linear support vector machine (SVM).\n",
    "\n",
    "The regularizer is a penalty added to the loss function that shrinks model parameters towards the zero vector using either the squared euclidean norm L2 or the absolute norm L1 or a combination of both (Elastic Net). If the parameter update crosses the 0.0 value because of the regularizer, the update is truncated to 0.0 to allow for learning sparse models and achieve online feature selection.\n",
    "\n",
    "\n",
    "<a id='2.2.1'></a>\n",
    "### 2.2.1 Description\n",
    "\n",
    "__FROM SKLEARN [DOCUMENTATION](http://scikit-learn.org/stable/modules/sgd.html):__\n",
    "\n",
    "Stochastic Gradient Descent (SGD) is a simple yet very efficient approach to discriminative learning of linear classifiers under convex loss functions such as (linear) Support Vector Machines and Logistic Regression. Even though SGD has been around in the machine learning community for a long time, it has received a considerable amount of attention just recently in the context of large-scale learning.\n",
    "\n",
    "SGD has been successfully applied to large-scale and sparse machine learning problems often encountered in text classification and natural language processing. Given that the data is sparse, the classifiers in this module easily scale to problems with more than 10^5 training examples and more than 10^5 features.\n",
    "\n",
    "The __advantages__ of Stochastic Gradient Descent are:\n",
    "\n",
    "  * Efficiency.\n",
    "  * Ease of implementation (lots of opportunities for code tuning).\n",
    "\n",
    "The __disadvantages__ of Stochastic Gradient Descent include:\n",
    "\n",
    "  * SGD requires a number of hyperparameters such as the regularization parameter and the number of iterations.\n",
    "  * SGD is sensitive to feature scaling."
   ]
  },
  {
   "cell_type": "markdown",
   "metadata": {},
   "source": [
    "<a id='2.2.2'></a>\n",
    "### 2.2.2 Example\n",
    "\n",
    "We will try SGD with the default parameters"
   ]
  },
  {
   "cell_type": "markdown",
   "metadata": {},
   "source": [
    "__FITTING THE TRAINING SET__"
   ]
  },
  {
   "cell_type": "code",
   "execution_count": 111,
   "metadata": {
    "collapsed": false
   },
   "outputs": [
    {
     "data": {
      "text/plain": [
       "SGDClassifier(alpha=0.0001, average=False, class_weight=None, epsilon=0.1,\n",
       "       eta0=0.0, fit_intercept=True, l1_ratio=0.15,\n",
       "       learning_rate='optimal', loss='hinge', n_iter=5, n_jobs=1,\n",
       "       penalty='l2', power_t=0.5, random_state=0, shuffle=True, verbose=0,\n",
       "       warm_start=False)"
      ]
     },
     "execution_count": 111,
     "metadata": {},
     "output_type": "execute_result"
    }
   ],
   "source": [
    "cv = CountVectorizer()\n",
    "clf = SGDClassifier(random_state=0)\n",
    "\n",
    "X_train_dtm = cv.fit_transform(X_train)\n",
    "clf.fit(X_train_dtm, y_train)"
   ]
  },
  {
   "cell_type": "markdown",
   "metadata": {},
   "source": [
    "__PREDICTING TEST__"
   ]
  },
  {
   "cell_type": "code",
   "execution_count": 112,
   "metadata": {
    "collapsed": true
   },
   "outputs": [],
   "source": [
    "X_test_dtm = cv.transform(X_test)\n",
    "y_pred = clf.predict(X_test_dtm)"
   ]
  },
  {
   "cell_type": "markdown",
   "metadata": {},
   "source": [
    "__EVALUATING MODEL__"
   ]
  },
  {
   "cell_type": "code",
   "execution_count": 113,
   "metadata": {
    "collapsed": false
   },
   "outputs": [
    {
     "name": "stdout",
     "output_type": "stream",
     "text": [
      "Classification report: \n",
      "             precision    recall  f1-score   support\n",
      "\n",
      "          0       0.70      0.92      0.79       114\n",
      "          1       0.79      0.97      0.87       132\n",
      "          2       0.79      0.98      0.88       117\n",
      "          3       0.80      0.10      0.18       116\n",
      "          4       0.86      0.92      0.89        88\n",
      "\n",
      "avg / total       0.78      0.78      0.72       567\n",
      "\n",
      "Confusion Matrix: \n",
      "[[105   3   1   3   2]\n",
      " [  2 128   1   0   1]\n",
      " [  0   1 115   0   1]\n",
      " [ 43  28  24  12   9]\n",
      " [  1   2   4   0  81]]\n",
      "\n",
      "Accuracy: 0.7777777777777778\n"
     ]
    }
   ],
   "source": [
    "evaluate_model(y_test, y_pred)"
   ]
  },
  {
   "cell_type": "markdown",
   "metadata": {},
   "source": [
    "Interesting, why didn't this model perform better than multinomial naive bayes?"
   ]
  },
  {
   "cell_type": "markdown",
   "metadata": {},
   "source": [
    "__EXERCISE:__\n",
    "\n",
    "  * 1) Re-run the model with TfidfTransformer. Are the results better?"
   ]
  },
  {
   "cell_type": "code",
   "execution_count": 154,
   "metadata": {
    "collapsed": false
   },
   "outputs": [
    {
     "name": "stdout",
     "output_type": "stream",
     "text": [
      "Classification report: \n",
      "             precision    recall  f1-score   support\n",
      "\n",
      "          0       0.95      0.91      0.93       114\n",
      "          1       0.98      0.98      0.98       132\n",
      "          2       0.97      0.97      0.97       117\n",
      "          3       0.91      0.97      0.94       116\n",
      "          4       0.98      0.94      0.96        88\n",
      "\n",
      "avg / total       0.96      0.96      0.96       567\n",
      "\n",
      "Confusion Matrix: \n",
      "[[104   1   0   8   1]\n",
      " [  1 129   1   1   0]\n",
      " [  0   0 114   2   1]\n",
      " [  2   0   1 113   0]\n",
      " [  2   1   2   0  83]]\n",
      "\n",
      "Accuracy: 0.9576719576719577\n"
     ]
    }
   ],
   "source": [
    "tfidf = TfidfTransformer()\n",
    "X_train_dtm = tfidf.fit_transform(X_train_dtm)\n",
    "X_test_dtm = tfidf.transform(X_test_dtm)\n",
    "clf.fit(X_train_dtm, y_train)\n",
    "y_pred = clf.predict(X_test_dtm)\n",
    "evaluate_model(y_test, y_pred)"
   ]
  },
  {
   "cell_type": "markdown",
   "metadata": {},
   "source": [
    "<a id='2.2.3'></a>\n",
    "### 2.2.3 Parameters\n",
    "\n",
    "SGDClassifier has many parameters, we'll examine a few of the more important ones"
   ]
  },
  {
   "cell_type": "markdown",
   "metadata": {},
   "source": [
    "<a id='2.2.3.1'></a>\n",
    "#### 2.2.3.1 loss\n",
    "\n",
    "__loss :__ str, ‘hinge’, ‘log’, ‘modified_huber’, ‘squared_hinge’, ‘perceptron’, or a regression loss: ‘squared_loss’, ‘huber’, ‘epsilon_insensitive’, or ‘squared_epsilon_insensitive’\n",
    "\n",
    "The loss function to be used. Defaults to ‘hinge’, which gives a linear SVM. The ‘log’ loss gives logistic regression, a probabilistic classifier. ‘modified_huber’ is another smooth loss that brings tolerance to outliers as well as probability estimates. ‘squared_hinge’ is like hinge but is quadratically penalized. ‘perceptron’ is the linear loss used by the perceptron algorithm. The other losses are designed for regression but can be useful in classification as well; see SGDRegressor for a description."
   ]
  },
  {
   "cell_type": "markdown",
   "metadata": {},
   "source": [
    "__Example__\n",
    "\n",
    "We will try a few different loss functions to see their effect"
   ]
  },
  {
   "cell_type": "code",
   "execution_count": 162,
   "metadata": {
    "collapsed": false
   },
   "outputs": [
    {
     "name": "stdout",
     "output_type": "stream",
     "text": [
      "Classification report: \n",
      "             precision    recall  f1-score   support\n",
      "\n",
      "          0       0.95      0.91      0.93       114\n",
      "          1       0.98      0.97      0.97       132\n",
      "          2       0.97      0.97      0.97       117\n",
      "          3       0.92      0.97      0.95       116\n",
      "          4       0.98      0.94      0.96        88\n",
      "\n",
      "avg / total       0.96      0.96      0.96       567\n",
      "\n",
      "Confusion Matrix: \n",
      "[[104   2   0   7   1]\n",
      " [  2 128   1   1   0]\n",
      " [  0   0 114   2   1]\n",
      " [  2   0   1 113   0]\n",
      " [  2   1   2   0  83]]\n",
      "\n",
      "Accuracy: 0.9559082892416225\n"
     ]
    }
   ],
   "source": [
    "loss_options = ['log', 'hinge', 'modified_huber', 'squared_hinge', 'perceptron']\n",
    "cv = CountVectorizer()\n",
    "X_train_dtm = cv.fit_transform(X_train)\n",
    "X_test_dtm = cv.transform(X_test)\n",
    "\n",
    "tfidf = TfidfTransformer()\n",
    "X_train_dtm = tfidf.fit_transform(X_train_dtm)\n",
    "X_test_dtm = tfidf.transform(X_test_dtm)\n",
    "@interact\n",
    "def try_loss_functions(loss=loss_options):\n",
    "    \n",
    "    clf = SGDClassifier(loss=loss, random_state=0)\n",
    "    clf.fit(X_train_dtm, y_train)\n",
    "    y_pred = clf.predict(X_test_dtm)\n",
    "    evaluate_model(y_test, y_pred)"
   ]
  },
  {
   "cell_type": "markdown",
   "metadata": {},
   "source": [
    "<a id='2.2.3.2'></a>\n",
    "#### 2.2.3.2 penalty\n",
    "\n",
    "__penalty :__ str, ‘none’, ‘l2’, ‘l1’, or ‘elasticnet’\n",
    "\n",
    "The penalty (aka regularization term) to be used. Defaults to ‘l2’ which is the standard regularizer for linear SVM models. ‘l1’ and ‘elasticnet’ might bring sparsity to the model (feature selection) not achievable with ‘l2’."
   ]
  },
  {
   "cell_type": "code",
   "execution_count": 165,
   "metadata": {
    "collapsed": false
   },
   "outputs": [
    {
     "name": "stdout",
     "output_type": "stream",
     "text": [
      "Classification report: \n",
      "             precision    recall  f1-score   support\n",
      "\n",
      "          0       0.93      0.91      0.92       114\n",
      "          1       0.96      0.98      0.97       132\n",
      "          2       0.98      0.98      0.98       117\n",
      "          3       0.92      0.94      0.93       116\n",
      "          4       0.97      0.94      0.95        88\n",
      "\n",
      "avg / total       0.95      0.95      0.95       567\n",
      "\n",
      "Confusion Matrix: \n",
      "[[104   1   0   8   1]\n",
      " [  2 129   0   0   1]\n",
      " [  0   0 115   1   1]\n",
      " [  4   3   0 109   0]\n",
      " [  2   1   2   0  83]]\n",
      "\n",
      "Accuracy: 0.9523809523809523\n"
     ]
    }
   ],
   "source": [
    "penalty_options = ['l1', 'l2', 'elasticnet']\n",
    "alpha_options = [.000001, .00001, .0001, .001]\n",
    "cv = CountVectorizer()\n",
    "X_train_dtm = cv.fit_transform(X_train)\n",
    "X_test_dtm = cv.transform(X_test)\n",
    "\n",
    "tfidf = TfidfTransformer()\n",
    "X_train_dtm = tfidf.fit_transform(X_train_dtm)\n",
    "X_test_dtm = tfidf.transform(X_test_dtm)\n",
    "@interact\n",
    "def try_penalties(penalty=penalty_options, alpha=alpha_options):\n",
    "    \n",
    "    clf = SGDClassifier(penalty=penalty, alpha=float(alpha), random_state=0)\n",
    "    clf.fit(X_train_dtm, y_train)\n",
    "    y_pred = clf.predict(X_test_dtm)\n",
    "    evaluate_model(y_test, y_pred)"
   ]
  },
  {
   "cell_type": "markdown",
   "metadata": {},
   "source": [
    "<a id='2.2.3.3'></a>\n",
    "#### 2.2.3.3 alpha\n",
    "\n",
    "__alpha :__ float\n",
    "\n",
    "Constant that multiplies the regularization term. Defaults to 0.0001 Also used to compute learning_rate when set to ‘optimal’."
   ]
  },
  {
   "cell_type": "markdown",
   "metadata": {},
   "source": [
    "__Example__\n",
    "\n",
    "We will plot a range of alpha values to see how they affect our test sample's accuracy"
   ]
  },
  {
   "cell_type": "code",
   "execution_count": 232,
   "metadata": {
    "collapsed": false
   },
   "outputs": [
    {
     "data": {
      "image/png": "[encoded data removed]",
      "text/plain": [
       "<matplotlib.figure.Figure at 0x1ba06208>"
      ]
     },
     "metadata": {},
     "output_type": "display_data"
    }
   ],
   "source": [
    "# values = []\n",
    "cv = CountVectorizer()\n",
    "tfidf = TfidfTransformer()\n",
    "\n",
    "X_train_dtm = cv.fit_transform(X_train)\n",
    "X_test_dtm = cv.transform(X_test)\n",
    "X_train_dtm = tfidf.fit_transform(X_train_dtm)\n",
    "X_test_dtm = tfidf.transform(X_test_dtm)\n",
    "\n",
    "for i, alpha in enumerate(list(np.logspace(-6, -3))):\n",
    "    \n",
    "    clf = SGDClassifier(random_state=0, alpha=alpha, penalty='l1')\n",
    "    clf.fit(X_train_dtm, y_train)\n",
    "    y_pred = clf.predict(X_test_dtm)\n",
    "    plt.scatter(i, accuracy_score(y_test, y_pred))\n",
    "    plt.scatter(i, accuracy_score(y_train, clf.predict(X_train_dtm)), color='red')"
   ]
  },
  {
   "cell_type": "markdown",
   "metadata": {},
   "source": [
    "<a id='2.2.3.4'></a>\n",
    "#### 2.2.3.4 learning_rate\n",
    "\n",
    "__learning_rate :__ string, optional\n",
    "\n",
    "The learning rate schedule:\n",
    "  * ‘constant’: eta = eta0\n",
    "  * ‘optimal’: eta = 1.0 / (alpha * (t + t0)) [default]\n",
    "  * ‘invscaling’: eta = eta0 / pow(t, power_t)\n",
    "  \n",
    "where t0 is chosen by a heuristic proposed by Leon Bottou.\n",
    "\n",
    "__Example__"
   ]
  },
  {
   "cell_type": "code",
   "execution_count": 174,
   "metadata": {
    "collapsed": false
   },
   "outputs": [
    {
     "name": "stdout",
     "output_type": "stream",
     "text": [
      "Classification report: \n",
      "             precision    recall  f1-score   support\n",
      "\n",
      "          0       0.95      0.91      0.93       114\n",
      "          1       0.98      0.98      0.98       132\n",
      "          2       0.97      0.97      0.97       117\n",
      "          3       0.91      0.97      0.94       116\n",
      "          4       0.98      0.94      0.96        88\n",
      "\n",
      "avg / total       0.96      0.96      0.96       567\n",
      "\n",
      "Confusion Matrix: \n",
      "[[104   1   0   8   1]\n",
      " [  1 129   1   1   0]\n",
      " [  0   0 114   2   1]\n",
      " [  2   0   1 113   0]\n",
      " [  2   1   2   0  83]]\n",
      "\n",
      "Accuracy: 0.9576719576719577\n"
     ]
    }
   ],
   "source": [
    "learning_options = ['constant', 'optimal', 'invscaling']\n",
    "eta_options = [.0001, .001, .01, .1]\n",
    "cv = CountVectorizer()\n",
    "X_train_dtm = cv.fit_transform(X_train)\n",
    "X_test_dtm = cv.transform(X_test)\n",
    "\n",
    "tfidf = TfidfTransformer()\n",
    "X_train_dtm = tfidf.fit_transform(X_train_dtm)\n",
    "X_test_dtm = tfidf.transform(X_test_dtm)\n",
    "@interact\n",
    "def try_epsilon(learning_rate=learning_options, eta0=eta_options):\n",
    "    \n",
    "    clf = SGDClassifier(learning_rate=learning_rate, eta0=float(eta0), random_state=0)\n",
    "    clf.fit(X_train_dtm, y_train)\n",
    "    y_pred = clf.predict(X_test_dtm)\n",
    "    evaluate_model(y_test, y_pred)"
   ]
  },
  {
   "cell_type": "markdown",
   "metadata": {},
   "source": [
    "<a id='2.2.4'></a>\n",
    "### 2.2.4 Getting best features out\n",
    "\n",
    "SGDClassifier makes it very easy to get the best features out of our model, which can be very helpful if we're trying to shrink our feature space"
   ]
  },
  {
   "cell_type": "code",
   "execution_count": 248,
   "metadata": {
    "collapsed": false
   },
   "outputs": [
    {
     "data": {
      "text/plain": [
       "SGDClassifier(alpha=0.001, average=False, class_weight=None, epsilon=0.1,\n",
       "       eta0=0.0, fit_intercept=True, l1_ratio=0.15,\n",
       "       learning_rate='optimal', loss='hinge', n_iter=5, n_jobs=1,\n",
       "       penalty='l1', power_t=0.5, random_state=0, shuffle=True, verbose=0,\n",
       "       warm_start=False)"
      ]
     },
     "execution_count": 248,
     "metadata": {},
     "output_type": "execute_result"
    }
   ],
   "source": [
    "#Simple model fit for SGDClassifier\n",
    "#----------------------------------\n",
    "cv = CountVectorizer()\n",
    "tfidf = TfidfTransformer()\n",
    "\n",
    "X_train_dtm = cv.fit_transform(X_train)\n",
    "X_test_dtm = cv.transform(X_test)\n",
    "\n",
    "X_train_dtm = tfidf.fit_transform(X_train_dtm)\n",
    "X_test_dtm = tfidf.transform(X_test_dtm)\n",
    "\n",
    "clf.fit(X_train_dtm, y_train)"
   ]
  },
  {
   "cell_type": "code",
   "execution_count": 249,
   "metadata": {
    "collapsed": true
   },
   "outputs": [],
   "source": [
    "def get_coef_df(sgd_clf, vect):\n",
    "    \n",
    "    sgd_clf.densify()\n",
    "    ndf = pd.DataFrame(clf.coef_.T, columns=train.target_names)\n",
    "    ndf['Token'] = cv.get_feature_names()\n",
    "    return ndf"
   ]
  },
  {
   "cell_type": "code",
   "execution_count": 250,
   "metadata": {
    "collapsed": true
   },
   "outputs": [],
   "source": [
    "coef_df = get_coef_df(clf, cv)"
   ]
  },
  {
   "cell_type": "code",
   "execution_count": 251,
   "metadata": {
    "collapsed": false
   },
   "outputs": [
    {
     "data": {
      "text/html": [
       "<div>\n",
       "<table border=\"1\" class=\"dataframe\">\n",
       "  <thead>\n",
       "    <tr style=\"text-align: right;\">\n",
       "      <th></th>\n",
       "      <th>misc.forsale</th>\n",
       "      <th>rec.sport.baseball</th>\n",
       "      <th>sci.crypt</th>\n",
       "      <th>sci.electronics</th>\n",
       "      <th>talk.politics.misc</th>\n",
       "      <th>Token</th>\n",
       "    </tr>\n",
       "  </thead>\n",
       "  <tbody>\n",
       "    <tr>\n",
       "      <th>0</th>\n",
       "      <td>0.0</td>\n",
       "      <td>0.0</td>\n",
       "      <td>0.0</td>\n",
       "      <td>0.0</td>\n",
       "      <td>0.0</td>\n",
       "      <td>00 00</td>\n",
       "    </tr>\n",
       "    <tr>\n",
       "      <th>1</th>\n",
       "      <td>0.0</td>\n",
       "      <td>0.0</td>\n",
       "      <td>0.0</td>\n",
       "      <td>0.0</td>\n",
       "      <td>0.0</td>\n",
       "      <td>00 000</td>\n",
       "    </tr>\n",
       "    <tr>\n",
       "      <th>2</th>\n",
       "      <td>0.0</td>\n",
       "      <td>0.0</td>\n",
       "      <td>0.0</td>\n",
       "      <td>0.0</td>\n",
       "      <td>0.0</td>\n",
       "      <td>00 01</td>\n",
       "    </tr>\n",
       "    <tr>\n",
       "      <th>3</th>\n",
       "      <td>0.0</td>\n",
       "      <td>0.0</td>\n",
       "      <td>0.0</td>\n",
       "      <td>0.0</td>\n",
       "      <td>0.0</td>\n",
       "      <td>00 02</td>\n",
       "    </tr>\n",
       "    <tr>\n",
       "      <th>4</th>\n",
       "      <td>0.0</td>\n",
       "      <td>0.0</td>\n",
       "      <td>0.0</td>\n",
       "      <td>0.0</td>\n",
       "      <td>0.0</td>\n",
       "      <td>00 03</td>\n",
       "    </tr>\n",
       "  </tbody>\n",
       "</table>\n",
       "</div>"
      ],
      "text/plain": [
       "   misc.forsale  rec.sport.baseball  sci.crypt  sci.electronics  \\\n",
       "0           0.0                 0.0        0.0              0.0   \n",
       "1           0.0                 0.0        0.0              0.0   \n",
       "2           0.0                 0.0        0.0              0.0   \n",
       "3           0.0                 0.0        0.0              0.0   \n",
       "4           0.0                 0.0        0.0              0.0   \n",
       "\n",
       "   talk.politics.misc   Token  \n",
       "0                 0.0   00 00  \n",
       "1                 0.0  00 000  \n",
       "2                 0.0   00 01  \n",
       "3                 0.0   00 02  \n",
       "4                 0.0   00 03  "
      ]
     },
     "execution_count": 251,
     "metadata": {},
     "output_type": "execute_result"
    }
   ],
   "source": [
    "coef_df.head()"
   ]
  },
  {
   "cell_type": "code",
   "execution_count": 252,
   "metadata": {
    "collapsed": true
   },
   "outputs": [],
   "source": [
    "def get_most_important(ratio_df, num, return_tokens=False, ascending=False):\n",
    "    \n",
    "    list_tokens = []\n",
    "    for column in ratio_df.columns[:-1]:\n",
    "        ratio_df = ratio_df.sort_values(by=column, ascending=ascending)\n",
    "        list_tokens += ratio_df.iloc[:num]['Token'].tolist()\n",
    "        if return_tokens == False:\n",
    "            print(\"Token coefficients for {}:\\n\".format(column), ratio_df[['Token', column]][:num])\n",
    "    if return_tokens == True:\n",
    "        return list(set(list_tokens))   "
   ]
  },
  {
   "cell_type": "code",
   "execution_count": 253,
   "metadata": {
    "collapsed": false
   },
   "outputs": [
    {
     "name": "stdout",
     "output_type": "stream",
     "text": [
      "Token coefficients for misc.forsale:\n",
      "                     Token  misc.forsale\n",
      "90337            for sale     21.153762\n",
      "41769          best offer      2.353888\n",
      "187187  sale organization      2.340829\n",
      "110759      if interested      1.216937\n",
      "6597                20 00      0.893227\n",
      "Token coefficients for rec.sport.baseball:\n",
      "                      Token  rec.sport.baseball\n",
      "37818     baseball players            1.210847\n",
      "122737  journalism indiana            1.049886\n",
      "121914     jewish baseball            0.860504\n",
      "75501             duke edu            0.743177\n",
      "212012          the braves            0.732830\n",
      "Token coefficients for sci.crypt:\n",
      "                  Token  sci.crypt\n",
      "55785     clipper chip   9.959937\n",
      "212286     the clipper   5.443156\n",
      "213412  the government   4.891969\n",
      "213896         the key   3.626762\n",
      "214543         the nsa   3.444433\n",
      "Token coefficients for sci.electronics:\n",
      "                  Token  sci.electronics\n",
      "61982   cooling towers         0.837232\n",
      "189264        sdsu edu         0.723529\n",
      "20542           ai uga         0.122886\n",
      "76958           edu au         0.017630\n",
      "18              00 127         0.000000\n",
      "Token coefficients for talk.politics.misc:\n",
      "                  Token  talk.politics.misc\n",
      "119395          isc br            4.422400\n",
      "55305   clayton cramer            2.996151\n",
      "158544    optilink com            2.292452\n",
      "45017           br com            1.986648\n",
      "220405        thor isc            0.644631\n"
     ]
    }
   ],
   "source": [
    "get_most_important(coef_df, 5)"
   ]
  },
  {
   "cell_type": "markdown",
   "metadata": {},
   "source": [
    "__Exercise:__\n",
    "\n",
    "  * 1) Get the most important bi-grams"
   ]
  },
  {
   "cell_type": "code",
   "execution_count": null,
   "metadata": {
    "collapsed": true
   },
   "outputs": [],
   "source": []
  },
  {
   "cell_type": "code",
   "execution_count": 254,
   "metadata": {
    "collapsed": true
   },
   "outputs": [],
   "source": [
    "def plot_important_features(coef, feature_names, top_n=20, ax=None):\n",
    "    if ax is None:\n",
    "        ax = plt.gca()\n",
    "    inds = np.argsort(coef)\n",
    "    low = inds[:top_n]\n",
    "    high = inds[-top_n:]\n",
    "    important = np.hstack([low, high])\n",
    "    myrange = range(len(important))\n",
    "\n",
    "    ax.bar(myrange, coef[important])\n",
    "    ax.set_xticks(myrange)\n",
    "    ax.set_xticklabels(feature_names[important], rotation=60, ha=\"right\")"
   ]
  },
  {
   "cell_type": "code",
   "execution_count": 255,
   "metadata": {
    "collapsed": false
   },
   "outputs": [
    {
     "data": {
      "image/png": "[encoded data removed]",
      "text/plain": [
       "<matplotlib.figure.Figure at 0x1b8a2470>"
      ]
     },
     "metadata": {},
     "output_type": "display_data"
    }
   ],
   "source": [
    "names = pd.Series(cv.get_feature_names())\n",
    "plt.figure(figsize=(12,8))\n",
    "plot_important_features(coef_df['talk.politics.misc'], names)"
   ]
  },
  {
   "cell_type": "code",
   "execution_count": 185,
   "metadata": {
    "collapsed": true
   },
   "outputs": [],
   "source": [
    "top_words = get_most_important(coef_df, 100, return_tokens=True, ascending=True)\n",
    "bottom_words = get_most_important(coef_df, 100, return_tokens=True, ascending=False)"
   ]
  },
  {
   "cell_type": "code",
   "execution_count": 186,
   "metadata": {
    "collapsed": true
   },
   "outputs": [],
   "source": [
    "best_words = top_words + bottom_words"
   ]
  },
  {
   "cell_type": "code",
   "execution_count": 187,
   "metadata": {
    "collapsed": false
   },
   "outputs": [
    {
     "data": {
      "text/plain": [
       "867"
      ]
     },
     "execution_count": 187,
     "metadata": {},
     "output_type": "execute_result"
    }
   ],
   "source": [
    "len(best_words)"
   ]
  },
  {
   "cell_type": "code",
   "execution_count": 188,
   "metadata": {
    "collapsed": false
   },
   "outputs": [
    {
     "data": {
      "text/plain": [
       "636"
      ]
     },
     "execution_count": 188,
     "metadata": {},
     "output_type": "execute_result"
    }
   ],
   "source": [
    "len(set(best_words))"
   ]
  },
  {
   "cell_type": "code",
   "execution_count": 189,
   "metadata": {
    "collapsed": false
   },
   "outputs": [
    {
     "name": "stdout",
     "output_type": "stream",
     "text": [
      "Classification report: \n",
      "             precision    recall  f1-score   support\n",
      "\n",
      "          0       0.92      0.89      0.91       114\n",
      "          1       0.95      0.92      0.93       132\n",
      "          2       0.94      0.92      0.93       117\n",
      "          3       0.88      0.91      0.89       116\n",
      "          4       0.85      0.89      0.87        88\n",
      "\n",
      "avg / total       0.91      0.91      0.91       567\n",
      "\n",
      "Confusion Matrix: \n",
      "[[102   1   1   7   3]\n",
      " [  2 121   1   4   4]\n",
      " [  1   0 108   2   6]\n",
      " [  5   2   2 106   1]\n",
      " [  1   4   3   2  78]]\n",
      "\n",
      "Accuracy: 0.908289241622575\n"
     ]
    }
   ],
   "source": [
    "cv = CountVectorizer(vocabulary=set(top_words))\n",
    "clf = SGDClassifier(random_state=0)\n",
    "tfidf = TfidfTransformer()\n",
    "\n",
    "X_train_dtm = cv.fit_transform(X_train)\n",
    "X_test_dtm = cv.transform(X_test)\n",
    "\n",
    "X_train_dtm = tfidf.fit_transform(X_train_dtm)\n",
    "X_test_dtm = tfidf.transform(X_test_dtm)\n",
    "\n",
    "clf.fit(X_train_dtm, y_train)\n",
    "y_pred = clf.predict(X_test_dtm)\n",
    "evaluate_model(y_test, y_pred)"
   ]
  },
  {
   "cell_type": "code",
   "execution_count": 190,
   "metadata": {
    "collapsed": false
   },
   "outputs": [
    {
     "name": "stdout",
     "output_type": "stream",
     "text": [
      "Classification report: \n",
      "             precision    recall  f1-score   support\n",
      "\n",
      "          0       0.89      0.85      0.87       114\n",
      "          1       0.91      0.94      0.92       132\n",
      "          2       0.93      0.95      0.94       117\n",
      "          3       0.84      0.82      0.83       116\n",
      "          4       0.88      0.89      0.88        88\n",
      "\n",
      "avg / total       0.89      0.89      0.89       567\n",
      "\n",
      "Confusion Matrix: \n",
      "[[ 97   2   1  12   2]\n",
      " [  1 124   2   3   2]\n",
      " [  3   0 111   0   3]\n",
      " [  6   9   2  95   4]\n",
      " [  2   2   3   3  78]]\n",
      "\n",
      "Accuracy: 0.890652557319224\n"
     ]
    }
   ],
   "source": [
    "cv = CountVectorizer(stop_words='english', max_df=.4, max_features=700)\n",
    "clf = SGDClassifier(random_state=0)\n",
    "tfidf = TfidfTransformer()\n",
    "\n",
    "X_train_dtm = cv.fit_transform(X_train)\n",
    "X_test_dtm = cv.transform(X_test)\n",
    "\n",
    "X_train_dtm = tfidf.fit_transform(X_train_dtm)\n",
    "X_test_dtm = tfidf.transform(X_test_dtm)\n",
    "\n",
    "clf.fit(X_train_dtm, y_train)\n",
    "y_pred = clf.predict(X_test_dtm)\n",
    "evaluate_model(y_test, y_pred)"
   ]
  },
  {
   "cell_type": "code",
   "execution_count": 193,
   "metadata": {
    "collapsed": false
   },
   "outputs": [],
   "source": [
    "results = []\n",
    "start = 50#50\n",
    "end = 400#200\n",
    "intervals = np.linspace(start, end, num=10)\n",
    "for num in [int(x) for x in intervals]:\n",
    "    \n",
    "    best_tokens = get_most_important(coef_df, num, return_tokens=True, ascending=False)\n",
    "    best_tokens += get_most_important(coef_df, num, return_tokens=True, ascending=True)\n",
    "    \n",
    "    best_cv = CountVectorizer(vocabulary=set(best_tokens), ngram_range=(1,1))\n",
    "    best_tfidf = TfidfTransformer()\n",
    "    \n",
    "    best_train_dtm = best_cv.fit_transform(X_train)\n",
    "    \n",
    "    best_nb = MultinomialNB()\n",
    "    best_nb.fit(best_train_dtm, y_train)\n",
    "    best_nb_acc = accuracy_score(y_test, best_nb.predict(best_cv.transform(X_test)))\n",
    "    \n",
    "    best_sgd = SGDClassifier(random_state=0)\n",
    "    best_train_dtm = best_tfidf.fit_transform(best_train_dtm)\n",
    "    best_test_dtm = best_tfidf.transform(best_cv.transform(X_test))\n",
    "    best_sgd.fit(best_train_dtm, y_train)\n",
    "    \n",
    "    best_sgd_acc = accuracy_score(y_test, best_sgd.predict(best_test_dtm))\n",
    "                                 \n",
    "    \n",
    "    max_cv = CountVectorizer(max_features=len(set(best_tokens)), ngram_range=(1,1), stop_words='english', max_df=.2)\n",
    "    max_tfidf = TfidfTransformer()\n",
    "    max_train_dtm = max_cv.fit_transform(X_train)\n",
    "    \n",
    "    max_nb = MultinomialNB()\n",
    "    max_nb.fit(max_train_dtm, y_train)\n",
    "    max_nb_acc = accuracy_score(y_test, max_nb.predict(max_cv.transform(X_test)))\n",
    "                                  \n",
    "    max_sgd = SGDClassifier(random_state=0)\n",
    "    max_train_dtm = max_tfidf.fit_transform(max_train_dtm)\n",
    "    max_test_dtm = max_tfidf.transform(max_cv.transform(X_test))\n",
    "    max_sgd.fit(max_train_dtm, y_train)\n",
    "    max_sgd_acc = accuracy_score(y_test, max_sgd.predict(max_cv.transform(X_test)))\n",
    "    \n",
    "    results.append((len(set(best_tokens)), best_nb_acc, best_sgd_acc, max_nb_acc, max_sgd_acc))                            "
   ]
  },
  {
   "cell_type": "code",
   "execution_count": 194,
   "metadata": {
    "collapsed": true
   },
   "outputs": [],
   "source": [
    "results_df = pd.DataFrame(results, columns=['Num_Features', 'Best_NB', 'Best_SGD', 'Max_NB', 'Max_SGD'])"
   ]
  },
  {
   "cell_type": "code",
   "execution_count": 195,
   "metadata": {
    "collapsed": false
   },
   "outputs": [
    {
     "data": {
      "text/plain": [
       "<matplotlib.axes._subplots.AxesSubplot at 0x1192fef0>"
      ]
     },
     "execution_count": 195,
     "metadata": {},
     "output_type": "execute_result"
    },
    {
     "data": {
      "text/plain": [
       "<matplotlib.figure.Figure at 0x1192c550>"
      ]
     },
     "metadata": {},
     "output_type": "display_data"
    },
    {
     "data": {
      "image/png": "[encoded data removed]",
      "text/plain": [
       "<matplotlib.figure.Figure at 0x1191a4a8>"
      ]
     },
     "metadata": {},
     "output_type": "display_data"
    }
   ],
   "source": [
    "plt.figure(figsize=(8,8))\n",
    "results_df.set_index('Num_Features').plot()"
   ]
  },
  {
   "cell_type": "markdown",
   "metadata": {},
   "source": [
    "<a id='3'></a>\n",
    "# 3 Tuning Models\n",
    "\n",
    "The models default parameters give us a good model, but if we want a great model we'll have to start turning the knobs and find our own optimal parameters"
   ]
  },
  {
   "cell_type": "markdown",
   "metadata": {},
   "source": [
    "<a id='3.1'></a>\n",
    "## 3.1 Pipeline\n",
    "\n",
    "Typing new parameters and keeping track of their results is a pain, lucky for us sklearn has a wonderful class called pipeline so we don't have to do that."
   ]
  },
  {
   "cell_type": "markdown",
   "metadata": {},
   "source": [
    "<a id='3.1.1'></a>\n",
    "### 3.1.1 Description\n",
    "\n",
    "__FROM SKLEARN [DOCUMENTATION](http://scikit-learn.org/stable/modules/generated/sklearn.pipeline.Pipeline.html):__\n",
    "\n",
    "Pipeline of transforms with a final estimator.\n",
    "\n",
    "Sequentially apply a list of transforms and a final estimator. Intermediate steps of the pipeline must be ‘transforms’, that is, they must implement fit and transform methods. The final estimator only needs to implement fit.\n",
    "\n",
    "The purpose of the pipeline is to assemble several steps that can be cross-validated together while setting different parameters. For this, it enables setting parameters of the various steps using their names and the parameter name separated by a ‘\\_\\_’, as in the example below. A step’s estimator may be replaced entirely by setting the parameter with its name to another estimator, or a transformer removed by setting to None."
   ]
  },
  {
   "cell_type": "markdown",
   "metadata": {},
   "source": [
    "<a id='3.1.2'></a>\n",
    "### 3.1.2 Example\n",
    "\n",
    "__1.__ We'll create a simple pipeline for SGDClassifier using the [make_pipeline](http://scikit-learn.org/stable/modules/generated/sklearn.pipeline.make_pipeline.html) function in sklearn"
   ]
  },
  {
   "cell_type": "code",
   "execution_count": 287,
   "metadata": {
    "collapsed": false
   },
   "outputs": [
    {
     "name": "stdout",
     "output_type": "stream",
     "text": [
      "Classification report: \n",
      "             precision    recall  f1-score   support\n",
      "\n",
      "          0       0.95      0.91      0.93       114\n",
      "          1       0.98      0.98      0.98       132\n",
      "          2       0.97      0.97      0.97       117\n",
      "          3       0.91      0.97      0.94       116\n",
      "          4       0.98      0.94      0.96        88\n",
      "\n",
      "avg / total       0.96      0.96      0.96       567\n",
      "\n",
      "Confusion Matrix: \n",
      "[[104   1   0   8   1]\n",
      " [  1 129   1   1   0]\n",
      " [  0   0 114   2   1]\n",
      " [  2   0   1 113   0]\n",
      " [  2   1   2   0  83]]\n",
      "\n",
      "Accuracy: 0.9576719576719577\n"
     ]
    }
   ],
   "source": [
    "pipe = make_pipeline(CountVectorizer(), TfidfTransformer(), SGDClassifier(random_state=0))\n",
    "\n",
    "pipe.fit(X_train, y_train)\n",
    "y_pred = pipe.predict(X_test)\n",
    "evaluate_model(y_test, y_pred)"
   ]
  },
  {
   "cell_type": "markdown",
   "metadata": {},
   "source": [
    "__2.__ We'll now build a pipeline without the make_pipeline helper function"
   ]
  },
  {
   "cell_type": "code",
   "execution_count": 288,
   "metadata": {
    "collapsed": false
   },
   "outputs": [
    {
     "name": "stdout",
     "output_type": "stream",
     "text": [
      "Classification report: \n",
      "             precision    recall  f1-score   support\n",
      "\n",
      "          0       0.95      0.91      0.93       114\n",
      "          1       0.98      0.98      0.98       132\n",
      "          2       0.97      0.97      0.97       117\n",
      "          3       0.91      0.97      0.94       116\n",
      "          4       0.98      0.94      0.96        88\n",
      "\n",
      "avg / total       0.96      0.96      0.96       567\n",
      "\n",
      "Confusion Matrix: \n",
      "[[104   1   0   8   1]\n",
      " [  1 129   1   1   0]\n",
      " [  0   0 114   2   1]\n",
      " [  2   0   1 113   0]\n",
      " [  2   1   2   0  83]]\n",
      "\n",
      "Accuracy: 0.9576719576719577\n"
     ]
    }
   ],
   "source": [
    "pipeline = Pipeline([\n",
    "        ('cv', CountVectorizer()),\n",
    "        ('tfidf', TfidfTransformer()),\n",
    "        ('sgd', SGDClassifier(random_state=0))\n",
    "    ])\n",
    "pipe.fit(X_train, y_train)\n",
    "y_pred = pipe.predict(X_test)\n",
    "evaluate_model(y_test, y_pred)"
   ]
  },
  {
   "cell_type": "markdown",
   "metadata": {},
   "source": [
    "<a id='3.2'></a>\n",
    "## 3.2 Parameter Search\n",
    "\n",
    "The main reason these pipelines are used is to help people with parameter searching. There are two popular parameter search classes in sklearn"
   ]
  },
  {
   "cell_type": "markdown",
   "metadata": {},
   "source": [
    "<a id='3.2.1'></a>\n",
    "### 3.2.1 GridSearchCV\n",
    "\n",
    "This is most well known searching technique in sklearn\n",
    "\n",
    "<a id='3.2.1.1'></a>\n",
    "#### 3.2.1.1 Description\n",
    "\n",
    "__FROM SKLEARN [DOCUMENTATION](http://scikit-learn.org/stable/modules/generated/sklearn.model_selection.GridSearchCV.html):__\n",
    "\n",
    "Exhaustive search over specified parameter values for an estimator.\n",
    "\n",
    "Important members are fit, predict.\n",
    "\n",
    "GridSearchCV implements a “fit” and a “score” method. It also implements “predict”, “predict_proba”, “decision_function”, “transform” and “inverse_transform” if they are implemented in the estimator used.\n",
    "\n",
    "The parameters of the estimator used to apply these methods are optimized by cross-validated grid-search over a parameter grid.\n",
    "\n",
    "<a id='3.2.1.2'></a>\n",
    "#### 3.2.1.2 Example\n",
    "\n",
    "We'll show a small grid search for the optimal parameters for our multinomial naive bayes model"
   ]
  },
  {
   "cell_type": "code",
   "execution_count": 114,
   "metadata": {
    "collapsed": false
   },
   "outputs": [
    {
     "name": "stdout",
     "output_type": "stream",
     "text": [
      "Fitting 5 folds for each of 8 candidates, totalling 40 fits\n"
     ]
    },
    {
     "name": "stderr",
     "output_type": "stream",
     "text": [
      "[Parallel(n_jobs=-1)]: Done  40 out of  40 | elapsed:   35.2s finished\n"
     ]
    },
    {
     "data": {
      "text/plain": [
       "GridSearchCV(cv=5, error_score='raise',\n",
       "       estimator=Pipeline(steps=[('countvectorizer', CountVectorizer(analyzer='word', binary=False, decode_error='strict',\n",
       "        dtype=<class 'numpy.int64'>, encoding='utf-8', input='content',\n",
       "        lowercase=True, max_df=1.0, max_features=None, min_df=1,\n",
       "        ngram_range=(1, 1), preprocessor=None, stop_words=None,\n",
       "  ...alse, use_idf=True)), ('multinomialnb', MultinomialNB(alpha=1.0, class_prior=None, fit_prior=True))]),\n",
       "       fit_params={}, iid=True, n_jobs=-1,\n",
       "       param_grid={'countvectorizer__ngram_range': [(1, 1), (1, 2)], 'tfidftransformer__use_idf': [True, False], 'tfidftransformer__norm': ['l2', None]},\n",
       "       pre_dispatch='2*n_jobs', refit=True, return_train_score=True,\n",
       "       scoring=None, verbose=True)"
      ]
     },
     "execution_count": 114,
     "metadata": {},
     "output_type": "execute_result"
    }
   ],
   "source": [
    "pipe = make_pipeline(CountVectorizer(), TfidfTransformer(), MultinomialNB())\n",
    "\n",
    "#These are the parameters we're searching over\n",
    "params = {\n",
    "    'countvectorizer__ngram_range':[(1,1), (1,2)],\n",
    "    #'countvectorizer__min_df':[2, 3, 4, 5],\n",
    "    #'countvectorizer__max_df':[.2, .4, .6, .8, 1.0],\n",
    "    'tfidftransformer__norm':['l2', None],\n",
    "    'tfidftransformer__use_idf':[True, False],\n",
    "    #'multinomialnb__alpha':[.001, .01, .1, 1]\n",
    "}\n",
    "grid = GridSearchCV(pipe, params, cv=5, verbose=True, n_jobs=-1)\n",
    "grid.fit(X_train, y_train)"
   ]
  },
  {
   "cell_type": "code",
   "execution_count": 213,
   "metadata": {
    "collapsed": false
   },
   "outputs": [],
   "source": [
    "def evaluate_grid(_grid, metric='accurracy'):\n",
    "    print(\"Best CV Score: {:.2f}\".format(_grid.best_score_))\n",
    "    print(\"Best parameters: {}\".format(_grid.best_params_))\n",
    "    y_pred = _grid.predict(X_test)\n",
    "    print(\"\\taccuracy score on test: {}\".format(accuracy_score(y_test, y_pred)))\n",
    "    print(\"Classification report for test sample held out: \\n{}\".format(classification_report(y_test, y_pred)))\n",
    "    print(\"Confusion Matrix for test: \\n{}\".format(confusion_matrix(y_test, y_pred)))\n",
    "    "
   ]
  },
  {
   "cell_type": "code",
   "execution_count": null,
   "metadata": {
    "collapsed": true
   },
   "outputs": [],
   "source": []
  },
  {
   "cell_type": "markdown",
   "metadata": {},
   "source": [
    "Scores for each cross-validation are saved inside GridSearchCV object"
   ]
  },
  {
   "cell_type": "code",
   "execution_count": 115,
   "metadata": {
    "collapsed": true
   },
   "outputs": [],
   "source": [
    "results = pd.DataFrame(grid.cv_results_).fillna('None')"
   ]
  },
  {
   "cell_type": "code",
   "execution_count": 116,
   "metadata": {
    "collapsed": true
   },
   "outputs": [],
   "source": [
    "res_pivot = results.pivot_table(values=['mean_test_score', 'mean_train_score'],\n",
    "                                index=[\"param_countvectorizer__ngram_range\", \"param_tfidftransformer__use_idf\",\n",
    "                                       \"param_tfidftransformer__norm\"])"
   ]
  },
  {
   "cell_type": "code",
   "execution_count": 117,
   "metadata": {
    "collapsed": false
   },
   "outputs": [
    {
     "data": {
      "text/plain": [
       "param_countvectorizer__ngram_range  param_tfidftransformer__use_idf  param_tfidftransformer__norm\n",
       "(1, 1)                              False                            None                            0.945278\n",
       "                                                                     l2                              0.779788\n",
       "                                    True                             None                            0.957635\n",
       "                                                                     l2                              0.893645\n",
       "(1, 2)                              False                            None                            0.922330\n",
       "                                                                     l2                              0.779347\n",
       "                                    True                             None                            0.960724\n",
       "                                                                     l2                              0.891439\n",
       "Name: mean_test_score, dtype: float64"
      ]
     },
     "execution_count": 117,
     "metadata": {},
     "output_type": "execute_result"
    }
   ],
   "source": [
    "res_pivot.mean_test_score"
   ]
  },
  {
   "cell_type": "markdown",
   "metadata": {},
   "source": [
    "<a id='3.2.1.3'></a>\n",
    "#### 3.2.1.3 Parameters\n",
    "\n",
    "GridSearchCV has some very important parameters that will save you time"
   ]
  },
  {
   "cell_type": "markdown",
   "metadata": {},
   "source": [
    "__scoring :__ string, callable or None, default=None\n",
    "\n",
    "A string (see model evaluation documentation) or a scorer callable object / function with signature scorer(estimator, X, y). If None, the score method of the estimator is used.\n",
    "\n",
    "__[LIST OF SCORING FUNCTIONS](http://scikit-learn.org/stable/modules/model_evaluation.html#scoring-parameter):__\n",
    "\n",
    "<img src=\"./sklearn_scoring_table.png\">"
   ]
  },
  {
   "cell_type": "code",
   "execution_count": 217,
   "metadata": {
    "collapsed": false
   },
   "outputs": [
    {
     "data": {
      "text/plain": [
       "2001    From: mss@netcom.com (Mark Singer)\\nSubject: R...\n",
       "57      From: vlad@netcom.com (Vladimir Kuznetsov)\\nSu...\n",
       "1935    From: roger@crux.Princeton.EDU (Roger Lustig)\\...\n",
       "2524    From: james.mollica%pics@twwells.com (James Mo...\n",
       "238     From: cyberman@toz.buffalo.ny.us (Cyberman)\\nS...\n",
       "Name: Text, dtype: object"
      ]
     },
     "execution_count": 217,
     "metadata": {},
     "output_type": "execute_result"
    }
   ],
   "source": [
    "X_train.head()"
   ]
  },
  {
   "cell_type": "code",
   "execution_count": 221,
   "metadata": {
    "collapsed": true
   },
   "outputs": [],
   "source": [
    "politics = y_train[y_train == 4]"
   ]
  },
  {
   "cell_type": "code",
   "execution_count": 222,
   "metadata": {
    "collapsed": false
   },
   "outputs": [
    {
     "data": {
      "text/plain": [
       "377"
      ]
     },
     "execution_count": 222,
     "metadata": {},
     "output_type": "execute_result"
    }
   ],
   "source": [
    "len(politics)"
   ]
  },
  {
   "cell_type": "code",
   "execution_count": 223,
   "metadata": {
    "collapsed": false
   },
   "outputs": [
    {
     "data": {
      "text/plain": [
       "Int64Index([  57, 2668, 1225, 1450, 1287, 1757,  841,  144, 1825, 2459,\n",
       "            ...\n",
       "            2251,   91, 2796,  388, 2292,  755, 2163, 1701,  763, 2732],\n",
       "           dtype='int64', length=377)"
      ]
     },
     "execution_count": 223,
     "metadata": {},
     "output_type": "execute_result"
    }
   ],
   "source": [
    "politics.index"
   ]
  },
  {
   "cell_type": "code",
   "execution_count": 227,
   "metadata": {
    "collapsed": true
   },
   "outputs": [],
   "source": [
    "X_sample_df = X_train.drop(politics.index[:300])\n",
    "y_sample_df = y_train.drop(politics.index[:300])"
   ]
  },
  {
   "cell_type": "code",
   "execution_count": 226,
   "metadata": {
    "collapsed": false
   },
   "outputs": [
    {
     "data": {
      "text/plain": [
       "2266"
      ]
     },
     "execution_count": 226,
     "metadata": {},
     "output_type": "execute_result"
    }
   ],
   "source": [
    "len(X_train)"
   ]
  },
  {
   "cell_type": "code",
   "execution_count": 225,
   "metadata": {
    "collapsed": false
   },
   "outputs": [
    {
     "data": {
      "text/plain": [
       "1966"
      ]
     },
     "execution_count": 225,
     "metadata": {},
     "output_type": "execute_result"
    }
   ],
   "source": [
    "len(X_sample_df)"
   ]
  },
  {
   "cell_type": "code",
   "execution_count": 228,
   "metadata": {
    "collapsed": false
   },
   "outputs": [
    {
     "data": {
      "text/plain": [
       "Counter({0: 471, 1: 465, 2: 478, 3: 475, 4: 77})"
      ]
     },
     "execution_count": 228,
     "metadata": {},
     "output_type": "execute_result"
    }
   ],
   "source": [
    "Counter(y_sample_df)"
   ]
  },
  {
   "cell_type": "code",
   "execution_count": 229,
   "metadata": {
    "collapsed": true
   },
   "outputs": [],
   "source": [
    "sample_X_train, sample_X_test, sample_y_train, sample_y_test = train_test_split(X_sample_df,\n",
    "                                                                                y_sample_df, test_size=.2, random_state=0)"
   ]
  },
  {
   "cell_type": "code",
   "execution_count": 231,
   "metadata": {
    "collapsed": false
   },
   "outputs": [
    {
     "name": "stdout",
     "output_type": "stream",
     "text": [
      "Fitting 3 folds for each of 24 candidates, totalling 72 fits\n"
     ]
    },
    {
     "name": "stderr",
     "output_type": "stream",
     "text": [
      "[Parallel(n_jobs=-1)]: Done  34 tasks      | elapsed:   15.2s\n",
      "[Parallel(n_jobs=-1)]: Done  72 out of  72 | elapsed:   21.2s finished\n"
     ]
    },
    {
     "name": "stdout",
     "output_type": "stream",
     "text": [
      "Best CV Score: 0.92\n",
      "Best parameters: {'multinomialnb__alpha': 0.1, 'tfidftransformer__use_idf': False, 'tfidftransformer__norm': None}\n",
      "\taccuracy score on test: 0.9238578680203046\n",
      "Classification report for test sample held out: \n",
      "             precision    recall  f1-score   support\n",
      "\n",
      "          0       0.84      0.93      0.88        85\n",
      "          1       0.92      0.95      0.93        91\n",
      "          2       1.00      0.95      0.97       112\n",
      "          3       0.95      0.90      0.93        91\n",
      "          4       0.73      0.73      0.73        15\n",
      "\n",
      "avg / total       0.93      0.92      0.92       394\n",
      "\n",
      "Confusion Matrix for test: \n",
      "[[ 79   2   0   3   1]\n",
      " [  5  86   0   0   0]\n",
      " [  2   0 106   1   3]\n",
      " [  8   1   0  82   0]\n",
      " [  0   4   0   0  11]]\n"
     ]
    }
   ],
   "source": [
    "scoring = ['accuracy', 'neg_log_loss', 'f1_macro']\n",
    "\n",
    "@interact\n",
    "def try_score(score=scoring):\n",
    "    pipe = make_pipeline(CountVectorizer(max_features=2000), TfidfTransformer(), MultinomialNB())\n",
    "\n",
    "    #These are the parameters we're searching over\n",
    "    params = {\n",
    "        #'countvectorizer__ngram_range':[(1,1), (1,2)],\n",
    "        #'countvectorizer__min_df':[2, 3, 4, 5],\n",
    "        #'countvectorizer__max_df':[.2, .4, .6, .8, 1.0],\n",
    "        'tfidftransformer__norm':['l1', 'l2', None],\n",
    "        'tfidftransformer__use_idf':[True, False],\n",
    "        'multinomialnb__alpha':[.001, .01, .1, 1]\n",
    "    }\n",
    "    grid = GridSearchCV(pipe, params, cv=3, verbose=True, n_jobs=-1, scoring=score)\n",
    "    grid.fit(sample_X_train, sample_y_train)\n",
    "    \n",
    "    \n",
    "    print(\"Best CV Score: {:.2f}\".format(grid.best_score_))\n",
    "    print(\"Best parameters: {}\".format(grid.best_params_))\n",
    "    sample_y_pred = grid.predict(sample_X_test)\n",
    "    print(\"\\taccuracy score on test: {}\".format(accuracy_score(sample_y_test, sample_y_pred)))\n",
    "    print(\"Classification report for test sample held out: \\n{}\".format(classification_report(sample_y_test, sample_y_pred)))\n",
    "    print(\"Confusion Matrix for test: \\n{}\".format(confusion_matrix(sample_y_test, sample_y_pred)))\n",
    "    #evaluate_grid(grid)"
   ]
  },
  {
   "cell_type": "markdown",
   "metadata": {},
   "source": [
    "__n_jobs :__ int, default=1\n",
    "\n",
    "Number of jobs to run in parallel."
   ]
  },
  {
   "cell_type": "code",
   "execution_count": 118,
   "metadata": {
    "collapsed": false
   },
   "outputs": [
    {
     "name": "stdout",
     "output_type": "stream",
     "text": [
      "Fitting 5 folds for each of 4 candidates, totalling 20 fits\n"
     ]
    },
    {
     "name": "stderr",
     "output_type": "stream",
     "text": [
      "[Parallel(n_jobs=1)]: Done  20 out of  20 | elapsed:  1.1min finished\n"
     ]
    },
    {
     "name": "stdout",
     "output_type": "stream",
     "text": [
      "Took 66.82648587226868 seconds with n_jobs=1\n"
     ]
    }
   ],
   "source": [
    "t0 = time()\n",
    "n_jobs = 1\n",
    "pipe = make_pipeline(CountVectorizer(), MultinomialNB())\n",
    "\n",
    "#These are the parameters we're searching over\n",
    "params = {\n",
    "    'countvectorizer__ngram_range':[(1,1), (1,2)],\n",
    "    'countvectorizer__stop_words':['english', None],\n",
    "    #'countvectorizer__min_df':[2, 3, 4, 5],\n",
    "    #'countvectorizer__max_df':[.2, .4, .6, .8, 1.0],\n",
    "}\n",
    "grid = GridSearchCV(pipe, params, cv=5, verbose=True, n_jobs=n_jobs)\n",
    "grid.fit(X_train, y_train)\n",
    "print('Took {} seconds with n_jobs={}'.format(time()-t0, n_jobs))"
   ]
  },
  {
   "cell_type": "code",
   "execution_count": 119,
   "metadata": {
    "collapsed": false
   },
   "outputs": [
    {
     "name": "stdout",
     "output_type": "stream",
     "text": [
      "Fitting 5 folds for each of 4 candidates, totalling 20 fits\n"
     ]
    },
    {
     "name": "stderr",
     "output_type": "stream",
     "text": [
      "[Parallel(n_jobs=-1)]: Done  20 out of  20 | elapsed:   20.0s finished\n"
     ]
    },
    {
     "name": "stdout",
     "output_type": "stream",
     "text": [
      "Took 21.3037052154541 seconds with n_jobs=-1\n"
     ]
    }
   ],
   "source": [
    "t0 = time()\n",
    "n_jobs = -1\n",
    "pipe = make_pipeline(CountVectorizer(), MultinomialNB())\n",
    "\n",
    "#These are the parameters we're searching over\n",
    "params = {\n",
    "    'countvectorizer__ngram_range':[(1,1), (1,2)],\n",
    "    'countvectorizer__stop_words':['english', None],\n",
    "    #'countvectorizer__min_df':[2, 3, 4, 5],\n",
    "    #'countvectorizer__max_df':[.2, .4, .6, .8, 1.0],\n",
    "}\n",
    "grid = GridSearchCV(pipe, params, cv=5, verbose=True, n_jobs=n_jobs)\n",
    "grid.fit(X_train, y_train)\n",
    "print('Took {} seconds with n_jobs={}'.format(time()-t0, n_jobs))"
   ]
  },
  {
   "cell_type": "markdown",
   "metadata": {},
   "source": [
    "__cv :__ int, cross-validation generator or an iterable, optional\n",
    "\n",
    "Determines the cross-validation splitting strategy. Possible inputs for cv are:\n",
    "\n",
    "  * None, to use the default 3-fold cross validation,\n",
    "\n",
    "  * integer, to specify the number of folds in a (Stratified)KFold,\n",
    "\n",
    "  * An object to be used as a cross-validation generator.\n",
    "\n",
    "  * An iterable yielding train, test splits.\n",
    "\n",
    "For integer/None inputs, if the estimator is a classifier and y is either binary or multiclass, [StratifiedKFold](http://scikit-learn.org/stable/modules/generated/sklearn.model_selection.StratifiedKFold.html#sklearn.model_selection.StratifiedKFold) is used. In all other cases, KFold is used.\n",
    "\n",
    "Refer [User Guide](http://scikit-learn.org/stable/modules/cross_validation.html#cross-validation) for the various cross-validation strategies that can be used here."
   ]
  },
  {
   "cell_type": "code",
   "execution_count": 256,
   "metadata": {
    "collapsed": false
   },
   "outputs": [
    {
     "name": "stdout",
     "output_type": "stream",
     "text": [
      "Fitting 5 folds for each of 2 candidates, totalling 10 fits\n"
     ]
    },
    {
     "name": "stderr",
     "output_type": "stream",
     "text": [
      "[Parallel(n_jobs=-1)]: Done   6 out of  10 | elapsed:   13.3s remaining:    8.8s\n",
      "[Parallel(n_jobs=-1)]: Done  10 out of  10 | elapsed:   14.4s finished\n"
     ]
    },
    {
     "name": "stdout",
     "output_type": "stream",
     "text": [
      "Best CV Score: 0.94\n",
      "Best parameters: {'countvectorizer__ngram_range': (1, 1)}\n",
      "\taccuracy score on test: 0.9382716049382716\n",
      "Classification report for test sample held out: \n",
      "             precision    recall  f1-score   support\n",
      "\n",
      "          0       0.99      0.82      0.89       114\n",
      "          1       0.97      0.97      0.97       132\n",
      "          2       0.94      0.98      0.96       117\n",
      "          3       0.88      0.97      0.92       116\n",
      "          4       0.92      0.95      0.94        88\n",
      "\n",
      "avg / total       0.94      0.94      0.94       567\n",
      "\n",
      "Confusion Matrix for test: \n",
      "[[ 93   2   3  13   3]\n",
      " [  0 128   1   3   0]\n",
      " [  0   0 115   0   2]\n",
      " [  1   1   0 112   2]\n",
      " [  0   1   3   0  84]]\n"
     ]
    }
   ],
   "source": [
    "from sklearn.model_selection import ShuffleSplit\n",
    "\n",
    "shufflesplit = ShuffleSplit(n_splits=5, test_size=0.25, random_state=0)\n",
    "pipe = make_pipeline(CountVectorizer(), MultinomialNB())\n",
    "\n",
    "#These are the parameters we're searching over\n",
    "params = {\n",
    "    'countvectorizer__ngram_range':[(1,1), (1,2)],\n",
    "    #'countvectorizer__min_df':[2, 3, 4, 5],\n",
    "    #'countvectorizer__max_df':[.2, .4, .6, .8, 1.0],\n",
    "    #'multinomialnb__alpha':[.001, .01, .1, 1]\n",
    "}\n",
    "grid = GridSearchCV(pipe, params, cv=shufflesplit, verbose=True, n_jobs=-1)\n",
    "grid.fit(X_train, y_train)\n",
    "evaluate_grid(grid)"
   ]
  },
  {
   "cell_type": "markdown",
   "metadata": {},
   "source": [
    "<a id='3.2.2'></a>\n",
    "### 3.2.2 RandomizedSearchCV\n",
    "\n",
    "__FROM SKLEARN [DOCUMENTATION](http://scikit-learn.org/stable/modules/grid_search.html#randomized-parameter-search):__\n",
    "\n",
    "While using a grid of parameter settings is currently the most widely used method for parameter optimization, other search methods have more favourable properties. RandomizedSearchCV implements a randomized search over parameters, where each setting is sampled from a distribution over possible parameter values. This has two main benefits over an exhaustive search:\n",
    "\n",
    "  * A budget can be chosen independent of the number of parameters and possible values.\n",
    "  * Adding parameters that do not influence the performance does not decrease efficiency.\n",
    "  \n",
    "Specifying how parameters should be sampled is done using a dictionary, very similar to specifying parameters for GridSearchCV.\n",
    "\n",
    "Additionally, a computation budget, being the number of sampled candidates or sampling iterations, is specified using the n_iter parameter. For each parameter, either a distribution over possible values or a list of discrete choices (which will be sampled uniformly) can be specified:"
   ]
  },
  {
   "cell_type": "markdown",
   "metadata": {},
   "source": [
    "<a id='3.2.2.1'></a>\n",
    "#### 3.2.2.1 Description\n",
    "\n",
    "__FROM SKLEARN [DOCUMENTATION](http://scikit-learn.org/stable/modules/generated/sklearn.model_selection.RandomizedSearchCV.html):__\n",
    "\n",
    "Randomized search on hyper parameters.\n",
    "\n",
    "RandomizedSearchCV implements a “fit” and a “score” method. It also implements “predict”, “predict_proba”, “decision_function”, “transform” and “inverse_transform” if they are implemented in the estimator used.\n",
    "\n",
    "The parameters of the estimator used to apply these methods are optimized by cross-validated search over parameter settings.\n",
    "In contrast to GridSearchCV, not all parameter values are tried out, but rather a fixed number of parameter settings is sampled from the specified distributions. The number of parameter settings that are tried is given by n_iter.\n",
    "\n",
    "If all parameters are presented as a list, sampling without replacement is performed. If at least one parameter is given as a distribution, sampling with replacement is used. It is highly recommended to use continuous distributions for continuous parameters."
   ]
  },
  {
   "cell_type": "markdown",
   "metadata": {},
   "source": [
    "<a id='3.2.2.2'></a>\n",
    "#### 3.2.2.2 Example\n",
    "\n",
    "RandomizedSearchCV is very similar to GridSearchCV with the only difference being n_iter parameter which will allow us to select from a bigger parameter grid"
   ]
  },
  {
   "cell_type": "code",
   "execution_count": 257,
   "metadata": {
    "collapsed": false
   },
   "outputs": [
    {
     "name": "stdout",
     "output_type": "stream",
     "text": [
      "Fitting 5 folds for each of 10 candidates, totalling 50 fits\n"
     ]
    },
    {
     "name": "stderr",
     "output_type": "stream",
     "text": [
      "[Parallel(n_jobs=-1)]: Done  34 tasks      | elapsed:   42.7s\n",
      "[Parallel(n_jobs=-1)]: Done  50 out of  50 | elapsed:   52.6s finished\n"
     ]
    },
    {
     "name": "stdout",
     "output_type": "stream",
     "text": [
      "Best CV Score: 0.95\n",
      "Best parameters: {'countvectorizer__max_df': 0.8, 'countvectorizer__min_df': 0, 'countvectorizer__ngram_range': (1, 3), 'multinomialnb__alpha': 0.01}\n",
      "\taccuracy score on test: 0.9470899470899471\n",
      "Classification report for test sample held out: \n",
      "             precision    recall  f1-score   support\n",
      "\n",
      "          0       0.95      0.87      0.91       114\n",
      "          1       0.97      0.98      0.97       132\n",
      "          2       0.95      0.99      0.97       117\n",
      "          3       0.90      0.95      0.92       116\n",
      "          4       0.97      0.94      0.95        88\n",
      "\n",
      "avg / total       0.95      0.95      0.95       567\n",
      "\n",
      "Confusion Matrix for test: \n",
      "[[ 99   3   1   9   2]\n",
      " [  1 129   0   2   0]\n",
      " [  0   0 116   0   1]\n",
      " [  4   0   2 110   0]\n",
      " [  0   1   3   1  83]]\n"
     ]
    }
   ],
   "source": [
    "pipe = make_pipeline(CountVectorizer(), MultinomialNB())\n",
    "\n",
    "#These are the parameters we're searching over\n",
    "params = {\n",
    "    'countvectorizer__ngram_range':[(1,1), (1,2), (1,3)],\n",
    "    'countvectorizer__min_df':[0,2,3,4,5,6,7,8,9,10],\n",
    "    'countvectorizer__max_df':[.1, .2, .3, .4, .5, .6, .7, .8, .9, 1.0],\n",
    "    'multinomialnb__alpha':[.00001, .0001, .001, .01, .1, 1]\n",
    "}\n",
    "grid = RandomizedSearchCV(pipe, params, cv=5, verbose=True, n_iter=10, n_jobs=-1)\n",
    "grid.fit(X_train, y_train)\n",
    "evaluate_grid(grid)"
   ]
  },
  {
   "cell_type": "markdown",
   "metadata": {
    "collapsed": true
   },
   "source": [
    "__EXERCISE:__\n",
    "\n",
    "  * 1) Create a pipeline and Grid/Randomized search CV for optimal parameters for SGDClassifier"
   ]
  },
  {
   "cell_type": "code",
   "execution_count": null,
   "metadata": {
    "collapsed": true
   },
   "outputs": [],
   "source": []
  },
  {
   "cell_type": "code",
   "execution_count": null,
   "metadata": {
    "collapsed": true
   },
   "outputs": [],
   "source": []
  },
  {
   "cell_type": "markdown",
   "metadata": {},
   "source": [
    "<a id='4'></a>\n",
    "# 4 Increasing Performance\n",
    "\n",
    "There are many ways to increase model performance. The best way is typically feature engineering, but we're just covering text mining here\n",
    "\n",
    "<a id='4.1'></a>\n",
    "## 4.1 Stemming\n",
    "\n",
    "One thing we can do is stem our text to shrink our feature space. This sometimes gives a better model but not always, sometimes the different classes with use different suffixes"
   ]
  },
  {
   "cell_type": "code",
   "execution_count": 122,
   "metadata": {
    "collapsed": true
   },
   "outputs": [],
   "source": [
    "from nltk.stem.snowball import SnowballStemmer\n",
    "from nltk.stem.porter import PorterStemmer\n",
    "from nltk.stem.lancaster import LancasterStemmer\n",
    "import nltk"
   ]
  },
  {
   "cell_type": "markdown",
   "metadata": {},
   "source": [
    "<a id='4.1.1'></a>\n",
    "### 4.1.1 Types\n",
    "\n",
    "We will only focus on three of the more popular stemmers\n",
    "\n",
    "### Porter\n",
    "\n",
    "This is the most common stemmer\n",
    "\n",
    "__EXAMPLE__"
   ]
  },
  {
   "cell_type": "code",
   "execution_count": 123,
   "metadata": {
    "collapsed": true
   },
   "outputs": [],
   "source": [
    "p_stemmer = PorterStemmer()"
   ]
  },
  {
   "cell_type": "code",
   "execution_count": 124,
   "metadata": {
    "collapsed": false
   },
   "outputs": [
    {
     "data": {
      "text/plain": [
       "'player'"
      ]
     },
     "execution_count": 124,
     "metadata": {},
     "output_type": "execute_result"
    }
   ],
   "source": [
    "p_stemmer.stem('player')"
   ]
  },
  {
   "cell_type": "markdown",
   "metadata": {},
   "source": [
    "### Lancaster\n",
    "\n",
    "This is a more aggresive stemmer, meaning it will chop off suffixes more frequently\n",
    "\n",
    "__EXAMPLE__"
   ]
  },
  {
   "cell_type": "code",
   "execution_count": 125,
   "metadata": {
    "collapsed": true
   },
   "outputs": [],
   "source": [
    "l_stemmer = LancasterStemmer()"
   ]
  },
  {
   "cell_type": "code",
   "execution_count": 126,
   "metadata": {
    "collapsed": false
   },
   "outputs": [
    {
     "data": {
      "text/plain": [
       "'play'"
      ]
     },
     "execution_count": 126,
     "metadata": {},
     "output_type": "execute_result"
    }
   ],
   "source": [
    "l_stemmer.stem('player')"
   ]
  },
  {
   "cell_type": "markdown",
   "metadata": {},
   "source": [
    "### Snowball \n",
    "\n",
    "Adapted version of Porter, must specify the language\n",
    "\n",
    "__EXAMPLE__"
   ]
  },
  {
   "cell_type": "code",
   "execution_count": 127,
   "metadata": {
    "collapsed": true
   },
   "outputs": [],
   "source": [
    "s_stemmer = SnowballStemmer('english')"
   ]
  },
  {
   "cell_type": "code",
   "execution_count": 128,
   "metadata": {
    "collapsed": false
   },
   "outputs": [
    {
     "data": {
      "text/plain": [
       "'generous'"
      ]
     },
     "execution_count": 128,
     "metadata": {},
     "output_type": "execute_result"
    }
   ],
   "source": [
    "s_stemmer.stem('generously')"
   ]
  },
  {
   "cell_type": "code",
   "execution_count": 129,
   "metadata": {
    "collapsed": false
   },
   "outputs": [
    {
     "data": {
      "text/plain": [
       "'gener'"
      ]
     },
     "execution_count": 129,
     "metadata": {},
     "output_type": "execute_result"
    }
   ],
   "source": [
    "p_stemmer.stem('generously')"
   ]
  },
  {
   "cell_type": "code",
   "execution_count": 130,
   "metadata": {
    "collapsed": false
   },
   "outputs": [
    {
     "data": {
      "text/plain": [
       "'gen'"
      ]
     },
     "execution_count": 130,
     "metadata": {},
     "output_type": "execute_result"
    }
   ],
   "source": [
    "l_stemmer.stem('generously')"
   ]
  },
  {
   "cell_type": "markdown",
   "metadata": {},
   "source": [
    "<a id='4.1.2'></a>\n",
    "### 4.1.2 Stemming our Text\n",
    "\n",
    "Before we begin stemming our words we need to make sure stop_words aren't being stemmed because they won't be picked up by our CountVectorizer if the word is different."
   ]
  },
  {
   "cell_type": "code",
   "execution_count": 131,
   "metadata": {
    "collapsed": false
   },
   "outputs": [],
   "source": [
    "stop_words = nltk.corpus.stopwords.words('english')"
   ]
  },
  {
   "cell_type": "code",
   "execution_count": 132,
   "metadata": {
    "collapsed": false
   },
   "outputs": [
    {
     "data": {
      "text/plain": [
       "['i', 'me', 'my', 'myself', 'we', 'our', 'ours', 'ourselves', 'you', 'your']"
      ]
     },
     "execution_count": 132,
     "metadata": {},
     "output_type": "execute_result"
    }
   ],
   "source": [
    "stop_words[:10]"
   ]
  },
  {
   "cell_type": "code",
   "execution_count": 133,
   "metadata": {
    "collapsed": false
   },
   "outputs": [
    {
     "name": "stdout",
     "output_type": "stream",
     "text": [
      "\n",
      "Stop word: because\n",
      "\tPorter: becaus\n",
      "\tLancaster: becaus\n",
      "\tSnowball: becaus\n",
      "\n",
      "Stop word: against\n",
      "\tPorter: against\n",
      "\tLancaster: against\n",
      "\tSnowball: against\n",
      "\n",
      "Stop word: between\n",
      "\tPorter: between\n",
      "\tLancaster: between\n",
      "\tSnowball: between\n",
      "\n",
      "Stop word: through\n",
      "\tPorter: through\n",
      "\tLancaster: through\n",
      "\tSnowball: through\n",
      "\n",
      "Stop word: during\n",
      "\tPorter: dure\n",
      "\tLancaster: dur\n",
      "\tSnowball: dure\n",
      "\n",
      "Stop word: before\n",
      "\tPorter: befor\n",
      "\tLancaster: bef\n",
      "\tSnowball: befor\n",
      "\n",
      "Stop word: further\n",
      "\tPorter: further\n",
      "\tLancaster: furth\n",
      "\tSnowball: further\n"
     ]
    }
   ],
   "source": [
    "for word in stop_words[50:100]:\n",
    "    \n",
    "    if len(word) > 5:\n",
    "        print('\\nStop word: {}'.format(word))\n",
    "        print('\\tPorter: {}\\n\\tLancaster: {}\\n\\tSnowball: {}'.format(p_stemmer.stem(word), l_stemmer.stem(word),\n",
    "                                                                          s_stemmer.stem(word)))"
   ]
  },
  {
   "cell_type": "markdown",
   "metadata": {},
   "source": [
    "We will then have to ignore these words when stemming"
   ]
  },
  {
   "cell_type": "code",
   "execution_count": 134,
   "metadata": {
    "collapsed": true
   },
   "outputs": [],
   "source": [
    "token_regex = re.compile(r'\\b\\w\\w+\\b')\n",
    "def stem_column(col, stemmer, stop_words):\n",
    "    return col.apply(lambda x: ' '.join([stemmer.stem(token) if token not in stop_words else token\n",
    "                                         for token in token_regex.findall(x)]))"
   ]
  },
  {
   "cell_type": "code",
   "execution_count": 135,
   "metadata": {
    "collapsed": true
   },
   "outputs": [],
   "source": [
    "test_df = df['Text'].head(10)\n",
    "snowball_text = stem_column(test_df, s_stemmer, stop_words)\n",
    "porter_text = stem_column(test_df, p_stemmer, stop_words)\n",
    "lancaster_text = stem_column(test_df, l_stemmer, stop_words)"
   ]
  },
  {
   "cell_type": "code",
   "execution_count": 137,
   "metadata": {
    "collapsed": false
   },
   "outputs": [
    {
     "name": "stdout",
     "output_type": "stream",
     "text": [
      "Original: \n",
      "From: shapiro@oucsace.cs.ohiou.edu (Brian Shapiro)\n",
      "Subject: For Sale: Zenith 386-25 Motherboard\n",
      "Distribution: usa\n",
      "Organization: Ohio University C.S. Dept, Athens\n",
      "Lines: 30\n",
      "\n",
      "\n",
      "The following is posted for a friend. Send replies to the address at\n",
      "the end of the post please.\n",
      "\n",
      "Attention Zenith Z-248 owners!!!  upgrade your 8 MHz AT-class machine to '386\n",
      "performance with a genuine Zenith motherboard for a clone price!  Motherboard\n",
      "and I/O card pop right in to your Z-248 case while keeping your existing\n",
      "video and disk controllers. \n",
      "\n",
      "Zenith Z-386/25 motherboard featuring 16kb of 16-layer, posted-write cache\n",
      "using 15 ns SRAM; 8 Mb of 70 ns DRAM included, accepts 20 Mb on motherboard\n",
      "(further RAM upgrades available via SuperSlots running at memory bus speeds;\n",
      "7 Expansion slots feature 4 Zenith 32-bit SuperSlots: autodetects 8/16/32-bit\n",
      "adapters; latest rev. of Z-300 setup/monitor ROMs, two serial ports, one\n",
      "parallel port, secondary fan for improved system cooling, Z-386 User's Guide,\n",
      "Z-386 Maintenance Guide and diagnostics disk included. $575 (includes\n",
      "S/H/insurance).\n",
      "\n",
      "Replies to: stann@aol.com\n",
      "\n",
      "Replies to me will be forwarded.\n",
      "\n",
      "Thanks.....\n",
      "\n",
      "brian\n",
      "-- \n",
      "Brian Shapiro, Systems Support Specialist\n",
      "Ohio University, Athens, Ohio 45701\n",
      "(614) 593-1608\n",
      "shapiro@oucsace.cs.ohiou.edu or SHAPIROB@OUACCVMA.BITNET\n",
      "\n",
      "\n",
      "Snowball Stemmed: \n",
      "\n",
      "from shapiro oucsac cs ohiou edu brian shapiro subject for sale zenith 386 25 motherboard distribut usa organ ohio univers dept athen line 30 the follow is post for friend send repli to the address at the end of the post pleas attent zenith 248 owner upgrad your mhz at class machin to 386 perform with genuin zenith motherboard for clone price motherboard and card pop right in to your 248 case while keep your exist video and disk control zenith 386 25 motherboard featur 16kb of 16 layer post write cach use 15 ns sram mb of 70 ns dram includ accept 20 mb on motherboard further ram upgrad avail via superslot run at memori bus speed expans slot featur zenith 32 bit superslot autodetect 16 32 bit adapt latest rev of 300 setup monitor rom two serial port one parallel port secondari fan for improv system cool 386 user guid 386 mainten guid and diagnost disk includ 575 includ insur repli to stann aol com repli to me will be forward thank brian brian shapiro system support specialist ohio univers athen ohio 45701 614 593 1608 shapiro oucsac cs ohiou edu or shapirob ouaccvma bitnet\n",
      "\n",
      "Porter Stemmed: \n",
      "\n",
      "from shapiro oucsac cs ohiou edu brian shapiro subject for sale zenith 386 25 motherboard distribut usa organ ohio univers dept athen line 30 the follow is post for friend send repli to the address at the end of the post pleas attent zenith 248 owner upgrad your mhz at class machin to 386 perform with genuin zenith motherboard for clone price motherboard and card pop right in to your 248 case while keep your exist video and disk control zenith 386 25 motherboard featur 16kb of 16 layer post write cach use 15 ns sram mb of 70 ns dram includ accept 20 mb on motherboard further ram upgrad avail via superslot run at memori bus speed expans slot featur zenith 32 bit superslot autodetect 16 32 bit adapt latest rev of 300 setup monitor rom two serial port one parallel port secondari fan for improv system cool 386 user guid 386 mainten guid and diagnost disk includ 575 includ insur repli to stann aol com repli to me will be forward thank brian brian shapiro system support specialist ohio univers athen ohio 45701 614 593 1608 shapiro oucsac cs ohiou edu or shapirob ouaccvma bitnet\n",
      "\n",
      "Lancaster Stemmed: \n",
      "\n",
      "from shapiro oucsac cs ohiou edu brian shapiro subject for sale zenith 386 25 motherboard distribut usa organ ohio univers dept athen line 30 the follow is post for friend send repli to the address at the end of the post pleas attent zenith 248 owner upgrad your mhz at class machin to 386 perform with genuin zenith motherboard for clone price motherboard and card pop right in to your 248 case while keep your exist video and disk control zenith 386 25 motherboard featur 16kb of 16 layer post write cach use 15 ns sram mb of 70 ns dram includ accept 20 mb on motherboard further ram upgrad avail via superslot run at memori bus speed expans slot featur zenith 32 bit superslot autodetect 16 32 bit adapt latest rev of 300 setup monitor rom two serial port one parallel port secondari fan for improv system cool 386 user guid 386 mainten guid and diagnost disk includ 575 includ insur repli to stann aol com repli to me will be forward thank brian brian shapiro system support specialist ohio univers athen ohio 45701 614 593 1608 shapiro oucsac cs ohiou edu or shapirob ouaccvma bitnet\n"
     ]
    }
   ],
   "source": [
    "i = 4\n",
    "print('Original: \\n{}'.format(test_df.iloc[i]))\n",
    "print('\\nSnowball Stemmed: \\n\\n{}'.format(snowball_text.iloc[i]))\n",
    "print('\\nPorter Stemmed: \\n\\n{}'.format(snowball_text.iloc[i]))\n",
    "print('\\nLancaster Stemmed: \\n\\n{}'.format(snowball_text.iloc[i]))"
   ]
  },
  {
   "cell_type": "code",
   "execution_count": 138,
   "metadata": {
    "collapsed": false
   },
   "outputs": [],
   "source": [
    "df['snowball_text'] = stem_column(df['Text'], s_stemmer, stop_words)\n",
    "df['porter_text'] = porter_text = stem_column(df['Text'], p_stemmer, stop_words)\n",
    "df['lancaster_text'] = lancaster_text = stem_column(df['Text'], l_stemmer, stop_words)"
   ]
  },
  {
   "cell_type": "code",
   "execution_count": 139,
   "metadata": {
    "collapsed": false
   },
   "outputs": [
    {
     "name": "stdout",
     "output_type": "stream",
     "text": [
      "There are 38546 tokens for column: Text\n",
      "There are 30175 tokens for column: snowball_text\n",
      "There are 30150 tokens for column: porter_text\n",
      "There are 26973 tokens for column: lancaster_text\n"
     ]
    }
   ],
   "source": [
    "for col in ['Text', 'snowball_text', 'porter_text', 'lancaster_text']:\n",
    "    cv = CountVectorizer(stop_words='english')\n",
    "    dtm = cv.fit_transform(df[col])\n",
    "    print('There are {} tokens for column: {}'.format(dtm.shape[1], col))"
   ]
  },
  {
   "cell_type": "markdown",
   "metadata": {},
   "source": [
    "<a id='4.2'></a>\n",
    "## 4.2 Custom Transformer (Advanced)\n",
    "\n",
    "We know pipelines take in transformers, but until now we've been using sklearns transformers. Most of the time this will be fine, but if you know how to create your own transformer you'll have much greater power.\n",
    "\n",
    "I already created one and saved it in file column_selector.py, this is necessary for GridSearchCV"
   ]
  },
  {
   "cell_type": "code",
   "execution_count": 140,
   "metadata": {
    "collapsed": true
   },
   "outputs": [],
   "source": [
    "from column_selector import ColSelector"
   ]
  },
  {
   "cell_type": "code",
   "execution_count": 141,
   "metadata": {
    "collapsed": true
   },
   "outputs": [],
   "source": [
    "??ColSelector"
   ]
  },
  {
   "cell_type": "markdown",
   "metadata": {},
   "source": [
    "This is a very simple transformer, that just grabs what ever column from the data set you specify"
   ]
  },
  {
   "cell_type": "code",
   "execution_count": 142,
   "metadata": {
    "collapsed": true
   },
   "outputs": [],
   "source": [
    "col = ColSelector(key='Text')"
   ]
  },
  {
   "cell_type": "code",
   "execution_count": 143,
   "metadata": {
    "collapsed": false
   },
   "outputs": [
    {
     "data": {
      "text/plain": [
       "0       From: jay@gdx.UUCP (Jay Snyder)\\nSubject: WANT...\n",
       "1       From: VEAL@utkvm1.utk.edu (David Veal)\\nSubjec...\n",
       "2       From: rickert@NeXTwork.Rose-Hulman.Edu (John H...\n",
       "3       From: rosen@kranz.enet.dec.com (Jim Rosenkranz...\n",
       "4       From: shapiro@oucsace.cs.ohiou.edu (Brian Shap...\n",
       "5       From: sbp002@acad.drake.edu\\nSubject: Re: Torr...\n",
       "6       Organization: Central Michigan University\\nFro...\n",
       "7       From: denning@guvax.acc.georgetown.edu\\nSubjec...\n",
       "8       From: DMCOLES@NUACVM.ACNS.NWU.EDU\\nSubject: Ch...\n",
       "9       From: jtchern@ocf.berkeley.edu (Joseph Hernand...\n",
       "10      From: wellison@kuhub.cc.ukans.edu\\nSubject: Re...\n",
       "11      From: ski@wpi.WPI.EDU (Joseph Mich Krzeszewski...\n",
       "12      From: smb@research.att.com (Steven Bellovin)\\n...\n",
       "13      From: jebright@magnus.acs.ohio-state.edu (Jame...\n",
       "14      From: pw@panix.com (Paul Wallich)\\nSubject: Re...\n",
       "15      From: thf2@kimbark.uchicago.edu (Ted Frank)\\nS...\n",
       "16      From: rscharfy@magnus.acs.ohio-state.edu (Ryan...\n",
       "17      From: jplee@cymbal.calpoly.edu (JASON LEE)\\nSu...\n",
       "18      From: mike@gordian.com (Michael A. Thomas)\\nSu...\n",
       "19      Subject: Re: Pgp, PEM, and RFC's (Was: Cryptog...\n",
       "20      From: pat@rwing.UUCP (Pat Myrto)\\nSubject: Re:...\n",
       "21      From: jsr2@ns1.cc.lehigh.edu (JOHN STEPHEN RAN...\n",
       "22      From: ritley@uimrl7.mrl.uiuc.edu ()\\nSubject: ...\n",
       "23      From: gld@cunixb.cc.columbia.edu (Gary L Dare)...\n",
       "24      From: lynn@granitt.uio.no (Malcolm Lynn)\\nSubj...\n",
       "25      From: harpe@netnews.louisville.edu (Mike Harpe...\n",
       "26      From: walter@psg.com (Walter Morales)\\nSubject...\n",
       "27      From: random@access.digex.com (Random)\\nSubjec...\n",
       "28      From: chin@ee.ualberta.ca (Jing Chin)\\nSubject...\n",
       "29      From: news@magnus.acs.ohio-state.edu\\nSubject:...\n",
       "                              ...                        \n",
       "2803    From: al@qiclab.scn.rain.com (Alan Peterman)\\n...\n",
       "2804    From: tuinstra@signal.ece.clarkson.edu.soe (Dw...\n",
       "2805    From: 2575brooksr@vms.csd.mu.edu\\nSubject: NeX...\n",
       "2806    Subject: *** New Computer Books for Sale ***\\n...\n",
       "2807    From: markz@ssc.com (Mark Zenier)\\nSubject: Re...\n",
       "2808    From: st1rp@rosie.uh.edu (Schwam, David S.)\\nS...\n",
       "2809    From: pla@sktb.demon.co.uk (\"Paul L. Allen\")\\n...\n",
       "2810    From: halle@rebecca.its.rpi.edu (Ezra D.B. Hal...\n",
       "2811    From: mrr@scss3.cl.msu.edu (Mark Riordan)\\nSub...\n",
       "2812    Subject: WIN/DOS Misc. Software\\nFrom: michael...\n",
       "2813    From: kaldis@romulus.rutgers.edu (Theodore A. ...\n",
       "2814    From: gtoal@gtoal.com (Graham Toal)\\nSubject: ...\n",
       "2815    From: tfs@gravity.gmu.edu (Tim Scanlon)\\nSubje...\n",
       "2816    From: dpeterik@iastate.edu (Dan Peterik)\\nSubj...\n",
       "2817    From: cjp1@aber.ac.uk (Christopher John Powell...\n",
       "2818    From: cmk@world.std.com (Charles M Kozierok)\\n...\n",
       "2819    From: Clinton-HQ@Campaign92.Org (Clinton/Gore ...\n",
       "2820    From: Daniel.J.Stern@dartmouth.edu (Daniel J. ...\n",
       "2821    From: pat@wrs.com (Patrick Boylan)\\nSubject: A...\n",
       "2822    From: bodom@silver.ucs.indiana.edu (Brian Odom...\n",
       "2823    From: erics@netcom.com (Eric Smith)\\nSubject: ...\n",
       "2824    From: dzenc@hal.gnu.ai.mit.edu (Dan Zenchelsky...\n",
       "2825    From: admiral@jhunix.hcf.jhu.edu (Steve C Liu)...\n",
       "2826    From: wgs1@Isis.MsState.Edu (Walter G. Seefeld...\n",
       "2827    From: kadie@cs.uiuc.edu (Carl M Kadie)\\nSubjec...\n",
       "2828    From: ptrei@bistromath.mitre.org (Peter Trei)\\...\n",
       "2829    From: dtmedin@catbyte.b30.ingr.com (Dave Medin...\n",
       "2830    From: gld@cunixb.cc.columbia.edu (Gary L Dare)...\n",
       "2831    From: cramer@optilink.COM (Clayton Cramer)\\nSu...\n",
       "2832    From: f92anha@fy.chalmers.se (Anders Hammarqui...\n",
       "Name: Text, dtype: object"
      ]
     },
     "execution_count": 143,
     "metadata": {},
     "output_type": "execute_result"
    }
   ],
   "source": [
    "col.fit_transform(df)"
   ]
  },
  {
   "cell_type": "code",
   "execution_count": 264,
   "metadata": {
    "collapsed": false
   },
   "outputs": [],
   "source": [
    "pipeline = Pipeline([\n",
    "    ('selector', ColSelector(key='Text')),\n",
    "    ('cv', CountVectorizer()),\n",
    "    ('tfidf', TfidfTransformer()),\n",
    "    ('sgd', SGDClassifier())\n",
    "    ])\n",
    "\n",
    "params = {\n",
    "    'selector__key':['Text', 'snowball_text', 'porter_text', 'lancaster_text'],\n",
    "    'cv__stop_words':[None, 'english'],\n",
    "    'cv__ngram_range':[(1,1), (1,2), (1,3)],\n",
    "    #'cv__min_df':[2, 4, 8, 9, 10],\n",
    "    #'cv__max_df':[.3, .4, .5, .6, .7, .8, .9, 1],\n",
    "    'tfidf__use_idf':[True],\n",
    "    'tfidf__norm':['l1', 'l2'],\n",
    "    'sgd__alpha':np.logspace(-6, 2, 10),\n",
    "    'sgd__epsilon':np.logspace(-6, 2, 10)\n",
    "}"
   ]
  },
  {
   "cell_type": "code",
   "execution_count": 146,
   "metadata": {
    "collapsed": false
   },
   "outputs": [
    {
     "name": "stdout",
     "output_type": "stream",
     "text": [
      "Fitting 5 folds for each of 50 candidates, totalling 250 fits\n"
     ]
    },
    {
     "name": "stderr",
     "output_type": "stream",
     "text": [
      "[Parallel(n_jobs=-1)]: Done  34 tasks      | elapsed:   39.9s\n",
      "[Parallel(n_jobs=-1)]: Done 184 tasks      | elapsed:  3.1min\n",
      "[Parallel(n_jobs=-1)]: Done 250 out of 250 | elapsed:  4.5min finished\n"
     ]
    },
    {
     "data": {
      "text/plain": [
       "RandomizedSearchCV(cv=5, error_score='raise',\n",
       "          estimator=Pipeline(steps=[('selector', ColSelector(key='Text')), ('cv', CountVectorizer(analyzer='word', binary=False, decode_error='strict',\n",
       "        dtype=<class 'numpy.int64'>, encoding='utf-8', input='content',\n",
       "        lowercase=True, max_df=1.0, max_features=None, min_df=1,\n",
       "        ngram_range=(1, 1), preprocessor...   penalty='l2', power_t=0.5, random_state=None, shuffle=True,\n",
       "       verbose=0, warm_start=False))]),\n",
       "          fit_params={}, iid=True, n_iter=50, n_jobs=-1,\n",
       "          param_distributions={'tfidf__use_idf': [True], 'cv__stop_words': [None, 'english'], 'sgd__epsilon': array([  1.00000e-06,   7.74264e-06,   5.99484e-05,   4.64159e-04,\n",
       "         3.59381e-03,   2.78256e-02,   2.15443e-01,   1.66810e+00,\n",
       "         1.29155e+01,   1.00000e+02]), 'tfidf__norm': ['l1', 'l2']...5e+01,   1.00000e+02]), 'selector__key': ['Text', 'snowball_text', 'porter_text', 'lancaster_text']},\n",
       "          pre_dispatch='2*n_jobs', random_state=None, refit=True,\n",
       "          return_train_score=True, scoring=None, verbose=True)"
      ]
     },
     "execution_count": 146,
     "metadata": {},
     "output_type": "execute_result"
    }
   ],
   "source": [
    "X_train2, X_test2, y_train2, y_test2 = train_test_split(df, train.target, test_size=.2, random_state=0)\n",
    "n_iter = 50\n",
    "t0 = time()\n",
    "\n",
    "stemming_grid = RandomizedSearchCV(pipeline, params, cv=5, n_iter=n_iter, n_jobs=-1, verbose=True)\n",
    "stemming_grid.fit(X_train2, y_train2)"
   ]
  },
  {
   "cell_type": "code",
   "execution_count": 258,
   "metadata": {
    "collapsed": false
   },
   "outputs": [
    {
     "name": "stdout",
     "output_type": "stream",
     "text": [
      "Best CV Score: 0.96\n",
      "Best parameters: {'sgd__epsilon': 0.02782559402207126, 'cv__stop_words': 'english', 'tfidf__norm': 'l2', 'cv__ngram_range': (1, 1), 'tfidf__use_idf': True, 'sgd__alpha': 0.00046415888336127773, 'selector__key': 'snowball_text'}\n",
      "Classification report for test sample held out: \n",
      "             precision    recall  f1-score   support\n",
      "\n",
      "          0       0.96      0.94      0.95       114\n",
      "          1       1.00      0.98      0.99       132\n",
      "          2       0.97      0.98      0.98       117\n",
      "          3       0.93      0.97      0.95       116\n",
      "          4       0.98      0.95      0.97        88\n",
      "\n",
      "avg / total       0.97      0.97      0.97       567\n",
      "\n",
      "Confusion Matrix for test: \n",
      "[[107   0   0   7   0]\n",
      " [  1 129   1   1   0]\n",
      " [  0   0 115   1   1]\n",
      " [  2   0   0 113   1]\n",
      " [  2   0   2   0  84]]\n",
      "Ran 50 iterations in 9206.689100980759 seconds\n"
     ]
    }
   ],
   "source": [
    "print(\"Best CV Score: {:.2f}\".format(stemming_grid.best_score_))\n",
    "print(\"Best parameters: {}\".format(stemming_grid.best_params_))\n",
    "y_pred = stemming_grid.predict(X_test2)\n",
    "print(\"Classification report for test sample held out: \\n{}\".format(classification_report(y_test2, y_pred)))\n",
    "print(\"Confusion Matrix for test: \\n{}\".format(confusion_matrix(y_test2, y_pred)))\n",
    "print('Ran {} iterations in {} seconds'.format(n_iter, time()-t0))"
   ]
  },
  {
   "cell_type": "code",
   "execution_count": 259,
   "metadata": {
    "collapsed": false
   },
   "outputs": [],
   "source": [
    "results = pd.DataFrame(stemming_grid.cv_results_)"
   ]
  },
  {
   "cell_type": "code",
   "execution_count": 260,
   "metadata": {
    "collapsed": false
   },
   "outputs": [
    {
     "data": {
      "text/html": [
       "<div>\n",
       "<table border=\"1\" class=\"dataframe\">\n",
       "  <thead>\n",
       "    <tr style=\"text-align: right;\">\n",
       "      <th></th>\n",
       "      <th>mean_fit_time</th>\n",
       "      <th>mean_score_time</th>\n",
       "      <th>mean_test_score</th>\n",
       "      <th>mean_train_score</th>\n",
       "      <th>param_cv__ngram_range</th>\n",
       "      <th>param_cv__stop_words</th>\n",
       "      <th>param_selector__key</th>\n",
       "      <th>param_sgd__alpha</th>\n",
       "      <th>param_sgd__epsilon</th>\n",
       "      <th>param_tfidf__norm</th>\n",
       "      <th>...</th>\n",
       "      <th>split2_test_score</th>\n",
       "      <th>split2_train_score</th>\n",
       "      <th>split3_test_score</th>\n",
       "      <th>split3_train_score</th>\n",
       "      <th>split4_test_score</th>\n",
       "      <th>split4_train_score</th>\n",
       "      <th>std_fit_time</th>\n",
       "      <th>std_score_time</th>\n",
       "      <th>std_test_score</th>\n",
       "      <th>std_train_score</th>\n",
       "    </tr>\n",
       "  </thead>\n",
       "  <tbody>\n",
       "    <tr>\n",
       "      <th>0</th>\n",
       "      <td>6.651345</td>\n",
       "      <td>0.613678</td>\n",
       "      <td>0.941306</td>\n",
       "      <td>0.994594</td>\n",
       "      <td>(1, 3)</td>\n",
       "      <td>english</td>\n",
       "      <td>porter_text</td>\n",
       "      <td>7.74264e-06</td>\n",
       "      <td>7.74264e-06</td>\n",
       "      <td>l1</td>\n",
       "      <td>...</td>\n",
       "      <td>0.940397</td>\n",
       "      <td>0.997794</td>\n",
       "      <td>0.953540</td>\n",
       "      <td>0.996692</td>\n",
       "      <td>0.938053</td>\n",
       "      <td>0.989526</td>\n",
       "      <td>0.348904</td>\n",
       "      <td>0.040609</td>\n",
       "      <td>0.007144</td>\n",
       "      <td>0.003027</td>\n",
       "    </tr>\n",
       "    <tr>\n",
       "      <th>1</th>\n",
       "      <td>3.676167</td>\n",
       "      <td>0.463959</td>\n",
       "      <td>0.951898</td>\n",
       "      <td>0.996248</td>\n",
       "      <td>(1, 2)</td>\n",
       "      <td>english</td>\n",
       "      <td>lancaster_text</td>\n",
       "      <td>0.0278256</td>\n",
       "      <td>0.0278256</td>\n",
       "      <td>l2</td>\n",
       "      <td>...</td>\n",
       "      <td>0.949227</td>\n",
       "      <td>0.996691</td>\n",
       "      <td>0.955752</td>\n",
       "      <td>0.997795</td>\n",
       "      <td>0.949115</td>\n",
       "      <td>0.996692</td>\n",
       "      <td>0.309174</td>\n",
       "      <td>0.040583</td>\n",
       "      <td>0.004254</td>\n",
       "      <td>0.001072</td>\n",
       "    </tr>\n",
       "    <tr>\n",
       "      <th>2</th>\n",
       "      <td>1.090238</td>\n",
       "      <td>0.212427</td>\n",
       "      <td>0.201236</td>\n",
       "      <td>0.200801</td>\n",
       "      <td>(1, 1)</td>\n",
       "      <td>english</td>\n",
       "      <td>Text</td>\n",
       "      <td>1.6681</td>\n",
       "      <td>12.9155</td>\n",
       "      <td>l1</td>\n",
       "      <td>...</td>\n",
       "      <td>0.211921</td>\n",
       "      <td>0.210700</td>\n",
       "      <td>0.205752</td>\n",
       "      <td>0.205072</td>\n",
       "      <td>0.165929</td>\n",
       "      <td>0.166483</td>\n",
       "      <td>0.037155</td>\n",
       "      <td>0.019332</td>\n",
       "      <td>0.017764</td>\n",
       "      <td>0.017303</td>\n",
       "    </tr>\n",
       "    <tr>\n",
       "      <th>3</th>\n",
       "      <td>5.654618</td>\n",
       "      <td>0.728192</td>\n",
       "      <td>0.209620</td>\n",
       "      <td>0.209069</td>\n",
       "      <td>(1, 2)</td>\n",
       "      <td>None</td>\n",
       "      <td>snowball_text</td>\n",
       "      <td>12.9155</td>\n",
       "      <td>12.9155</td>\n",
       "      <td>l1</td>\n",
       "      <td>...</td>\n",
       "      <td>0.211921</td>\n",
       "      <td>0.210700</td>\n",
       "      <td>0.205752</td>\n",
       "      <td>0.205072</td>\n",
       "      <td>0.210177</td>\n",
       "      <td>0.211136</td>\n",
       "      <td>1.028285</td>\n",
       "      <td>0.126532</td>\n",
       "      <td>0.002217</td>\n",
       "      <td>0.002369</td>\n",
       "    </tr>\n",
       "    <tr>\n",
       "      <th>4</th>\n",
       "      <td>0.932118</td>\n",
       "      <td>0.193325</td>\n",
       "      <td>0.937335</td>\n",
       "      <td>0.982458</td>\n",
       "      <td>(1, 1)</td>\n",
       "      <td>english</td>\n",
       "      <td>lancaster_text</td>\n",
       "      <td>0.0278256</td>\n",
       "      <td>1.6681</td>\n",
       "      <td>l2</td>\n",
       "      <td>...</td>\n",
       "      <td>0.933775</td>\n",
       "      <td>0.984556</td>\n",
       "      <td>0.929204</td>\n",
       "      <td>0.980706</td>\n",
       "      <td>0.942478</td>\n",
       "      <td>0.985667</td>\n",
       "      <td>0.038982</td>\n",
       "      <td>0.013961</td>\n",
       "      <td>0.006511</td>\n",
       "      <td>0.002803</td>\n",
       "    </tr>\n",
       "  </tbody>\n",
       "</table>\n",
       "<p>5 rows × 27 columns</p>\n",
       "</div>"
      ],
      "text/plain": [
       "   mean_fit_time  mean_score_time  mean_test_score  mean_train_score  \\\n",
       "0       6.651345         0.613678         0.941306          0.994594   \n",
       "1       3.676167         0.463959         0.951898          0.996248   \n",
       "2       1.090238         0.212427         0.201236          0.200801   \n",
       "3       5.654618         0.728192         0.209620          0.209069   \n",
       "4       0.932118         0.193325         0.937335          0.982458   \n",
       "\n",
       "  param_cv__ngram_range param_cv__stop_words param_selector__key  \\\n",
       "0                (1, 3)              english         porter_text   \n",
       "1                (1, 2)              english      lancaster_text   \n",
       "2                (1, 1)              english                Text   \n",
       "3                (1, 2)                 None       snowball_text   \n",
       "4                (1, 1)              english      lancaster_text   \n",
       "\n",
       "  param_sgd__alpha param_sgd__epsilon param_tfidf__norm       ...         \\\n",
       "0      7.74264e-06        7.74264e-06                l1       ...          \n",
       "1        0.0278256          0.0278256                l2       ...          \n",
       "2           1.6681            12.9155                l1       ...          \n",
       "3          12.9155            12.9155                l1       ...          \n",
       "4        0.0278256             1.6681                l2       ...          \n",
       "\n",
       "  split2_test_score split2_train_score  split3_test_score  split3_train_score  \\\n",
       "0          0.940397           0.997794           0.953540            0.996692   \n",
       "1          0.949227           0.996691           0.955752            0.997795   \n",
       "2          0.211921           0.210700           0.205752            0.205072   \n",
       "3          0.211921           0.210700           0.205752            0.205072   \n",
       "4          0.933775           0.984556           0.929204            0.980706   \n",
       "\n",
       "   split4_test_score  split4_train_score  std_fit_time  std_score_time  \\\n",
       "0           0.938053            0.989526      0.348904        0.040609   \n",
       "1           0.949115            0.996692      0.309174        0.040583   \n",
       "2           0.165929            0.166483      0.037155        0.019332   \n",
       "3           0.210177            0.211136      1.028285        0.126532   \n",
       "4           0.942478            0.985667      0.038982        0.013961   \n",
       "\n",
       "   std_test_score  std_train_score  \n",
       "0        0.007144         0.003027  \n",
       "1        0.004254         0.001072  \n",
       "2        0.017764         0.017303  \n",
       "3        0.002217         0.002369  \n",
       "4        0.006511         0.002803  \n",
       "\n",
       "[5 rows x 27 columns]"
      ]
     },
     "execution_count": 260,
     "metadata": {},
     "output_type": "execute_result"
    }
   ],
   "source": [
    "results.head()"
   ]
  },
  {
   "cell_type": "code",
   "execution_count": 261,
   "metadata": {
    "collapsed": false
   },
   "outputs": [
    {
     "data": {
      "text/plain": [
       "param_selector__key\n",
       "Text              0.705884\n",
       "lancaster_text    0.678082\n",
       "porter_text       0.598166\n",
       "snowball_text     0.552877\n",
       "Name: mean_test_score, dtype: float64"
      ]
     },
     "execution_count": 261,
     "metadata": {},
     "output_type": "execute_result"
    }
   ],
   "source": [
    "results.groupby(by='param_selector__key')['mean_test_score'].mean()"
   ]
  },
  {
   "cell_type": "code",
   "execution_count": 262,
   "metadata": {
    "collapsed": false
   },
   "outputs": [],
   "source": [
    "results = results.fillna('None')"
   ]
  },
  {
   "cell_type": "code",
   "execution_count": 263,
   "metadata": {
    "collapsed": false
   },
   "outputs": [
    {
     "name": "stdout",
     "output_type": "stream",
     "text": [
      "param_cv__ngram_range\n",
      "(1, 1)    0.723233\n",
      "(1, 2)    0.613950\n",
      "(1, 3)    0.619864\n",
      "Name: mean_test_score, dtype: float64\n"
     ]
    }
   ],
   "source": [
    "param_cols = [col for col in results.columns if col.startswith('param_')]\n",
    "@interact\n",
    "def compare_parameter(col=param_cols):\n",
    "    print(results.groupby(by=col)['mean_test_score'].mean())"
   ]
  },
  {
   "cell_type": "markdown",
   "metadata": {
    "collapsed": true
   },
   "source": [
    "__EXERCISE__\n",
    "\n",
    "  * 1) Write a text classification pipeline to classify yelp reviews between 1-5 stars.\n",
    "  * 2) Find a good set of parameters using grid search.\n",
    "  * 3) Evaluate the performance on a held out test set.\n",
    "  \n",
    "  __Extra:__ Find a new sklearn classifier and build a pipeline with its parameters"
   ]
  },
  {
   "cell_type": "code",
   "execution_count": 150,
   "metadata": {
    "collapsed": false
   },
   "outputs": [],
   "source": [
    "df = pd.read_csv('./data/yelp.csv')"
   ]
  },
  {
   "cell_type": "code",
   "execution_count": null,
   "metadata": {
    "collapsed": false
   },
   "outputs": [],
   "source": []
  },
  {
   "cell_type": "code",
   "execution_count": null,
   "metadata": {
    "collapsed": true
   },
   "outputs": [],
   "source": []
  }
 ],
 "metadata": {
  "anaconda-cloud": {},
  "kernelspec": {
   "display_name": "Python [default]",
   "language": "python",
   "name": "python3"
  },
  "language_info": {
   "codemirror_mode": {
    "name": "ipython",
    "version": 3
   },
   "file_extension": ".py",
   "mimetype": "text/x-python",
   "name": "python",
   "nbconvert_exporter": "python",
   "pygments_lexer": "ipython3",
   "version": "3.5.2"
  },
  "widgets": {
   "state": {
    "0c8528fed51f453f9b193fb9ddd1f43e": {
     "views": [
      {
       "cell_index": 156
      }
     ]
    },
    "3c832e8c709d48c79e8a36f67547b77b": {
     "views": [
      {
       "cell_index": 161
      }
     ]
    },
    "4c8d85117b0c4c16962c59045ae5c243": {
     "views": [
      {
       "cell_index": 206
      }
     ]
    },
    "58d22507a5e5431c97f092fcfaf8e21b": {
     "views": [
      {
       "cell_index": 134
      }
     ]
    },
    "9af8de49bdca40f1848f8d142493f1fb": {
     "views": [
      {
       "cell_index": 154
      }
     ]
    },
    "e349bbe052a8439bac32782e783ba83b": {
     "views": [
      {
       "cell_index": 257
      }
     ]
    },
    "feaf0741838246f9a7f9de466159aa1a": {
     "views": [
      {
       "cell_index": 136
      }
     ]
    }
   },
   "version": "1.2.0"
  }
 },
 "nbformat": 4,
 "nbformat_minor": 1
}

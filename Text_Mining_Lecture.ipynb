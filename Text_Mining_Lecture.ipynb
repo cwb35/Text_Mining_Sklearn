{
 "cells": [
  {
   "cell_type": "markdown",
   "metadata": {},
   "source": [
    "# Text Mining with Sklearn\n",
    "\n",
    "\n",
    "\n",
    "__Author:__ Colin Cambo\n",
    "\n",
    "__Date:__ 4/10/2017\n",
    "\n",
    "__About:__ This notebook is a lecture on text mining with sklearn that will be given to the UNH Analytics 2016-2017 cohort.\n",
    "\n",
    "__Contents:__\n",
    "\n",
    "  * [0 Introduction 20 newsgroups Dataset](#0)\n",
    "    * [0.1 Loading Data](#0.1)\n",
    "    * [0.2 Simple Exploration](#0.2)\n",
    "  * [1 Text Mining Basics](#1)\n",
    "    * [1.1 CountVectorizer](#1.1)\n",
    "        * [1.1.1 Description](#1.1.1)\n",
    "        * [1.1.2 Example](#1.1.2)\n",
    "        * [1.1.3 Parameters](#1.1.3)\n",
    "          * [1.1.3.1 min_df](#1.1.3.1)\n",
    "          * [1.1.3.2 max_df](#1.1.3.2)\n",
    "          * [1.1.3.3 ngram_range](#1.1.3.3)\n",
    "          * [1.1.3.4 max_features](#1.1.3.4)\n",
    "    * [1.2 TfidfTransformer](#1.2)\n",
    "      * [1.2.1 Description](#1.2.1)\n",
    "      * [1.2.2 Example](#1.2.2)\n",
    "      * [1.2.3 Parameters](#1.2.3)\n",
    "          * [1.2.3.1 norm](#1.2.3.1)\n",
    "          * [1.2.3.2 use_idf](#1.2.3.2)\n",
    "  * [2 Modeling](#2)\n",
    "    * [2.1 Multinomial Naive Bayes](#2.1)\n",
    "      * [2.1.1 Description](#2.1.1)\n",
    "      * [2.1.2 Example](#2.1.2)\n",
    "      * [2.1.3 Parameters](#2.1.3)\n",
    "        * [2.1.3.1 alpha](#2.1.3.1)\n",
    "    * [2.2 Stochastic Gradient Descent](#2.2)\n",
    "      * [2.2.1 Description](#2.2.1)\n",
    "      * [2.2.2 Example](#2.2.2)\n",
    "      * [2.2.3 Parameters](#2.2.3)\n",
    "        * [2.2.3.1 alpha](#2.2.3.1)\n",
    "        * [2.2.3.2 epsilon](#2.2.3.2)\n",
    "  * [3 Tuning Models](#3)\n",
    "    * [3.1 Pipelines](#3.1)\n",
    "      * [3.1.1 Description](#3.1.1)\n",
    "      * [3.1.2 Example](#3.1.2)\n",
    "    * [3.2 Parameter Seach](#3.2)\n",
    "      * [3.2.1 GridSearchCV](#3.2.1)\n",
    "        * [3.2.1.1 Description](#3.2.1)\n",
    "        * [3.2.1.2 Example](#3.2.2)\n",
    "        * [3.2.1.3 Parameters](#3.2.3)\n",
    "      * [3.2.1 RandomizedSearchCV](#3.2.1)\n",
    "        * [3.2.1.1 Description](#3.2.1)\n",
    "        * [3.2.1.2 Example](#3.2.2)\n",
    "        * [3.2.1.3 Parameters](#3.2.3)\n",
    "  * [4 Increasing Performance](#4)\n",
    "    * [4.1 Stemming](#4.1)\n",
    "      * [4.1.1 Description](#4.1.1)\n",
    "      * [4.1.2 Example](#4.1.2)\n",
    "      * [4.1.3 Types](#4.1.3)\n",
    "        * [2.2.3.1 Porter](#4.1.3.1)\n",
    "        * [2.2.3.1 Lancaster](#4.1.3.2)\n",
    "        * [4.1.3.3 Snowball](#4.1.3.3)\n",
    "    * [4.2 Custom Transformers](#4.2)\n",
    "      * [4.2.1 ColSelector](#4.2.1)\n",
    "        \n",
    "__Requirements__\n",
    "\n",
    "Run the cell below to pip install all dependencies"
   ]
  },
  {
   "cell_type": "code",
   "execution_count": null,
   "metadata": {
    "collapsed": true
   },
   "outputs": [],
   "source": [
    "#!pip install -r requirements.txt"
   ]
  },
  {
   "cell_type": "code",
   "execution_count": 322,
   "metadata": {
    "collapsed": false
   },
   "outputs": [],
   "source": [
    "from sklearn.feature_extraction.text import CountVectorizer, TfidfTransformer\n",
    "from sklearn.pipeline import make_pipeline\n",
    "from sklearn.metrics import f1_score, accuracy_score, log_loss\n",
    "from sklearn.pipeline import Pipeline\n",
    "from sklearn.naive_bayes import MultinomialNB\n",
    "from sklearn.model_selection import train_test_split, GridSearchCV, RandomizedSearchCV\n",
    "from sklearn.metrics import classification_report, confusion_matrix\n",
    "from sklearn.linear_model import SGDClassifier\n",
    "from ipywidgets import interact\n",
    "from time import time\n",
    "\n",
    "import pandas as pd\n",
    "import seaborn as sns\n",
    "import matplotlib.pyplot as plt\n",
    "import numpy as np\n",
    "\n",
    "%matplotlib inline"
   ]
  },
  {
   "cell_type": "markdown",
   "metadata": {},
   "source": [
    "<a id='0'></a>\n",
    "# 0 Introduction 20 Newsgroups Dataset\n",
    "\n",
    "The 20 newsgroups dataset comprises around 18000 newsgroups posts on 20 topics split in two subsets: one for training (or development) and the other one for testing (or for performance evaluation). The split between the train and test set is based upon a messages posted before and after a specific date.\n",
    "\n",
    "For more information about the data: http://qwone.com/~jason/20Newsgroups/"
   ]
  },
  {
   "cell_type": "markdown",
   "metadata": {},
   "source": [
    "<a id='0.1'></a>\n",
    "## 0.1 Loading Data\n",
    "\n",
    "We will use sklearn to load the data, so we will import the function fetch_20newsgroups from sklearn.datasets"
   ]
  },
  {
   "cell_type": "code",
   "execution_count": 2,
   "metadata": {
    "collapsed": true
   },
   "outputs": [],
   "source": [
    "from sklearn.datasets import fetch_20newsgroups"
   ]
  },
  {
   "cell_type": "markdown",
   "metadata": {},
   "source": [
    "The default parameters will return the entire dataset as a python object. Below we will set data equal to the dataset"
   ]
  },
  {
   "cell_type": "code",
   "execution_count": 3,
   "metadata": {
    "collapsed": true
   },
   "outputs": [],
   "source": [
    "data = fetch_20newsgroups()"
   ]
  },
  {
   "cell_type": "markdown",
   "metadata": {},
   "source": [
    "Target names are stored in data.target_names, below are all of the target names currently in our dataset. "
   ]
  },
  {
   "cell_type": "code",
   "execution_count": 4,
   "metadata": {
    "collapsed": false
   },
   "outputs": [
    {
     "data": {
      "text/plain": [
       "['alt.atheism',\n",
       " 'comp.graphics',\n",
       " 'comp.os.ms-windows.misc',\n",
       " 'comp.sys.ibm.pc.hardware',\n",
       " 'comp.sys.mac.hardware',\n",
       " 'comp.windows.x',\n",
       " 'misc.forsale',\n",
       " 'rec.autos',\n",
       " 'rec.motorcycles',\n",
       " 'rec.sport.baseball',\n",
       " 'rec.sport.hockey',\n",
       " 'sci.crypt',\n",
       " 'sci.electronics',\n",
       " 'sci.med',\n",
       " 'sci.space',\n",
       " 'soc.religion.christian',\n",
       " 'talk.politics.guns',\n",
       " 'talk.politics.mideast',\n",
       " 'talk.politics.misc',\n",
       " 'talk.religion.misc']"
      ]
     },
     "execution_count": 4,
     "metadata": {},
     "output_type": "execute_result"
    }
   ],
   "source": [
    "data.target_names"
   ]
  },
  {
   "cell_type": "markdown",
   "metadata": {},
   "source": [
    "Using Counter we can see just how many observations belong to each of our classes"
   ]
  },
  {
   "cell_type": "code",
   "execution_count": 5,
   "metadata": {
    "collapsed": true
   },
   "outputs": [],
   "source": [
    "from collections import Counter"
   ]
  },
  {
   "cell_type": "code",
   "execution_count": 6,
   "metadata": {
    "collapsed": false
   },
   "outputs": [
    {
     "data": {
      "text/plain": [
       "Counter({0: 480,\n",
       "         1: 584,\n",
       "         2: 591,\n",
       "         3: 590,\n",
       "         4: 578,\n",
       "         5: 593,\n",
       "         6: 585,\n",
       "         7: 594,\n",
       "         8: 598,\n",
       "         9: 597,\n",
       "         10: 600,\n",
       "         11: 595,\n",
       "         12: 591,\n",
       "         13: 594,\n",
       "         14: 593,\n",
       "         15: 599,\n",
       "         16: 546,\n",
       "         17: 564,\n",
       "         18: 465,\n",
       "         19: 377})"
      ]
     },
     "execution_count": 6,
     "metadata": {},
     "output_type": "execute_result"
    }
   ],
   "source": [
    "Counter(data.target)"
   ]
  },
  {
   "cell_type": "markdown",
   "metadata": {},
   "source": [
    "Overall the dataset is pretty balanced between the classes, which makes classification easier for us, but there are still too many observations for us to effectively model in a short period, so we will subset the dataset by taking only 5 classes.\n",
    "\n",
    "To subset the dataset by classes you just have to pass a list of the classes you're interested in to the fetch_20newsgroups function's categories variable. We will also subset our dataset to just get the train set."
   ]
  },
  {
   "cell_type": "code",
   "execution_count": 7,
   "metadata": {
    "collapsed": true
   },
   "outputs": [],
   "source": [
    "cat = ['rec.sport.baseball', 'sci.electronics', 'talk.politics.misc', 'sci.crypt', 'misc.forsale']"
   ]
  },
  {
   "cell_type": "code",
   "execution_count": 8,
   "metadata": {
    "collapsed": true
   },
   "outputs": [],
   "source": [
    "train = fetch_20newsgroups(subset='train', categories=cat, shuffle=True, random_state=42)"
   ]
  },
  {
   "cell_type": "markdown",
   "metadata": {},
   "source": [
    "<a id='0.2'></a>\n",
    "## 0.2 Simple Data Exploration\n",
    "\n",
    "This lecture is for text mining so our data exploration will be minimal"
   ]
  },
  {
   "cell_type": "code",
   "execution_count": 9,
   "metadata": {
    "collapsed": false
   },
   "outputs": [
    {
     "data": {
      "text/plain": [
       "2833"
      ]
     },
     "execution_count": 9,
     "metadata": {},
     "output_type": "execute_result"
    }
   ],
   "source": [
    "len(train.data)"
   ]
  },
  {
   "cell_type": "code",
   "execution_count": 10,
   "metadata": {
    "collapsed": false
   },
   "outputs": [
    {
     "data": {
      "text/plain": [
       "2833"
      ]
     },
     "execution_count": 10,
     "metadata": {},
     "output_type": "execute_result"
    }
   ],
   "source": [
    "len(train.target)"
   ]
  },
  {
   "cell_type": "code",
   "execution_count": 11,
   "metadata": {
    "collapsed": false
   },
   "outputs": [
    {
     "data": {
      "text/plain": [
       "['misc.forsale',\n",
       " 'rec.sport.baseball',\n",
       " 'sci.crypt',\n",
       " 'sci.electronics',\n",
       " 'talk.politics.misc']"
      ]
     },
     "execution_count": 11,
     "metadata": {},
     "output_type": "execute_result"
    }
   ],
   "source": [
    "train.target_names"
   ]
  },
  {
   "cell_type": "code",
   "execution_count": 12,
   "metadata": {
    "collapsed": false
   },
   "outputs": [
    {
     "data": {
      "text/plain": [
       "Counter({0: 585, 1: 597, 2: 595, 3: 591, 4: 465})"
      ]
     },
     "execution_count": 12,
     "metadata": {},
     "output_type": "execute_result"
    }
   ],
   "source": [
    "Counter(train.target)"
   ]
  },
  {
   "cell_type": "code",
   "execution_count": 13,
   "metadata": {
    "collapsed": false
   },
   "outputs": [],
   "source": [
    "df = pd.DataFrame({'Text':train.data, 'Target':train.target})"
   ]
  },
  {
   "cell_type": "code",
   "execution_count": 14,
   "metadata": {
    "collapsed": false
   },
   "outputs": [
    {
     "data": {
      "text/html": [
       "<div>\n",
       "<table border=\"1\" class=\"dataframe\">\n",
       "  <thead>\n",
       "    <tr style=\"text-align: right;\">\n",
       "      <th></th>\n",
       "      <th>Target</th>\n",
       "      <th>Text</th>\n",
       "    </tr>\n",
       "  </thead>\n",
       "  <tbody>\n",
       "    <tr>\n",
       "      <th>0</th>\n",
       "      <td>0</td>\n",
       "      <td>From: jay@gdx.UUCP (Jay Snyder)\\nSubject: WANT...</td>\n",
       "    </tr>\n",
       "    <tr>\n",
       "      <th>1</th>\n",
       "      <td>4</td>\n",
       "      <td>From: VEAL@utkvm1.utk.edu (David Veal)\\nSubjec...</td>\n",
       "    </tr>\n",
       "    <tr>\n",
       "      <th>2</th>\n",
       "      <td>1</td>\n",
       "      <td>From: rickert@NeXTwork.Rose-Hulman.Edu (John H...</td>\n",
       "    </tr>\n",
       "    <tr>\n",
       "      <th>3</th>\n",
       "      <td>0</td>\n",
       "      <td>From: rosen@kranz.enet.dec.com (Jim Rosenkranz...</td>\n",
       "    </tr>\n",
       "    <tr>\n",
       "      <th>4</th>\n",
       "      <td>0</td>\n",
       "      <td>From: shapiro@oucsace.cs.ohiou.edu (Brian Shap...</td>\n",
       "    </tr>\n",
       "  </tbody>\n",
       "</table>\n",
       "</div>"
      ],
      "text/plain": [
       "   Target                                               Text\n",
       "0       0  From: jay@gdx.UUCP (Jay Snyder)\\nSubject: WANT...\n",
       "1       4  From: VEAL@utkvm1.utk.edu (David Veal)\\nSubjec...\n",
       "2       1  From: rickert@NeXTwork.Rose-Hulman.Edu (John H...\n",
       "3       0  From: rosen@kranz.enet.dec.com (Jim Rosenkranz...\n",
       "4       0  From: shapiro@oucsace.cs.ohiou.edu (Brian Shap..."
      ]
     },
     "execution_count": 14,
     "metadata": {},
     "output_type": "execute_result"
    }
   ],
   "source": [
    "df.head()"
   ]
  },
  {
   "cell_type": "code",
   "execution_count": 15,
   "metadata": {
    "collapsed": false
   },
   "outputs": [
    {
     "name": "stdout",
     "output_type": "stream",
     "text": [
      "From: jay@gdx.UUCP (Jay Snyder)\n",
      "Subject: WANTED: avionics equip.\n",
      "Organization: GDX-BBS,Central Pa Unix BBS/anon uucp (717)737-3249 PEP+/2400/1200 24hrs\n",
      "Lines: 21\n",
      "\n",
      "\n",
      "I'm looking for good deals on the following (used or new):\n",
      "Aviation Headsets (with mic).\n",
      "Handheld Nav/Com tranciever (may consider COM only).\n",
      "Portable GPS or Loran Navigator.\n",
      "\n",
      "Reply here or call:\n",
      "(717)737-3236 (only after 5pm -- please don't wake the night worker\n",
      "   in my house).\n",
      "(717)540-2895 if you must call during the day (I can understand if you\n",
      "   want your employer to pay for the call).\n",
      "\n",
      "_______________________________________________________________________________\n",
      "Jay A. Snyder               jay@gdx         ...{uunet,vogon1}!compnect!gdx!jay\n",
      "This is your Brain: (unix)              GDX-BBS (717) 737-3249 WorldBlazer\n",
      "This is your Brain on drugs: (MSDOS)    Unix and MSDOS File areas + Xenix bins\n",
      "-- \n",
      "_______________________________________________________________________________\n",
      "Jay A. Snyder               jay@gdx         ...{uunet,vogon1}!compnect!gdx!jay\n",
      "This is your Brain: (unix)              GDX-BBS (717) 737-3249 WorldBlazer\n",
      "This is your Brain on drugs: (MSDOS)    Unix and MSDOS File areas + Xenix bins\n",
      "\n"
     ]
    }
   ],
   "source": [
    "print(df.iloc[0]['Text'])"
   ]
  },
  {
   "cell_type": "markdown",
   "metadata": {},
   "source": [
    "This isn't your usual text data, so we will see if this still follows Zipf's law"
   ]
  },
  {
   "cell_type": "code",
   "execution_count": 181,
   "metadata": {
    "collapsed": false
   },
   "outputs": [],
   "source": [
    "from functools import reduce\n",
    "import re\n",
    "token_regex = re.compile('(?u)\\\\b\\\\w\\\\w+\\\\b')\n",
    "\n",
    "#Here we're just combining all tokens into one massive string\n",
    "all_msgs = reduce((lambda x, y: x + y), map(lambda x: token_regex.findall(x.lower()), df['Text'].tolist()))"
   ]
  },
  {
   "cell_type": "code",
   "execution_count": 182,
   "metadata": {
    "collapsed": true
   },
   "outputs": [],
   "source": [
    "count = Counter(all_msgs)"
   ]
  },
  {
   "cell_type": "code",
   "execution_count": 183,
   "metadata": {
    "collapsed": true
   },
   "outputs": [],
   "source": [
    "#Sorting counts\n",
    "word_counts = sorted(list(count.items()), key=lambda x:x[1], reverse=True)"
   ]
  },
  {
   "cell_type": "code",
   "execution_count": 184,
   "metadata": {
    "collapsed": false
   },
   "outputs": [
    {
     "data": {
      "text/plain": [
       "[('the', 35118),\n",
       " ('to', 18795),\n",
       " ('of', 15683),\n",
       " ('and', 13647),\n",
       " ('in', 11243),\n",
       " ('is', 10122),\n",
       " ('that', 9305),\n",
       " ('it', 7648),\n",
       " ('for', 7607),\n",
       " ('you', 6014)]"
      ]
     },
     "execution_count": 184,
     "metadata": {},
     "output_type": "execute_result"
    }
   ],
   "source": [
    "#Displaying first 10\n",
    "word_counts[:10]"
   ]
  },
  {
   "cell_type": "code",
   "execution_count": 185,
   "metadata": {
    "collapsed": false
   },
   "outputs": [
    {
     "data": {
      "text/plain": [
       "<matplotlib.text.Text at 0x194d5160>"
      ]
     },
     "execution_count": 185,
     "metadata": {},
     "output_type": "execute_result"
    },
    {
     "data": {
      "image/png": "[encoded data removed]",
      "text/plain": [
       "<matplotlib.figure.Figure at 0x18e70c18>"
      ]
     },
     "metadata": {},
     "output_type": "display_data"
    }
   ],
   "source": [
    "subset_word_counts = word_counts[:1000]\n",
    "plt.figure(figsize=(8,8))\n",
    "plt.scatter(x=range(len(subset_word_counts)), y=[w[1] for w in subset_word_counts])\n",
    "plt.title('Count for Words')\n",
    "plt.ylabel('Count')\n",
    "plt.xlabel('Word')"
   ]
  },
  {
   "cell_type": "markdown",
   "metadata": {},
   "source": [
    "Yup that's Zipf's law"
   ]
  },
  {
   "cell_type": "markdown",
   "metadata": {},
   "source": [
    "<a id='1'></a>\n",
    "# 1 sklearn Text Mining Basics\n",
    "\n",
    "sklearn has many great tools for text mining, in this section we will cover two of the more important ones"
   ]
  },
  {
   "cell_type": "markdown",
   "metadata": {},
   "source": [
    "<a id='1.1'></a>\n",
    "## 1.1 CountVectorizer\n",
    "\n",
    "In order to perform machine learning on text documents, we first need to turn the text content into numerical feature vectors. This is typically done with __Bag-of-Words__, and this is where the CountVectorizer class comes in handy. You can read more about the CountVectorizer [here](http://scikit-learn.org/stable/modules/generated/sklearn.feature_extraction.text.CountVectorizer.html)"
   ]
  },
  {
   "cell_type": "markdown",
   "metadata": {},
   "source": [
    "<a id='1.1.1'></a>\n",
    "### 1.1.1 Description\n",
    "\n",
    "\"Convert a collection of text documents to a matrix of token counts\n",
    "\n",
    "This implementation produces a sparse representation of the counts using scipy.sparse.coo_matrix.\""
   ]
  },
  {
   "cell_type": "markdown",
   "metadata": {},
   "source": [
    "<a id='1.1.2'></a>\n",
    "### 1.1.2 Example\n",
    "\n",
    "To get a better understanding of the class we will do an example below"
   ]
  },
  {
   "cell_type": "code",
   "execution_count": 21,
   "metadata": {
    "collapsed": true
   },
   "outputs": [],
   "source": [
    "text = ['cat dog dog dog dog dog dog dog', 'cat fish puppy', 'fish cat']"
   ]
  },
  {
   "cell_type": "code",
   "execution_count": 22,
   "metadata": {
    "collapsed": true
   },
   "outputs": [],
   "source": [
    "vect = CountVectorizer()"
   ]
  },
  {
   "cell_type": "code",
   "execution_count": 23,
   "metadata": {
    "collapsed": true
   },
   "outputs": [],
   "source": [
    "dtm = vect.fit_transform(text)"
   ]
  },
  {
   "cell_type": "code",
   "execution_count": 24,
   "metadata": {
    "collapsed": false
   },
   "outputs": [
    {
     "name": "stdout",
     "output_type": "stream",
     "text": [
      "  (0, 1)\t7\n",
      "  (0, 0)\t1\n",
      "  (1, 3)\t1\n",
      "  (1, 2)\t1\n",
      "  (1, 0)\t1\n",
      "  (2, 2)\t1\n",
      "  (2, 0)\t1\n"
     ]
    }
   ],
   "source": [
    "print(dtm)"
   ]
  },
  {
   "cell_type": "code",
   "execution_count": 25,
   "metadata": {
    "collapsed": false
   },
   "outputs": [
    {
     "data": {
      "text/plain": [
       "['cat', 'dog', 'fish', 'puppy']"
      ]
     },
     "execution_count": 25,
     "metadata": {},
     "output_type": "execute_result"
    }
   ],
   "source": [
    "vect.get_feature_names()"
   ]
  },
  {
   "cell_type": "code",
   "execution_count": 26,
   "metadata": {
    "collapsed": true
   },
   "outputs": [],
   "source": [
    "df2 = pd.DataFrame(dtm.toarray(), columns=vect.get_feature_names())"
   ]
  },
  {
   "cell_type": "code",
   "execution_count": 27,
   "metadata": {
    "collapsed": false
   },
   "outputs": [
    {
     "data": {
      "text/html": [
       "<div>\n",
       "<table border=\"1\" class=\"dataframe\">\n",
       "  <thead>\n",
       "    <tr style=\"text-align: right;\">\n",
       "      <th></th>\n",
       "      <th>cat</th>\n",
       "      <th>dog</th>\n",
       "      <th>fish</th>\n",
       "      <th>puppy</th>\n",
       "    </tr>\n",
       "  </thead>\n",
       "  <tbody>\n",
       "    <tr>\n",
       "      <th>0</th>\n",
       "      <td>1</td>\n",
       "      <td>7</td>\n",
       "      <td>0</td>\n",
       "      <td>0</td>\n",
       "    </tr>\n",
       "    <tr>\n",
       "      <th>1</th>\n",
       "      <td>1</td>\n",
       "      <td>0</td>\n",
       "      <td>1</td>\n",
       "      <td>1</td>\n",
       "    </tr>\n",
       "    <tr>\n",
       "      <th>2</th>\n",
       "      <td>1</td>\n",
       "      <td>0</td>\n",
       "      <td>1</td>\n",
       "      <td>0</td>\n",
       "    </tr>\n",
       "  </tbody>\n",
       "</table>\n",
       "</div>"
      ],
      "text/plain": [
       "   cat  dog  fish  puppy\n",
       "0    1    7     0      0\n",
       "1    1    0     1      1\n",
       "2    1    0     1      0"
      ]
     },
     "execution_count": 27,
     "metadata": {},
     "output_type": "execute_result"
    }
   ],
   "source": [
    "df2"
   ]
  },
  {
   "cell_type": "code",
   "execution_count": 28,
   "metadata": {
    "collapsed": true
   },
   "outputs": [],
   "source": [
    "def dtm_todf(dtm, vect):\n",
    "    return pd.DataFrame(dtm.toarray(), columns=vect.get_feature_names())"
   ]
  },
  {
   "cell_type": "code",
   "execution_count": 29,
   "metadata": {
    "collapsed": false
   },
   "outputs": [
    {
     "data": {
      "text/html": [
       "<div>\n",
       "<table border=\"1\" class=\"dataframe\">\n",
       "  <thead>\n",
       "    <tr style=\"text-align: right;\">\n",
       "      <th></th>\n",
       "      <th>cat</th>\n",
       "      <th>dog</th>\n",
       "      <th>fish</th>\n",
       "      <th>puppy</th>\n",
       "    </tr>\n",
       "  </thead>\n",
       "  <tbody>\n",
       "    <tr>\n",
       "      <th>0</th>\n",
       "      <td>1</td>\n",
       "      <td>7</td>\n",
       "      <td>0</td>\n",
       "      <td>0</td>\n",
       "    </tr>\n",
       "    <tr>\n",
       "      <th>1</th>\n",
       "      <td>1</td>\n",
       "      <td>0</td>\n",
       "      <td>1</td>\n",
       "      <td>1</td>\n",
       "    </tr>\n",
       "    <tr>\n",
       "      <th>2</th>\n",
       "      <td>1</td>\n",
       "      <td>0</td>\n",
       "      <td>1</td>\n",
       "      <td>0</td>\n",
       "    </tr>\n",
       "  </tbody>\n",
       "</table>\n",
       "</div>"
      ],
      "text/plain": [
       "   cat  dog  fish  puppy\n",
       "0    1    7     0      0\n",
       "1    1    0     1      1\n",
       "2    1    0     1      0"
      ]
     },
     "execution_count": 29,
     "metadata": {},
     "output_type": "execute_result"
    }
   ],
   "source": [
    "dtm_todf(dtm, vect)"
   ]
  },
  {
   "cell_type": "markdown",
   "metadata": {},
   "source": [
    "<a id='1.1.3'></a>\n",
    "### 1.1.3 Parameters\n",
    "\n",
    "This class has many parameters but we will highlight a few of the most important ones"
   ]
  },
  {
   "cell_type": "markdown",
   "metadata": {},
   "source": [
    "<a id='1.1.3.1'></a>\n",
    "#### 1.1.3.1 min_df\n",
    "\n",
    "__min_df__ : float in range [0.0, 1.0] or int, default=1\n",
    "\n",
    "When building the vocabulary ignore terms that have a document frequency strictly lower than the given threshold. This value is also called cut-off in the literature. If float, the parameter represents a proportion of documents, integer absolute counts. This parameter is ignored if vocabulary is not None."
   ]
  },
  {
   "cell_type": "markdown",
   "metadata": {},
   "source": [
    "__Example__\n",
    "\n",
    "We will show what the document term matrix looks like before and after min_df parameter is used"
   ]
  },
  {
   "cell_type": "code",
   "execution_count": 30,
   "metadata": {
    "collapsed": true
   },
   "outputs": [],
   "source": [
    "cv = CountVectorizer()"
   ]
  },
  {
   "cell_type": "code",
   "execution_count": 31,
   "metadata": {
    "collapsed": true
   },
   "outputs": [],
   "source": [
    "train_dtm = cv.fit_transform(df['Text'])"
   ]
  },
  {
   "cell_type": "code",
   "execution_count": 32,
   "metadata": {
    "collapsed": false
   },
   "outputs": [
    {
     "data": {
      "text/plain": [
       "(2833, 38850)"
      ]
     },
     "execution_count": 32,
     "metadata": {},
     "output_type": "execute_result"
    }
   ],
   "source": [
    "train_dtm.shape"
   ]
  },
  {
   "cell_type": "markdown",
   "metadata": {},
   "source": [
    "So the shape of our dtm is (2833, 38850) before using min_df.\n",
    "\n",
    "Lets see what the shape is after using a min_df of 5"
   ]
  },
  {
   "cell_type": "code",
   "execution_count": 33,
   "metadata": {
    "collapsed": true
   },
   "outputs": [],
   "source": [
    "cv = CountVectorizer(min_df=5)"
   ]
  },
  {
   "cell_type": "code",
   "execution_count": 34,
   "metadata": {
    "collapsed": true
   },
   "outputs": [],
   "source": [
    "train_dtm = cv.fit_transform(df['Text'])"
   ]
  },
  {
   "cell_type": "code",
   "execution_count": 35,
   "metadata": {
    "collapsed": false
   },
   "outputs": [
    {
     "data": {
      "text/plain": [
       "(2833, 9819)"
      ]
     },
     "execution_count": 35,
     "metadata": {},
     "output_type": "execute_result"
    }
   ],
   "source": [
    "train_dtm.shape"
   ]
  },
  {
   "cell_type": "markdown",
   "metadata": {},
   "source": [
    "Too see how the min_df affects the dtm's shape for different values we will number of columns below for a min_df from 1 to 10"
   ]
  },
  {
   "cell_type": "code",
   "execution_count": 36,
   "metadata": {
    "collapsed": false
   },
   "outputs": [
    {
     "name": "stdout",
     "output_type": "stream",
     "text": [
      "min_df=1 has shape (2833, 38850)\n",
      "min_df=2 has shape (2833, 20541)\n",
      "min_df=3 has shape (2833, 14609)\n",
      "min_df=4 has shape (2833, 11662)\n",
      "min_df=5 has shape (2833, 9819)\n",
      "min_df=6 has shape (2833, 8508)\n",
      "min_df=7 has shape (2833, 7561)\n",
      "min_df=8 has shape (2833, 6797)\n",
      "min_df=9 has shape (2833, 6160)\n"
     ]
    },
    {
     "data": {
      "image/png": "[encoded data removed]",
      "text/plain": [
       "<matplotlib.figure.Figure at 0x14386780>"
      ]
     },
     "metadata": {},
     "output_type": "display_data"
    }
   ],
   "source": [
    "plt.figure(figsize=(8,8))\n",
    "for min_df in np.arange(1,10,1):\n",
    "    cv = CountVectorizer(min_df=min_df)\n",
    "    train_dtm = cv.fit_transform(df['Text'])\n",
    "    num_cols = train_dtm.shape[1]\n",
    "    print('min_df={} has shape {}'.format(min_df, train_dtm.shape))\n",
    "    plt.scatter(min_df, num_cols)"
   ]
  },
  {
   "cell_type": "code",
   "execution_count": null,
   "metadata": {
    "collapsed": true
   },
   "outputs": [],
   "source": []
  },
  {
   "cell_type": "markdown",
   "metadata": {},
   "source": [
    "<a id='1.1.3.2'></a>\n",
    "#### 1.1.3.2 max_df\n",
    "\n",
    "__max_df :__ float in range [0.0, 1.0] or int, default=1.0\n",
    "\n",
    "When building the vocabulary ignore terms that have a document frequency strictly higher than the given threshold (corpus-specific stop words). If float, the parameter represents a proportion of documents, integer absolute counts. This parameter is ignored if vocabulary is not None."
   ]
  },
  {
   "cell_type": "markdown",
   "metadata": {},
   "source": [
    "__Example__\n",
    "\n",
    "We will show what max_df does to the document term matrix"
   ]
  },
  {
   "cell_type": "code",
   "execution_count": 37,
   "metadata": {
    "collapsed": false
   },
   "outputs": [
    {
     "name": "stdout",
     "output_type": "stream",
     "text": [
      "The shape of the dtm with default max_df: (2833, 38850)\n"
     ]
    }
   ],
   "source": [
    "cv = CountVectorizer()\n",
    "train_dtm = cv.fit_transform(df['Text'])\n",
    "print(\"The shape of the dtm with default max_df: {}\".format(train_dtm.shape))"
   ]
  },
  {
   "cell_type": "code",
   "execution_count": 38,
   "metadata": {
    "collapsed": false
   },
   "outputs": [
    {
     "name": "stdout",
     "output_type": "stream",
     "text": [
      "The shape of the dtm with .5 max_df: (2833, 38826)\n"
     ]
    }
   ],
   "source": [
    "cv = CountVectorizer(max_df=.5)\n",
    "train_dtm = cv.fit_transform(df['Text'])\n",
    "print(\"The shape of the dtm with .5 max_df: {}\".format(train_dtm.shape))"
   ]
  },
  {
   "cell_type": "markdown",
   "metadata": {},
   "source": [
    "To view the impact of max_df for different values we will plot the feature space for a range of max_df values"
   ]
  },
  {
   "cell_type": "code",
   "execution_count": 39,
   "metadata": {
    "collapsed": false
   },
   "outputs": [
    {
     "name": "stdout",
     "output_type": "stream",
     "text": [
      "max_df=0.100000 has shape (2833, 38663)\n",
      "max_df=0.200000 has shape (2833, 38767)\n",
      "max_df=0.300000 has shape (2833, 38793)\n",
      "max_df=0.400000 has shape (2833, 38814)\n",
      "max_df=0.500000 has shape (2833, 38826)\n",
      "max_df=0.600000 has shape (2833, 38835)\n",
      "max_df=0.700000 has shape (2833, 38839)\n",
      "max_df=0.800000 has shape (2833, 38841)\n",
      "max_df=0.900000 has shape (2833, 38845)\n"
     ]
    },
    {
     "data": {
      "image/png": "[encoded data removed]",
      "text/plain": [
       "<matplotlib.figure.Figure at 0x14d195c0>"
      ]
     },
     "metadata": {},
     "output_type": "display_data"
    }
   ],
   "source": [
    "plt.figure(figsize=(8,8))\n",
    "plt.ylabel('Number of Columns')\n",
    "plt.xlabel('Value of max_df')\n",
    "plt.title('Columns vs max_df')\n",
    "for max_df in np.arange(.1,1.0,.1):\n",
    "    cv = CountVectorizer(max_df=max_df)\n",
    "    train_dtm = cv.fit_transform(df['Text'])\n",
    "    num_cols = train_dtm.shape[1]\n",
    "    print('max_df={:f} has shape {}'.format(max_df, train_dtm.shape))\n",
    "    plt.scatter(max_df, num_cols)"
   ]
  },
  {
   "cell_type": "code",
   "execution_count": 40,
   "metadata": {
    "collapsed": false
   },
   "outputs": [
    {
     "name": "stdout",
     "output_type": "stream",
     "text": [
      "max_df=25 has shape (2833, 36397)\n",
      "max_df=50 has shape (2833, 37560)\n",
      "max_df=75 has shape (2833, 37997)\n",
      "max_df=100 has shape (2833, 38231)\n",
      "max_df=125 has shape (2833, 38365)\n",
      "max_df=150 has shape (2833, 38447)\n",
      "max_df=175 has shape (2833, 38519)\n"
     ]
    },
    {
     "data": {
      "image/png": "[encoded data removed]",
      "text/plain": [
       "<matplotlib.figure.Figure at 0x14a80b38>"
      ]
     },
     "metadata": {},
     "output_type": "display_data"
    }
   ],
   "source": [
    "plt.figure(figsize=(8,8))\n",
    "for max_df in np.arange(25,200,25):\n",
    "    cv = CountVectorizer(max_df=max_df)\n",
    "    train_dtm = cv.fit_transform(df['Text'])\n",
    "    num_cols = train_dtm.shape[1]\n",
    "    print('max_df={} has shape {}'.format(max_df, train_dtm.shape))\n",
    "    plt.scatter(max_df, num_cols)"
   ]
  },
  {
   "cell_type": "code",
   "execution_count": null,
   "metadata": {
    "collapsed": true
   },
   "outputs": [],
   "source": []
  },
  {
   "cell_type": "markdown",
   "metadata": {},
   "source": [
    "<a id='1.1.3.3'></a>\n",
    "#### 1.1.3.3 ngram_range\n",
    "\n",
    "__ngram_range :__ tuple (min_n, max_n)\n",
    "\n",
    "The lower and upper boundary of the range of n-values for different n-grams to be extracted. All values of n such that min_n <= n <= max_n will be used."
   ]
  },
  {
   "cell_type": "markdown",
   "metadata": {},
   "source": [
    "__Example__\n",
    "\n",
    "We will show what happens to the document term matrix when different combinations are used"
   ]
  },
  {
   "cell_type": "code",
   "execution_count": 41,
   "metadata": {
    "collapsed": false
   },
   "outputs": [
    {
     "name": "stdout",
     "output_type": "stream",
     "text": [
      "The shape of the dtm with ngram_range=(1,1): (2833, 38850)\n"
     ]
    }
   ],
   "source": [
    "cv = CountVectorizer(ngram_range=(1,1))\n",
    "train_dtm = cv.fit_transform(df['Text'])\n",
    "print(\"The shape of the dtm with ngram_range=(1,1): {}\".format(train_dtm.shape))"
   ]
  },
  {
   "cell_type": "code",
   "execution_count": 42,
   "metadata": {
    "collapsed": false
   },
   "outputs": [
    {
     "name": "stdout",
     "output_type": "stream",
     "text": [
      "The shape of the dtm with ngram_range=(1,2): (2833, 331486)\n"
     ]
    }
   ],
   "source": [
    "cv = CountVectorizer(ngram_range=(1,2))\n",
    "train_dtm = cv.fit_transform(df['Text'])\n",
    "print(\"The shape of the dtm with ngram_range=(1,2): {}\".format(train_dtm.shape))"
   ]
  },
  {
   "cell_type": "code",
   "execution_count": 43,
   "metadata": {
    "collapsed": false
   },
   "outputs": [
    {
     "name": "stdout",
     "output_type": "stream",
     "text": [
      "The shape of the dtm with ngram_range=(1,3): (2833, 823987)\n"
     ]
    }
   ],
   "source": [
    "cv = CountVectorizer(ngram_range=(1,3))\n",
    "train_dtm = cv.fit_transform(df['Text'])\n",
    "print(\"The shape of the dtm with ngram_range=(1,3): {}\".format(train_dtm.shape))"
   ]
  },
  {
   "cell_type": "markdown",
   "metadata": {},
   "source": [
    "<a id='1.1.3.4'></a>\n",
    "#### 1.1.3.4 stop_words\n",
    "\n",
    "__stop_words :__ string {‘english’}, list, or None (default)\n",
    "\n",
    "If ‘english’, a built-in stop word list for English is used.\n",
    "If a list, that list is assumed to contain stop words, all of which will be removed from the resulting tokens. Only applies if analyzer == 'word'.\n",
    "\n",
    "If None, no stop words will be used. max_df can be set to a value in the range [0.7, 1.0) to automatically detect and filter stop words based on intra corpus document frequency of terms.\n",
    "\n",
    "__Example__\n",
    "\n",
    "We will show how removing stop_words affects our document term matrix"
   ]
  },
  {
   "cell_type": "code",
   "execution_count": 44,
   "metadata": {
    "collapsed": false
   },
   "outputs": [
    {
     "name": "stdout",
     "output_type": "stream",
     "text": [
      "The shape of the dtm with stop_words=None: (2833, 38850)\n"
     ]
    }
   ],
   "source": [
    "cv = CountVectorizer(stop_words=None)\n",
    "train_dtm = cv.fit_transform(df['Text'])\n",
    "print(\"The shape of the dtm with stop_words=None: {}\".format(train_dtm.shape))"
   ]
  },
  {
   "cell_type": "code",
   "execution_count": 45,
   "metadata": {
    "collapsed": false
   },
   "outputs": [
    {
     "name": "stdout",
     "output_type": "stream",
     "text": [
      "The shape of the dtm with stop_words=None: (2833, 38546)\n"
     ]
    }
   ],
   "source": [
    "cv = CountVectorizer(stop_words='english')\n",
    "train_dtm = cv.fit_transform(df['Text'])\n",
    "print(\"The shape of the dtm with stop_words=None: {}\".format(train_dtm.shape))"
   ]
  },
  {
   "cell_type": "markdown",
   "metadata": {},
   "source": [
    "<a id='1.1.3.5'></a>\n",
    "#### 1.1.3.5 max_features\n",
    "\n",
    "__max_features :__ int or None, default=None\n",
    "\n",
    "If not None, build a vocabulary that only consider the top max_features ordered by term frequency across the corpus.\n",
    "\n",
    "This parameter is ignored if vocabulary is not None.\n",
    "\n",
    "__Example__\n",
    "\n",
    "We will show how max_features affects our dtm, and how it interacts with other CountVectorizer parameters"
   ]
  },
  {
   "cell_type": "code",
   "execution_count": 46,
   "metadata": {
    "collapsed": false
   },
   "outputs": [
    {
     "data": {
      "text/html": [
       "<div>\n",
       "<table border=\"1\" class=\"dataframe\">\n",
       "  <thead>\n",
       "    <tr style=\"text-align: right;\">\n",
       "      <th></th>\n",
       "      <th>and</th>\n",
       "      <th>are</th>\n",
       "      <th>as</th>\n",
       "      <th>be</th>\n",
       "      <th>edu</th>\n",
       "      <th>for</th>\n",
       "      <th>from</th>\n",
       "      <th>have</th>\n",
       "      <th>in</th>\n",
       "      <th>is</th>\n",
       "      <th>it</th>\n",
       "      <th>not</th>\n",
       "      <th>of</th>\n",
       "      <th>on</th>\n",
       "      <th>that</th>\n",
       "      <th>the</th>\n",
       "      <th>this</th>\n",
       "      <th>to</th>\n",
       "      <th>with</th>\n",
       "      <th>you</th>\n",
       "    </tr>\n",
       "  </thead>\n",
       "  <tbody>\n",
       "    <tr>\n",
       "      <th>0</th>\n",
       "      <td>2</td>\n",
       "      <td>0</td>\n",
       "      <td>0</td>\n",
       "      <td>0</td>\n",
       "      <td>0</td>\n",
       "      <td>2</td>\n",
       "      <td>1</td>\n",
       "      <td>0</td>\n",
       "      <td>1</td>\n",
       "      <td>4</td>\n",
       "      <td>0</td>\n",
       "      <td>0</td>\n",
       "      <td>0</td>\n",
       "      <td>3</td>\n",
       "      <td>0</td>\n",
       "      <td>4</td>\n",
       "      <td>4</td>\n",
       "      <td>1</td>\n",
       "      <td>1</td>\n",
       "      <td>2</td>\n",
       "    </tr>\n",
       "    <tr>\n",
       "      <th>1</th>\n",
       "      <td>13</td>\n",
       "      <td>8</td>\n",
       "      <td>10</td>\n",
       "      <td>4</td>\n",
       "      <td>2</td>\n",
       "      <td>5</td>\n",
       "      <td>11</td>\n",
       "      <td>10</td>\n",
       "      <td>31</td>\n",
       "      <td>23</td>\n",
       "      <td>18</td>\n",
       "      <td>13</td>\n",
       "      <td>29</td>\n",
       "      <td>5</td>\n",
       "      <td>30</td>\n",
       "      <td>66</td>\n",
       "      <td>3</td>\n",
       "      <td>21</td>\n",
       "      <td>9</td>\n",
       "      <td>8</td>\n",
       "    </tr>\n",
       "    <tr>\n",
       "      <th>2</th>\n",
       "      <td>5</td>\n",
       "      <td>0</td>\n",
       "      <td>0</td>\n",
       "      <td>0</td>\n",
       "      <td>6</td>\n",
       "      <td>0</td>\n",
       "      <td>1</td>\n",
       "      <td>0</td>\n",
       "      <td>5</td>\n",
       "      <td>0</td>\n",
       "      <td>0</td>\n",
       "      <td>1</td>\n",
       "      <td>1</td>\n",
       "      <td>0</td>\n",
       "      <td>1</td>\n",
       "      <td>3</td>\n",
       "      <td>1</td>\n",
       "      <td>3</td>\n",
       "      <td>0</td>\n",
       "      <td>0</td>\n",
       "    </tr>\n",
       "    <tr>\n",
       "      <th>3</th>\n",
       "      <td>3</td>\n",
       "      <td>2</td>\n",
       "      <td>1</td>\n",
       "      <td>1</td>\n",
       "      <td>1</td>\n",
       "      <td>1</td>\n",
       "      <td>3</td>\n",
       "      <td>1</td>\n",
       "      <td>4</td>\n",
       "      <td>2</td>\n",
       "      <td>4</td>\n",
       "      <td>0</td>\n",
       "      <td>4</td>\n",
       "      <td>0</td>\n",
       "      <td>0</td>\n",
       "      <td>5</td>\n",
       "      <td>0</td>\n",
       "      <td>4</td>\n",
       "      <td>0</td>\n",
       "      <td>0</td>\n",
       "    </tr>\n",
       "    <tr>\n",
       "      <th>4</th>\n",
       "      <td>3</td>\n",
       "      <td>0</td>\n",
       "      <td>0</td>\n",
       "      <td>1</td>\n",
       "      <td>2</td>\n",
       "      <td>4</td>\n",
       "      <td>1</td>\n",
       "      <td>0</td>\n",
       "      <td>1</td>\n",
       "      <td>1</td>\n",
       "      <td>0</td>\n",
       "      <td>0</td>\n",
       "      <td>4</td>\n",
       "      <td>1</td>\n",
       "      <td>0</td>\n",
       "      <td>4</td>\n",
       "      <td>0</td>\n",
       "      <td>5</td>\n",
       "      <td>1</td>\n",
       "      <td>0</td>\n",
       "    </tr>\n",
       "  </tbody>\n",
       "</table>\n",
       "</div>"
      ],
      "text/plain": [
       "   and  are  as  be  edu  for  from  have  in  is  it  not  of  on  that  the  \\\n",
       "0    2    0   0   0    0    2     1     0   1   4   0    0   0   3     0    4   \n",
       "1   13    8  10   4    2    5    11    10  31  23  18   13  29   5    30   66   \n",
       "2    5    0   0   0    6    0     1     0   5   0   0    1   1   0     1    3   \n",
       "3    3    2   1   1    1    1     3     1   4   2   4    0   4   0     0    5   \n",
       "4    3    0   0   1    2    4     1     0   1   1   0    0   4   1     0    4   \n",
       "\n",
       "   this  to  with  you  \n",
       "0     4   1     1    2  \n",
       "1     3  21     9    8  \n",
       "2     1   3     0    0  \n",
       "3     0   4     0    0  \n",
       "4     0   5     1    0  "
      ]
     },
     "execution_count": 46,
     "metadata": {},
     "output_type": "execute_result"
    }
   ],
   "source": [
    "cv = CountVectorizer(max_features=20)\n",
    "train_dtm = cv.fit_transform(df['Text'])\n",
    "dtm_todf(train_dtm, cv).head()"
   ]
  },
  {
   "cell_type": "code",
   "execution_count": 47,
   "metadata": {
    "collapsed": false
   },
   "outputs": [
    {
     "data": {
      "text/html": [
       "<div>\n",
       "<table border=\"1\" class=\"dataframe\">\n",
       "  <thead>\n",
       "    <tr style=\"text-align: right;\">\n",
       "      <th></th>\n",
       "      <th>article</th>\n",
       "      <th>com</th>\n",
       "      <th>don</th>\n",
       "      <th>edu</th>\n",
       "      <th>good</th>\n",
       "      <th>host</th>\n",
       "      <th>just</th>\n",
       "      <th>key</th>\n",
       "      <th>know</th>\n",
       "      <th>like</th>\n",
       "      <th>lines</th>\n",
       "      <th>new</th>\n",
       "      <th>nntp</th>\n",
       "      <th>organization</th>\n",
       "      <th>people</th>\n",
       "      <th>posting</th>\n",
       "      <th>subject</th>\n",
       "      <th>university</th>\n",
       "      <th>use</th>\n",
       "      <th>writes</th>\n",
       "    </tr>\n",
       "  </thead>\n",
       "  <tbody>\n",
       "    <tr>\n",
       "      <th>0</th>\n",
       "      <td>0</td>\n",
       "      <td>2</td>\n",
       "      <td>1</td>\n",
       "      <td>0</td>\n",
       "      <td>1</td>\n",
       "      <td>0</td>\n",
       "      <td>0</td>\n",
       "      <td>0</td>\n",
       "      <td>0</td>\n",
       "      <td>0</td>\n",
       "      <td>1</td>\n",
       "      <td>1</td>\n",
       "      <td>0</td>\n",
       "      <td>1</td>\n",
       "      <td>0</td>\n",
       "      <td>0</td>\n",
       "      <td>1</td>\n",
       "      <td>0</td>\n",
       "      <td>0</td>\n",
       "      <td>0</td>\n",
       "    </tr>\n",
       "    <tr>\n",
       "      <th>1</th>\n",
       "      <td>2</td>\n",
       "      <td>3</td>\n",
       "      <td>2</td>\n",
       "      <td>2</td>\n",
       "      <td>0</td>\n",
       "      <td>0</td>\n",
       "      <td>2</td>\n",
       "      <td>0</td>\n",
       "      <td>0</td>\n",
       "      <td>2</td>\n",
       "      <td>1</td>\n",
       "      <td>1</td>\n",
       "      <td>0</td>\n",
       "      <td>1</td>\n",
       "      <td>1</td>\n",
       "      <td>0</td>\n",
       "      <td>1</td>\n",
       "      <td>1</td>\n",
       "      <td>1</td>\n",
       "      <td>3</td>\n",
       "    </tr>\n",
       "    <tr>\n",
       "      <th>2</th>\n",
       "      <td>1</td>\n",
       "      <td>0</td>\n",
       "      <td>0</td>\n",
       "      <td>6</td>\n",
       "      <td>0</td>\n",
       "      <td>1</td>\n",
       "      <td>0</td>\n",
       "      <td>0</td>\n",
       "      <td>1</td>\n",
       "      <td>0</td>\n",
       "      <td>1</td>\n",
       "      <td>0</td>\n",
       "      <td>1</td>\n",
       "      <td>1</td>\n",
       "      <td>0</td>\n",
       "      <td>1</td>\n",
       "      <td>1</td>\n",
       "      <td>0</td>\n",
       "      <td>0</td>\n",
       "      <td>1</td>\n",
       "    </tr>\n",
       "    <tr>\n",
       "      <th>3</th>\n",
       "      <td>1</td>\n",
       "      <td>15</td>\n",
       "      <td>1</td>\n",
       "      <td>1</td>\n",
       "      <td>0</td>\n",
       "      <td>0</td>\n",
       "      <td>1</td>\n",
       "      <td>0</td>\n",
       "      <td>0</td>\n",
       "      <td>0</td>\n",
       "      <td>2</td>\n",
       "      <td>0</td>\n",
       "      <td>0</td>\n",
       "      <td>2</td>\n",
       "      <td>1</td>\n",
       "      <td>0</td>\n",
       "      <td>2</td>\n",
       "      <td>0</td>\n",
       "      <td>0</td>\n",
       "      <td>1</td>\n",
       "    </tr>\n",
       "    <tr>\n",
       "      <th>4</th>\n",
       "      <td>0</td>\n",
       "      <td>1</td>\n",
       "      <td>0</td>\n",
       "      <td>2</td>\n",
       "      <td>0</td>\n",
       "      <td>0</td>\n",
       "      <td>0</td>\n",
       "      <td>0</td>\n",
       "      <td>0</td>\n",
       "      <td>0</td>\n",
       "      <td>1</td>\n",
       "      <td>0</td>\n",
       "      <td>0</td>\n",
       "      <td>1</td>\n",
       "      <td>0</td>\n",
       "      <td>0</td>\n",
       "      <td>1</td>\n",
       "      <td>2</td>\n",
       "      <td>0</td>\n",
       "      <td>0</td>\n",
       "    </tr>\n",
       "  </tbody>\n",
       "</table>\n",
       "</div>"
      ],
      "text/plain": [
       "   article  com  don  edu  good  host  just  key  know  like  lines  new  \\\n",
       "0        0    2    1    0     1     0     0    0     0     0      1    1   \n",
       "1        2    3    2    2     0     0     2    0     0     2      1    1   \n",
       "2        1    0    0    6     0     1     0    0     1     0      1    0   \n",
       "3        1   15    1    1     0     0     1    0     0     0      2    0   \n",
       "4        0    1    0    2     0     0     0    0     0     0      1    0   \n",
       "\n",
       "   nntp  organization  people  posting  subject  university  use  writes  \n",
       "0     0             1       0        0        1           0    0       0  \n",
       "1     0             1       1        0        1           1    1       3  \n",
       "2     1             1       0        1        1           0    0       1  \n",
       "3     0             2       1        0        2           0    0       1  \n",
       "4     0             1       0        0        1           2    0       0  "
      ]
     },
     "execution_count": 47,
     "metadata": {},
     "output_type": "execute_result"
    }
   ],
   "source": [
    "cv = CountVectorizer(max_features=20, stop_words='english')\n",
    "train_dtm = cv.fit_transform(df['Text'])\n",
    "dtm_todf(train_dtm, cv).head()"
   ]
  },
  {
   "cell_type": "code",
   "execution_count": 48,
   "metadata": {
    "collapsed": false
   },
   "outputs": [
    {
     "data": {
      "text/html": [
       "<div>\n",
       "<table border=\"1\" class=\"dataframe\">\n",
       "  <thead>\n",
       "    <tr style=\"text-align: right;\">\n",
       "      <th></th>\n",
       "      <th>00</th>\n",
       "      <th>article</th>\n",
       "      <th>com</th>\n",
       "      <th>don</th>\n",
       "      <th>good</th>\n",
       "      <th>government</th>\n",
       "      <th>host</th>\n",
       "      <th>just</th>\n",
       "      <th>key</th>\n",
       "      <th>know</th>\n",
       "      <th>like</th>\n",
       "      <th>new</th>\n",
       "      <th>nntp</th>\n",
       "      <th>people</th>\n",
       "      <th>posting</th>\n",
       "      <th>think</th>\n",
       "      <th>time</th>\n",
       "      <th>university</th>\n",
       "      <th>use</th>\n",
       "      <th>writes</th>\n",
       "    </tr>\n",
       "  </thead>\n",
       "  <tbody>\n",
       "    <tr>\n",
       "      <th>0</th>\n",
       "      <td>0</td>\n",
       "      <td>0</td>\n",
       "      <td>2</td>\n",
       "      <td>1</td>\n",
       "      <td>1</td>\n",
       "      <td>0</td>\n",
       "      <td>0</td>\n",
       "      <td>0</td>\n",
       "      <td>0</td>\n",
       "      <td>0</td>\n",
       "      <td>0</td>\n",
       "      <td>1</td>\n",
       "      <td>0</td>\n",
       "      <td>0</td>\n",
       "      <td>0</td>\n",
       "      <td>0</td>\n",
       "      <td>0</td>\n",
       "      <td>0</td>\n",
       "      <td>0</td>\n",
       "      <td>0</td>\n",
       "    </tr>\n",
       "    <tr>\n",
       "      <th>1</th>\n",
       "      <td>0</td>\n",
       "      <td>2</td>\n",
       "      <td>3</td>\n",
       "      <td>2</td>\n",
       "      <td>0</td>\n",
       "      <td>0</td>\n",
       "      <td>0</td>\n",
       "      <td>2</td>\n",
       "      <td>0</td>\n",
       "      <td>0</td>\n",
       "      <td>2</td>\n",
       "      <td>1</td>\n",
       "      <td>0</td>\n",
       "      <td>1</td>\n",
       "      <td>0</td>\n",
       "      <td>4</td>\n",
       "      <td>2</td>\n",
       "      <td>1</td>\n",
       "      <td>1</td>\n",
       "      <td>3</td>\n",
       "    </tr>\n",
       "    <tr>\n",
       "      <th>2</th>\n",
       "      <td>0</td>\n",
       "      <td>1</td>\n",
       "      <td>0</td>\n",
       "      <td>0</td>\n",
       "      <td>0</td>\n",
       "      <td>0</td>\n",
       "      <td>1</td>\n",
       "      <td>0</td>\n",
       "      <td>0</td>\n",
       "      <td>1</td>\n",
       "      <td>0</td>\n",
       "      <td>0</td>\n",
       "      <td>1</td>\n",
       "      <td>0</td>\n",
       "      <td>1</td>\n",
       "      <td>0</td>\n",
       "      <td>0</td>\n",
       "      <td>0</td>\n",
       "      <td>0</td>\n",
       "      <td>1</td>\n",
       "    </tr>\n",
       "    <tr>\n",
       "      <th>3</th>\n",
       "      <td>0</td>\n",
       "      <td>1</td>\n",
       "      <td>15</td>\n",
       "      <td>1</td>\n",
       "      <td>0</td>\n",
       "      <td>1</td>\n",
       "      <td>0</td>\n",
       "      <td>1</td>\n",
       "      <td>0</td>\n",
       "      <td>0</td>\n",
       "      <td>0</td>\n",
       "      <td>0</td>\n",
       "      <td>0</td>\n",
       "      <td>1</td>\n",
       "      <td>0</td>\n",
       "      <td>0</td>\n",
       "      <td>0</td>\n",
       "      <td>0</td>\n",
       "      <td>0</td>\n",
       "      <td>1</td>\n",
       "    </tr>\n",
       "    <tr>\n",
       "      <th>4</th>\n",
       "      <td>0</td>\n",
       "      <td>0</td>\n",
       "      <td>1</td>\n",
       "      <td>0</td>\n",
       "      <td>0</td>\n",
       "      <td>0</td>\n",
       "      <td>0</td>\n",
       "      <td>0</td>\n",
       "      <td>0</td>\n",
       "      <td>0</td>\n",
       "      <td>0</td>\n",
       "      <td>0</td>\n",
       "      <td>0</td>\n",
       "      <td>0</td>\n",
       "      <td>0</td>\n",
       "      <td>0</td>\n",
       "      <td>0</td>\n",
       "      <td>2</td>\n",
       "      <td>0</td>\n",
       "      <td>0</td>\n",
       "    </tr>\n",
       "  </tbody>\n",
       "</table>\n",
       "</div>"
      ],
      "text/plain": [
       "   00  article  com  don  good  government  host  just  key  know  like  new  \\\n",
       "0   0        0    2    1     1           0     0     0    0     0     0    1   \n",
       "1   0        2    3    2     0           0     0     2    0     0     2    1   \n",
       "2   0        1    0    0     0           0     1     0    0     1     0    0   \n",
       "3   0        1   15    1     0           1     0     1    0     0     0    0   \n",
       "4   0        0    1    0     0           0     0     0    0     0     0    0   \n",
       "\n",
       "   nntp  people  posting  think  time  university  use  writes  \n",
       "0     0       0        0      0     0           0    0       0  \n",
       "1     0       1        0      4     2           1    1       3  \n",
       "2     1       0        1      0     0           0    0       1  \n",
       "3     0       1        0      0     0           0    0       1  \n",
       "4     0       0        0      0     0           2    0       0  "
      ]
     },
     "execution_count": 48,
     "metadata": {},
     "output_type": "execute_result"
    }
   ],
   "source": [
    "cv = CountVectorizer(max_features=20, stop_words='english', max_df=.5)\n",
    "train_dtm = cv.fit_transform(df['Text'])\n",
    "dtm_todf(train_dtm, cv).head()"
   ]
  },
  {
   "cell_type": "code",
   "execution_count": null,
   "metadata": {
    "collapsed": true
   },
   "outputs": [],
   "source": []
  },
  {
   "cell_type": "markdown",
   "metadata": {},
   "source": [
    "<a id='1.2'></a>\n",
    "## 1.2 TfidfTransformer\n",
    "\n",
    "Counting occurences is a good start but there is still the issue of longer documents having higher average count values than shorter documents, even though they might talk about the same topics.\n",
    "\n",
    "The way to get around this issue is to divide the number of occurences of each word in each document by the total number of words in the document. These new features are called term frequencies.\n",
    "\n",
    "Another common addition to term frequencies is to downscale weights for words that will occur in many documents in the corpus. This will help us in our models because we are making the assumption that these common words are less informative than the words that are less frequent.\n",
    "\n",
    "This downscaling is called tf–idf for “Term Frequency times Inverse Document Frequency”.\n",
    "\n",
    "This process is implemented by the __TfidfTransformer__ in sklearn, to read more about it click [here](http://scikit-learn.org/stable/modules/generated/sklearn.feature_extraction.text.TfidfTransformer.html)"
   ]
  },
  {
   "cell_type": "markdown",
   "metadata": {},
   "source": [
    "<a id='1.2.1'></a>\n",
    "### 1.2.1 Description\n",
    "\n",
    "\"Transform a count matrix to a normalized tf or tf-idf representation\n",
    "\n",
    "Tf means term-frequency while tf-idf means term-frequency times inverse document-frequency. This is a common term weighting scheme in information retrieval, that has also found good use in document classification.\n",
    "\n",
    "The goal of using tf-idf instead of the raw frequencies of occurrence of a token in a given document is to scale down the impact of tokens that occur very frequently in a given corpus and that are hence empirically less informative than features that occur in a small fraction of the training corpus.\n",
    "\n",
    "The formula that is used to compute the tf-idf of term t is tf-idf(d, t) = tf(t) * idf(d, t), and the idf is computed as idf(d, t) = log [ n / df(d, t) ] + 1 (if smooth_idf=False), where n is the total number of documents and df(d, t) is the document frequency; the document frequency is the number of documents d that contain term t. The effect of adding “1” to the idf in the equation above is that terms with zero idf, i.e., terms that occur in all documents in a training set, will not be entirely ignored. (Note that the idf formula above differs from the standard textbook notation that defines the idf as idf(d, t) = log [ n / (df(d, t) + 1) ]).\n",
    "\n",
    "If smooth_idf=True (the default), the constant “1” is added to the numerator and denominator of the idf as if an extra document was seen containing every term in the collection exactly once, which prevents zero divisions: idf(d, t) = log [ (1 + n) / 1 + df(d, t) ] + 1.\n",
    "\n",
    "Furthermore, the formulas used to compute tf and idf depend on parameter settings that correspond to the SMART notation used in IR as follows:\n",
    "\n",
    "Tf is “n” (natural) by default, “l” (logarithmic) when sublinear_tf=True. Idf is “t” when use_idf is given, “n” (none) otherwise. Normalization is “c” (cosine) when norm='l2', “n” (none) when norm=None.\""
   ]
  },
  {
   "cell_type": "markdown",
   "metadata": {},
   "source": [
    "<a id='1.2.2'></a>\n",
    "### 1.2.2 Example\n",
    "\n",
    "To get a better understanding of the class we will do an example below"
   ]
  },
  {
   "cell_type": "code",
   "execution_count": 49,
   "metadata": {
    "collapsed": true
   },
   "outputs": [],
   "source": [
    "text = ['cat dog dog dog dog dog dog dog', 'cat fish puppy', 'fish cat']\n",
    "vect = CountVectorizer()\n",
    "dtm = vect.fit_transform(text)\n",
    "example_df = dtm_todf(dtm, vect)"
   ]
  },
  {
   "cell_type": "code",
   "execution_count": 50,
   "metadata": {
    "collapsed": false
   },
   "outputs": [
    {
     "data": {
      "text/html": [
       "<div>\n",
       "<table border=\"1\" class=\"dataframe\">\n",
       "  <thead>\n",
       "    <tr style=\"text-align: right;\">\n",
       "      <th></th>\n",
       "      <th>cat</th>\n",
       "      <th>dog</th>\n",
       "      <th>fish</th>\n",
       "      <th>puppy</th>\n",
       "    </tr>\n",
       "  </thead>\n",
       "  <tbody>\n",
       "    <tr>\n",
       "      <th>0</th>\n",
       "      <td>1</td>\n",
       "      <td>7</td>\n",
       "      <td>0</td>\n",
       "      <td>0</td>\n",
       "    </tr>\n",
       "    <tr>\n",
       "      <th>1</th>\n",
       "      <td>1</td>\n",
       "      <td>0</td>\n",
       "      <td>1</td>\n",
       "      <td>1</td>\n",
       "    </tr>\n",
       "    <tr>\n",
       "      <th>2</th>\n",
       "      <td>1</td>\n",
       "      <td>0</td>\n",
       "      <td>1</td>\n",
       "      <td>0</td>\n",
       "    </tr>\n",
       "  </tbody>\n",
       "</table>\n",
       "</div>"
      ],
      "text/plain": [
       "   cat  dog  fish  puppy\n",
       "0    1    7     0      0\n",
       "1    1    0     1      1\n",
       "2    1    0     1      0"
      ]
     },
     "execution_count": 50,
     "metadata": {},
     "output_type": "execute_result"
    }
   ],
   "source": [
    "example_df.head()"
   ]
  },
  {
   "cell_type": "code",
   "execution_count": 51,
   "metadata": {
    "collapsed": true
   },
   "outputs": [],
   "source": [
    "tfidf = TfidfTransformer()"
   ]
  },
  {
   "cell_type": "code",
   "execution_count": 52,
   "metadata": {
    "collapsed": false
   },
   "outputs": [],
   "source": [
    "dtm = tfidf.fit_transform(example_df)"
   ]
  },
  {
   "cell_type": "code",
   "execution_count": 53,
   "metadata": {
    "collapsed": false
   },
   "outputs": [
    {
     "data": {
      "text/html": [
       "<div>\n",
       "<table border=\"1\" class=\"dataframe\">\n",
       "  <thead>\n",
       "    <tr style=\"text-align: right;\">\n",
       "      <th></th>\n",
       "      <th>cat</th>\n",
       "      <th>dog</th>\n",
       "      <th>fish</th>\n",
       "      <th>puppy</th>\n",
       "    </tr>\n",
       "  </thead>\n",
       "  <tbody>\n",
       "    <tr>\n",
       "      <th>0</th>\n",
       "      <td>0.084075</td>\n",
       "      <td>0.996459</td>\n",
       "      <td>0.000000</td>\n",
       "      <td>0.000000</td>\n",
       "    </tr>\n",
       "    <tr>\n",
       "      <th>1</th>\n",
       "      <td>0.425441</td>\n",
       "      <td>0.000000</td>\n",
       "      <td>0.547832</td>\n",
       "      <td>0.720333</td>\n",
       "    </tr>\n",
       "    <tr>\n",
       "      <th>2</th>\n",
       "      <td>0.613356</td>\n",
       "      <td>0.000000</td>\n",
       "      <td>0.789807</td>\n",
       "      <td>0.000000</td>\n",
       "    </tr>\n",
       "  </tbody>\n",
       "</table>\n",
       "</div>"
      ],
      "text/plain": [
       "        cat       dog      fish     puppy\n",
       "0  0.084075  0.996459  0.000000  0.000000\n",
       "1  0.425441  0.000000  0.547832  0.720333\n",
       "2  0.613356  0.000000  0.789807  0.000000"
      ]
     },
     "execution_count": 53,
     "metadata": {},
     "output_type": "execute_result"
    }
   ],
   "source": [
    "dtm_todf(dtm, vect)"
   ]
  },
  {
   "cell_type": "markdown",
   "metadata": {},
   "source": [
    "These results are hard to explain without first looking at each default parameter individually"
   ]
  },
  {
   "cell_type": "markdown",
   "metadata": {},
   "source": [
    "<a id='1.2.3'></a>\n",
    "### 1.2.3 Parameters\n",
    "\n",
    "This class has much less parameters than CountVectorizer but these parameters aren't as intuitive so we'll cover them below"
   ]
  },
  {
   "cell_type": "markdown",
   "metadata": {},
   "source": [
    "<a id='1.2.3.1'></a>\n",
    "#### 1.2.3.1 norm\n",
    "\n",
    "__norm :__ ‘l1’, ‘l2’ or None, optional\n",
    "\n",
    "Norm used to normalize term vectors. None for no normalization."
   ]
  },
  {
   "cell_type": "markdown",
   "metadata": {},
   "source": [
    "__Example__\n",
    "\n",
    "We will compare what each norm does to our document term matrix"
   ]
  },
  {
   "cell_type": "code",
   "execution_count": 54,
   "metadata": {
    "collapsed": false
   },
   "outputs": [
    {
     "data": {
      "text/html": [
       "<div>\n",
       "<table border=\"1\" class=\"dataframe\">\n",
       "  <thead>\n",
       "    <tr style=\"text-align: right;\">\n",
       "      <th></th>\n",
       "      <th>cat</th>\n",
       "      <th>dog</th>\n",
       "      <th>fish</th>\n",
       "      <th>puppy</th>\n",
       "    </tr>\n",
       "  </thead>\n",
       "  <tbody>\n",
       "    <tr>\n",
       "      <th>0</th>\n",
       "      <td>1</td>\n",
       "      <td>7</td>\n",
       "      <td>0</td>\n",
       "      <td>0</td>\n",
       "    </tr>\n",
       "    <tr>\n",
       "      <th>1</th>\n",
       "      <td>1</td>\n",
       "      <td>0</td>\n",
       "      <td>1</td>\n",
       "      <td>1</td>\n",
       "    </tr>\n",
       "    <tr>\n",
       "      <th>2</th>\n",
       "      <td>1</td>\n",
       "      <td>0</td>\n",
       "      <td>1</td>\n",
       "      <td>0</td>\n",
       "    </tr>\n",
       "  </tbody>\n",
       "</table>\n",
       "</div>"
      ],
      "text/plain": [
       "   cat  dog  fish  puppy\n",
       "0    1    7     0      0\n",
       "1    1    0     1      1\n",
       "2    1    0     1      0"
      ]
     },
     "execution_count": 54,
     "metadata": {},
     "output_type": "execute_result"
    }
   ],
   "source": [
    "example_df.head()"
   ]
  },
  {
   "cell_type": "markdown",
   "metadata": {},
   "source": [
    "We haven't covered it yet but the use_idf parameter can be set to false so only term frequencies are done. We will set it equal to false for this example because it will really help to highlight what the norm parameter is doing"
   ]
  },
  {
   "cell_type": "markdown",
   "metadata": {},
   "source": [
    "__norm = 'l1'__"
   ]
  },
  {
   "cell_type": "code",
   "execution_count": 55,
   "metadata": {
    "collapsed": true
   },
   "outputs": [],
   "source": [
    "tfidf = TfidfTransformer(norm='l1', use_idf=False)"
   ]
  },
  {
   "cell_type": "code",
   "execution_count": 56,
   "metadata": {
    "collapsed": false
   },
   "outputs": [],
   "source": [
    "dtm = tfidf.fit_transform(example_df)"
   ]
  },
  {
   "cell_type": "code",
   "execution_count": 57,
   "metadata": {
    "collapsed": false
   },
   "outputs": [
    {
     "data": {
      "text/html": [
       "<div>\n",
       "<table border=\"1\" class=\"dataframe\">\n",
       "  <thead>\n",
       "    <tr style=\"text-align: right;\">\n",
       "      <th></th>\n",
       "      <th>cat</th>\n",
       "      <th>dog</th>\n",
       "      <th>fish</th>\n",
       "      <th>puppy</th>\n",
       "    </tr>\n",
       "  </thead>\n",
       "  <tbody>\n",
       "    <tr>\n",
       "      <th>0</th>\n",
       "      <td>0.125000</td>\n",
       "      <td>0.875</td>\n",
       "      <td>0.000000</td>\n",
       "      <td>0.000000</td>\n",
       "    </tr>\n",
       "    <tr>\n",
       "      <th>1</th>\n",
       "      <td>0.333333</td>\n",
       "      <td>0.000</td>\n",
       "      <td>0.333333</td>\n",
       "      <td>0.333333</td>\n",
       "    </tr>\n",
       "    <tr>\n",
       "      <th>2</th>\n",
       "      <td>0.500000</td>\n",
       "      <td>0.000</td>\n",
       "      <td>0.500000</td>\n",
       "      <td>0.000000</td>\n",
       "    </tr>\n",
       "  </tbody>\n",
       "</table>\n",
       "</div>"
      ],
      "text/plain": [
       "        cat    dog      fish     puppy\n",
       "0  0.125000  0.875  0.000000  0.000000\n",
       "1  0.333333  0.000  0.333333  0.333333\n",
       "2  0.500000  0.000  0.500000  0.000000"
      ]
     },
     "execution_count": 57,
     "metadata": {},
     "output_type": "execute_result"
    }
   ],
   "source": [
    "dtm_todf(dtm, vect)"
   ]
  },
  {
   "cell_type": "markdown",
   "metadata": {},
   "source": [
    "__norm = 'l2'__"
   ]
  },
  {
   "cell_type": "code",
   "execution_count": 58,
   "metadata": {
    "collapsed": true
   },
   "outputs": [],
   "source": [
    "tfidf = TfidfTransformer(norm='l2', use_idf=False)"
   ]
  },
  {
   "cell_type": "code",
   "execution_count": 59,
   "metadata": {
    "collapsed": true
   },
   "outputs": [],
   "source": [
    "dtm = tfidf.fit_transform(example_df)"
   ]
  },
  {
   "cell_type": "code",
   "execution_count": 60,
   "metadata": {
    "collapsed": false
   },
   "outputs": [
    {
     "data": {
      "text/html": [
       "<div>\n",
       "<table border=\"1\" class=\"dataframe\">\n",
       "  <thead>\n",
       "    <tr style=\"text-align: right;\">\n",
       "      <th></th>\n",
       "      <th>cat</th>\n",
       "      <th>dog</th>\n",
       "      <th>fish</th>\n",
       "      <th>puppy</th>\n",
       "    </tr>\n",
       "  </thead>\n",
       "  <tbody>\n",
       "    <tr>\n",
       "      <th>0</th>\n",
       "      <td>0.141421</td>\n",
       "      <td>0.989949</td>\n",
       "      <td>0.000000</td>\n",
       "      <td>0.00000</td>\n",
       "    </tr>\n",
       "    <tr>\n",
       "      <th>1</th>\n",
       "      <td>0.577350</td>\n",
       "      <td>0.000000</td>\n",
       "      <td>0.577350</td>\n",
       "      <td>0.57735</td>\n",
       "    </tr>\n",
       "    <tr>\n",
       "      <th>2</th>\n",
       "      <td>0.707107</td>\n",
       "      <td>0.000000</td>\n",
       "      <td>0.707107</td>\n",
       "      <td>0.00000</td>\n",
       "    </tr>\n",
       "  </tbody>\n",
       "</table>\n",
       "</div>"
      ],
      "text/plain": [
       "        cat       dog      fish    puppy\n",
       "0  0.141421  0.989949  0.000000  0.00000\n",
       "1  0.577350  0.000000  0.577350  0.57735\n",
       "2  0.707107  0.000000  0.707107  0.00000"
      ]
     },
     "execution_count": 60,
     "metadata": {},
     "output_type": "execute_result"
    }
   ],
   "source": [
    "dtm_todf(dtm, vect)"
   ]
  },
  {
   "cell_type": "markdown",
   "metadata": {},
   "source": [
    "What's the l2 norm doing to our document term matrix?"
   ]
  },
  {
   "cell_type": "code",
   "execution_count": 61,
   "metadata": {
    "collapsed": false
   },
   "outputs": [],
   "source": [
    "mat = example_df.as_matrix()"
   ]
  },
  {
   "cell_type": "code",
   "execution_count": 62,
   "metadata": {
    "collapsed": false
   },
   "outputs": [
    {
     "data": {
      "text/plain": [
       "[array([ 0.14142136,  0.98994949,  0.        ,  0.        ]),\n",
       " array([ 0.57735027,  0.        ,  0.57735027,  0.57735027]),\n",
       " array([ 0.70710678,  0.        ,  0.70710678,  0.        ])]"
      ]
     },
     "execution_count": 62,
     "metadata": {},
     "output_type": "execute_result"
    }
   ],
   "source": [
    "[np.sqrt(x**2/sum(x**2)) for x in mat]"
   ]
  },
  {
   "cell_type": "markdown",
   "metadata": {},
   "source": [
    "__norm = None__\n",
    "\n",
    "This is perhaps the least exciting norm, but it is still very important"
   ]
  },
  {
   "cell_type": "code",
   "execution_count": 63,
   "metadata": {
    "collapsed": true
   },
   "outputs": [],
   "source": [
    "tfidf = TfidfTransformer(norm=None, use_idf=False)"
   ]
  },
  {
   "cell_type": "code",
   "execution_count": 64,
   "metadata": {
    "collapsed": true
   },
   "outputs": [],
   "source": [
    "dtm = tfidf.fit_transform(example_df)"
   ]
  },
  {
   "cell_type": "code",
   "execution_count": 65,
   "metadata": {
    "collapsed": false
   },
   "outputs": [
    {
     "data": {
      "text/html": [
       "<div>\n",
       "<table border=\"1\" class=\"dataframe\">\n",
       "  <thead>\n",
       "    <tr style=\"text-align: right;\">\n",
       "      <th></th>\n",
       "      <th>cat</th>\n",
       "      <th>dog</th>\n",
       "      <th>fish</th>\n",
       "      <th>puppy</th>\n",
       "    </tr>\n",
       "  </thead>\n",
       "  <tbody>\n",
       "    <tr>\n",
       "      <th>0</th>\n",
       "      <td>1.0</td>\n",
       "      <td>7.0</td>\n",
       "      <td>0.0</td>\n",
       "      <td>0.0</td>\n",
       "    </tr>\n",
       "    <tr>\n",
       "      <th>1</th>\n",
       "      <td>1.0</td>\n",
       "      <td>0.0</td>\n",
       "      <td>1.0</td>\n",
       "      <td>1.0</td>\n",
       "    </tr>\n",
       "    <tr>\n",
       "      <th>2</th>\n",
       "      <td>1.0</td>\n",
       "      <td>0.0</td>\n",
       "      <td>1.0</td>\n",
       "      <td>0.0</td>\n",
       "    </tr>\n",
       "  </tbody>\n",
       "</table>\n",
       "</div>"
      ],
      "text/plain": [
       "   cat  dog  fish  puppy\n",
       "0  1.0  7.0   0.0    0.0\n",
       "1  1.0  0.0   1.0    1.0\n",
       "2  1.0  0.0   1.0    0.0"
      ]
     },
     "execution_count": 65,
     "metadata": {},
     "output_type": "execute_result"
    }
   ],
   "source": [
    "dtm_todf(dtm, vect)"
   ]
  },
  {
   "cell_type": "markdown",
   "metadata": {},
   "source": [
    "<a id='1.2.3.2'></a>\n",
    "#### 1.2.3.2 use_idf\n",
    "\n",
    "__use_idf :__ boolean, default=True\n",
    "\n",
    "Enable inverse-document-frequency reweighting."
   ]
  },
  {
   "cell_type": "markdown",
   "metadata": {},
   "source": [
    "__Example__\n",
    "\n",
    "We will show how use_idf=True will interact with the different norms"
   ]
  },
  {
   "cell_type": "code",
   "execution_count": 66,
   "metadata": {
    "collapsed": false
   },
   "outputs": [
    {
     "data": {
      "text/html": [
       "<div>\n",
       "<table border=\"1\" class=\"dataframe\">\n",
       "  <thead>\n",
       "    <tr style=\"text-align: right;\">\n",
       "      <th></th>\n",
       "      <th>cat</th>\n",
       "      <th>dog</th>\n",
       "      <th>fish</th>\n",
       "      <th>puppy</th>\n",
       "    </tr>\n",
       "  </thead>\n",
       "  <tbody>\n",
       "    <tr>\n",
       "      <th>0</th>\n",
       "      <td>1.0</td>\n",
       "      <td>11.85203</td>\n",
       "      <td>0.000000</td>\n",
       "      <td>0.000000</td>\n",
       "    </tr>\n",
       "    <tr>\n",
       "      <th>1</th>\n",
       "      <td>1.0</td>\n",
       "      <td>0.00000</td>\n",
       "      <td>1.287682</td>\n",
       "      <td>1.693147</td>\n",
       "    </tr>\n",
       "    <tr>\n",
       "      <th>2</th>\n",
       "      <td>1.0</td>\n",
       "      <td>0.00000</td>\n",
       "      <td>1.287682</td>\n",
       "      <td>0.000000</td>\n",
       "    </tr>\n",
       "  </tbody>\n",
       "</table>\n",
       "</div>"
      ],
      "text/plain": [
       "   cat       dog      fish     puppy\n",
       "0  1.0  11.85203  0.000000  0.000000\n",
       "1  1.0   0.00000  1.287682  1.693147\n",
       "2  1.0   0.00000  1.287682  0.000000"
      ]
     },
     "execution_count": 66,
     "metadata": {},
     "output_type": "execute_result"
    }
   ],
   "source": [
    "tfidf = TfidfTransformer(norm=None, use_idf=True)\n",
    "dtm = tfidf.fit_transform(example_df)\n",
    "dtm_todf(dtm, vect)"
   ]
  },
  {
   "cell_type": "code",
   "execution_count": 67,
   "metadata": {
    "collapsed": false
   },
   "outputs": [
    {
     "data": {
      "text/html": [
       "<div>\n",
       "<table border=\"1\" class=\"dataframe\">\n",
       "  <thead>\n",
       "    <tr style=\"text-align: right;\">\n",
       "      <th></th>\n",
       "      <th>cat</th>\n",
       "      <th>dog</th>\n",
       "      <th>fish</th>\n",
       "      <th>puppy</th>\n",
       "    </tr>\n",
       "  </thead>\n",
       "  <tbody>\n",
       "    <tr>\n",
       "      <th>0</th>\n",
       "      <td>0.077809</td>\n",
       "      <td>0.922191</td>\n",
       "      <td>0.000000</td>\n",
       "      <td>0.000000</td>\n",
       "    </tr>\n",
       "    <tr>\n",
       "      <th>1</th>\n",
       "      <td>0.251204</td>\n",
       "      <td>0.000000</td>\n",
       "      <td>0.323471</td>\n",
       "      <td>0.425325</td>\n",
       "    </tr>\n",
       "    <tr>\n",
       "      <th>2</th>\n",
       "      <td>0.437124</td>\n",
       "      <td>0.000000</td>\n",
       "      <td>0.562876</td>\n",
       "      <td>0.000000</td>\n",
       "    </tr>\n",
       "  </tbody>\n",
       "</table>\n",
       "</div>"
      ],
      "text/plain": [
       "        cat       dog      fish     puppy\n",
       "0  0.077809  0.922191  0.000000  0.000000\n",
       "1  0.251204  0.000000  0.323471  0.425325\n",
       "2  0.437124  0.000000  0.562876  0.000000"
      ]
     },
     "execution_count": 67,
     "metadata": {},
     "output_type": "execute_result"
    }
   ],
   "source": [
    "tfidf = TfidfTransformer(norm='l1', use_idf=True)\n",
    "dtm = tfidf.fit_transform(example_df)\n",
    "dtm_todf(dtm, vect)"
   ]
  },
  {
   "cell_type": "code",
   "execution_count": 68,
   "metadata": {
    "collapsed": false
   },
   "outputs": [
    {
     "data": {
      "text/html": [
       "<div>\n",
       "<table border=\"1\" class=\"dataframe\">\n",
       "  <thead>\n",
       "    <tr style=\"text-align: right;\">\n",
       "      <th></th>\n",
       "      <th>cat</th>\n",
       "      <th>dog</th>\n",
       "      <th>fish</th>\n",
       "      <th>puppy</th>\n",
       "    </tr>\n",
       "  </thead>\n",
       "  <tbody>\n",
       "    <tr>\n",
       "      <th>0</th>\n",
       "      <td>0.084075</td>\n",
       "      <td>0.996459</td>\n",
       "      <td>0.000000</td>\n",
       "      <td>0.000000</td>\n",
       "    </tr>\n",
       "    <tr>\n",
       "      <th>1</th>\n",
       "      <td>0.425441</td>\n",
       "      <td>0.000000</td>\n",
       "      <td>0.547832</td>\n",
       "      <td>0.720333</td>\n",
       "    </tr>\n",
       "    <tr>\n",
       "      <th>2</th>\n",
       "      <td>0.613356</td>\n",
       "      <td>0.000000</td>\n",
       "      <td>0.789807</td>\n",
       "      <td>0.000000</td>\n",
       "    </tr>\n",
       "  </tbody>\n",
       "</table>\n",
       "</div>"
      ],
      "text/plain": [
       "        cat       dog      fish     puppy\n",
       "0  0.084075  0.996459  0.000000  0.000000\n",
       "1  0.425441  0.000000  0.547832  0.720333\n",
       "2  0.613356  0.000000  0.789807  0.000000"
      ]
     },
     "execution_count": 68,
     "metadata": {},
     "output_type": "execute_result"
    }
   ],
   "source": [
    "tfidf = TfidfTransformer(norm='l2', use_idf=True)\n",
    "dtm = tfidf.fit_transform(example_df)\n",
    "dtm_todf(dtm, vect)"
   ]
  },
  {
   "cell_type": "markdown",
   "metadata": {},
   "source": [
    "<a id='2'></a>\n",
    "# 2 Modeling\n",
    "\n",
    "Now that we learned the basics we can begin the modeling process. There are many different algorithms and techniques but I will only cover two of the ones we tried in our practicum project.\n",
    "\n",
    "We will also split our data up here:"
   ]
  },
  {
   "cell_type": "code",
   "execution_count": 69,
   "metadata": {
    "collapsed": true
   },
   "outputs": [],
   "source": [
    "X_train, X_test, y_train, y_test = train_test_split(df['Text'], df['Target'], test_size=.2, random_state=0)"
   ]
  },
  {
   "cell_type": "markdown",
   "metadata": {},
   "source": [
    "<a id='2.1'></a>\n",
    "## 2.1 Multinomial Naive Bayes\n",
    "\n",
    "Multinomial Naive Bayes is known as a good dependable baseline for text classification\n",
    "\n",
    "__Advantages:__ \n",
    "\n",
    "  * Very fast\n",
    "  * Robust to irrelevant features\n",
    "  * Works well with little data\n",
    "  * Very hard to overfit due to simplicity\n",
    "\n",
    "__Disadvantages:__\n",
    "\n",
    "  * Will most likely underfit if independence assumption doesn't hold"
   ]
  },
  {
   "cell_type": "markdown",
   "metadata": {},
   "source": [
    "<a id='2.1.1'></a>\n",
    "### 2.1.1 Description\n",
    "\n",
    "\"The multinomial Naive Bayes classifier is suitable for classification with discrete features (e.g., word counts for text classification). The multinomial distribution normally requires integer feature counts. However, in practice, fractional counts such as tf-idf may also work.\""
   ]
  },
  {
   "cell_type": "markdown",
   "metadata": {},
   "source": [
    "<a id='2.1.2'></a>\n",
    "### 2.1.2 Example\n",
    "\n",
    "We will begin the modeling process with the actual dataset now"
   ]
  },
  {
   "cell_type": "markdown",
   "metadata": {},
   "source": [
    "We will just use the default parameters and see what they give us.\n",
    "\n",
    "__NOTE:__ Make sure you're not fitting CountVectorizer or TfidfTransformer with test data! This is cheating and no one likes a cheater!"
   ]
  },
  {
   "cell_type": "markdown",
   "metadata": {},
   "source": [
    "__FITTING TRAIN SET__"
   ]
  },
  {
   "cell_type": "code",
   "execution_count": 196,
   "metadata": {
    "collapsed": false
   },
   "outputs": [
    {
     "data": {
      "text/plain": [
       "MultinomialNB(alpha=1.0, class_prior=None, fit_prior=True)"
      ]
     },
     "execution_count": 196,
     "metadata": {},
     "output_type": "execute_result"
    }
   ],
   "source": [
    "cv = CountVectorizer()\n",
    "clf = MultinomialNB()\n",
    "\n",
    "X_train_dtm = cv.fit_transform(X_train)\n",
    "clf.fit(X_train_dtm, y_train)"
   ]
  },
  {
   "cell_type": "markdown",
   "metadata": {},
   "source": [
    "__PREDICTING TEST SET__"
   ]
  },
  {
   "cell_type": "code",
   "execution_count": 189,
   "metadata": {
    "collapsed": true
   },
   "outputs": [],
   "source": [
    "X_test_dtm = cv.transform(X_test)\n",
    "y_pred = clf.predict(X_test_dtm)"
   ]
  },
  {
   "cell_type": "markdown",
   "metadata": {},
   "source": [
    "__EVALUATING PREDICTIONS__"
   ]
  },
  {
   "cell_type": "code",
   "execution_count": 190,
   "metadata": {
    "collapsed": false
   },
   "outputs": [],
   "source": [
    "def evaluate_model(actual, prediction):\n",
    "    \n",
    "    print(\"Classification report: \\n{}\".format(classification_report(actual, prediction)))\n",
    "    print('Confusion Matrix: \\n{}'.format(confusion_matrix(actual, prediction)))\n",
    "    print('\\nAccuracy: {}'.format(accuracy_score(actual, prediction)))"
   ]
  },
  {
   "cell_type": "code",
   "execution_count": 191,
   "metadata": {
    "collapsed": false
   },
   "outputs": [
    {
     "name": "stdout",
     "output_type": "stream",
     "text": [
      "Classification report: \n",
      "             precision    recall  f1-score   support\n",
      "\n",
      "          0       0.99      0.82      0.89       114\n",
      "          1       0.97      0.97      0.97       132\n",
      "          2       0.94      0.98      0.96       117\n",
      "          3       0.88      0.97      0.92       116\n",
      "          4       0.92      0.95      0.94        88\n",
      "\n",
      "avg / total       0.94      0.94      0.94       567\n",
      "\n",
      "Confusion Matrix: \n",
      "[[ 93   2   3  13   3]\n",
      " [  0 128   1   3   0]\n",
      " [  0   0 115   0   2]\n",
      " [  1   1   0 112   2]\n",
      " [  0   1   3   0  84]]\n",
      "\n",
      "Accuracy: 0.9382716049382716\n"
     ]
    }
   ],
   "source": [
    "evaluate_model(y_test, y_pred)"
   ]
  },
  {
   "cell_type": "markdown",
   "metadata": {},
   "source": [
    "<a id='2.1.3'></a>\n",
    "### 2.1.3 Parameters\n",
    "\n",
    "One of the benefits of multinomial naive bayes is that there are very little parameters to tune"
   ]
  },
  {
   "cell_type": "markdown",
   "metadata": {
    "collapsed": true
   },
   "source": [
    "<a id='2.1.3.1'></a>\n",
    "#### 2.1.3.1 alpha\n",
    "\n",
    "__alpha :__ float, optional (default=1.0)\n",
    "\n",
    "Additive (Laplace/Lidstone) smoothing parameter (0 for no smoothing).\n",
    "\n",
    "__Example__\n",
    "\n",
    "We will show what a different alpha value does to coefficients and prediction power\n"
   ]
  },
  {
   "cell_type": "code",
   "execution_count": 124,
   "metadata": {
    "collapsed": false
   },
   "outputs": [],
   "source": [
    "values = []\n",
    "cv = CountVectorizer(max_features=2000)\n",
    "X_train_dtm = cv.fit_transform(X_train)\n",
    "X_test_dtm = cv.transform(X_test)\n",
    "\n",
    "for alpha in [.00001, .0001, .001, .01, .1, 1]:\n",
    "    \n",
    "    clf = MultinomialNB(alpha=alpha)\n",
    "    clf.fit(X_train_dtm, y_train)\n",
    "    y_pred = clf.predict(X_test_dtm)\n",
    "    y_pred_proba = clf.predict_proba(X_test_dtm)\n",
    "    values.append((alpha, classification_report(y_test, y_pred), confusion_matrix(y_test, y_pred)))"
   ]
  },
  {
   "cell_type": "code",
   "execution_count": 132,
   "metadata": {
    "collapsed": false
   },
   "outputs": [
    {
     "name": "stdout",
     "output_type": "stream",
     "text": [
      "alpha: 1 \n",
      "Classification Report:\n",
      "             precision    recall  f1-score   support\n",
      "\n",
      "          0       0.86      0.88      0.87       114\n",
      "          1       0.96      0.95      0.96       132\n",
      "          2       0.96      0.93      0.95       117\n",
      "          3       0.87      0.89      0.88       116\n",
      "          4       0.91      0.92      0.92        88\n",
      "\n",
      "avg / total       0.92      0.92      0.92       567\n",
      "\n",
      "Confusion Matrix:\n",
      "[[100   1   0  11   2]\n",
      " [  3 126   0   2   1]\n",
      " [  2   0 109   2   4]\n",
      " [  9   2   1 103   1]\n",
      " [  2   2   3   0  81]]\n"
     ]
    }
   ],
   "source": [
    "i = 5\n",
    "print('alpha: {} \\nClassification Report:\\n{}\\nConfusion Matrix:\\n{}'.format(values[i][0], values[i][1], values[i][2]))"
   ]
  },
  {
   "cell_type": "code",
   "execution_count": null,
   "metadata": {
    "collapsed": true
   },
   "outputs": [],
   "source": [
    "def get_ratio_df(clf, count_vect): \n",
    "    \n",
    "    names = count_vect.get_feature_names()\n",
    "    \n",
    "    target_dict = {}\n",
    "    total=None\n",
    "    for i, target in enumerate(train.target_names):\n",
    "        target_dict[i] = (clf.feature_count_[i] + 1)/clf.class_count_[i]\n",
    "        if total == None:\n",
    "            total = (clf.feature_count_[i] + 1)/clf.class_count_[i]\n",
    "        else:\n",
    "            total += (clf.feature_count_[i] + 1)/clf.class_count_[i]\n",
    "    ratio_dict = {}\n",
    "    for i, target in enumerate(train.target_names):\n",
    "        ratio_dict[target] = target_dict[i]/(total-target_dict[i])\n",
    "    ratio_dict['Token'] = names\n",
    "    ratio_df = pd.DataFrame(ratio_dict)\n",
    "    \n",
    "    return ratio_df"
   ]
  },
  {
   "cell_type": "code",
   "execution_count": null,
   "metadata": {
    "collapsed": true
   },
   "outputs": [],
   "source": [
    "def get_most_important(ratio_df, num, return_tokens=False):\n",
    "    \n",
    "    list_tokens = []\n",
    "    for column in ratio_df.columns[1:]:\n",
    "        ratio_df = ratio_df.sort_values(by=column, ascending=False)\n",
    "        list_tokens += ratio_df.iloc[:num]['Token'].tolist()\n",
    "        if return_tokens == False:\n",
    "            print(\"Most Frequent words for {}:\\n\".format(column), ratio_df[['Token', column]][:num])\n",
    "    if return_tokens == True:\n",
    "        return list(set(list_tokens))"
   ]
  },
  {
   "cell_type": "code",
   "execution_count": 192,
   "metadata": {
    "collapsed": false
   },
   "outputs": [
    {
     "data": {
      "text/plain": [
       "array([[ -5.24524532,  -8.20275638, -11.53496089, ..., -11.53496089,\n",
       "        -11.53496089, -11.53496089],\n",
       "       [ -6.6769344 ,  -7.91501282, -11.80683312, ..., -11.80683312,\n",
       "        -11.11368594, -11.80683312],\n",
       "       [ -8.7567229 ,  -9.36763198, -11.21345867, ..., -12.31207096,\n",
       "        -12.31207096, -12.31207096],\n",
       "       [ -8.65353625,  -9.05900136, -11.83159008, ..., -10.73297779,\n",
       "        -11.83159008, -10.73297779],\n",
       "       [ -8.86459023,  -8.08592087, -12.19679474, ..., -12.19679474,\n",
       "        -12.19679474, -12.19679474]])"
      ]
     },
     "execution_count": 192,
     "metadata": {},
     "output_type": "execute_result"
    }
   ],
   "source": [
    "clf.coef_"
   ]
  },
  {
   "cell_type": "markdown",
   "metadata": {},
   "source": [
    "<a id='2.2'></a>\n",
    "## 2.2 SGDClassifier\n",
    "\n",
    "__FROM SKLEARN [DOCUMENTATION](http://scikit-learn.org/stable/modules/generated/sklearn.linear_model.SGDClassifier.html#sklearn.linear_model.SGDClassifier):__\n",
    "\n",
    "Linear classifiers (SVM, logistic regression, a.o.) with SGD training.\n",
    "\n",
    "This estimator implements regularized linear models with stochastic gradient descent (SGD) learning: the gradient of the loss is estimated each sample at a time and the model is updated along the way with a decreasing strength schedule (aka learning rate). SGD allows minibatch (online/out-of-core) learning, see the partial_fit method. For best results using the default learning rate schedule, the data should have zero mean and unit variance.\n",
    "\n",
    "This implementation works with data represented as dense or sparse arrays of floating point values for the features. The model it fits can be controlled with the loss parameter; by default, it fits a linear support vector machine (SVM).\n",
    "\n",
    "The regularizer is a penalty added to the loss function that shrinks model parameters towards the zero vector using either the squared euclidean norm L2 or the absolute norm L1 or a combination of both (Elastic Net). If the parameter update crosses the 0.0 value because of the regularizer, the update is truncated to 0.0 to allow for learning sparse models and achieve online feature selection.\n",
    "\n",
    "\n",
    "<a id='2.2.1'></a>\n",
    "### 2.2.1 Description\n",
    "\n",
    "__FROM SKLEARN [DOCUMENTATION](http://scikit-learn.org/stable/modules/sgd.html):__\n",
    "\n",
    "Stochastic Gradient Descent (SGD) is a simple yet very efficient approach to discriminative learning of linear classifiers under convex loss functions such as (linear) Support Vector Machines and Logistic Regression. Even though SGD has been around in the machine learning community for a long time, it has received a considerable amount of attention just recently in the context of large-scale learning.\n",
    "\n",
    "SGD has been successfully applied to large-scale and sparse machine learning problems often encountered in text classification and natural language processing. Given that the data is sparse, the classifiers in this module easily scale to problems with more than 10^5 training examples and more than 10^5 features.\n",
    "\n",
    "The __advantages__ of Stochastic Gradient Descent are:\n",
    "\n",
    "  * Efficiency.\n",
    "  * Ease of implementation (lots of opportunities for code tuning).\n",
    "\n",
    "The __disadvantages__ of Stochastic Gradient Descent include:\n",
    "\n",
    "  * SGD requires a number of hyperparameters such as the regularization parameter and the number of iterations.\n",
    "  * SGD is sensitive to feature scaling."
   ]
  },
  {
   "cell_type": "markdown",
   "metadata": {},
   "source": [
    "<a id='2.2.2'></a>\n",
    "### 2.2.2 Example\n",
    "\n",
    "We will try SGD with the default parameters"
   ]
  },
  {
   "cell_type": "markdown",
   "metadata": {},
   "source": [
    "__FITTING THE TRAINING SET__"
   ]
  },
  {
   "cell_type": "code",
   "execution_count": 151,
   "metadata": {
    "collapsed": false
   },
   "outputs": [
    {
     "data": {
      "text/plain": [
       "SGDClassifier(alpha=0.0001, average=False, class_weight=None, epsilon=0.1,\n",
       "       eta0=0.0, fit_intercept=True, l1_ratio=0.15,\n",
       "       learning_rate='optimal', loss='hinge', n_iter=5, n_jobs=1,\n",
       "       penalty='l2', power_t=0.5, random_state=0, shuffle=True, verbose=0,\n",
       "       warm_start=False)"
      ]
     },
     "execution_count": 151,
     "metadata": {},
     "output_type": "execute_result"
    }
   ],
   "source": [
    "cv = CountVectorizer()\n",
    "clf = SGDClassifier(random_state=0)\n",
    "\n",
    "X_train_dtm = cv.fit_transform(X_train)\n",
    "clf.fit(X_train_dtm, y_train)"
   ]
  },
  {
   "cell_type": "markdown",
   "metadata": {},
   "source": [
    "__PREDICTING TEST__"
   ]
  },
  {
   "cell_type": "code",
   "execution_count": 152,
   "metadata": {
    "collapsed": true
   },
   "outputs": [],
   "source": [
    "X_test_dtm = cv.transform(X_test)\n",
    "y_pred = clf.predict(X_test_dtm)"
   ]
  },
  {
   "cell_type": "markdown",
   "metadata": {},
   "source": [
    "__EVALUATING MODEL__"
   ]
  },
  {
   "cell_type": "code",
   "execution_count": 153,
   "metadata": {
    "collapsed": false
   },
   "outputs": [
    {
     "name": "stdout",
     "output_type": "stream",
     "text": [
      "Classification report: \n",
      "             precision    recall  f1-score   support\n",
      "\n",
      "          0       0.70      0.92      0.79       114\n",
      "          1       0.79      0.97      0.87       132\n",
      "          2       0.79      0.98      0.88       117\n",
      "          3       0.80      0.10      0.18       116\n",
      "          4       0.86      0.92      0.89        88\n",
      "\n",
      "avg / total       0.78      0.78      0.72       567\n",
      "\n",
      "Confusion Matrix: \n",
      "[[105   3   1   3   2]\n",
      " [  2 128   1   0   1]\n",
      " [  0   1 115   0   1]\n",
      " [ 43  28  24  12   9]\n",
      " [  1   2   4   0  81]]\n",
      "\n",
      "Accuracy: 0.7777777777777778\n"
     ]
    }
   ],
   "source": [
    "evaluate_model(y_test, y_pred)"
   ]
  },
  {
   "cell_type": "markdown",
   "metadata": {},
   "source": [
    "Interesting, why didn't this model perform better than multinomial naive bayes?"
   ]
  },
  {
   "cell_type": "code",
   "execution_count": 154,
   "metadata": {
    "collapsed": false
   },
   "outputs": [
    {
     "name": "stdout",
     "output_type": "stream",
     "text": [
      "Classification report: \n",
      "             precision    recall  f1-score   support\n",
      "\n",
      "          0       0.95      0.91      0.93       114\n",
      "          1       0.98      0.98      0.98       132\n",
      "          2       0.97      0.97      0.97       117\n",
      "          3       0.91      0.97      0.94       116\n",
      "          4       0.98      0.94      0.96        88\n",
      "\n",
      "avg / total       0.96      0.96      0.96       567\n",
      "\n",
      "Confusion Matrix: \n",
      "[[104   1   0   8   1]\n",
      " [  1 129   1   1   0]\n",
      " [  0   0 114   2   1]\n",
      " [  2   0   1 113   0]\n",
      " [  2   1   2   0  83]]\n",
      "\n",
      "Accuracy: 0.9576719576719577\n"
     ]
    }
   ],
   "source": [
    "tfidf = TfidfTransformer()\n",
    "X_train_dtm = tfidf.fit_transform(X_train_dtm)\n",
    "X_test_dtm = tfidf.transform(X_test_dtm)\n",
    "clf.fit(X_train_dtm, y_train)\n",
    "y_pred = clf.predict(X_test_dtm)\n",
    "evaluate_model(y_test, y_pred)"
   ]
  },
  {
   "cell_type": "markdown",
   "metadata": {},
   "source": [
    "<a id='2.2.3'></a>\n",
    "### 2.2.3 Parameters\n",
    "\n",
    "SGDClassifier has many parameters, we'll examine a few of the more important ones"
   ]
  },
  {
   "cell_type": "markdown",
   "metadata": {},
   "source": [
    "<a id='2.2.3.1'></a>\n",
    "#### 2.2.3.1 loss\n",
    "\n",
    "__loss :__ str, ‘hinge’, ‘log’, ‘modified_huber’, ‘squared_hinge’, ‘perceptron’, or a regression loss: ‘squared_loss’, ‘huber’, ‘epsilon_insensitive’, or ‘squared_epsilon_insensitive’\n",
    "\n",
    "The loss function to be used. Defaults to ‘hinge’, which gives a linear SVM. The ‘log’ loss gives logistic regression, a probabilistic classifier. ‘modified_huber’ is another smooth loss that brings tolerance to outliers as well as probability estimates. ‘squared_hinge’ is like hinge but is quadratically penalized. ‘perceptron’ is the linear loss used by the perceptron algorithm. The other losses are designed for regression but can be useful in classification as well; see SGDRegressor for a description."
   ]
  },
  {
   "cell_type": "markdown",
   "metadata": {},
   "source": [
    "__Example__\n",
    "\n",
    "We will try a few different loss functions to see their effect"
   ]
  },
  {
   "cell_type": "markdown",
   "metadata": {},
   "source": [
    "__loss: \"log\"__"
   ]
  },
  {
   "cell_type": "code",
   "execution_count": 149,
   "metadata": {
    "collapsed": false
   },
   "outputs": [
    {
     "name": "stdout",
     "output_type": "stream",
     "text": [
      "Classification report: \n",
      "             precision    recall  f1-score   support\n",
      "\n",
      "          0       0.95      0.91      0.93       114\n",
      "          1       0.98      0.97      0.97       132\n",
      "          2       0.97      0.97      0.97       117\n",
      "          3       0.92      0.97      0.95       116\n",
      "          4       0.98      0.94      0.96        88\n",
      "\n",
      "avg / total       0.96      0.96      0.96       567\n",
      "\n",
      "Confusion Matrix: \n",
      "[[104   2   0   7   1]\n",
      " [  2 128   1   1   0]\n",
      " [  0   0 114   2   1]\n",
      " [  2   0   1 113   0]\n",
      " [  2   1   2   0  83]]\n",
      "\n",
      "Accuracy: 0.9559082892416225\n"
     ]
    }
   ],
   "source": [
    "cv = CountVectorizer()\n",
    "clf = SGDClassifier(loss='log', random_state=0)\n",
    "tfidf = TfidfTransformer()\n",
    "\n",
    "X_train_dtm = cv.fit_transform(X_train)\n",
    "X_test_dtm = cv.transform(X_test)\n",
    "\n",
    "X_train_dtm = tfidf.fit_transform(X_train_dtm)\n",
    "X_test_dtm = tfidf.transform(X_test_dtm)\n",
    "\n",
    "clf.fit(X_train_dtm, y_train)\n",
    "y_pred = clf.predict(X_test_dtm)\n",
    "evaluate_model(y_test, y_pred)"
   ]
  },
  {
   "cell_type": "markdown",
   "metadata": {},
   "source": [
    "__loss: \"modified_huber\"__"
   ]
  },
  {
   "cell_type": "code",
   "execution_count": 150,
   "metadata": {
    "collapsed": false
   },
   "outputs": [
    {
     "name": "stdout",
     "output_type": "stream",
     "text": [
      "Classification report: \n",
      "             precision    recall  f1-score   support\n",
      "\n",
      "          0       0.93      0.95      0.94       114\n",
      "          1       0.99      0.98      0.99       132\n",
      "          2       0.97      0.98      0.97       117\n",
      "          3       0.94      0.94      0.94       116\n",
      "          4       0.98      0.94      0.96        88\n",
      "\n",
      "avg / total       0.96      0.96      0.96       567\n",
      "\n",
      "Confusion Matrix: \n",
      "[[108   0   0   5   1]\n",
      " [  1 130   0   1   0]\n",
      " [  0   0 115   1   1]\n",
      " [  6   0   1 109   0]\n",
      " [  1   1   3   0  83]]\n",
      "\n",
      "Accuracy: 0.9611992945326279\n"
     ]
    }
   ],
   "source": [
    "cv = CountVectorizer()\n",
    "clf = SGDClassifier(loss='modified_huber', random_state=0)\n",
    "tfidf = TfidfTransformer()\n",
    "\n",
    "X_train_dtm = cv.fit_transform(X_train)\n",
    "X_test_dtm = cv.transform(X_test)\n",
    "\n",
    "X_train_dtm = tfidf.fit_transform(X_train_dtm)\n",
    "X_test_dtm = tfidf.transform(X_test_dtm)\n",
    "\n",
    "clf.fit(X_train_dtm, y_train)\n",
    "y_pred = clf.predict(X_test_dtm)\n",
    "evaluate_model(y_test, y_pred)"
   ]
  },
  {
   "cell_type": "markdown",
   "metadata": {},
   "source": [
    "__loss: \"squared_hinge\"__"
   ]
  },
  {
   "cell_type": "code",
   "execution_count": 155,
   "metadata": {
    "collapsed": false
   },
   "outputs": [
    {
     "name": "stdout",
     "output_type": "stream",
     "text": [
      "Classification report: \n",
      "             precision    recall  f1-score   support\n",
      "\n",
      "          0       0.90      0.82      0.86       114\n",
      "          1       0.79      0.93      0.85       132\n",
      "          2       0.95      0.94      0.94       117\n",
      "          3       0.81      0.84      0.82       116\n",
      "          4       0.97      0.78      0.87        88\n",
      "\n",
      "avg / total       0.88      0.87      0.87       567\n",
      "\n",
      "Confusion Matrix: \n",
      "[[ 94   5   0  14   1]\n",
      " [  2 123   0   7   0]\n",
      " [  1   3 110   2   1]\n",
      " [  6  12   1  97   0]\n",
      " [  1  13   5   0  69]]\n",
      "\n",
      "Accuracy: 0.8694885361552028\n"
     ]
    }
   ],
   "source": [
    "cv = CountVectorizer()\n",
    "clf = SGDClassifier(loss='squared_hinge', random_state=0)\n",
    "tfidf = TfidfTransformer()\n",
    "\n",
    "X_train_dtm = cv.fit_transform(X_train)\n",
    "X_test_dtm = cv.transform(X_test)\n",
    "\n",
    "X_train_dtm = tfidf.fit_transform(X_train_dtm)\n",
    "X_test_dtm = tfidf.transform(X_test_dtm)\n",
    "\n",
    "clf.fit(X_train_dtm, y_train)\n",
    "y_pred = clf.predict(X_test_dtm)\n",
    "evaluate_model(y_test, y_pred)"
   ]
  },
  {
   "cell_type": "markdown",
   "metadata": {},
   "source": [
    "__loss: \"perceptron\"__"
   ]
  },
  {
   "cell_type": "code",
   "execution_count": 201,
   "metadata": {
    "collapsed": false
   },
   "outputs": [
    {
     "name": "stdout",
     "output_type": "stream",
     "text": [
      "Classification report: \n",
      "             precision    recall  f1-score   support\n",
      "\n",
      "          0       0.96      0.86      0.91       114\n",
      "          1       0.96      0.98      0.97       132\n",
      "          2       0.97      0.98      0.98       117\n",
      "          3       0.89      0.97      0.93       116\n",
      "          4       0.98      0.95      0.97        88\n",
      "\n",
      "avg / total       0.95      0.95      0.95       567\n",
      "\n",
      "Confusion Matrix: \n",
      "[[ 98   4   0  11   1]\n",
      " [  0 130   0   2   0]\n",
      " [  0   0 115   1   1]\n",
      " [  3   1   0 112   0]\n",
      " [  1   0   3   0  84]]\n",
      "\n",
      "Accuracy: 0.9506172839506173\n"
     ]
    }
   ],
   "source": [
    "cv = CountVectorizer()\n",
    "clf = SGDClassifier(loss='perceptron', random_state=0)\n",
    "tfidf = TfidfTransformer()\n",
    "\n",
    "X_train_dtm = cv.fit_transform(X_train)\n",
    "X_test_dtm = cv.transform(X_test)\n",
    "\n",
    "X_train_dtm = tfidf.fit_transform(X_train_dtm)\n",
    "X_test_dtm = tfidf.transform(X_test_dtm)\n",
    "\n",
    "clf.fit(X_train_dtm, y_train)\n",
    "y_pred = clf.predict(X_test_dtm)\n",
    "evaluate_model(y_test, y_pred)"
   ]
  },
  {
   "cell_type": "markdown",
   "metadata": {},
   "source": [
    "<a id='2.2.3.2'></a>\n",
    "#### 2.2.3.2 penalty\n",
    "\n",
    "__penalty :__ str, ‘none’, ‘l2’, ‘l1’, or ‘elasticnet’\n",
    "\n",
    "The penalty (aka regularization term) to be used. Defaults to ‘l2’ which is the standard regularizer for linear SVM models. ‘l1’ and ‘elasticnet’ might bring sparsity to the model (feature selection) not achievable with ‘l2’."
   ]
  },
  {
   "cell_type": "code",
   "execution_count": null,
   "metadata": {
    "collapsed": true
   },
   "outputs": [],
   "source": []
  },
  {
   "cell_type": "markdown",
   "metadata": {},
   "source": [
    "<a id='2.2.3.3'></a>\n",
    "#### 2.2.3.3 alpha"
   ]
  },
  {
   "cell_type": "markdown",
   "metadata": {},
   "source": [
    "__alpha :__ float\n",
    "\n",
    "Constant that multiplies the regularization term. Defaults to 0.0001 Also used to compute learning_rate when set to ‘optimal’."
   ]
  },
  {
   "cell_type": "markdown",
   "metadata": {},
   "source": [
    "__Example__\n",
    "\n",
    "We will plot a range of alpha values to see how they affect our test sample's accuracy"
   ]
  },
  {
   "cell_type": "code",
   "execution_count": 175,
   "metadata": {
    "collapsed": false
   },
   "outputs": [
    {
     "data": {
      "image/png": "[encoded data removed]",
      "text/plain": [
       "<matplotlib.figure.Figure at 0x14978898>"
      ]
     },
     "metadata": {},
     "output_type": "display_data"
    }
   ],
   "source": [
    "# values = []\n",
    "cv = CountVectorizer()\n",
    "tfidf = TfidfTransformer()\n",
    "\n",
    "X_train_dtm = cv.fit_transform(X_train)\n",
    "X_test_dtm = cv.transform(X_test)\n",
    "X_train_dtm = tfidf.fit_transform(X_train_dtm)\n",
    "X_test_dtm = tfidf.transform(X_test_dtm)\n",
    "\n",
    "for alpha in list(np.logspace(.00001, .01)):\n",
    "    \n",
    "    clf = SGDClassifier(random_state=0, alpha=np.log(alpha), penalty='l2')\n",
    "    clf.fit(X_train_dtm, y_train)\n",
    "    y_pred = clf.predict(X_test_dtm)\n",
    "    plt.scatter(alpha, accuracy_score(y_test, y_pred))\n",
    "    plt.scatter(alpha, accuracy_score(y_train, clf.predict(X_train_dtm)), color='red')"
   ]
  },
  {
   "cell_type": "code",
   "execution_count": 220,
   "metadata": {
    "collapsed": true
   },
   "outputs": [],
   "source": [
    "def get_important_df(sgd_clf, vect):\n",
    "    \n",
    "    sgd_clf.densify()\n",
    "    ndf = pd.DataFrame(clf.coef_.T, columns=train.target_names)\n",
    "    ndf['Token'] = cv.get_feature_names()\n",
    "    return ndf"
   ]
  },
  {
   "cell_type": "code",
   "execution_count": 247,
   "metadata": {
    "collapsed": true
   },
   "outputs": [],
   "source": [
    "def get_most_important(ratio_df, num, return_tokens=False, ascending=False):\n",
    "    \n",
    "    list_tokens = []\n",
    "    for column in ratio_df.columns[:-1]:\n",
    "        ratio_df = ratio_df.sort_values(by=column, ascending=ascending)\n",
    "        list_tokens += ratio_df.iloc[:num]['Token'].tolist()\n",
    "        if return_tokens == False:\n",
    "            print(\"Token coefficients for {}:\\n\".format(column), ratio_df[['Token', column]][:num])\n",
    "    if return_tokens == True:\n",
    "        return list(set(list_tokens))\n",
    "     "
   ]
  },
  {
   "cell_type": "code",
   "execution_count": 225,
   "metadata": {
    "collapsed": true
   },
   "outputs": [],
   "source": [
    "mdf = get_important_df(clf, cv)"
   ]
  },
  {
   "cell_type": "code",
   "execution_count": 251,
   "metadata": {
    "collapsed": false
   },
   "outputs": [],
   "source": [
    "get_most_important(mdf, 10)"
   ]
  },
  {
   "cell_type": "code",
   "execution_count": 241,
   "metadata": {
    "collapsed": true
   },
   "outputs": [],
   "source": [
    "def plot_important_features(coef, feature_names, top_n=20, ax=None):\n",
    "    if ax is None:\n",
    "        ax = plt.gca()\n",
    "    inds = np.argsort(coef)\n",
    "    low = inds[:top_n]\n",
    "    high = inds[-top_n:]\n",
    "    important = np.hstack([low, high])\n",
    "    myrange = range(len(important))\n",
    "\n",
    "    ax.bar(myrange, coef[important])\n",
    "    ax.set_xticks(myrange)\n",
    "    ax.set_xticklabels(feature_names[important], rotation=60, ha=\"right\")"
   ]
  },
  {
   "cell_type": "code",
   "execution_count": 243,
   "metadata": {
    "collapsed": false
   },
   "outputs": [
    {
     "data": {
      "image/png": "[encoded data removed]",
      "text/plain": [
       "<matplotlib.figure.Figure at 0xc754fd0>"
      ]
     },
     "metadata": {},
     "output_type": "display_data"
    }
   ],
   "source": [
    "names = pd.Series(cv.get_feature_names())\n",
    "plt.figure(figsize=(12,8))\n",
    "plot_important_features(mdf['talk.politics.misc'], names)"
   ]
  },
  {
   "cell_type": "code",
   "execution_count": 253,
   "metadata": {
    "collapsed": true
   },
   "outputs": [],
   "source": [
    "top_words = get_most_important(mdf, 100, return_tokens=True, ascending=True)"
   ]
  },
  {
   "cell_type": "code",
   "execution_count": 254,
   "metadata": {
    "collapsed": true
   },
   "outputs": [],
   "source": [
    "top_words += get_most_important(mdf, 100, return_tokens=True, ascending=False)"
   ]
  },
  {
   "cell_type": "code",
   "execution_count": 255,
   "metadata": {
    "collapsed": false
   },
   "outputs": [
    {
     "data": {
      "text/plain": [
       "945"
      ]
     },
     "execution_count": 255,
     "metadata": {},
     "output_type": "execute_result"
    }
   ],
   "source": [
    "len(top_words)"
   ]
  },
  {
   "cell_type": "code",
   "execution_count": 256,
   "metadata": {
    "collapsed": false
   },
   "outputs": [
    {
     "data": {
      "text/plain": [
       "775"
      ]
     },
     "execution_count": 256,
     "metadata": {},
     "output_type": "execute_result"
    }
   ],
   "source": [
    "len(set(top_words))"
   ]
  },
  {
   "cell_type": "code",
   "execution_count": 257,
   "metadata": {
    "collapsed": false
   },
   "outputs": [
    {
     "name": "stdout",
     "output_type": "stream",
     "text": [
      "Classification report: \n",
      "             precision    recall  f1-score   support\n",
      "\n",
      "          0       0.95      0.85      0.90       114\n",
      "          1       0.99      0.91      0.95       132\n",
      "          2       0.96      0.97      0.96       117\n",
      "          3       0.82      0.95      0.88       116\n",
      "          4       0.91      0.95      0.93        88\n",
      "\n",
      "avg / total       0.93      0.92      0.92       567\n",
      "\n",
      "Confusion Matrix: \n",
      "[[ 97   0   1  15   1]\n",
      " [  1 120   1   7   3]\n",
      " [  0   1 113   1   2]\n",
      " [  4   0   0 110   2]\n",
      " [  0   0   3   1  84]]\n",
      "\n",
      "Accuracy: 0.9241622574955908\n"
     ]
    }
   ],
   "source": [
    "cv = CountVectorizer(vocabulary=set(top_words))\n",
    "clf = SGDClassifier(random_state=0)\n",
    "tfidf = TfidfTransformer()\n",
    "\n",
    "X_train_dtm = cv.fit_transform(X_train)\n",
    "X_test_dtm = cv.transform(X_test)\n",
    "\n",
    "X_train_dtm = tfidf.fit_transform(X_train_dtm)\n",
    "X_test_dtm = tfidf.transform(X_test_dtm)\n",
    "\n",
    "clf.fit(X_train_dtm, y_train)\n",
    "y_pred = clf.predict(X_test_dtm)\n",
    "evaluate_model(y_test, y_pred)"
   ]
  },
  {
   "cell_type": "code",
   "execution_count": 259,
   "metadata": {
    "collapsed": false
   },
   "outputs": [
    {
     "name": "stdout",
     "output_type": "stream",
     "text": [
      "Classification report: \n",
      "             precision    recall  f1-score   support\n",
      "\n",
      "          0       0.93      0.88      0.90       114\n",
      "          1       0.93      0.95      0.94       132\n",
      "          2       0.92      0.93      0.93       117\n",
      "          3       0.85      0.84      0.85       116\n",
      "          4       0.89      0.94      0.92        88\n",
      "\n",
      "avg / total       0.91      0.91      0.91       567\n",
      "\n",
      "Confusion Matrix: \n",
      "[[100   0   1  12   1]\n",
      " [  1 125   1   1   4]\n",
      " [  2   0 109   3   3]\n",
      " [  4   9   3  98   2]\n",
      " [  0   0   4   1  83]]\n",
      "\n",
      "Accuracy: 0.908289241622575\n"
     ]
    }
   ],
   "source": [
    "cv = CountVectorizer(stop_words='english', max_df=.4, max_features=800)\n",
    "clf = SGDClassifier(random_state=0)\n",
    "tfidf = TfidfTransformer()\n",
    "\n",
    "X_train_dtm = cv.fit_transform(X_train)\n",
    "X_test_dtm = cv.transform(X_test)\n",
    "\n",
    "X_train_dtm = tfidf.fit_transform(X_train_dtm)\n",
    "X_test_dtm = tfidf.transform(X_test_dtm)\n",
    "\n",
    "clf.fit(X_train_dtm, y_train)\n",
    "y_pred = clf.predict(X_test_dtm)\n",
    "evaluate_model(y_test, y_pred)"
   ]
  },
  {
   "cell_type": "code",
   "execution_count": 441,
   "metadata": {
    "collapsed": false
   },
   "outputs": [],
   "source": [
    "results = []\n",
    "start = 50#50\n",
    "end = 400#200\n",
    "intervals = np.linspace(start, end, num=10)\n",
    "for num in [int(x) for x in intervals]:\n",
    "    \n",
    "    best_tokens = get_most_important(mdf, num, return_tokens=True, ascending=False)\n",
    "    best_tokens += get_most_important(mdf, num, return_tokens=True, ascending=True)\n",
    "    \n",
    "    best_cv = CountVectorizer(vocabulary=set(best_tokens), ngram_range=(1,1))\n",
    "    best_tfidf = TfidfTransformer()\n",
    "    \n",
    "    best_train_dtm = best_cv.fit_transform(X_train)\n",
    "    \n",
    "    best_nb = MultinomialNB()\n",
    "    best_nb.fit(best_train_dtm, y_train)\n",
    "    best_nb_acc = accuracy_score(y_test, best_nb.predict(best_cv.transform(X_test)))\n",
    "    \n",
    "    best_sgd = SGDClassifier(random_state=0)\n",
    "    best_train_dtm = best_tfidf.fit_transform(best_train_dtm)\n",
    "    best_test_dtm = best_tfidf.transform(best_cv.transform(X_test))\n",
    "    best_sgd.fit(best_train_dtm, y_train)\n",
    "    \n",
    "    best_sgd_acc = accuracy_score(y_test, best_sgd.predict(best_test_dtm))\n",
    "                                 \n",
    "    \n",
    "    max_cv = CountVectorizer(max_features=len(set(best_tokens)), ngram_range=(1,1), stop_words='english', max_df=.2)\n",
    "    max_tfidf = TfidfTransformer()\n",
    "    max_train_dtm = max_cv.fit_transform(X_train)\n",
    "    \n",
    "    max_nb = MultinomialNB()\n",
    "    max_nb.fit(max_train_dtm, y_train)\n",
    "    max_nb_acc = accuracy_score(y_test, max_nb.predict(max_cv.transform(X_test)))\n",
    "                                  \n",
    "    max_sgd = SGDClassifier(random_state=0)\n",
    "    max_train_dtm = max_tfidf.fit_transform(max_train_dtm)\n",
    "    max_test_dtm = max_tfidf.transform(max_cv.transform(X_test))\n",
    "    max_sgd.fit(max_train_dtm, y_train)\n",
    "    max_sgd_acc = accuracy_score(y_test, max_sgd.predict(max_cv.transform(X_test)))\n",
    "    \n",
    "    results.append((len(set(best_tokens)), best_nb_acc, best_sgd_acc, max_nb_acc, max_sgd_acc))                            "
   ]
  },
  {
   "cell_type": "code",
   "execution_count": 442,
   "metadata": {
    "collapsed": true
   },
   "outputs": [],
   "source": [
    "results_df = pd.DataFrame(results, columns=['Num_Features', 'Best_NB', 'Best_SGD', 'Max_NB', 'Max_SGD'])"
   ]
  },
  {
   "cell_type": "code",
   "execution_count": 443,
   "metadata": {
    "collapsed": false
   },
   "outputs": [
    {
     "data": {
      "text/plain": [
       "<matplotlib.axes._subplots.AxesSubplot at 0x15fc01d0>"
      ]
     },
     "execution_count": 443,
     "metadata": {},
     "output_type": "execute_result"
    },
    {
     "data": {
      "text/plain": [
       "<matplotlib.figure.Figure at 0x16440e10>"
      ]
     },
     "metadata": {},
     "output_type": "display_data"
    },
    {
     "data": {
      "image/png": "[encoded data removed]",
      "text/plain": [
       "<matplotlib.figure.Figure at 0x13625240>"
      ]
     },
     "metadata": {},
     "output_type": "display_data"
    }
   ],
   "source": [
    "plt.figure(figsize=(8,8))\n",
    "results_df.set_index('Num_Features').plot()"
   ]
  },
  {
   "cell_type": "markdown",
   "metadata": {},
   "source": [
    "<a id='3'></a>\n",
    "# 3 Tuning Models\n",
    "\n",
    "The models default parameters give us a good model, but if we want a great model we'll have to start turning the knobs and find our own optimal parameters"
   ]
  },
  {
   "cell_type": "markdown",
   "metadata": {},
   "source": [
    "<a id='3.1'></a>\n",
    "## 3.1 Pipeline\n",
    "\n",
    "Typing new parameters and keeping track of their results is a pain, lucky for us sklearn has a wonderful class called pipeline so we don't have to do that."
   ]
  },
  {
   "cell_type": "markdown",
   "metadata": {},
   "source": [
    "<a id='3.1.1'></a>\n",
    "### 3.1.1 Description\n",
    "\n",
    "__FROM SKLEARN [DOCUMENTATION](http://scikit-learn.org/stable/modules/generated/sklearn.pipeline.Pipeline.html):__\n",
    "\n",
    "Pipeline of transforms with a final estimator.\n",
    "\n",
    "Sequentially apply a list of transforms and a final estimator. Intermediate steps of the pipeline must be ‘transforms’, that is, they must implement fit and transform methods. The final estimator only needs to implement fit.\n",
    "\n",
    "The purpose of the pipeline is to assemble several steps that can be cross-validated together while setting different parameters. For this, it enables setting parameters of the various steps using their names and the parameter name separated by a ‘\\_\\_’, as in the example below. A step’s estimator may be replaced entirely by setting the parameter with its name to another estimator, or a transformer removed by setting to None."
   ]
  },
  {
   "cell_type": "markdown",
   "metadata": {},
   "source": [
    "<a id='3.1.2'></a>\n",
    "### 3.1.2 Example\n",
    "\n",
    "__1.__ We'll create a simple pipeline for SGDClassifier using the [make_pipeline](http://scikit-learn.org/stable/modules/generated/sklearn.pipeline.make_pipeline.html) function in sklearn"
   ]
  },
  {
   "cell_type": "code",
   "execution_count": 287,
   "metadata": {
    "collapsed": false
   },
   "outputs": [
    {
     "name": "stdout",
     "output_type": "stream",
     "text": [
      "Classification report: \n",
      "             precision    recall  f1-score   support\n",
      "\n",
      "          0       0.95      0.91      0.93       114\n",
      "          1       0.98      0.98      0.98       132\n",
      "          2       0.97      0.97      0.97       117\n",
      "          3       0.91      0.97      0.94       116\n",
      "          4       0.98      0.94      0.96        88\n",
      "\n",
      "avg / total       0.96      0.96      0.96       567\n",
      "\n",
      "Confusion Matrix: \n",
      "[[104   1   0   8   1]\n",
      " [  1 129   1   1   0]\n",
      " [  0   0 114   2   1]\n",
      " [  2   0   1 113   0]\n",
      " [  2   1   2   0  83]]\n",
      "\n",
      "Accuracy: 0.9576719576719577\n"
     ]
    }
   ],
   "source": [
    "pipe = make_pipeline(CountVectorizer(), TfidfTransformer(), SGDClassifier(random_state=0))\n",
    "\n",
    "pipe.fit(X_train, y_train)\n",
    "y_pred = pipe.predict(X_test)\n",
    "evaluate_model(y_test, y_pred)"
   ]
  },
  {
   "cell_type": "markdown",
   "metadata": {},
   "source": [
    "__2.__ We'll now build a pipeline without the make_pipeline helper function"
   ]
  },
  {
   "cell_type": "code",
   "execution_count": 288,
   "metadata": {
    "collapsed": false
   },
   "outputs": [
    {
     "name": "stdout",
     "output_type": "stream",
     "text": [
      "Classification report: \n",
      "             precision    recall  f1-score   support\n",
      "\n",
      "          0       0.95      0.91      0.93       114\n",
      "          1       0.98      0.98      0.98       132\n",
      "          2       0.97      0.97      0.97       117\n",
      "          3       0.91      0.97      0.94       116\n",
      "          4       0.98      0.94      0.96        88\n",
      "\n",
      "avg / total       0.96      0.96      0.96       567\n",
      "\n",
      "Confusion Matrix: \n",
      "[[104   1   0   8   1]\n",
      " [  1 129   1   1   0]\n",
      " [  0   0 114   2   1]\n",
      " [  2   0   1 113   0]\n",
      " [  2   1   2   0  83]]\n",
      "\n",
      "Accuracy: 0.9576719576719577\n"
     ]
    }
   ],
   "source": [
    "pipeline = Pipeline([\n",
    "        ('cv', CountVectorizer()),\n",
    "        ('tfidf', TfidfTransformer()),\n",
    "        ('sgd', SGDClassifier(random_state=0))\n",
    "    ])\n",
    "pipe.fit(X_train, y_train)\n",
    "y_pred = pipe.predict(X_test)\n",
    "evaluate_model(y_test, y_pred)"
   ]
  },
  {
   "cell_type": "markdown",
   "metadata": {},
   "source": [
    "<a id='3.2'></a>\n",
    "## 3.2 Parameter Search\n",
    "\n",
    "The main reason these pipelines are used is to help people with parameter searching. There are two popular parameter search classes in sklearn"
   ]
  },
  {
   "cell_type": "markdown",
   "metadata": {},
   "source": [
    "<a id='3.2.1'></a>\n",
    "### 3.2.1 GridSearchCV\n",
    "\n",
    "This is most well known searching technique in sklearn\n",
    "\n",
    "<a id='3.2.1.1'></a>\n",
    "#### 3.2.1.1 Description\n",
    "\n",
    "__FROM SKLEARN [DOCUMENTATION](http://scikit-learn.org/stable/modules/generated/sklearn.model_selection.GridSearchCV.html):__\n",
    "\n",
    "Exhaustive search over specified parameter values for an estimator.\n",
    "\n",
    "Important members are fit, predict.\n",
    "\n",
    "GridSearchCV implements a “fit” and a “score” method. It also implements “predict”, “predict_proba”, “decision_function”, “transform” and “inverse_transform” if they are implemented in the estimator used.\n",
    "\n",
    "The parameters of the estimator used to apply these methods are optimized by cross-validated grid-search over a parameter grid.\n",
    "\n",
    "<a id='3.2.1.2'></a>\n",
    "#### 3.2.1.2 Example\n",
    "\n",
    "We'll show a small grid search for the optimal parameters for our multinomial naive bayes model"
   ]
  },
  {
   "cell_type": "code",
   "execution_count": 308,
   "metadata": {
    "collapsed": false
   },
   "outputs": [
    {
     "name": "stdout",
     "output_type": "stream",
     "text": [
      "Fitting 5 folds for each of 8 candidates, totalling 40 fits\n"
     ]
    },
    {
     "name": "stderr",
     "output_type": "stream",
     "text": [
      "[Parallel(n_jobs=-1)]: Done  40 out of  40 | elapsed:   37.8s finished\n"
     ]
    },
    {
     "name": "stdout",
     "output_type": "stream",
     "text": [
      "Best CV Score: 0.96\n",
      "Best parameters: {'countvectorizer__ngram_range': (1, 2), 'tfidftransformer__use_idf': True, 'tfidftransformer__norm': None}\n",
      "Classification report for test sample held out: \n",
      "             precision    recall  f1-score   support\n",
      "\n",
      "          0       0.96      0.87      0.91       114\n",
      "          1       0.98      0.97      0.97       132\n",
      "          2       0.96      0.99      0.97       117\n",
      "          3       0.90      0.97      0.93       116\n",
      "          4       0.97      0.95      0.96        88\n",
      "\n",
      "avg / total       0.95      0.95      0.95       567\n",
      "\n"
     ]
    }
   ],
   "source": [
    "pipe = make_pipeline(CountVectorizer(), TfidfTransformer(), MultinomialNB())\n",
    "\n",
    "#These are the parameters we're searching over\n",
    "params = {\n",
    "    'countvectorizer__ngram_range':[(1,1), (1,2)],\n",
    "    #'countvectorizer__min_df':[2, 3, 4, 5],\n",
    "    #'countvectorizer__max_df':[.2, .4, .6, .8, 1.0],\n",
    "    'tfidftransformer__norm':['l2', None],\n",
    "    'tfidftransformer__use_idf':[True, False],\n",
    "    #'multinomialnb__alpha':[.001, .01, .1, 1]\n",
    "}\n",
    "grid = GridSearchCV(pipe, params, cv=5, verbose=True, n_jobs=-1)\n",
    "grid.fit(X_train, y_train)"
   ]
  },
  {
   "cell_type": "code",
   "execution_count": 433,
   "metadata": {
    "collapsed": false
   },
   "outputs": [],
   "source": [
    "from sklearn.metrics import precision_score, recall_score, auc\n",
    "def evaluate_grid(_grid, metric='accurracy'):\n",
    "    print(\"Best CV Score: {:.2f}\".format(_grid.best_score_))\n",
    "    print(\"Best parameters: {}\".format(_grid.best_params_))\n",
    "    y_pred = _grid.predict(X_test)\n",
    "    print(\"\\tf1 score on test: {}\".format(f1_score(y_test, y_pred, average='macro')))\n",
    "    print(\"\\tprecision score on test: {}\".format(precision_score(y_test, y_pred, average='macro')))\n",
    "    print(\"\\trecall score on test: {}\".format(recall_score(y_test, y_pred, average='macro')))\n",
    "    print(\"\\taccuracy score on test: {}\".format(accuracy_score(y_test, y_pred)))\n",
    "    #print(\"\\taccuracy score on test: {}\".format(accuracy_score(_y_test, y_pred)))\n",
    "    print(\"Classification report for test sample held out: \\n{}\".format(classification_report(y_test, y_pred)))\n",
    "    print(\"Confusion Matrix for test: \\n{}\".format(confusion_matrix(y_test, y_pred)))\n",
    "    "
   ]
  },
  {
   "cell_type": "markdown",
   "metadata": {},
   "source": [
    "Scores for each cross-validation are saved inside GridSearchCV object"
   ]
  },
  {
   "cell_type": "code",
   "execution_count": 313,
   "metadata": {
    "collapsed": true
   },
   "outputs": [],
   "source": [
    "results = pd.DataFrame(grid.cv_results_).fillna('None')"
   ]
  },
  {
   "cell_type": "code",
   "execution_count": 314,
   "metadata": {
    "collapsed": true
   },
   "outputs": [],
   "source": [
    "res_pivot = results.pivot_table(values=['mean_test_score', 'mean_train_score'],\n",
    "                                index=[\"param_countvectorizer__ngram_range\", \"param_tfidftransformer__use_idf\",\n",
    "                                       \"param_tfidftransformer__norm\"])"
   ]
  },
  {
   "cell_type": "code",
   "execution_count": 315,
   "metadata": {
    "collapsed": false
   },
   "outputs": [
    {
     "data": {
      "text/plain": [
       "param_countvectorizer__ngram_range  param_tfidftransformer__use_idf  param_tfidftransformer__norm\n",
       "(1, 1)                              False                            None                            0.945278\n",
       "                                                                     l2                              0.779788\n",
       "                                    True                             None                            0.957635\n",
       "                                                                     l2                              0.893645\n",
       "(1, 2)                              False                            None                            0.922330\n",
       "                                                                     l2                              0.779347\n",
       "                                    True                             None                            0.960724\n",
       "                                                                     l2                              0.891439\n",
       "Name: mean_test_score, dtype: float64"
      ]
     },
     "execution_count": 315,
     "metadata": {},
     "output_type": "execute_result"
    }
   ],
   "source": [
    "res_pivot.mean_test_score"
   ]
  },
  {
   "cell_type": "markdown",
   "metadata": {},
   "source": [
    "<a id='3.2.1.3'></a>\n",
    "#### 3.2.1.3 Parameters\n",
    "\n",
    "GridSearchCV has some very important parameters that will save you time"
   ]
  },
  {
   "cell_type": "markdown",
   "metadata": {},
   "source": [
    "__scoring :__ string, callable or None, default=None\n",
    "\n",
    "A string (see model evaluation documentation) or a scorer callable object / function with signature scorer(estimator, X, y). If None, the score method of the estimator is used.\n",
    "\n",
    "__[LIST OF SCORING FUNCTIONS](http://scikit-learn.org/stable/modules/model_evaluation.html#scoring-parameter):__\n",
    "\n",
    "<img src=\"./sklearn_scoring_table.png\">"
   ]
  },
  {
   "cell_type": "code",
   "execution_count": 434,
   "metadata": {
    "collapsed": false
   },
   "outputs": [
    {
     "name": "stdout",
     "output_type": "stream",
     "text": [
      "Fitting 3 folds for each of 24 candidates, totalling 72 fits\n"
     ]
    },
    {
     "ename": "JoblibValueError",
     "evalue": "JoblibValueError\n___________________________________________________________________________\nMultiprocessing exception:\n...........................................................................\nC:\\Program Files\\Anaconda3\\lib\\runpy.py in _run_module_as_main(mod_name='ipykernel.__main__', alter_argv=1)\n    179         sys.exit(msg)\n    180     main_globals = sys.modules[\"__main__\"].__dict__\n    181     if alter_argv:\n    182         sys.argv[0] = mod_spec.origin\n    183     return _run_code(code, main_globals, None,\n--> 184                      \"__main__\", mod_spec)\n        mod_spec = ModuleSpec(name='ipykernel.__main__', loader=<_f...da3\\\\lib\\\\site-packages\\\\ipykernel\\\\__main__.py')\n    185 \n    186 def run_module(mod_name, init_globals=None,\n    187                run_name=None, alter_sys=False):\n    188     \"\"\"Execute a module's code without importing it\n\n...........................................................................\nC:\\Program Files\\Anaconda3\\lib\\runpy.py in _run_code(code=<code object <module> at 0x0000000001118810, fil...lib\\site-packages\\ipykernel\\__main__.py\", line 1>, run_globals={'__builtins__': <module 'builtins' (built-in)>, '__cached__': r'C:\\Program Files\\Anaconda3\\lib\\site-packages\\ipykernel\\__pycache__\\__main__.cpython-35.pyc', '__doc__': None, '__file__': r'C:\\Program Files\\Anaconda3\\lib\\site-packages\\ipykernel\\__main__.py', '__loader__': <_frozen_importlib_external.SourceFileLoader object>, '__name__': '__main__', '__package__': 'ipykernel', '__spec__': ModuleSpec(name='ipykernel.__main__', loader=<_f...da3\\\\lib\\\\site-packages\\\\ipykernel\\\\__main__.py'), 'app': <module 'ipykernel.kernelapp' from 'C:\\\\Program ...a3\\\\lib\\\\site-packages\\\\ipykernel\\\\kernelapp.py'>}, init_globals=None, mod_name='__main__', mod_spec=ModuleSpec(name='ipykernel.__main__', loader=<_f...da3\\\\lib\\\\site-packages\\\\ipykernel\\\\__main__.py'), pkg_name='ipykernel', script_name=None)\n     80                        __cached__ = cached,\n     81                        __doc__ = None,\n     82                        __loader__ = loader,\n     83                        __package__ = pkg_name,\n     84                        __spec__ = mod_spec)\n---> 85     exec(code, run_globals)\n        code = <code object <module> at 0x0000000001118810, fil...lib\\site-packages\\ipykernel\\__main__.py\", line 1>\n        run_globals = {'__builtins__': <module 'builtins' (built-in)>, '__cached__': r'C:\\Program Files\\Anaconda3\\lib\\site-packages\\ipykernel\\__pycache__\\__main__.cpython-35.pyc', '__doc__': None, '__file__': r'C:\\Program Files\\Anaconda3\\lib\\site-packages\\ipykernel\\__main__.py', '__loader__': <_frozen_importlib_external.SourceFileLoader object>, '__name__': '__main__', '__package__': 'ipykernel', '__spec__': ModuleSpec(name='ipykernel.__main__', loader=<_f...da3\\\\lib\\\\site-packages\\\\ipykernel\\\\__main__.py'), 'app': <module 'ipykernel.kernelapp' from 'C:\\\\Program ...a3\\\\lib\\\\site-packages\\\\ipykernel\\\\kernelapp.py'>}\n     86     return run_globals\n     87 \n     88 def _run_module_code(code, init_globals=None,\n     89                     mod_name=None, mod_spec=None,\n\n...........................................................................\nC:\\Program Files\\Anaconda3\\lib\\site-packages\\ipykernel\\__main__.py in <module>()\n      1 \n      2 \n----> 3 \n      4 if __name__ == '__main__':\n      5     from ipykernel import kernelapp as app\n      6     app.launch_new_instance()\n      7 \n      8 \n      9 \n     10 \n\n...........................................................................\nC:\\Program Files\\Anaconda3\\lib\\site-packages\\traitlets\\config\\application.py in launch_instance(cls=<class 'ipykernel.kernelapp.IPKernelApp'>, argv=None, **kwargs={})\n    653 \n    654         If a global instance already exists, this reinitializes and starts it\n    655         \"\"\"\n    656         app = cls.instance(**kwargs)\n    657         app.initialize(argv)\n--> 658         app.start()\n        app.start = <bound method IPKernelApp.start of <ipykernel.kernelapp.IPKernelApp object>>\n    659 \n    660 #-----------------------------------------------------------------------------\n    661 # utility functions, for convenience\n    662 #-----------------------------------------------------------------------------\n\n...........................................................................\nC:\\Program Files\\Anaconda3\\lib\\site-packages\\ipykernel\\kernelapp.py in start(self=<ipykernel.kernelapp.IPKernelApp object>)\n    469             return self.subapp.start()\n    470         if self.poller is not None:\n    471             self.poller.start()\n    472         self.kernel.start()\n    473         try:\n--> 474             ioloop.IOLoop.instance().start()\n    475         except KeyboardInterrupt:\n    476             pass\n    477 \n    478 launch_new_instance = IPKernelApp.launch_instance\n\n...........................................................................\nC:\\Program Files\\Anaconda3\\lib\\site-packages\\zmq\\eventloop\\ioloop.py in start(self=<zmq.eventloop.ioloop.ZMQIOLoop object>)\n    157             PollIOLoop.configure(ZMQIOLoop)\n    158         return PollIOLoop.current(*args, **kwargs)\n    159     \n    160     def start(self):\n    161         try:\n--> 162             super(ZMQIOLoop, self).start()\n        self.start = <bound method ZMQIOLoop.start of <zmq.eventloop.ioloop.ZMQIOLoop object>>\n    163         except ZMQError as e:\n    164             if e.errno == ETERM:\n    165                 # quietly return on ETERM\n    166                 pass\n\n...........................................................................\nC:\\Program Files\\Anaconda3\\lib\\site-packages\\tornado\\ioloop.py in start(self=<zmq.eventloop.ioloop.ZMQIOLoop object>)\n    882                 self._events.update(event_pairs)\n    883                 while self._events:\n    884                     fd, events = self._events.popitem()\n    885                     try:\n    886                         fd_obj, handler_func = self._handlers[fd]\n--> 887                         handler_func(fd_obj, events)\n        handler_func = <function wrap.<locals>.null_wrapper>\n        fd_obj = <zmq.sugar.socket.Socket object>\n        events = 1\n    888                     except (OSError, IOError) as e:\n    889                         if errno_from_exception(e) == errno.EPIPE:\n    890                             # Happens when the client closes the connection\n    891                             pass\n\n...........................................................................\nC:\\Program Files\\Anaconda3\\lib\\site-packages\\tornado\\stack_context.py in null_wrapper(*args=(<zmq.sugar.socket.Socket object>, 1), **kwargs={})\n    270         # Fast path when there are no active contexts.\n    271         def null_wrapper(*args, **kwargs):\n    272             try:\n    273                 current_state = _state.contexts\n    274                 _state.contexts = cap_contexts[0]\n--> 275                 return fn(*args, **kwargs)\n        args = (<zmq.sugar.socket.Socket object>, 1)\n        kwargs = {}\n    276             finally:\n    277                 _state.contexts = current_state\n    278         null_wrapper._wrapped = True\n    279         return null_wrapper\n\n...........................................................................\nC:\\Program Files\\Anaconda3\\lib\\site-packages\\zmq\\eventloop\\zmqstream.py in _handle_events(self=<zmq.eventloop.zmqstream.ZMQStream object>, fd=<zmq.sugar.socket.Socket object>, events=1)\n    435             # dispatch events:\n    436             if events & IOLoop.ERROR:\n    437                 gen_log.error(\"got POLLERR event on ZMQStream, which doesn't make sense\")\n    438                 return\n    439             if events & IOLoop.READ:\n--> 440                 self._handle_recv()\n        self._handle_recv = <bound method ZMQStream._handle_recv of <zmq.eventloop.zmqstream.ZMQStream object>>\n    441                 if not self.socket:\n    442                     return\n    443             if events & IOLoop.WRITE:\n    444                 self._handle_send()\n\n...........................................................................\nC:\\Program Files\\Anaconda3\\lib\\site-packages\\zmq\\eventloop\\zmqstream.py in _handle_recv(self=<zmq.eventloop.zmqstream.ZMQStream object>)\n    467                 gen_log.error(\"RECV Error: %s\"%zmq.strerror(e.errno))\n    468         else:\n    469             if self._recv_callback:\n    470                 callback = self._recv_callback\n    471                 # self._recv_callback = None\n--> 472                 self._run_callback(callback, msg)\n        self._run_callback = <bound method ZMQStream._run_callback of <zmq.eventloop.zmqstream.ZMQStream object>>\n        callback = <function wrap.<locals>.null_wrapper>\n        msg = [<zmq.sugar.frame.Frame object>, <zmq.sugar.frame.Frame object>, <zmq.sugar.frame.Frame object>, <zmq.sugar.frame.Frame object>, <zmq.sugar.frame.Frame object>, <zmq.sugar.frame.Frame object>, <zmq.sugar.frame.Frame object>]\n    473                 \n    474         # self.update_state()\n    475         \n    476 \n\n...........................................................................\nC:\\Program Files\\Anaconda3\\lib\\site-packages\\zmq\\eventloop\\zmqstream.py in _run_callback(self=<zmq.eventloop.zmqstream.ZMQStream object>, callback=<function wrap.<locals>.null_wrapper>, *args=([<zmq.sugar.frame.Frame object>, <zmq.sugar.frame.Frame object>, <zmq.sugar.frame.Frame object>, <zmq.sugar.frame.Frame object>, <zmq.sugar.frame.Frame object>, <zmq.sugar.frame.Frame object>, <zmq.sugar.frame.Frame object>],), **kwargs={})\n    409         close our socket.\"\"\"\n    410         try:\n    411             # Use a NullContext to ensure that all StackContexts are run\n    412             # inside our blanket exception handler rather than outside.\n    413             with stack_context.NullContext():\n--> 414                 callback(*args, **kwargs)\n        callback = <function wrap.<locals>.null_wrapper>\n        args = ([<zmq.sugar.frame.Frame object>, <zmq.sugar.frame.Frame object>, <zmq.sugar.frame.Frame object>, <zmq.sugar.frame.Frame object>, <zmq.sugar.frame.Frame object>, <zmq.sugar.frame.Frame object>, <zmq.sugar.frame.Frame object>],)\n        kwargs = {}\n    415         except:\n    416             gen_log.error(\"Uncaught exception, closing connection.\",\n    417                           exc_info=True)\n    418             # Close the socket on an uncaught exception from a user callback\n\n...........................................................................\nC:\\Program Files\\Anaconda3\\lib\\site-packages\\tornado\\stack_context.py in null_wrapper(*args=([<zmq.sugar.frame.Frame object>, <zmq.sugar.frame.Frame object>, <zmq.sugar.frame.Frame object>, <zmq.sugar.frame.Frame object>, <zmq.sugar.frame.Frame object>, <zmq.sugar.frame.Frame object>, <zmq.sugar.frame.Frame object>],), **kwargs={})\n    270         # Fast path when there are no active contexts.\n    271         def null_wrapper(*args, **kwargs):\n    272             try:\n    273                 current_state = _state.contexts\n    274                 _state.contexts = cap_contexts[0]\n--> 275                 return fn(*args, **kwargs)\n        args = ([<zmq.sugar.frame.Frame object>, <zmq.sugar.frame.Frame object>, <zmq.sugar.frame.Frame object>, <zmq.sugar.frame.Frame object>, <zmq.sugar.frame.Frame object>, <zmq.sugar.frame.Frame object>, <zmq.sugar.frame.Frame object>],)\n        kwargs = {}\n    276             finally:\n    277                 _state.contexts = current_state\n    278         null_wrapper._wrapped = True\n    279         return null_wrapper\n\n...........................................................................\nC:\\Program Files\\Anaconda3\\lib\\site-packages\\ipykernel\\kernelbase.py in dispatcher(msg=[<zmq.sugar.frame.Frame object>, <zmq.sugar.frame.Frame object>, <zmq.sugar.frame.Frame object>, <zmq.sugar.frame.Frame object>, <zmq.sugar.frame.Frame object>, <zmq.sugar.frame.Frame object>, <zmq.sugar.frame.Frame object>])\n    271         if self.control_stream:\n    272             self.control_stream.on_recv(self.dispatch_control, copy=False)\n    273 \n    274         def make_dispatcher(stream):\n    275             def dispatcher(msg):\n--> 276                 return self.dispatch_shell(stream, msg)\n        msg = [<zmq.sugar.frame.Frame object>, <zmq.sugar.frame.Frame object>, <zmq.sugar.frame.Frame object>, <zmq.sugar.frame.Frame object>, <zmq.sugar.frame.Frame object>, <zmq.sugar.frame.Frame object>, <zmq.sugar.frame.Frame object>]\n    277             return dispatcher\n    278 \n    279         for s in self.shell_streams:\n    280             s.on_recv(make_dispatcher(s), copy=False)\n\n...........................................................................\nC:\\Program Files\\Anaconda3\\lib\\site-packages\\ipykernel\\kernelbase.py in dispatch_shell(self=<ipykernel.ipkernel.IPythonKernel object>, stream=<zmq.eventloop.zmqstream.ZMQStream object>, msg={'buffers': [], 'content': {'comm_id': '278107399f4b41388c72333aead7321b', 'data': {'buffer_keys': [], 'method': 'backbone', 'sync_data': {'_dom_classes': [], '_model_module': 'jupyter-js-widgets', '_model_name': 'DropdownModel', '_options_labels': ['accuracy', 'precision', 'f1'], '_view_module': 'jupyter-js-widgets', '_view_name': 'DropdownView', 'background_color': None, 'button_style': '', 'color': None, 'description': 'score', ...}}}, 'header': {'date': '2017-04-15T17:57:26.241683', 'msg_id': '4218E6CB8BB14AA598F2439A1CDD3B93', 'msg_type': 'comm_msg', 'session': '2C914941E9DA41B38D39B154D5B1EBFA', 'username': 'username', 'version': '5.0'}, 'metadata': {}, 'msg_id': '4218E6CB8BB14AA598F2439A1CDD3B93', 'msg_type': 'comm_msg', 'parent_header': {}})\n    223             self.log.error(\"UNKNOWN MESSAGE TYPE: %r\", msg_type)\n    224         else:\n    225             self.log.debug(\"%s: %s\", msg_type, msg)\n    226             self.pre_handler_hook()\n    227             try:\n--> 228                 handler(stream, idents, msg)\n        handler = <bound method CommManager.comm_msg of <ipykernel.comm.manager.CommManager object>>\n        stream = <zmq.eventloop.zmqstream.ZMQStream object>\n        idents = [b'2C914941E9DA41B38D39B154D5B1EBFA']\n        msg = {'buffers': [], 'content': {'comm_id': '278107399f4b41388c72333aead7321b', 'data': {'buffer_keys': [], 'method': 'backbone', 'sync_data': {'_dom_classes': [], '_model_module': 'jupyter-js-widgets', '_model_name': 'DropdownModel', '_options_labels': ['accuracy', 'precision', 'f1'], '_view_module': 'jupyter-js-widgets', '_view_name': 'DropdownView', 'background_color': None, 'button_style': '', 'color': None, 'description': 'score', ...}}}, 'header': {'date': '2017-04-15T17:57:26.241683', 'msg_id': '4218E6CB8BB14AA598F2439A1CDD3B93', 'msg_type': 'comm_msg', 'session': '2C914941E9DA41B38D39B154D5B1EBFA', 'username': 'username', 'version': '5.0'}, 'metadata': {}, 'msg_id': '4218E6CB8BB14AA598F2439A1CDD3B93', 'msg_type': 'comm_msg', 'parent_header': {}}\n    229             except Exception:\n    230                 self.log.error(\"Exception in message handler:\", exc_info=True)\n    231             finally:\n    232                 self.post_handler_hook()\n\n...........................................................................\nC:\\Program Files\\Anaconda3\\lib\\site-packages\\ipykernel\\comm\\manager.py in comm_msg(self=<ipykernel.comm.manager.CommManager object>, stream=<zmq.eventloop.zmqstream.ZMQStream object>, ident=[b'2C914941E9DA41B38D39B154D5B1EBFA'], msg={'buffers': [], 'content': {'comm_id': '278107399f4b41388c72333aead7321b', 'data': {'buffer_keys': [], 'method': 'backbone', 'sync_data': {'_dom_classes': [], '_model_module': 'jupyter-js-widgets', '_model_name': 'DropdownModel', '_options_labels': ['accuracy', 'precision', 'f1'], '_view_module': 'jupyter-js-widgets', '_view_name': 'DropdownView', 'background_color': None, 'button_style': '', 'color': None, 'description': 'score', ...}}}, 'header': {'date': '2017-04-15T17:57:26.241683', 'msg_id': '4218E6CB8BB14AA598F2439A1CDD3B93', 'msg_type': 'comm_msg', 'session': '2C914941E9DA41B38D39B154D5B1EBFA', 'username': 'username', 'version': '5.0'}, 'metadata': {}, 'msg_id': '4218E6CB8BB14AA598F2439A1CDD3B93', 'msg_type': 'comm_msg', 'parent_header': {}})\n    106         comm = self.get_comm(comm_id)\n    107         if comm is None:\n    108             return\n    109 \n    110         try:\n--> 111             comm.handle_msg(msg)\n        comm.handle_msg = <bound method Comm.handle_msg of <ipykernel.comm.comm.Comm object>>\n        msg = {'buffers': [], 'content': {'comm_id': '278107399f4b41388c72333aead7321b', 'data': {'buffer_keys': [], 'method': 'backbone', 'sync_data': {'_dom_classes': [], '_model_module': 'jupyter-js-widgets', '_model_name': 'DropdownModel', '_options_labels': ['accuracy', 'precision', 'f1'], '_view_module': 'jupyter-js-widgets', '_view_name': 'DropdownView', 'background_color': None, 'button_style': '', 'color': None, 'description': 'score', ...}}}, 'header': {'date': '2017-04-15T17:57:26.241683', 'msg_id': '4218E6CB8BB14AA598F2439A1CDD3B93', 'msg_type': 'comm_msg', 'session': '2C914941E9DA41B38D39B154D5B1EBFA', 'username': 'username', 'version': '5.0'}, 'metadata': {}, 'msg_id': '4218E6CB8BB14AA598F2439A1CDD3B93', 'msg_type': 'comm_msg', 'parent_header': {}}\n    112         except Exception:\n    113             self.log.error('Exception in comm_msg for %s', comm_id, exc_info=True)\n    114 \n    115     def comm_close(self, stream, ident, msg):\n\n...........................................................................\nC:\\Program Files\\Anaconda3\\lib\\site-packages\\ipykernel\\comm\\comm.py in handle_msg(self=<ipykernel.comm.comm.Comm object>, msg={'buffers': [], 'content': {'comm_id': '278107399f4b41388c72333aead7321b', 'data': {'buffer_keys': [], 'method': 'backbone', 'sync_data': {'_dom_classes': [], '_model_module': 'jupyter-js-widgets', '_model_name': 'DropdownModel', '_options_labels': ['accuracy', 'precision', 'f1'], '_view_module': 'jupyter-js-widgets', '_view_name': 'DropdownView', 'background_color': None, 'button_style': '', 'color': None, 'description': 'score', ...}}}, 'header': {'date': '2017-04-15T17:57:26.241683', 'msg_id': '4218E6CB8BB14AA598F2439A1CDD3B93', 'msg_type': 'comm_msg', 'session': '2C914941E9DA41B38D39B154D5B1EBFA', 'username': 'username', 'version': '5.0'}, 'metadata': {}, 'msg_id': '4218E6CB8BB14AA598F2439A1CDD3B93', 'msg_type': 'comm_msg', 'parent_header': {}})\n    149         self.log.debug(\"handle_msg[%s](%s)\", self.comm_id, msg)\n    150         if self._msg_callback:\n    151             shell = self.kernel.shell\n    152             if shell:\n    153                 shell.events.trigger('pre_execute')\n--> 154             self._msg_callback(msg)\n        self._msg_callback = <bound method _show_traceback.<locals>.m of <ipywidgets.widgets.widget_selection.Dropdown object>>\n        msg = {'buffers': [], 'content': {'comm_id': '278107399f4b41388c72333aead7321b', 'data': {'buffer_keys': [], 'method': 'backbone', 'sync_data': {'_dom_classes': [], '_model_module': 'jupyter-js-widgets', '_model_name': 'DropdownModel', '_options_labels': ['accuracy', 'precision', 'f1'], '_view_module': 'jupyter-js-widgets', '_view_name': 'DropdownView', 'background_color': None, 'button_style': '', 'color': None, 'description': 'score', ...}}}, 'header': {'date': '2017-04-15T17:57:26.241683', 'msg_id': '4218E6CB8BB14AA598F2439A1CDD3B93', 'msg_type': 'comm_msg', 'session': '2C914941E9DA41B38D39B154D5B1EBFA', 'username': 'username', 'version': '5.0'}, 'metadata': {}, 'msg_id': '4218E6CB8BB14AA598F2439A1CDD3B93', 'msg_type': 'comm_msg', 'parent_header': {}}\n    155             if shell:\n    156                 shell.events.trigger('post_execute')\n    157 \n    158 \n\n...........................................................................\nC:\\Program Files\\Anaconda3\\lib\\site-packages\\ipywidgets\\widgets\\widget.py in m(self=<ipywidgets.widgets.widget_selection.Dropdown object>, *args=({'buffers': [], 'content': {'comm_id': '278107399f4b41388c72333aead7321b', 'data': {'buffer_keys': [], 'method': 'backbone', 'sync_data': {'_dom_classes': [], '_model_module': 'jupyter-js-widgets', '_model_name': 'DropdownModel', '_options_labels': ['accuracy', 'precision', 'f1'], '_view_module': 'jupyter-js-widgets', '_view_name': 'DropdownView', 'background_color': None, 'button_style': '', 'color': None, 'description': 'score', ...}}}, 'header': {'date': '2017-04-15T17:57:26.241683', 'msg_id': '4218E6CB8BB14AA598F2439A1CDD3B93', 'msg_type': 'comm_msg', 'session': '2C914941E9DA41B38D39B154D5B1EBFA', 'username': 'username', 'version': '5.0'}, 'metadata': {}, 'msg_id': '4218E6CB8BB14AA598F2439A1CDD3B93', 'msg_type': 'comm_msg', 'parent_header': {}},), **kwargs={})\n     88 \n     89 def _show_traceback(method):\n     90     \"\"\"decorator for showing tracebacks in IPython\"\"\"\n     91     def m(self, *args, **kwargs):\n     92         try:\n---> 93             return(method(self, *args, **kwargs))\n        self = <ipywidgets.widgets.widget_selection.Dropdown object>\n        args = ({'buffers': [], 'content': {'comm_id': '278107399f4b41388c72333aead7321b', 'data': {'buffer_keys': [], 'method': 'backbone', 'sync_data': {'_dom_classes': [], '_model_module': 'jupyter-js-widgets', '_model_name': 'DropdownModel', '_options_labels': ['accuracy', 'precision', 'f1'], '_view_module': 'jupyter-js-widgets', '_view_name': 'DropdownView', 'background_color': None, 'button_style': '', 'color': None, 'description': 'score', ...}}}, 'header': {'date': '2017-04-15T17:57:26.241683', 'msg_id': '4218E6CB8BB14AA598F2439A1CDD3B93', 'msg_type': 'comm_msg', 'session': '2C914941E9DA41B38D39B154D5B1EBFA', 'username': 'username', 'version': '5.0'}, 'metadata': {}, 'msg_id': '4218E6CB8BB14AA598F2439A1CDD3B93', 'msg_type': 'comm_msg', 'parent_header': {}},)\n        kwargs = {}\n     94         except Exception as e:\n     95             ip = get_ipython()\n     96             if ip is None:\n     97                 self.log.warn(\"Exception in widget method %s: %s\", method, e, exc_info=True)\n\n...........................................................................\nC:\\Program Files\\Anaconda3\\lib\\site-packages\\ipywidgets\\widgets\\widget.py in _handle_msg(self=<ipywidgets.widgets.widget_selection.Dropdown object>, msg={'buffers': [], 'content': {'comm_id': '278107399f4b41388c72333aead7321b', 'data': {'buffer_keys': [], 'method': 'backbone', 'sync_data': {'_dom_classes': [], '_model_module': 'jupyter-js-widgets', '_model_name': 'DropdownModel', '_options_labels': ['accuracy', 'precision', 'f1'], '_view_module': 'jupyter-js-widgets', '_view_name': 'DropdownView', 'background_color': None, 'button_style': '', 'color': None, 'description': 'score', ...}}}, 'header': {'date': '2017-04-15T17:57:26.241683', 'msg_id': '4218E6CB8BB14AA598F2439A1CDD3B93', 'msg_type': 'comm_msg', 'session': '2C914941E9DA41B38D39B154D5B1EBFA', 'username': 'username', 'version': '5.0'}, 'metadata': {}, 'msg_id': '4218E6CB8BB14AA598F2439A1CDD3B93', 'msg_type': 'comm_msg', 'parent_header': {}})\n    423             if 'sync_data' in data:\n    424                 # get binary buffers too\n    425                 sync_data = data['sync_data']\n    426                 for i,k in enumerate(data.get('buffer_keys', [])):\n    427                     sync_data[k] = msg['buffers'][i]\n--> 428                 self.set_state(sync_data) # handles all methods\n        self.set_state = <bound method Widget.set_state of <ipywidgets.widgets.widget_selection.Dropdown object>>\n        sync_data = {'_dom_classes': [], '_model_module': 'jupyter-js-widgets', '_model_name': 'DropdownModel', '_options_labels': ['accuracy', 'precision', 'f1'], '_view_module': 'jupyter-js-widgets', '_view_name': 'DropdownView', 'background_color': None, 'button_style': '', 'color': None, 'description': 'score', ...}\n    429 \n    430         # Handle a state request.\n    431         elif method == 'request_state':\n    432             self.send_state()\n\n...........................................................................\nC:\\Program Files\\Anaconda3\\lib\\site-packages\\ipywidgets\\widgets\\widget.py in set_state(self=<ipywidgets.widgets.widget_selection.Dropdown object>, sync_data={'_dom_classes': [], '_model_module': 'jupyter-js-widgets', '_model_name': 'DropdownModel', '_options_labels': ['accuracy', 'precision', 'f1'], '_view_module': 'jupyter-js-widgets', '_view_name': 'DropdownView', 'background_color': None, 'button_style': '', 'color': None, 'description': 'score', ...})\n    302         with self._lock_property(**sync_data), self.hold_trait_notifications():\n    303             for name in sync_data:\n    304                 if name in self.keys:\n    305                     from_json = self.trait_metadata(name, 'from_json',\n    306                                                     self._trait_from_json)\n--> 307                     self.set_trait(name, from_json(sync_data[name], self))\n        self.set_trait = <bound method HasTraits.set_trait of <ipywidgets.widgets.widget_selection.Dropdown object>>\n        name = '_options_labels'\n        from_json = <function Widget._trait_from_json>\n        sync_data = {'_dom_classes': [], '_model_module': 'jupyter-js-widgets', '_model_name': 'DropdownModel', '_options_labels': ['accuracy', 'precision', 'f1'], '_view_module': 'jupyter-js-widgets', '_view_name': 'DropdownView', 'background_color': None, 'button_style': '', 'color': None, 'description': 'score', ...}\n        self = <ipywidgets.widgets.widget_selection.Dropdown object>\n    308 \n    309     def send(self, content, buffers=None):\n    310         \"\"\"Sends a custom msg to the widget model in the front-end.\n    311 \n\n...........................................................................\nC:\\Program Files\\Anaconda3\\lib\\contextlib.py in __exit__(self=<contextlib._GeneratorContextManager object>, type=None, value=None, traceback=None)\n     61             raise RuntimeError(\"generator didn't yield\") from None\n     62 \n     63     def __exit__(self, type, value, traceback):\n     64         if type is None:\n     65             try:\n---> 66                 next(self.gen)\n        self.gen = <generator object hold_trait_notifications>\n     67             except StopIteration:\n     68                 return\n     69             else:\n     70                 raise RuntimeError(\"generator didn't stop\")\n\n...........................................................................\nC:\\Program Files\\Anaconda3\\lib\\site-packages\\traitlets\\traitlets.py in hold_trait_notifications(self=<ipywidgets.widgets.widget_selection.Dropdown object>)\n   1124                 del self.notify_change\n   1125 \n   1126                 # trigger delayed notifications\n   1127                 for changes in cache.values():\n   1128                     for change in changes:\n-> 1129                         self.notify_change(change)\n        self.notify_change = <bound method Widget.notify_change of <ipywidgets.widgets.widget_selection.Dropdown object>>\n        change = {'new': 'f1', 'type': 'change', 'old': 'accuracy...n object at 0x0000000015FCB978>, 'name': 'value'}\n   1130 \n   1131     def _notify_trait(self, name, old_value, new_value):\n   1132         self.notify_change(Bunch(\n   1133             name=name,\n\n...........................................................................\nC:\\Program Files\\Anaconda3\\lib\\site-packages\\ipywidgets\\widgets\\widget.py in notify_change(self=<ipywidgets.widgets.widget_selection.Dropdown object>, change={'new': 'f1', 'type': 'change', 'old': 'accuracy...n object at 0x0000000015FCB978>, 'name': 'value'})\n    363         if self.comm is not None and name in self.keys:\n    364             # Make sure this isn't information that the front-end just sent us.\n    365             if self._should_send_property(name, change['new']):\n    366                 # Send new state to front-end\n    367                 self.send_state(key=name)\n--> 368         LoggingConfigurable.notify_change(self, change)\n        self = <ipywidgets.widgets.widget_selection.Dropdown object>\n        change = {'new': 'f1', 'type': 'change', 'old': 'accuracy...n object at 0x0000000015FCB978>, 'name': 'value'}\n    369 \n    370     #-------------------------------------------------------------------------\n    371     # Support methods\n    372     #-------------------------------------------------------------------------\n\n...........................................................................\nC:\\Program Files\\Anaconda3\\lib\\site-packages\\traitlets\\traitlets.py in notify_change(self=<ipywidgets.widgets.widget_selection.Dropdown object>, change={'new': 'f1', 'type': 'change', 'old': 'accuracy...n object at 0x0000000015FCB978>, 'name': 'value'})\n   1169             if isinstance(c, _CallbackWrapper):\n   1170                 c = c.__call__\n   1171             elif isinstance(c, EventHandler) and c.name is not None:\n   1172                 c = getattr(self, c.name)\n   1173 \n-> 1174             c(change)\n        c = <function interactive.<locals>.call_f>\n        change = {'new': 'f1', 'type': 'change', 'old': 'accuracy...n object at 0x0000000015FCB978>, 'name': 'value'}\n   1175 \n   1176     def _add_notifiers(self, handler, name, type):\n   1177         if name not in self._trait_notifiers:\n   1178             nlist = []\n\n...........................................................................\nC:\\Program Files\\Anaconda3\\lib\\site-packages\\ipywidgets\\widgets\\interaction.py in call_f(*args=({'new': 'f1', 'type': 'change', 'old': 'accuracy...n object at 0x0000000015FCB978>, 'name': 'value'},))\n    255         if co:\n    256             clear_output(wait=True)\n    257         if manual:\n    258             manual_button.disabled = True\n    259         try:\n--> 260             container.result = f(**container.kwargs)\n    261             if container.result is not None:\n    262                 display(container.result)\n    263         except Exception as e:\n    264             ip = get_ipython()\n\n...........................................................................\nC:\\Users\\Colin\\Documents\\GitHub\\Text_Mining_Python_Lecture\\<ipython-input-434-9753d3a5622e> in try_score(score='f1')\n     11         'tfidftransformer__norm':['l1', 'l2', None],\n     12         'tfidftransformer__use_idf':[True, False],\n     13         'multinomialnb__alpha':[.001, .01, .1, 1]\n     14     }\n     15     grid = GridSearchCV(pipe, params, cv=3, verbose=True, n_jobs=-1, scoring=score)\n---> 16     grid.fit(X_train, y_train)\n     17     evaluate_grid(grid)\n     18 \n     19 \n     20 \n\n...........................................................................\nC:\\Program Files\\Anaconda3\\lib\\site-packages\\sklearn\\model_selection\\_search.py in fit(self=GridSearchCV(cv=3, error_score='raise',\n       e...in_score=True,\n       scoring='f1', verbose=True), X=2001    From: mss@netcom.com (Mark Singer)\\nSubj...ohio-state.edu\\nSubj...\nName: Text, dtype: object, y=2001    1\n57      4\n1935    1\n2524    0\n238     ... 3\n2607    1\n2732    4\nName: Target, dtype: int64, groups=None)\n    940 \n    941         groups : array-like, with shape (n_samples,), optional\n    942             Group labels for the samples used while splitting the dataset into\n    943             train/test set.\n    944         \"\"\"\n--> 945         return self._fit(X, y, groups, ParameterGrid(self.param_grid))\n        self._fit = <bound method BaseSearchCV._fit of GridSearchCV(...n_score=True,\n       scoring='f1', verbose=True)>\n        X = 2001    From: mss@netcom.com (Mark Singer)\\nSubj...ohio-state.edu\\nSubj...\nName: Text, dtype: object\n        y = 2001    1\n57      4\n1935    1\n2524    0\n238     ... 3\n2607    1\n2732    4\nName: Target, dtype: int64\n        groups = None\n        self.param_grid = {'multinomialnb__alpha': [0.001, 0.01, 0.1, 1], 'tfidftransformer__norm': ['l1', 'l2', None], 'tfidftransformer__use_idf': [True, False]}\n    946 \n    947 \n    948 class RandomizedSearchCV(BaseSearchCV):\n    949     \"\"\"Randomized search on hyper parameters.\n\n...........................................................................\nC:\\Program Files\\Anaconda3\\lib\\site-packages\\sklearn\\model_selection\\_search.py in _fit(self=GridSearchCV(cv=3, error_score='raise',\n       e...in_score=True,\n       scoring='f1', verbose=True), X=2001    From: mss@netcom.com (Mark Singer)\\nSubj...ohio-state.edu\\nSubj...\nName: Text, dtype: object, y=2001    1\n57      4\n1935    1\n2524    0\n238     ... 3\n2607    1\n2732    4\nName: Target, dtype: int64, groups=None, parameter_iterable=<sklearn.model_selection._search.ParameterGrid object>)\n    559                                   fit_params=self.fit_params,\n    560                                   return_train_score=self.return_train_score,\n    561                                   return_n_test_samples=True,\n    562                                   return_times=True, return_parameters=True,\n    563                                   error_score=self.error_score)\n--> 564           for parameters in parameter_iterable\n        parameters = undefined\n        parameter_iterable = <sklearn.model_selection._search.ParameterGrid object>\n    565           for train, test in cv_iter)\n    566 \n    567         # if one choose to see train score, \"out\" will contain train score info\n    568         if self.return_train_score:\n\n...........................................................................\nC:\\Program Files\\Anaconda3\\lib\\site-packages\\sklearn\\externals\\joblib\\parallel.py in __call__(self=Parallel(n_jobs=-1), iterable=<generator object BaseSearchCV._fit.<locals>.<genexpr>>)\n    763             if pre_dispatch == \"all\" or n_jobs == 1:\n    764                 # The iterable was consumed all at once by the above for loop.\n    765                 # No need to wait for async callbacks to trigger to\n    766                 # consumption.\n    767                 self._iterating = False\n--> 768             self.retrieve()\n        self.retrieve = <bound method Parallel.retrieve of Parallel(n_jobs=-1)>\n    769             # Make sure that we get a last message telling us we are done\n    770             elapsed_time = time.time() - self._start_time\n    771             self._print('Done %3i out of %3i | elapsed: %s finished',\n    772                         (len(self._output), len(self._output),\n\n---------------------------------------------------------------------------\nSub-process traceback:\n---------------------------------------------------------------------------\nValueError                                         Sat Apr 15 17:57:31 2017\nPID: 9588               Python 3.5.2: C:\\Program Files\\Anaconda3\\python.exe\n...........................................................................\nC:\\Program Files\\Anaconda3\\lib\\site-packages\\sklearn\\externals\\joblib\\parallel.py in __call__(self=<sklearn.externals.joblib.parallel.BatchedCalls object>)\n    126     def __init__(self, iterator_slice):\n    127         self.items = list(iterator_slice)\n    128         self._size = len(self.items)\n    129 \n    130     def __call__(self):\n--> 131         return [func(*args, **kwargs) for func, args, kwargs in self.items]\n        self.items = [(<function _fit_and_score>, (Pipeline(steps=[('countvectorizer', CountVectori...alpha=0.001, class_prior=None, fit_prior=True))]), 2001    From: mss@netcom.com (Mark Singer)\\nSubj...ohio-state.edu\\nSubj...\nName: Text, dtype: object, 2001    1\n57      4\n1935    1\n2524    0\n238     ... 3\n2607    1\n2732    4\nName: Target, dtype: int64, make_scorer(f1_score), array([ 710,  725,  726, ..., 2263, 2264, 2265]), array([  0,   1,   2,   3,   4,   5,   6,   7,  ..., 773, 774, 777, 780, 781,\n       784, 786, 794]), True, {'multinomialnb__alpha': 0.001, 'tfidftransformer__norm': 'l1', 'tfidftransformer__use_idf': True}), {'error_score': 'raise', 'fit_params': {}, 'return_n_test_samples': True, 'return_parameters': True, 'return_times': True, 'return_train_score': True})]\n    132 \n    133     def __len__(self):\n    134         return self._size\n    135 \n\n...........................................................................\nC:\\Program Files\\Anaconda3\\lib\\site-packages\\sklearn\\externals\\joblib\\parallel.py in <listcomp>(.0=<list_iterator object>)\n    126     def __init__(self, iterator_slice):\n    127         self.items = list(iterator_slice)\n    128         self._size = len(self.items)\n    129 \n    130     def __call__(self):\n--> 131         return [func(*args, **kwargs) for func, args, kwargs in self.items]\n        func = <function _fit_and_score>\n        args = (Pipeline(steps=[('countvectorizer', CountVectori...alpha=0.001, class_prior=None, fit_prior=True))]), 2001    From: mss@netcom.com (Mark Singer)\\nSubj...ohio-state.edu\\nSubj...\nName: Text, dtype: object, 2001    1\n57      4\n1935    1\n2524    0\n238     ... 3\n2607    1\n2732    4\nName: Target, dtype: int64, make_scorer(f1_score), array([ 710,  725,  726, ..., 2263, 2264, 2265]), array([  0,   1,   2,   3,   4,   5,   6,   7,  ..., 773, 774, 777, 780, 781,\n       784, 786, 794]), True, {'multinomialnb__alpha': 0.001, 'tfidftransformer__norm': 'l1', 'tfidftransformer__use_idf': True})\n        kwargs = {'error_score': 'raise', 'fit_params': {}, 'return_n_test_samples': True, 'return_parameters': True, 'return_times': True, 'return_train_score': True}\n    132 \n    133     def __len__(self):\n    134         return self._size\n    135 \n\n...........................................................................\nC:\\Program Files\\Anaconda3\\lib\\site-packages\\sklearn\\model_selection\\_validation.py in _fit_and_score(estimator=Pipeline(steps=[('countvectorizer', CountVectori...alpha=0.001, class_prior=None, fit_prior=True))]), X=2001    From: mss@netcom.com (Mark Singer)\\nSubj...ohio-state.edu\\nSubj...\nName: Text, dtype: object, y=2001    1\n57      4\n1935    1\n2524    0\n238     ... 3\n2607    1\n2732    4\nName: Target, dtype: int64, scorer=make_scorer(f1_score), train=array([ 710,  725,  726, ..., 2263, 2264, 2265]), test=array([  0,   1,   2,   3,   4,   5,   6,   7,  ..., 773, 774, 777, 780, 781,\n       784, 786, 794]), verbose=True, parameters={'multinomialnb__alpha': 0.001, 'tfidftransformer__norm': 'l1', 'tfidftransformer__use_idf': True}, fit_params={}, return_train_score=True, return_parameters=True, return_n_test_samples=True, return_times=True, error_score='raise')\n    255                              \" numeric value. (Hint: if using 'raise', please\"\n    256                              \" make sure that it has been spelled correctly.)\")\n    257 \n    258     else:\n    259         fit_time = time.time() - start_time\n--> 260         test_score = _score(estimator, X_test, y_test, scorer)\n        test_score = undefined\n        estimator = Pipeline(steps=[('countvectorizer', CountVectori...alpha=0.001, class_prior=None, fit_prior=True))])\n        X_test = 2001    From: mss@netcom.com (Mark Singer)\\nSubj...m (Ron \"Asbestos\" Di...\nName: Text, dtype: object\n        y_test = 2001    1\n57      4\n1935    1\n2524    0\n238     ... 2\n1076    2\n717     2\nName: Target, dtype: int64\n        scorer = make_scorer(f1_score)\n    261         score_time = time.time() - start_time - fit_time\n    262         if return_train_score:\n    263             train_score = _score(estimator, X_train, y_train, scorer)\n    264 \n\n...........................................................................\nC:\\Program Files\\Anaconda3\\lib\\site-packages\\sklearn\\model_selection\\_validation.py in _score(estimator=Pipeline(steps=[('countvectorizer', CountVectori...alpha=0.001, class_prior=None, fit_prior=True))]), X_test=2001    From: mss@netcom.com (Mark Singer)\\nSubj...m (Ron \"Asbestos\" Di...\nName: Text, dtype: object, y_test=2001    1\n57      4\n1935    1\n2524    0\n238     ... 2\n1076    2\n717     2\nName: Target, dtype: int64, scorer=make_scorer(f1_score))\n    283 def _score(estimator, X_test, y_test, scorer):\n    284     \"\"\"Compute the score of an estimator on a given test set.\"\"\"\n    285     if y_test is None:\n    286         score = scorer(estimator, X_test)\n    287     else:\n--> 288         score = scorer(estimator, X_test, y_test)\n        score = undefined\n        scorer = make_scorer(f1_score)\n        estimator = Pipeline(steps=[('countvectorizer', CountVectori...alpha=0.001, class_prior=None, fit_prior=True))])\n        X_test = 2001    From: mss@netcom.com (Mark Singer)\\nSubj...m (Ron \"Asbestos\" Di...\nName: Text, dtype: object\n        y_test = 2001    1\n57      4\n1935    1\n2524    0\n238     ... 2\n1076    2\n717     2\nName: Target, dtype: int64\n    289     if hasattr(score, 'item'):\n    290         try:\n    291             # e.g. unwrap memmapped scalars\n    292             score = score.item()\n\n...........................................................................\nC:\\Program Files\\Anaconda3\\lib\\site-packages\\sklearn\\metrics\\scorer.py in __call__(self=make_scorer(f1_score), estimator=Pipeline(steps=[('countvectorizer', CountVectori...alpha=0.001, class_prior=None, fit_prior=True))]), X=2001    From: mss@netcom.com (Mark Singer)\\nSubj...m (Ron \"Asbestos\" Di...\nName: Text, dtype: object, y_true=2001    1\n57      4\n1935    1\n2524    0\n238     ... 2\n1076    2\n717     2\nName: Target, dtype: int64, sample_weight=None)\n     93             return self._sign * self._score_func(y_true, y_pred,\n     94                                                  sample_weight=sample_weight,\n     95                                                  **self._kwargs)\n     96         else:\n     97             return self._sign * self._score_func(y_true, y_pred,\n---> 98                                                  **self._kwargs)\n        self._kwargs = {}\n     99 \n    100 \n    101 class _ProbaScorer(_BaseScorer):\n    102     def __call__(self, clf, X, y, sample_weight=None):\n\n...........................................................................\nC:\\Program Files\\Anaconda3\\lib\\site-packages\\sklearn\\metrics\\classification.py in f1_score(y_true=2001    1\n57      4\n1935    1\n2524    0\n238     ... 2\n1076    2\n717     2\nName: Target, dtype: int64, y_pred=array([1, 2, 1, 0, 1, 3, 3, 1, 1, 0, 2, 0, 3, 0,...0, 4, 2, 0, 2, 0, 2, 2, 2, 2, 2, 2], dtype=int64), labels=None, pos_label=1, average='binary', sample_weight=None)\n    687 \n    688 \n    689     \"\"\"\n    690     return fbeta_score(y_true, y_pred, 1, labels=labels,\n    691                        pos_label=pos_label, average=average,\n--> 692                        sample_weight=sample_weight)\n        sample_weight = None\n    693 \n    694 \n    695 def fbeta_score(y_true, y_pred, beta, labels=None, pos_label=1,\n    696                 average='binary', sample_weight=None):\n\n...........................................................................\nC:\\Program Files\\Anaconda3\\lib\\site-packages\\sklearn\\metrics\\classification.py in fbeta_score(y_true=2001    1\n57      4\n1935    1\n2524    0\n238     ... 2\n1076    2\n717     2\nName: Target, dtype: int64, y_pred=array([1, 2, 1, 0, 1, 3, 3, 1, 1, 0, 2, 0, 3, 0,...0, 4, 2, 0, 2, 0, 2, 2, 2, 2, 2, 2], dtype=int64), beta=1, labels=None, pos_label=1, average='binary', sample_weight=None)\n    801                                                  beta=beta,\n    802                                                  labels=labels,\n    803                                                  pos_label=pos_label,\n    804                                                  average=average,\n    805                                                  warn_for=('f-score',),\n--> 806                                                  sample_weight=sample_weight)\n        sample_weight = None\n    807     return f\n    808 \n    809 \n    810 def _prf_divide(numerator, denominator, metric, modifier, average, warn_for):\n\n...........................................................................\nC:\\Program Files\\Anaconda3\\lib\\site-packages\\sklearn\\metrics\\classification.py in precision_recall_fscore_support(y_true=array([1, 4, 1, 0, 3, 4, 3, 1, 1, 0, 4, 0, 3, 0,...0, 4, 2, 0, 2, 0, 2, 2, 2, 2, 2, 2], dtype=int64), y_pred=array([1, 2, 1, 0, 1, 3, 3, 1, 1, 0, 2, 0, 3, 0,...0, 4, 2, 0, 2, 0, 2, 2, 2, 2, 2, 2], dtype=int64), beta=1, labels=None, pos_label=1, average='binary', warn_for=('f-score',), sample_weight=None)\n   1013                     raise ValueError(\"pos_label=%r is not a valid label: %r\" %\n   1014                                      (pos_label, present_labels))\n   1015             labels = [pos_label]\n   1016         else:\n   1017             raise ValueError(\"Target is %s but average='binary'. Please \"\n-> 1018                              \"choose another average setting.\" % y_type)\n        y_type = 'multiclass'\n   1019     elif pos_label not in (None, 1):\n   1020         warnings.warn(\"Note that pos_label (set to %r) is ignored when \"\n   1021                       \"average != 'binary' (got %r). You may use \"\n   1022                       \"labels=[pos_label] to specify a single positive class.\"\n\nValueError: Target is multiclass but average='binary'. Please choose another average setting.\n___________________________________________________________________________",
     "output_type": "error",
     "traceback": [
      "\u001b[0;31m---------------------------------------------------------------------------\u001b[0m",
      "\u001b[0;31mRemoteTraceback\u001b[0m                           Traceback (most recent call last)",
      "\u001b[0;31mRemoteTraceback\u001b[0m: \n\"\"\"\nTraceback (most recent call last):\n  File \"C:\\Program Files\\Anaconda3\\lib\\site-packages\\sklearn\\externals\\joblib\\_parallel_backends.py\", line 344, in __call__\n    return self.func(*args, **kwargs)\n  File \"C:\\Program Files\\Anaconda3\\lib\\site-packages\\sklearn\\externals\\joblib\\parallel.py\", line 131, in __call__\n    return [func(*args, **kwargs) for func, args, kwargs in self.items]\n  File \"C:\\Program Files\\Anaconda3\\lib\\site-packages\\sklearn\\externals\\joblib\\parallel.py\", line 131, in <listcomp>\n    return [func(*args, **kwargs) for func, args, kwargs in self.items]\n  File \"C:\\Program Files\\Anaconda3\\lib\\site-packages\\sklearn\\model_selection\\_validation.py\", line 260, in _fit_and_score\n    test_score = _score(estimator, X_test, y_test, scorer)\n  File \"C:\\Program Files\\Anaconda3\\lib\\site-packages\\sklearn\\model_selection\\_validation.py\", line 288, in _score\n    score = scorer(estimator, X_test, y_test)\n  File \"C:\\Program Files\\Anaconda3\\lib\\site-packages\\sklearn\\metrics\\scorer.py\", line 98, in __call__\n    **self._kwargs)\n  File \"C:\\Program Files\\Anaconda3\\lib\\site-packages\\sklearn\\metrics\\classification.py\", line 692, in f1_score\n    sample_weight=sample_weight)\n  File \"C:\\Program Files\\Anaconda3\\lib\\site-packages\\sklearn\\metrics\\classification.py\", line 806, in fbeta_score\n    sample_weight=sample_weight)\n  File \"C:\\Program Files\\Anaconda3\\lib\\site-packages\\sklearn\\metrics\\classification.py\", line 1018, in precision_recall_fscore_support\n    \"choose another average setting.\" % y_type)\nValueError: Target is multiclass but average='binary'. Please choose another average setting.\n\nDuring handling of the above exception, another exception occurred:\n\nTraceback (most recent call last):\n  File \"C:\\Program Files\\Anaconda3\\lib\\multiprocessing\\pool.py\", line 119, in worker\n    result = (True, func(*args, **kwds))\n  File \"C:\\Program Files\\Anaconda3\\lib\\site-packages\\sklearn\\externals\\joblib\\_parallel_backends.py\", line 353, in __call__\n    raise TransportableException(text, e_type)\nsklearn.externals.joblib.my_exceptions.TransportableException: TransportableException\n___________________________________________________________________________\nValueError                                         Sat Apr 15 17:57:31 2017\nPID: 9588               Python 3.5.2: C:\\Program Files\\Anaconda3\\python.exe\n...........................................................................\nC:\\Program Files\\Anaconda3\\lib\\site-packages\\sklearn\\externals\\joblib\\parallel.py in __call__(self=<sklearn.externals.joblib.parallel.BatchedCalls object>)\n    126     def __init__(self, iterator_slice):\n    127         self.items = list(iterator_slice)\n    128         self._size = len(self.items)\n    129 \n    130     def __call__(self):\n--> 131         return [func(*args, **kwargs) for func, args, kwargs in self.items]\n        self.items = [(<function _fit_and_score>, (Pipeline(steps=[('countvectorizer', CountVectori...alpha=0.001, class_prior=None, fit_prior=True))]), 2001    From: mss@netcom.com (Mark Singer)\\nSubj...ohio-state.edu\\nSubj...\nName: Text, dtype: object, 2001    1\n57      4\n1935    1\n2524    0\n238     ... 3\n2607    1\n2732    4\nName: Target, dtype: int64, make_scorer(f1_score), array([ 710,  725,  726, ..., 2263, 2264, 2265]), array([  0,   1,   2,   3,   4,   5,   6,   7,  ..., 773, 774, 777, 780, 781,\n       784, 786, 794]), True, {'multinomialnb__alpha': 0.001, 'tfidftransformer__norm': 'l1', 'tfidftransformer__use_idf': True}), {'error_score': 'raise', 'fit_params': {}, 'return_n_test_samples': True, 'return_parameters': True, 'return_times': True, 'return_train_score': True})]\n    132 \n    133     def __len__(self):\n    134         return self._size\n    135 \n\n...........................................................................\nC:\\Program Files\\Anaconda3\\lib\\site-packages\\sklearn\\externals\\joblib\\parallel.py in <listcomp>(.0=<list_iterator object>)\n    126     def __init__(self, iterator_slice):\n    127         self.items = list(iterator_slice)\n    128         self._size = len(self.items)\n    129 \n    130     def __call__(self):\n--> 131         return [func(*args, **kwargs) for func, args, kwargs in self.items]\n        func = <function _fit_and_score>\n        args = (Pipeline(steps=[('countvectorizer', CountVectori...alpha=0.001, class_prior=None, fit_prior=True))]), 2001    From: mss@netcom.com (Mark Singer)\\nSubj...ohio-state.edu\\nSubj...\nName: Text, dtype: object, 2001    1\n57      4\n1935    1\n2524    0\n238     ... 3\n2607    1\n2732    4\nName: Target, dtype: int64, make_scorer(f1_score), array([ 710,  725,  726, ..., 2263, 2264, 2265]), array([  0,   1,   2,   3,   4,   5,   6,   7,  ..., 773, 774, 777, 780, 781,\n       784, 786, 794]), True, {'multinomialnb__alpha': 0.001, 'tfidftransformer__norm': 'l1', 'tfidftransformer__use_idf': True})\n        kwargs = {'error_score': 'raise', 'fit_params': {}, 'return_n_test_samples': True, 'return_parameters': True, 'return_times': True, 'return_train_score': True}\n    132 \n    133     def __len__(self):\n    134         return self._size\n    135 \n\n...........................................................................\nC:\\Program Files\\Anaconda3\\lib\\site-packages\\sklearn\\model_selection\\_validation.py in _fit_and_score(estimator=Pipeline(steps=[('countvectorizer', CountVectori...alpha=0.001, class_prior=None, fit_prior=True))]), X=2001    From: mss@netcom.com (Mark Singer)\\nSubj...ohio-state.edu\\nSubj...\nName: Text, dtype: object, y=2001    1\n57      4\n1935    1\n2524    0\n238     ... 3\n2607    1\n2732    4\nName: Target, dtype: int64, scorer=make_scorer(f1_score), train=array([ 710,  725,  726, ..., 2263, 2264, 2265]), test=array([  0,   1,   2,   3,   4,   5,   6,   7,  ..., 773, 774, 777, 780, 781,\n       784, 786, 794]), verbose=True, parameters={'multinomialnb__alpha': 0.001, 'tfidftransformer__norm': 'l1', 'tfidftransformer__use_idf': True}, fit_params={}, return_train_score=True, return_parameters=True, return_n_test_samples=True, return_times=True, error_score='raise')\n    255                              \" numeric value. (Hint: if using 'raise', please\"\n    256                              \" make sure that it has been spelled correctly.)\")\n    257 \n    258     else:\n    259         fit_time = time.time() - start_time\n--> 260         test_score = _score(estimator, X_test, y_test, scorer)\n        test_score = undefined\n        estimator = Pipeline(steps=[('countvectorizer', CountVectori...alpha=0.001, class_prior=None, fit_prior=True))])\n        X_test = 2001    From: mss@netcom.com (Mark Singer)\\nSubj...m (Ron \"Asbestos\" Di...\nName: Text, dtype: object\n        y_test = 2001    1\n57      4\n1935    1\n2524    0\n238     ... 2\n1076    2\n717     2\nName: Target, dtype: int64\n        scorer = make_scorer(f1_score)\n    261         score_time = time.time() - start_time - fit_time\n    262         if return_train_score:\n    263             train_score = _score(estimator, X_train, y_train, scorer)\n    264 \n\n...........................................................................\nC:\\Program Files\\Anaconda3\\lib\\site-packages\\sklearn\\model_selection\\_validation.py in _score(estimator=Pipeline(steps=[('countvectorizer', CountVectori...alpha=0.001, class_prior=None, fit_prior=True))]), X_test=2001    From: mss@netcom.com (Mark Singer)\\nSubj...m (Ron \"Asbestos\" Di...\nName: Text, dtype: object, y_test=2001    1\n57      4\n1935    1\n2524    0\n238     ... 2\n1076    2\n717     2\nName: Target, dtype: int64, scorer=make_scorer(f1_score))\n    283 def _score(estimator, X_test, y_test, scorer):\n    284     \"\"\"Compute the score of an estimator on a given test set.\"\"\"\n    285     if y_test is None:\n    286         score = scorer(estimator, X_test)\n    287     else:\n--> 288         score = scorer(estimator, X_test, y_test)\n        score = undefined\n        scorer = make_scorer(f1_score)\n        estimator = Pipeline(steps=[('countvectorizer', CountVectori...alpha=0.001, class_prior=None, fit_prior=True))])\n        X_test = 2001    From: mss@netcom.com (Mark Singer)\\nSubj...m (Ron \"Asbestos\" Di...\nName: Text, dtype: object\n        y_test = 2001    1\n57      4\n1935    1\n2524    0\n238     ... 2\n1076    2\n717     2\nName: Target, dtype: int64\n    289     if hasattr(score, 'item'):\n    290         try:\n    291             # e.g. unwrap memmapped scalars\n    292             score = score.item()\n\n...........................................................................\nC:\\Program Files\\Anaconda3\\lib\\site-packages\\sklearn\\metrics\\scorer.py in __call__(self=make_scorer(f1_score), estimator=Pipeline(steps=[('countvectorizer', CountVectori...alpha=0.001, class_prior=None, fit_prior=True))]), X=2001    From: mss@netcom.com (Mark Singer)\\nSubj...m (Ron \"Asbestos\" Di...\nName: Text, dtype: object, y_true=2001    1\n57      4\n1935    1\n2524    0\n238     ... 2\n1076    2\n717     2\nName: Target, dtype: int64, sample_weight=None)\n     93             return self._sign * self._score_func(y_true, y_pred,\n     94                                                  sample_weight=sample_weight,\n     95                                                  **self._kwargs)\n     96         else:\n     97             return self._sign * self._score_func(y_true, y_pred,\n---> 98                                                  **self._kwargs)\n        self._kwargs = {}\n     99 \n    100 \n    101 class _ProbaScorer(_BaseScorer):\n    102     def __call__(self, clf, X, y, sample_weight=None):\n\n...........................................................................\nC:\\Program Files\\Anaconda3\\lib\\site-packages\\sklearn\\metrics\\classification.py in f1_score(y_true=2001    1\n57      4\n1935    1\n2524    0\n238     ... 2\n1076    2\n717     2\nName: Target, dtype: int64, y_pred=array([1, 2, 1, 0, 1, 3, 3, 1, 1, 0, 2, 0, 3, 0,...0, 4, 2, 0, 2, 0, 2, 2, 2, 2, 2, 2], dtype=int64), labels=None, pos_label=1, average='binary', sample_weight=None)\n    687 \n    688 \n    689     \"\"\"\n    690     return fbeta_score(y_true, y_pred, 1, labels=labels,\n    691                        pos_label=pos_label, average=average,\n--> 692                        sample_weight=sample_weight)\n        sample_weight = None\n    693 \n    694 \n    695 def fbeta_score(y_true, y_pred, beta, labels=None, pos_label=1,\n    696                 average='binary', sample_weight=None):\n\n...........................................................................\nC:\\Program Files\\Anaconda3\\lib\\site-packages\\sklearn\\metrics\\classification.py in fbeta_score(y_true=2001    1\n57      4\n1935    1\n2524    0\n238     ... 2\n1076    2\n717     2\nName: Target, dtype: int64, y_pred=array([1, 2, 1, 0, 1, 3, 3, 1, 1, 0, 2, 0, 3, 0,...0, 4, 2, 0, 2, 0, 2, 2, 2, 2, 2, 2], dtype=int64), beta=1, labels=None, pos_label=1, average='binary', sample_weight=None)\n    801                                                  beta=beta,\n    802                                                  labels=labels,\n    803                                                  pos_label=pos_label,\n    804                                                  average=average,\n    805                                                  warn_for=('f-score',),\n--> 806                                                  sample_weight=sample_weight)\n        sample_weight = None\n    807     return f\n    808 \n    809 \n    810 def _prf_divide(numerator, denominator, metric, modifier, average, warn_for):\n\n...........................................................................\nC:\\Program Files\\Anaconda3\\lib\\site-packages\\sklearn\\metrics\\classification.py in precision_recall_fscore_support(y_true=array([1, 4, 1, 0, 3, 4, 3, 1, 1, 0, 4, 0, 3, 0,...0, 4, 2, 0, 2, 0, 2, 2, 2, 2, 2, 2], dtype=int64), y_pred=array([1, 2, 1, 0, 1, 3, 3, 1, 1, 0, 2, 0, 3, 0,...0, 4, 2, 0, 2, 0, 2, 2, 2, 2, 2, 2], dtype=int64), beta=1, labels=None, pos_label=1, average='binary', warn_for=('f-score',), sample_weight=None)\n   1013                     raise ValueError(\"pos_label=%r is not a valid label: %r\" %\n   1014                                      (pos_label, present_labels))\n   1015             labels = [pos_label]\n   1016         else:\n   1017             raise ValueError(\"Target is %s but average='binary'. Please \"\n-> 1018                              \"choose another average setting.\" % y_type)\n        y_type = 'multiclass'\n   1019     elif pos_label not in (None, 1):\n   1020         warnings.warn(\"Note that pos_label (set to %r) is ignored when \"\n   1021                       \"average != 'binary' (got %r). You may use \"\n   1022                       \"labels=[pos_label] to specify a single positive class.\"\n\nValueError: Target is multiclass but average='binary'. Please choose another average setting.\n___________________________________________________________________________\n\"\"\"",
      "\nThe above exception was the direct cause of the following exception:\n",
      "\u001b[0;31mTransportableException\u001b[0m                    Traceback (most recent call last)",
      "\u001b[0;32mC:\\Program Files\\Anaconda3\\lib\\site-packages\\sklearn\\externals\\joblib\\parallel.py\u001b[0m in \u001b[0;36mretrieve\u001b[0;34m(self)\u001b[0m\n\u001b[1;32m    681\u001b[0m                 \u001b[1;32mif\u001b[0m \u001b[1;34m'timeout'\u001b[0m \u001b[1;32min\u001b[0m \u001b[0mgetfullargspec\u001b[0m\u001b[1;33m(\u001b[0m\u001b[0mjob\u001b[0m\u001b[1;33m.\u001b[0m\u001b[0mget\u001b[0m\u001b[1;33m)\u001b[0m\u001b[1;33m.\u001b[0m\u001b[0margs\u001b[0m\u001b[1;33m:\u001b[0m\u001b[1;33m\u001b[0m\u001b[0m\n\u001b[0;32m--> 682\u001b[0;31m                     \u001b[0mself\u001b[0m\u001b[1;33m.\u001b[0m\u001b[0m_output\u001b[0m\u001b[1;33m.\u001b[0m\u001b[0mextend\u001b[0m\u001b[1;33m(\u001b[0m\u001b[0mjob\u001b[0m\u001b[1;33m.\u001b[0m\u001b[0mget\u001b[0m\u001b[1;33m(\u001b[0m\u001b[0mtimeout\u001b[0m\u001b[1;33m=\u001b[0m\u001b[0mself\u001b[0m\u001b[1;33m.\u001b[0m\u001b[0mtimeout\u001b[0m\u001b[1;33m)\u001b[0m\u001b[1;33m)\u001b[0m\u001b[1;33m\u001b[0m\u001b[0m\n\u001b[0m\u001b[1;32m    683\u001b[0m                 \u001b[1;32melse\u001b[0m\u001b[1;33m:\u001b[0m\u001b[1;33m\u001b[0m\u001b[0m\n",
      "\u001b[0;32mC:\\Program Files\\Anaconda3\\lib\\multiprocessing\\pool.py\u001b[0m in \u001b[0;36mget\u001b[0;34m(self, timeout)\u001b[0m\n\u001b[1;32m    607\u001b[0m         \u001b[1;32melse\u001b[0m\u001b[1;33m:\u001b[0m\u001b[1;33m\u001b[0m\u001b[0m\n\u001b[0;32m--> 608\u001b[0;31m             \u001b[1;32mraise\u001b[0m \u001b[0mself\u001b[0m\u001b[1;33m.\u001b[0m\u001b[0m_value\u001b[0m\u001b[1;33m\u001b[0m\u001b[0m\n\u001b[0m\u001b[1;32m    609\u001b[0m \u001b[1;33m\u001b[0m\u001b[0m\n",
      "\u001b[0;31mTransportableException\u001b[0m: TransportableException\n___________________________________________________________________________\nValueError                                         Sat Apr 15 17:57:31 2017\nPID: 9588               Python 3.5.2: C:\\Program Files\\Anaconda3\\python.exe\n...........................................................................\nC:\\Program Files\\Anaconda3\\lib\\site-packages\\sklearn\\externals\\joblib\\parallel.py in __call__(self=<sklearn.externals.joblib.parallel.BatchedCalls object>)\n    126     def __init__(self, iterator_slice):\n    127         self.items = list(iterator_slice)\n    128         self._size = len(self.items)\n    129 \n    130     def __call__(self):\n--> 131         return [func(*args, **kwargs) for func, args, kwargs in self.items]\n        self.items = [(<function _fit_and_score>, (Pipeline(steps=[('countvectorizer', CountVectori...alpha=0.001, class_prior=None, fit_prior=True))]), 2001    From: mss@netcom.com (Mark Singer)\\nSubj...ohio-state.edu\\nSubj...\nName: Text, dtype: object, 2001    1\n57      4\n1935    1\n2524    0\n238     ... 3\n2607    1\n2732    4\nName: Target, dtype: int64, make_scorer(f1_score), array([ 710,  725,  726, ..., 2263, 2264, 2265]), array([  0,   1,   2,   3,   4,   5,   6,   7,  ..., 773, 774, 777, 780, 781,\n       784, 786, 794]), True, {'multinomialnb__alpha': 0.001, 'tfidftransformer__norm': 'l1', 'tfidftransformer__use_idf': True}), {'error_score': 'raise', 'fit_params': {}, 'return_n_test_samples': True, 'return_parameters': True, 'return_times': True, 'return_train_score': True})]\n    132 \n    133     def __len__(self):\n    134         return self._size\n    135 \n\n...........................................................................\nC:\\Program Files\\Anaconda3\\lib\\site-packages\\sklearn\\externals\\joblib\\parallel.py in <listcomp>(.0=<list_iterator object>)\n    126     def __init__(self, iterator_slice):\n    127         self.items = list(iterator_slice)\n    128         self._size = len(self.items)\n    129 \n    130     def __call__(self):\n--> 131         return [func(*args, **kwargs) for func, args, kwargs in self.items]\n        func = <function _fit_and_score>\n        args = (Pipeline(steps=[('countvectorizer', CountVectori...alpha=0.001, class_prior=None, fit_prior=True))]), 2001    From: mss@netcom.com (Mark Singer)\\nSubj...ohio-state.edu\\nSubj...\nName: Text, dtype: object, 2001    1\n57      4\n1935    1\n2524    0\n238     ... 3\n2607    1\n2732    4\nName: Target, dtype: int64, make_scorer(f1_score), array([ 710,  725,  726, ..., 2263, 2264, 2265]), array([  0,   1,   2,   3,   4,   5,   6,   7,  ..., 773, 774, 777, 780, 781,\n       784, 786, 794]), True, {'multinomialnb__alpha': 0.001, 'tfidftransformer__norm': 'l1', 'tfidftransformer__use_idf': True})\n        kwargs = {'error_score': 'raise', 'fit_params': {}, 'return_n_test_samples': True, 'return_parameters': True, 'return_times': True, 'return_train_score': True}\n    132 \n    133     def __len__(self):\n    134         return self._size\n    135 \n\n...........................................................................\nC:\\Program Files\\Anaconda3\\lib\\site-packages\\sklearn\\model_selection\\_validation.py in _fit_and_score(estimator=Pipeline(steps=[('countvectorizer', CountVectori...alpha=0.001, class_prior=None, fit_prior=True))]), X=2001    From: mss@netcom.com (Mark Singer)\\nSubj...ohio-state.edu\\nSubj...\nName: Text, dtype: object, y=2001    1\n57      4\n1935    1\n2524    0\n238     ... 3\n2607    1\n2732    4\nName: Target, dtype: int64, scorer=make_scorer(f1_score), train=array([ 710,  725,  726, ..., 2263, 2264, 2265]), test=array([  0,   1,   2,   3,   4,   5,   6,   7,  ..., 773, 774, 777, 780, 781,\n       784, 786, 794]), verbose=True, parameters={'multinomialnb__alpha': 0.001, 'tfidftransformer__norm': 'l1', 'tfidftransformer__use_idf': True}, fit_params={}, return_train_score=True, return_parameters=True, return_n_test_samples=True, return_times=True, error_score='raise')\n    255                              \" numeric value. (Hint: if using 'raise', please\"\n    256                              \" make sure that it has been spelled correctly.)\")\n    257 \n    258     else:\n    259         fit_time = time.time() - start_time\n--> 260         test_score = _score(estimator, X_test, y_test, scorer)\n        test_score = undefined\n        estimator = Pipeline(steps=[('countvectorizer', CountVectori...alpha=0.001, class_prior=None, fit_prior=True))])\n        X_test = 2001    From: mss@netcom.com (Mark Singer)\\nSubj...m (Ron \"Asbestos\" Di...\nName: Text, dtype: object\n        y_test = 2001    1\n57      4\n1935    1\n2524    0\n238     ... 2\n1076    2\n717     2\nName: Target, dtype: int64\n        scorer = make_scorer(f1_score)\n    261         score_time = time.time() - start_time - fit_time\n    262         if return_train_score:\n    263             train_score = _score(estimator, X_train, y_train, scorer)\n    264 \n\n...........................................................................\nC:\\Program Files\\Anaconda3\\lib\\site-packages\\sklearn\\model_selection\\_validation.py in _score(estimator=Pipeline(steps=[('countvectorizer', CountVectori...alpha=0.001, class_prior=None, fit_prior=True))]), X_test=2001    From: mss@netcom.com (Mark Singer)\\nSubj...m (Ron \"Asbestos\" Di...\nName: Text, dtype: object, y_test=2001    1\n57      4\n1935    1\n2524    0\n238     ... 2\n1076    2\n717     2\nName: Target, dtype: int64, scorer=make_scorer(f1_score))\n    283 def _score(estimator, X_test, y_test, scorer):\n    284     \"\"\"Compute the score of an estimator on a given test set.\"\"\"\n    285     if y_test is None:\n    286         score = scorer(estimator, X_test)\n    287     else:\n--> 288         score = scorer(estimator, X_test, y_test)\n        score = undefined\n        scorer = make_scorer(f1_score)\n        estimator = Pipeline(steps=[('countvectorizer', CountVectori...alpha=0.001, class_prior=None, fit_prior=True))])\n        X_test = 2001    From: mss@netcom.com (Mark Singer)\\nSubj...m (Ron \"Asbestos\" Di...\nName: Text, dtype: object\n        y_test = 2001    1\n57      4\n1935    1\n2524    0\n238     ... 2\n1076    2\n717     2\nName: Target, dtype: int64\n    289     if hasattr(score, 'item'):\n    290         try:\n    291             # e.g. unwrap memmapped scalars\n    292             score = score.item()\n\n...........................................................................\nC:\\Program Files\\Anaconda3\\lib\\site-packages\\sklearn\\metrics\\scorer.py in __call__(self=make_scorer(f1_score), estimator=Pipeline(steps=[('countvectorizer', CountVectori...alpha=0.001, class_prior=None, fit_prior=True))]), X=2001    From: mss@netcom.com (Mark Singer)\\nSubj...m (Ron \"Asbestos\" Di...\nName: Text, dtype: object, y_true=2001    1\n57      4\n1935    1\n2524    0\n238     ... 2\n1076    2\n717     2\nName: Target, dtype: int64, sample_weight=None)\n     93             return self._sign * self._score_func(y_true, y_pred,\n     94                                                  sample_weight=sample_weight,\n     95                                                  **self._kwargs)\n     96         else:\n     97             return self._sign * self._score_func(y_true, y_pred,\n---> 98                                                  **self._kwargs)\n        self._kwargs = {}\n     99 \n    100 \n    101 class _ProbaScorer(_BaseScorer):\n    102     def __call__(self, clf, X, y, sample_weight=None):\n\n...........................................................................\nC:\\Program Files\\Anaconda3\\lib\\site-packages\\sklearn\\metrics\\classification.py in f1_score(y_true=2001    1\n57      4\n1935    1\n2524    0\n238     ... 2\n1076    2\n717     2\nName: Target, dtype: int64, y_pred=array([1, 2, 1, 0, 1, 3, 3, 1, 1, 0, 2, 0, 3, 0,...0, 4, 2, 0, 2, 0, 2, 2, 2, 2, 2, 2], dtype=int64), labels=None, pos_label=1, average='binary', sample_weight=None)\n    687 \n    688 \n    689     \"\"\"\n    690     return fbeta_score(y_true, y_pred, 1, labels=labels,\n    691                        pos_label=pos_label, average=average,\n--> 692                        sample_weight=sample_weight)\n        sample_weight = None\n    693 \n    694 \n    695 def fbeta_score(y_true, y_pred, beta, labels=None, pos_label=1,\n    696                 average='binary', sample_weight=None):\n\n...........................................................................\nC:\\Program Files\\Anaconda3\\lib\\site-packages\\sklearn\\metrics\\classification.py in fbeta_score(y_true=2001    1\n57      4\n1935    1\n2524    0\n238     ... 2\n1076    2\n717     2\nName: Target, dtype: int64, y_pred=array([1, 2, 1, 0, 1, 3, 3, 1, 1, 0, 2, 0, 3, 0,...0, 4, 2, 0, 2, 0, 2, 2, 2, 2, 2, 2], dtype=int64), beta=1, labels=None, pos_label=1, average='binary', sample_weight=None)\n    801                                                  beta=beta,\n    802                                                  labels=labels,\n    803                                                  pos_label=pos_label,\n    804                                                  average=average,\n    805                                                  warn_for=('f-score',),\n--> 806                                                  sample_weight=sample_weight)\n        sample_weight = None\n    807     return f\n    808 \n    809 \n    810 def _prf_divide(numerator, denominator, metric, modifier, average, warn_for):\n\n...........................................................................\nC:\\Program Files\\Anaconda3\\lib\\site-packages\\sklearn\\metrics\\classification.py in precision_recall_fscore_support(y_true=array([1, 4, 1, 0, 3, 4, 3, 1, 1, 0, 4, 0, 3, 0,...0, 4, 2, 0, 2, 0, 2, 2, 2, 2, 2, 2], dtype=int64), y_pred=array([1, 2, 1, 0, 1, 3, 3, 1, 1, 0, 2, 0, 3, 0,...0, 4, 2, 0, 2, 0, 2, 2, 2, 2, 2, 2], dtype=int64), beta=1, labels=None, pos_label=1, average='binary', warn_for=('f-score',), sample_weight=None)\n   1013                     raise ValueError(\"pos_label=%r is not a valid label: %r\" %\n   1014                                      (pos_label, present_labels))\n   1015             labels = [pos_label]\n   1016         else:\n   1017             raise ValueError(\"Target is %s but average='binary'. Please \"\n-> 1018                              \"choose another average setting.\" % y_type)\n        y_type = 'multiclass'\n   1019     elif pos_label not in (None, 1):\n   1020         warnings.warn(\"Note that pos_label (set to %r) is ignored when \"\n   1021                       \"average != 'binary' (got %r). You may use \"\n   1022                       \"labels=[pos_label] to specify a single positive class.\"\n\nValueError: Target is multiclass but average='binary'. Please choose another average setting.\n___________________________________________________________________________",
      "\nDuring handling of the above exception, another exception occurred:\n",
      "\u001b[0;31mJoblibValueError\u001b[0m                          Traceback (most recent call last)",
      "\u001b[0;32m<ipython-input-434-9753d3a5622e>\u001b[0m in \u001b[0;36mtry_score\u001b[0;34m(score)\u001b[0m\n\u001b[1;32m     14\u001b[0m     }\n\u001b[1;32m     15\u001b[0m     \u001b[0mgrid\u001b[0m \u001b[1;33m=\u001b[0m \u001b[0mGridSearchCV\u001b[0m\u001b[1;33m(\u001b[0m\u001b[0mpipe\u001b[0m\u001b[1;33m,\u001b[0m \u001b[0mparams\u001b[0m\u001b[1;33m,\u001b[0m \u001b[0mcv\u001b[0m\u001b[1;33m=\u001b[0m\u001b[1;36m3\u001b[0m\u001b[1;33m,\u001b[0m \u001b[0mverbose\u001b[0m\u001b[1;33m=\u001b[0m\u001b[1;32mTrue\u001b[0m\u001b[1;33m,\u001b[0m \u001b[0mn_jobs\u001b[0m\u001b[1;33m=\u001b[0m\u001b[1;33m-\u001b[0m\u001b[1;36m1\u001b[0m\u001b[1;33m,\u001b[0m \u001b[0mscoring\u001b[0m\u001b[1;33m=\u001b[0m\u001b[0mscore\u001b[0m\u001b[1;33m)\u001b[0m\u001b[1;33m\u001b[0m\u001b[0m\n\u001b[0;32m---> 16\u001b[0;31m     \u001b[0mgrid\u001b[0m\u001b[1;33m.\u001b[0m\u001b[0mfit\u001b[0m\u001b[1;33m(\u001b[0m\u001b[0mX_train\u001b[0m\u001b[1;33m,\u001b[0m \u001b[0my_train\u001b[0m\u001b[1;33m)\u001b[0m\u001b[1;33m\u001b[0m\u001b[0m\n\u001b[0m\u001b[1;32m     17\u001b[0m     \u001b[0mevaluate_grid\u001b[0m\u001b[1;33m(\u001b[0m\u001b[0mgrid\u001b[0m\u001b[1;33m)\u001b[0m\u001b[1;33m\u001b[0m\u001b[0m\n",
      "\u001b[0;32mC:\\Program Files\\Anaconda3\\lib\\site-packages\\sklearn\\model_selection\\_search.py\u001b[0m in \u001b[0;36mfit\u001b[0;34m(self, X, y, groups)\u001b[0m\n\u001b[1;32m    943\u001b[0m             \u001b[0mtrain\u001b[0m\u001b[1;33m/\u001b[0m\u001b[0mtest\u001b[0m \u001b[0mset\u001b[0m\u001b[1;33m.\u001b[0m\u001b[1;33m\u001b[0m\u001b[0m\n\u001b[1;32m    944\u001b[0m         \"\"\"\n\u001b[0;32m--> 945\u001b[0;31m         \u001b[1;32mreturn\u001b[0m \u001b[0mself\u001b[0m\u001b[1;33m.\u001b[0m\u001b[0m_fit\u001b[0m\u001b[1;33m(\u001b[0m\u001b[0mX\u001b[0m\u001b[1;33m,\u001b[0m \u001b[0my\u001b[0m\u001b[1;33m,\u001b[0m \u001b[0mgroups\u001b[0m\u001b[1;33m,\u001b[0m \u001b[0mParameterGrid\u001b[0m\u001b[1;33m(\u001b[0m\u001b[0mself\u001b[0m\u001b[1;33m.\u001b[0m\u001b[0mparam_grid\u001b[0m\u001b[1;33m)\u001b[0m\u001b[1;33m)\u001b[0m\u001b[1;33m\u001b[0m\u001b[0m\n\u001b[0m\u001b[1;32m    946\u001b[0m \u001b[1;33m\u001b[0m\u001b[0m\n\u001b[1;32m    947\u001b[0m \u001b[1;33m\u001b[0m\u001b[0m\n",
      "\u001b[0;32mC:\\Program Files\\Anaconda3\\lib\\site-packages\\sklearn\\model_selection\\_search.py\u001b[0m in \u001b[0;36m_fit\u001b[0;34m(self, X, y, groups, parameter_iterable)\u001b[0m\n\u001b[1;32m    562\u001b[0m                                   \u001b[0mreturn_times\u001b[0m\u001b[1;33m=\u001b[0m\u001b[1;32mTrue\u001b[0m\u001b[1;33m,\u001b[0m \u001b[0mreturn_parameters\u001b[0m\u001b[1;33m=\u001b[0m\u001b[1;32mTrue\u001b[0m\u001b[1;33m,\u001b[0m\u001b[1;33m\u001b[0m\u001b[0m\n\u001b[1;32m    563\u001b[0m                                   error_score=self.error_score)\n\u001b[0;32m--> 564\u001b[0;31m           \u001b[1;32mfor\u001b[0m \u001b[0mparameters\u001b[0m \u001b[1;32min\u001b[0m \u001b[0mparameter_iterable\u001b[0m\u001b[1;33m\u001b[0m\u001b[0m\n\u001b[0m\u001b[1;32m    565\u001b[0m           for train, test in cv_iter)\n\u001b[1;32m    566\u001b[0m \u001b[1;33m\u001b[0m\u001b[0m\n",
      "\u001b[0;32mC:\\Program Files\\Anaconda3\\lib\\site-packages\\sklearn\\externals\\joblib\\parallel.py\u001b[0m in \u001b[0;36m__call__\u001b[0;34m(self, iterable)\u001b[0m\n\u001b[1;32m    766\u001b[0m                 \u001b[1;31m# consumption.\u001b[0m\u001b[1;33m\u001b[0m\u001b[1;33m\u001b[0m\u001b[0m\n\u001b[1;32m    767\u001b[0m                 \u001b[0mself\u001b[0m\u001b[1;33m.\u001b[0m\u001b[0m_iterating\u001b[0m \u001b[1;33m=\u001b[0m \u001b[1;32mFalse\u001b[0m\u001b[1;33m\u001b[0m\u001b[0m\n\u001b[0;32m--> 768\u001b[0;31m             \u001b[0mself\u001b[0m\u001b[1;33m.\u001b[0m\u001b[0mretrieve\u001b[0m\u001b[1;33m(\u001b[0m\u001b[1;33m)\u001b[0m\u001b[1;33m\u001b[0m\u001b[0m\n\u001b[0m\u001b[1;32m    769\u001b[0m             \u001b[1;31m# Make sure that we get a last message telling us we are done\u001b[0m\u001b[1;33m\u001b[0m\u001b[1;33m\u001b[0m\u001b[0m\n\u001b[1;32m    770\u001b[0m             \u001b[0melapsed_time\u001b[0m \u001b[1;33m=\u001b[0m \u001b[0mtime\u001b[0m\u001b[1;33m.\u001b[0m\u001b[0mtime\u001b[0m\u001b[1;33m(\u001b[0m\u001b[1;33m)\u001b[0m \u001b[1;33m-\u001b[0m \u001b[0mself\u001b[0m\u001b[1;33m.\u001b[0m\u001b[0m_start_time\u001b[0m\u001b[1;33m\u001b[0m\u001b[0m\n",
      "\u001b[0;32mC:\\Program Files\\Anaconda3\\lib\\site-packages\\sklearn\\externals\\joblib\\parallel.py\u001b[0m in \u001b[0;36mretrieve\u001b[0;34m(self)\u001b[0m\n\u001b[1;32m    717\u001b[0m                     \u001b[0mensure_ready\u001b[0m \u001b[1;33m=\u001b[0m \u001b[0mself\u001b[0m\u001b[1;33m.\u001b[0m\u001b[0m_managed_backend\u001b[0m\u001b[1;33m\u001b[0m\u001b[0m\n\u001b[1;32m    718\u001b[0m                     \u001b[0mbackend\u001b[0m\u001b[1;33m.\u001b[0m\u001b[0mabort_everything\u001b[0m\u001b[1;33m(\u001b[0m\u001b[0mensure_ready\u001b[0m\u001b[1;33m=\u001b[0m\u001b[0mensure_ready\u001b[0m\u001b[1;33m)\u001b[0m\u001b[1;33m\u001b[0m\u001b[0m\n\u001b[0;32m--> 719\u001b[0;31m                 \u001b[1;32mraise\u001b[0m \u001b[0mexception\u001b[0m\u001b[1;33m\u001b[0m\u001b[0m\n\u001b[0m\u001b[1;32m    720\u001b[0m \u001b[1;33m\u001b[0m\u001b[0m\n\u001b[1;32m    721\u001b[0m     \u001b[1;32mdef\u001b[0m \u001b[0m__call__\u001b[0m\u001b[1;33m(\u001b[0m\u001b[0mself\u001b[0m\u001b[1;33m,\u001b[0m \u001b[0miterable\u001b[0m\u001b[1;33m)\u001b[0m\u001b[1;33m:\u001b[0m\u001b[1;33m\u001b[0m\u001b[0m\n",
      "\u001b[0;31mJoblibValueError\u001b[0m: JoblibValueError\n___________________________________________________________________________\nMultiprocessing exception:\n...........................................................................\nC:\\Program Files\\Anaconda3\\lib\\runpy.py in _run_module_as_main(mod_name='ipykernel.__main__', alter_argv=1)\n    179         sys.exit(msg)\n    180     main_globals = sys.modules[\"__main__\"].__dict__\n    181     if alter_argv:\n    182         sys.argv[0] = mod_spec.origin\n    183     return _run_code(code, main_globals, None,\n--> 184                      \"__main__\", mod_spec)\n        mod_spec = ModuleSpec(name='ipykernel.__main__', loader=<_f...da3\\\\lib\\\\site-packages\\\\ipykernel\\\\__main__.py')\n    185 \n    186 def run_module(mod_name, init_globals=None,\n    187                run_name=None, alter_sys=False):\n    188     \"\"\"Execute a module's code without importing it\n\n...........................................................................\nC:\\Program Files\\Anaconda3\\lib\\runpy.py in _run_code(code=<code object <module> at 0x0000000001118810, fil...lib\\site-packages\\ipykernel\\__main__.py\", line 1>, run_globals={'__builtins__': <module 'builtins' (built-in)>, '__cached__': r'C:\\Program Files\\Anaconda3\\lib\\site-packages\\ipykernel\\__pycache__\\__main__.cpython-35.pyc', '__doc__': None, '__file__': r'C:\\Program Files\\Anaconda3\\lib\\site-packages\\ipykernel\\__main__.py', '__loader__': <_frozen_importlib_external.SourceFileLoader object>, '__name__': '__main__', '__package__': 'ipykernel', '__spec__': ModuleSpec(name='ipykernel.__main__', loader=<_f...da3\\\\lib\\\\site-packages\\\\ipykernel\\\\__main__.py'), 'app': <module 'ipykernel.kernelapp' from 'C:\\\\Program ...a3\\\\lib\\\\site-packages\\\\ipykernel\\\\kernelapp.py'>}, init_globals=None, mod_name='__main__', mod_spec=ModuleSpec(name='ipykernel.__main__', loader=<_f...da3\\\\lib\\\\site-packages\\\\ipykernel\\\\__main__.py'), pkg_name='ipykernel', script_name=None)\n     80                        __cached__ = cached,\n     81                        __doc__ = None,\n     82                        __loader__ = loader,\n     83                        __package__ = pkg_name,\n     84                        __spec__ = mod_spec)\n---> 85     exec(code, run_globals)\n        code = <code object <module> at 0x0000000001118810, fil...lib\\site-packages\\ipykernel\\__main__.py\", line 1>\n        run_globals = {'__builtins__': <module 'builtins' (built-in)>, '__cached__': r'C:\\Program Files\\Anaconda3\\lib\\site-packages\\ipykernel\\__pycache__\\__main__.cpython-35.pyc', '__doc__': None, '__file__': r'C:\\Program Files\\Anaconda3\\lib\\site-packages\\ipykernel\\__main__.py', '__loader__': <_frozen_importlib_external.SourceFileLoader object>, '__name__': '__main__', '__package__': 'ipykernel', '__spec__': ModuleSpec(name='ipykernel.__main__', loader=<_f...da3\\\\lib\\\\site-packages\\\\ipykernel\\\\__main__.py'), 'app': <module 'ipykernel.kernelapp' from 'C:\\\\Program ...a3\\\\lib\\\\site-packages\\\\ipykernel\\\\kernelapp.py'>}\n     86     return run_globals\n     87 \n     88 def _run_module_code(code, init_globals=None,\n     89                     mod_name=None, mod_spec=None,\n\n...........................................................................\nC:\\Program Files\\Anaconda3\\lib\\site-packages\\ipykernel\\__main__.py in <module>()\n      1 \n      2 \n----> 3 \n      4 if __name__ == '__main__':\n      5     from ipykernel import kernelapp as app\n      6     app.launch_new_instance()\n      7 \n      8 \n      9 \n     10 \n\n...........................................................................\nC:\\Program Files\\Anaconda3\\lib\\site-packages\\traitlets\\config\\application.py in launch_instance(cls=<class 'ipykernel.kernelapp.IPKernelApp'>, argv=None, **kwargs={})\n    653 \n    654         If a global instance already exists, this reinitializes and starts it\n    655         \"\"\"\n    656         app = cls.instance(**kwargs)\n    657         app.initialize(argv)\n--> 658         app.start()\n        app.start = <bound method IPKernelApp.start of <ipykernel.kernelapp.IPKernelApp object>>\n    659 \n    660 #-----------------------------------------------------------------------------\n    661 # utility functions, for convenience\n    662 #-----------------------------------------------------------------------------\n\n...........................................................................\nC:\\Program Files\\Anaconda3\\lib\\site-packages\\ipykernel\\kernelapp.py in start(self=<ipykernel.kernelapp.IPKernelApp object>)\n    469             return self.subapp.start()\n    470         if self.poller is not None:\n    471             self.poller.start()\n    472         self.kernel.start()\n    473         try:\n--> 474             ioloop.IOLoop.instance().start()\n    475         except KeyboardInterrupt:\n    476             pass\n    477 \n    478 launch_new_instance = IPKernelApp.launch_instance\n\n...........................................................................\nC:\\Program Files\\Anaconda3\\lib\\site-packages\\zmq\\eventloop\\ioloop.py in start(self=<zmq.eventloop.ioloop.ZMQIOLoop object>)\n    157             PollIOLoop.configure(ZMQIOLoop)\n    158         return PollIOLoop.current(*args, **kwargs)\n    159     \n    160     def start(self):\n    161         try:\n--> 162             super(ZMQIOLoop, self).start()\n        self.start = <bound method ZMQIOLoop.start of <zmq.eventloop.ioloop.ZMQIOLoop object>>\n    163         except ZMQError as e:\n    164             if e.errno == ETERM:\n    165                 # quietly return on ETERM\n    166                 pass\n\n...........................................................................\nC:\\Program Files\\Anaconda3\\lib\\site-packages\\tornado\\ioloop.py in start(self=<zmq.eventloop.ioloop.ZMQIOLoop object>)\n    882                 self._events.update(event_pairs)\n    883                 while self._events:\n    884                     fd, events = self._events.popitem()\n    885                     try:\n    886                         fd_obj, handler_func = self._handlers[fd]\n--> 887                         handler_func(fd_obj, events)\n        handler_func = <function wrap.<locals>.null_wrapper>\n        fd_obj = <zmq.sugar.socket.Socket object>\n        events = 1\n    888                     except (OSError, IOError) as e:\n    889                         if errno_from_exception(e) == errno.EPIPE:\n    890                             # Happens when the client closes the connection\n    891                             pass\n\n...........................................................................\nC:\\Program Files\\Anaconda3\\lib\\site-packages\\tornado\\stack_context.py in null_wrapper(*args=(<zmq.sugar.socket.Socket object>, 1), **kwargs={})\n    270         # Fast path when there are no active contexts.\n    271         def null_wrapper(*args, **kwargs):\n    272             try:\n    273                 current_state = _state.contexts\n    274                 _state.contexts = cap_contexts[0]\n--> 275                 return fn(*args, **kwargs)\n        args = (<zmq.sugar.socket.Socket object>, 1)\n        kwargs = {}\n    276             finally:\n    277                 _state.contexts = current_state\n    278         null_wrapper._wrapped = True\n    279         return null_wrapper\n\n...........................................................................\nC:\\Program Files\\Anaconda3\\lib\\site-packages\\zmq\\eventloop\\zmqstream.py in _handle_events(self=<zmq.eventloop.zmqstream.ZMQStream object>, fd=<zmq.sugar.socket.Socket object>, events=1)\n    435             # dispatch events:\n    436             if events & IOLoop.ERROR:\n    437                 gen_log.error(\"got POLLERR event on ZMQStream, which doesn't make sense\")\n    438                 return\n    439             if events & IOLoop.READ:\n--> 440                 self._handle_recv()\n        self._handle_recv = <bound method ZMQStream._handle_recv of <zmq.eventloop.zmqstream.ZMQStream object>>\n    441                 if not self.socket:\n    442                     return\n    443             if events & IOLoop.WRITE:\n    444                 self._handle_send()\n\n...........................................................................\nC:\\Program Files\\Anaconda3\\lib\\site-packages\\zmq\\eventloop\\zmqstream.py in _handle_recv(self=<zmq.eventloop.zmqstream.ZMQStream object>)\n    467                 gen_log.error(\"RECV Error: %s\"%zmq.strerror(e.errno))\n    468         else:\n    469             if self._recv_callback:\n    470                 callback = self._recv_callback\n    471                 # self._recv_callback = None\n--> 472                 self._run_callback(callback, msg)\n        self._run_callback = <bound method ZMQStream._run_callback of <zmq.eventloop.zmqstream.ZMQStream object>>\n        callback = <function wrap.<locals>.null_wrapper>\n        msg = [<zmq.sugar.frame.Frame object>, <zmq.sugar.frame.Frame object>, <zmq.sugar.frame.Frame object>, <zmq.sugar.frame.Frame object>, <zmq.sugar.frame.Frame object>, <zmq.sugar.frame.Frame object>, <zmq.sugar.frame.Frame object>]\n    473                 \n    474         # self.update_state()\n    475         \n    476 \n\n...........................................................................\nC:\\Program Files\\Anaconda3\\lib\\site-packages\\zmq\\eventloop\\zmqstream.py in _run_callback(self=<zmq.eventloop.zmqstream.ZMQStream object>, callback=<function wrap.<locals>.null_wrapper>, *args=([<zmq.sugar.frame.Frame object>, <zmq.sugar.frame.Frame object>, <zmq.sugar.frame.Frame object>, <zmq.sugar.frame.Frame object>, <zmq.sugar.frame.Frame object>, <zmq.sugar.frame.Frame object>, <zmq.sugar.frame.Frame object>],), **kwargs={})\n    409         close our socket.\"\"\"\n    410         try:\n    411             # Use a NullContext to ensure that all StackContexts are run\n    412             # inside our blanket exception handler rather than outside.\n    413             with stack_context.NullContext():\n--> 414                 callback(*args, **kwargs)\n        callback = <function wrap.<locals>.null_wrapper>\n        args = ([<zmq.sugar.frame.Frame object>, <zmq.sugar.frame.Frame object>, <zmq.sugar.frame.Frame object>, <zmq.sugar.frame.Frame object>, <zmq.sugar.frame.Frame object>, <zmq.sugar.frame.Frame object>, <zmq.sugar.frame.Frame object>],)\n        kwargs = {}\n    415         except:\n    416             gen_log.error(\"Uncaught exception, closing connection.\",\n    417                           exc_info=True)\n    418             # Close the socket on an uncaught exception from a user callback\n\n...........................................................................\nC:\\Program Files\\Anaconda3\\lib\\site-packages\\tornado\\stack_context.py in null_wrapper(*args=([<zmq.sugar.frame.Frame object>, <zmq.sugar.frame.Frame object>, <zmq.sugar.frame.Frame object>, <zmq.sugar.frame.Frame object>, <zmq.sugar.frame.Frame object>, <zmq.sugar.frame.Frame object>, <zmq.sugar.frame.Frame object>],), **kwargs={})\n    270         # Fast path when there are no active contexts.\n    271         def null_wrapper(*args, **kwargs):\n    272             try:\n    273                 current_state = _state.contexts\n    274                 _state.contexts = cap_contexts[0]\n--> 275                 return fn(*args, **kwargs)\n        args = ([<zmq.sugar.frame.Frame object>, <zmq.sugar.frame.Frame object>, <zmq.sugar.frame.Frame object>, <zmq.sugar.frame.Frame object>, <zmq.sugar.frame.Frame object>, <zmq.sugar.frame.Frame object>, <zmq.sugar.frame.Frame object>],)\n        kwargs = {}\n    276             finally:\n    277                 _state.contexts = current_state\n    278         null_wrapper._wrapped = True\n    279         return null_wrapper\n\n...........................................................................\nC:\\Program Files\\Anaconda3\\lib\\site-packages\\ipykernel\\kernelbase.py in dispatcher(msg=[<zmq.sugar.frame.Frame object>, <zmq.sugar.frame.Frame object>, <zmq.sugar.frame.Frame object>, <zmq.sugar.frame.Frame object>, <zmq.sugar.frame.Frame object>, <zmq.sugar.frame.Frame object>, <zmq.sugar.frame.Frame object>])\n    271         if self.control_stream:\n    272             self.control_stream.on_recv(self.dispatch_control, copy=False)\n    273 \n    274         def make_dispatcher(stream):\n    275             def dispatcher(msg):\n--> 276                 return self.dispatch_shell(stream, msg)\n        msg = [<zmq.sugar.frame.Frame object>, <zmq.sugar.frame.Frame object>, <zmq.sugar.frame.Frame object>, <zmq.sugar.frame.Frame object>, <zmq.sugar.frame.Frame object>, <zmq.sugar.frame.Frame object>, <zmq.sugar.frame.Frame object>]\n    277             return dispatcher\n    278 \n    279         for s in self.shell_streams:\n    280             s.on_recv(make_dispatcher(s), copy=False)\n\n...........................................................................\nC:\\Program Files\\Anaconda3\\lib\\site-packages\\ipykernel\\kernelbase.py in dispatch_shell(self=<ipykernel.ipkernel.IPythonKernel object>, stream=<zmq.eventloop.zmqstream.ZMQStream object>, msg={'buffers': [], 'content': {'comm_id': '278107399f4b41388c72333aead7321b', 'data': {'buffer_keys': [], 'method': 'backbone', 'sync_data': {'_dom_classes': [], '_model_module': 'jupyter-js-widgets', '_model_name': 'DropdownModel', '_options_labels': ['accuracy', 'precision', 'f1'], '_view_module': 'jupyter-js-widgets', '_view_name': 'DropdownView', 'background_color': None, 'button_style': '', 'color': None, 'description': 'score', ...}}}, 'header': {'date': '2017-04-15T17:57:26.241683', 'msg_id': '4218E6CB8BB14AA598F2439A1CDD3B93', 'msg_type': 'comm_msg', 'session': '2C914941E9DA41B38D39B154D5B1EBFA', 'username': 'username', 'version': '5.0'}, 'metadata': {}, 'msg_id': '4218E6CB8BB14AA598F2439A1CDD3B93', 'msg_type': 'comm_msg', 'parent_header': {}})\n    223             self.log.error(\"UNKNOWN MESSAGE TYPE: %r\", msg_type)\n    224         else:\n    225             self.log.debug(\"%s: %s\", msg_type, msg)\n    226             self.pre_handler_hook()\n    227             try:\n--> 228                 handler(stream, idents, msg)\n        handler = <bound method CommManager.comm_msg of <ipykernel.comm.manager.CommManager object>>\n        stream = <zmq.eventloop.zmqstream.ZMQStream object>\n        idents = [b'2C914941E9DA41B38D39B154D5B1EBFA']\n        msg = {'buffers': [], 'content': {'comm_id': '278107399f4b41388c72333aead7321b', 'data': {'buffer_keys': [], 'method': 'backbone', 'sync_data': {'_dom_classes': [], '_model_module': 'jupyter-js-widgets', '_model_name': 'DropdownModel', '_options_labels': ['accuracy', 'precision', 'f1'], '_view_module': 'jupyter-js-widgets', '_view_name': 'DropdownView', 'background_color': None, 'button_style': '', 'color': None, 'description': 'score', ...}}}, 'header': {'date': '2017-04-15T17:57:26.241683', 'msg_id': '4218E6CB8BB14AA598F2439A1CDD3B93', 'msg_type': 'comm_msg', 'session': '2C914941E9DA41B38D39B154D5B1EBFA', 'username': 'username', 'version': '5.0'}, 'metadata': {}, 'msg_id': '4218E6CB8BB14AA598F2439A1CDD3B93', 'msg_type': 'comm_msg', 'parent_header': {}}\n    229             except Exception:\n    230                 self.log.error(\"Exception in message handler:\", exc_info=True)\n    231             finally:\n    232                 self.post_handler_hook()\n\n...........................................................................\nC:\\Program Files\\Anaconda3\\lib\\site-packages\\ipykernel\\comm\\manager.py in comm_msg(self=<ipykernel.comm.manager.CommManager object>, stream=<zmq.eventloop.zmqstream.ZMQStream object>, ident=[b'2C914941E9DA41B38D39B154D5B1EBFA'], msg={'buffers': [], 'content': {'comm_id': '278107399f4b41388c72333aead7321b', 'data': {'buffer_keys': [], 'method': 'backbone', 'sync_data': {'_dom_classes': [], '_model_module': 'jupyter-js-widgets', '_model_name': 'DropdownModel', '_options_labels': ['accuracy', 'precision', 'f1'], '_view_module': 'jupyter-js-widgets', '_view_name': 'DropdownView', 'background_color': None, 'button_style': '', 'color': None, 'description': 'score', ...}}}, 'header': {'date': '2017-04-15T17:57:26.241683', 'msg_id': '4218E6CB8BB14AA598F2439A1CDD3B93', 'msg_type': 'comm_msg', 'session': '2C914941E9DA41B38D39B154D5B1EBFA', 'username': 'username', 'version': '5.0'}, 'metadata': {}, 'msg_id': '4218E6CB8BB14AA598F2439A1CDD3B93', 'msg_type': 'comm_msg', 'parent_header': {}})\n    106         comm = self.get_comm(comm_id)\n    107         if comm is None:\n    108             return\n    109 \n    110         try:\n--> 111             comm.handle_msg(msg)\n        comm.handle_msg = <bound method Comm.handle_msg of <ipykernel.comm.comm.Comm object>>\n        msg = {'buffers': [], 'content': {'comm_id': '278107399f4b41388c72333aead7321b', 'data': {'buffer_keys': [], 'method': 'backbone', 'sync_data': {'_dom_classes': [], '_model_module': 'jupyter-js-widgets', '_model_name': 'DropdownModel', '_options_labels': ['accuracy', 'precision', 'f1'], '_view_module': 'jupyter-js-widgets', '_view_name': 'DropdownView', 'background_color': None, 'button_style': '', 'color': None, 'description': 'score', ...}}}, 'header': {'date': '2017-04-15T17:57:26.241683', 'msg_id': '4218E6CB8BB14AA598F2439A1CDD3B93', 'msg_type': 'comm_msg', 'session': '2C914941E9DA41B38D39B154D5B1EBFA', 'username': 'username', 'version': '5.0'}, 'metadata': {}, 'msg_id': '4218E6CB8BB14AA598F2439A1CDD3B93', 'msg_type': 'comm_msg', 'parent_header': {}}\n    112         except Exception:\n    113             self.log.error('Exception in comm_msg for %s', comm_id, exc_info=True)\n    114 \n    115     def comm_close(self, stream, ident, msg):\n\n...........................................................................\nC:\\Program Files\\Anaconda3\\lib\\site-packages\\ipykernel\\comm\\comm.py in handle_msg(self=<ipykernel.comm.comm.Comm object>, msg={'buffers': [], 'content': {'comm_id': '278107399f4b41388c72333aead7321b', 'data': {'buffer_keys': [], 'method': 'backbone', 'sync_data': {'_dom_classes': [], '_model_module': 'jupyter-js-widgets', '_model_name': 'DropdownModel', '_options_labels': ['accuracy', 'precision', 'f1'], '_view_module': 'jupyter-js-widgets', '_view_name': 'DropdownView', 'background_color': None, 'button_style': '', 'color': None, 'description': 'score', ...}}}, 'header': {'date': '2017-04-15T17:57:26.241683', 'msg_id': '4218E6CB8BB14AA598F2439A1CDD3B93', 'msg_type': 'comm_msg', 'session': '2C914941E9DA41B38D39B154D5B1EBFA', 'username': 'username', 'version': '5.0'}, 'metadata': {}, 'msg_id': '4218E6CB8BB14AA598F2439A1CDD3B93', 'msg_type': 'comm_msg', 'parent_header': {}})\n    149         self.log.debug(\"handle_msg[%s](%s)\", self.comm_id, msg)\n    150         if self._msg_callback:\n    151             shell = self.kernel.shell\n    152             if shell:\n    153                 shell.events.trigger('pre_execute')\n--> 154             self._msg_callback(msg)\n        self._msg_callback = <bound method _show_traceback.<locals>.m of <ipywidgets.widgets.widget_selection.Dropdown object>>\n        msg = {'buffers': [], 'content': {'comm_id': '278107399f4b41388c72333aead7321b', 'data': {'buffer_keys': [], 'method': 'backbone', 'sync_data': {'_dom_classes': [], '_model_module': 'jupyter-js-widgets', '_model_name': 'DropdownModel', '_options_labels': ['accuracy', 'precision', 'f1'], '_view_module': 'jupyter-js-widgets', '_view_name': 'DropdownView', 'background_color': None, 'button_style': '', 'color': None, 'description': 'score', ...}}}, 'header': {'date': '2017-04-15T17:57:26.241683', 'msg_id': '4218E6CB8BB14AA598F2439A1CDD3B93', 'msg_type': 'comm_msg', 'session': '2C914941E9DA41B38D39B154D5B1EBFA', 'username': 'username', 'version': '5.0'}, 'metadata': {}, 'msg_id': '4218E6CB8BB14AA598F2439A1CDD3B93', 'msg_type': 'comm_msg', 'parent_header': {}}\n    155             if shell:\n    156                 shell.events.trigger('post_execute')\n    157 \n    158 \n\n...........................................................................\nC:\\Program Files\\Anaconda3\\lib\\site-packages\\ipywidgets\\widgets\\widget.py in m(self=<ipywidgets.widgets.widget_selection.Dropdown object>, *args=({'buffers': [], 'content': {'comm_id': '278107399f4b41388c72333aead7321b', 'data': {'buffer_keys': [], 'method': 'backbone', 'sync_data': {'_dom_classes': [], '_model_module': 'jupyter-js-widgets', '_model_name': 'DropdownModel', '_options_labels': ['accuracy', 'precision', 'f1'], '_view_module': 'jupyter-js-widgets', '_view_name': 'DropdownView', 'background_color': None, 'button_style': '', 'color': None, 'description': 'score', ...}}}, 'header': {'date': '2017-04-15T17:57:26.241683', 'msg_id': '4218E6CB8BB14AA598F2439A1CDD3B93', 'msg_type': 'comm_msg', 'session': '2C914941E9DA41B38D39B154D5B1EBFA', 'username': 'username', 'version': '5.0'}, 'metadata': {}, 'msg_id': '4218E6CB8BB14AA598F2439A1CDD3B93', 'msg_type': 'comm_msg', 'parent_header': {}},), **kwargs={})\n     88 \n     89 def _show_traceback(method):\n     90     \"\"\"decorator for showing tracebacks in IPython\"\"\"\n     91     def m(self, *args, **kwargs):\n     92         try:\n---> 93             return(method(self, *args, **kwargs))\n        self = <ipywidgets.widgets.widget_selection.Dropdown object>\n        args = ({'buffers': [], 'content': {'comm_id': '278107399f4b41388c72333aead7321b', 'data': {'buffer_keys': [], 'method': 'backbone', 'sync_data': {'_dom_classes': [], '_model_module': 'jupyter-js-widgets', '_model_name': 'DropdownModel', '_options_labels': ['accuracy', 'precision', 'f1'], '_view_module': 'jupyter-js-widgets', '_view_name': 'DropdownView', 'background_color': None, 'button_style': '', 'color': None, 'description': 'score', ...}}}, 'header': {'date': '2017-04-15T17:57:26.241683', 'msg_id': '4218E6CB8BB14AA598F2439A1CDD3B93', 'msg_type': 'comm_msg', 'session': '2C914941E9DA41B38D39B154D5B1EBFA', 'username': 'username', 'version': '5.0'}, 'metadata': {}, 'msg_id': '4218E6CB8BB14AA598F2439A1CDD3B93', 'msg_type': 'comm_msg', 'parent_header': {}},)\n        kwargs = {}\n     94         except Exception as e:\n     95             ip = get_ipython()\n     96             if ip is None:\n     97                 self.log.warn(\"Exception in widget method %s: %s\", method, e, exc_info=True)\n\n...........................................................................\nC:\\Program Files\\Anaconda3\\lib\\site-packages\\ipywidgets\\widgets\\widget.py in _handle_msg(self=<ipywidgets.widgets.widget_selection.Dropdown object>, msg={'buffers': [], 'content': {'comm_id': '278107399f4b41388c72333aead7321b', 'data': {'buffer_keys': [], 'method': 'backbone', 'sync_data': {'_dom_classes': [], '_model_module': 'jupyter-js-widgets', '_model_name': 'DropdownModel', '_options_labels': ['accuracy', 'precision', 'f1'], '_view_module': 'jupyter-js-widgets', '_view_name': 'DropdownView', 'background_color': None, 'button_style': '', 'color': None, 'description': 'score', ...}}}, 'header': {'date': '2017-04-15T17:57:26.241683', 'msg_id': '4218E6CB8BB14AA598F2439A1CDD3B93', 'msg_type': 'comm_msg', 'session': '2C914941E9DA41B38D39B154D5B1EBFA', 'username': 'username', 'version': '5.0'}, 'metadata': {}, 'msg_id': '4218E6CB8BB14AA598F2439A1CDD3B93', 'msg_type': 'comm_msg', 'parent_header': {}})\n    423             if 'sync_data' in data:\n    424                 # get binary buffers too\n    425                 sync_data = data['sync_data']\n    426                 for i,k in enumerate(data.get('buffer_keys', [])):\n    427                     sync_data[k] = msg['buffers'][i]\n--> 428                 self.set_state(sync_data) # handles all methods\n        self.set_state = <bound method Widget.set_state of <ipywidgets.widgets.widget_selection.Dropdown object>>\n        sync_data = {'_dom_classes': [], '_model_module': 'jupyter-js-widgets', '_model_name': 'DropdownModel', '_options_labels': ['accuracy', 'precision', 'f1'], '_view_module': 'jupyter-js-widgets', '_view_name': 'DropdownView', 'background_color': None, 'button_style': '', 'color': None, 'description': 'score', ...}\n    429 \n    430         # Handle a state request.\n    431         elif method == 'request_state':\n    432             self.send_state()\n\n...........................................................................\nC:\\Program Files\\Anaconda3\\lib\\site-packages\\ipywidgets\\widgets\\widget.py in set_state(self=<ipywidgets.widgets.widget_selection.Dropdown object>, sync_data={'_dom_classes': [], '_model_module': 'jupyter-js-widgets', '_model_name': 'DropdownModel', '_options_labels': ['accuracy', 'precision', 'f1'], '_view_module': 'jupyter-js-widgets', '_view_name': 'DropdownView', 'background_color': None, 'button_style': '', 'color': None, 'description': 'score', ...})\n    302         with self._lock_property(**sync_data), self.hold_trait_notifications():\n    303             for name in sync_data:\n    304                 if name in self.keys:\n    305                     from_json = self.trait_metadata(name, 'from_json',\n    306                                                     self._trait_from_json)\n--> 307                     self.set_trait(name, from_json(sync_data[name], self))\n        self.set_trait = <bound method HasTraits.set_trait of <ipywidgets.widgets.widget_selection.Dropdown object>>\n        name = '_options_labels'\n        from_json = <function Widget._trait_from_json>\n        sync_data = {'_dom_classes': [], '_model_module': 'jupyter-js-widgets', '_model_name': 'DropdownModel', '_options_labels': ['accuracy', 'precision', 'f1'], '_view_module': 'jupyter-js-widgets', '_view_name': 'DropdownView', 'background_color': None, 'button_style': '', 'color': None, 'description': 'score', ...}\n        self = <ipywidgets.widgets.widget_selection.Dropdown object>\n    308 \n    309     def send(self, content, buffers=None):\n    310         \"\"\"Sends a custom msg to the widget model in the front-end.\n    311 \n\n...........................................................................\nC:\\Program Files\\Anaconda3\\lib\\contextlib.py in __exit__(self=<contextlib._GeneratorContextManager object>, type=None, value=None, traceback=None)\n     61             raise RuntimeError(\"generator didn't yield\") from None\n     62 \n     63     def __exit__(self, type, value, traceback):\n     64         if type is None:\n     65             try:\n---> 66                 next(self.gen)\n        self.gen = <generator object hold_trait_notifications>\n     67             except StopIteration:\n     68                 return\n     69             else:\n     70                 raise RuntimeError(\"generator didn't stop\")\n\n...........................................................................\nC:\\Program Files\\Anaconda3\\lib\\site-packages\\traitlets\\traitlets.py in hold_trait_notifications(self=<ipywidgets.widgets.widget_selection.Dropdown object>)\n   1124                 del self.notify_change\n   1125 \n   1126                 # trigger delayed notifications\n   1127                 for changes in cache.values():\n   1128                     for change in changes:\n-> 1129                         self.notify_change(change)\n        self.notify_change = <bound method Widget.notify_change of <ipywidgets.widgets.widget_selection.Dropdown object>>\n        change = {'new': 'f1', 'type': 'change', 'old': 'accuracy...n object at 0x0000000015FCB978>, 'name': 'value'}\n   1130 \n   1131     def _notify_trait(self, name, old_value, new_value):\n   1132         self.notify_change(Bunch(\n   1133             name=name,\n\n...........................................................................\nC:\\Program Files\\Anaconda3\\lib\\site-packages\\ipywidgets\\widgets\\widget.py in notify_change(self=<ipywidgets.widgets.widget_selection.Dropdown object>, change={'new': 'f1', 'type': 'change', 'old': 'accuracy...n object at 0x0000000015FCB978>, 'name': 'value'})\n    363         if self.comm is not None and name in self.keys:\n    364             # Make sure this isn't information that the front-end just sent us.\n    365             if self._should_send_property(name, change['new']):\n    366                 # Send new state to front-end\n    367                 self.send_state(key=name)\n--> 368         LoggingConfigurable.notify_change(self, change)\n        self = <ipywidgets.widgets.widget_selection.Dropdown object>\n        change = {'new': 'f1', 'type': 'change', 'old': 'accuracy...n object at 0x0000000015FCB978>, 'name': 'value'}\n    369 \n    370     #-------------------------------------------------------------------------\n    371     # Support methods\n    372     #-------------------------------------------------------------------------\n\n...........................................................................\nC:\\Program Files\\Anaconda3\\lib\\site-packages\\traitlets\\traitlets.py in notify_change(self=<ipywidgets.widgets.widget_selection.Dropdown object>, change={'new': 'f1', 'type': 'change', 'old': 'accuracy...n object at 0x0000000015FCB978>, 'name': 'value'})\n   1169             if isinstance(c, _CallbackWrapper):\n   1170                 c = c.__call__\n   1171             elif isinstance(c, EventHandler) and c.name is not None:\n   1172                 c = getattr(self, c.name)\n   1173 \n-> 1174             c(change)\n        c = <function interactive.<locals>.call_f>\n        change = {'new': 'f1', 'type': 'change', 'old': 'accuracy...n object at 0x0000000015FCB978>, 'name': 'value'}\n   1175 \n   1176     def _add_notifiers(self, handler, name, type):\n   1177         if name not in self._trait_notifiers:\n   1178             nlist = []\n\n...........................................................................\nC:\\Program Files\\Anaconda3\\lib\\site-packages\\ipywidgets\\widgets\\interaction.py in call_f(*args=({'new': 'f1', 'type': 'change', 'old': 'accuracy...n object at 0x0000000015FCB978>, 'name': 'value'},))\n    255         if co:\n    256             clear_output(wait=True)\n    257         if manual:\n    258             manual_button.disabled = True\n    259         try:\n--> 260             container.result = f(**container.kwargs)\n    261             if container.result is not None:\n    262                 display(container.result)\n    263         except Exception as e:\n    264             ip = get_ipython()\n\n...........................................................................\nC:\\Users\\Colin\\Documents\\GitHub\\Text_Mining_Python_Lecture\\<ipython-input-434-9753d3a5622e> in try_score(score='f1')\n     11         'tfidftransformer__norm':['l1', 'l2', None],\n     12         'tfidftransformer__use_idf':[True, False],\n     13         'multinomialnb__alpha':[.001, .01, .1, 1]\n     14     }\n     15     grid = GridSearchCV(pipe, params, cv=3, verbose=True, n_jobs=-1, scoring=score)\n---> 16     grid.fit(X_train, y_train)\n     17     evaluate_grid(grid)\n     18 \n     19 \n     20 \n\n...........................................................................\nC:\\Program Files\\Anaconda3\\lib\\site-packages\\sklearn\\model_selection\\_search.py in fit(self=GridSearchCV(cv=3, error_score='raise',\n       e...in_score=True,\n       scoring='f1', verbose=True), X=2001    From: mss@netcom.com (Mark Singer)\\nSubj...ohio-state.edu\\nSubj...\nName: Text, dtype: object, y=2001    1\n57      4\n1935    1\n2524    0\n238     ... 3\n2607    1\n2732    4\nName: Target, dtype: int64, groups=None)\n    940 \n    941         groups : array-like, with shape (n_samples,), optional\n    942             Group labels for the samples used while splitting the dataset into\n    943             train/test set.\n    944         \"\"\"\n--> 945         return self._fit(X, y, groups, ParameterGrid(self.param_grid))\n        self._fit = <bound method BaseSearchCV._fit of GridSearchCV(...n_score=True,\n       scoring='f1', verbose=True)>\n        X = 2001    From: mss@netcom.com (Mark Singer)\\nSubj...ohio-state.edu\\nSubj...\nName: Text, dtype: object\n        y = 2001    1\n57      4\n1935    1\n2524    0\n238     ... 3\n2607    1\n2732    4\nName: Target, dtype: int64\n        groups = None\n        self.param_grid = {'multinomialnb__alpha': [0.001, 0.01, 0.1, 1], 'tfidftransformer__norm': ['l1', 'l2', None], 'tfidftransformer__use_idf': [True, False]}\n    946 \n    947 \n    948 class RandomizedSearchCV(BaseSearchCV):\n    949     \"\"\"Randomized search on hyper parameters.\n\n...........................................................................\nC:\\Program Files\\Anaconda3\\lib\\site-packages\\sklearn\\model_selection\\_search.py in _fit(self=GridSearchCV(cv=3, error_score='raise',\n       e...in_score=True,\n       scoring='f1', verbose=True), X=2001    From: mss@netcom.com (Mark Singer)\\nSubj...ohio-state.edu\\nSubj...\nName: Text, dtype: object, y=2001    1\n57      4\n1935    1\n2524    0\n238     ... 3\n2607    1\n2732    4\nName: Target, dtype: int64, groups=None, parameter_iterable=<sklearn.model_selection._search.ParameterGrid object>)\n    559                                   fit_params=self.fit_params,\n    560                                   return_train_score=self.return_train_score,\n    561                                   return_n_test_samples=True,\n    562                                   return_times=True, return_parameters=True,\n    563                                   error_score=self.error_score)\n--> 564           for parameters in parameter_iterable\n        parameters = undefined\n        parameter_iterable = <sklearn.model_selection._search.ParameterGrid object>\n    565           for train, test in cv_iter)\n    566 \n    567         # if one choose to see train score, \"out\" will contain train score info\n    568         if self.return_train_score:\n\n...........................................................................\nC:\\Program Files\\Anaconda3\\lib\\site-packages\\sklearn\\externals\\joblib\\parallel.py in __call__(self=Parallel(n_jobs=-1), iterable=<generator object BaseSearchCV._fit.<locals>.<genexpr>>)\n    763             if pre_dispatch == \"all\" or n_jobs == 1:\n    764                 # The iterable was consumed all at once by the above for loop.\n    765                 # No need to wait for async callbacks to trigger to\n    766                 # consumption.\n    767                 self._iterating = False\n--> 768             self.retrieve()\n        self.retrieve = <bound method Parallel.retrieve of Parallel(n_jobs=-1)>\n    769             # Make sure that we get a last message telling us we are done\n    770             elapsed_time = time.time() - self._start_time\n    771             self._print('Done %3i out of %3i | elapsed: %s finished',\n    772                         (len(self._output), len(self._output),\n\n---------------------------------------------------------------------------\nSub-process traceback:\n---------------------------------------------------------------------------\nValueError                                         Sat Apr 15 17:57:31 2017\nPID: 9588               Python 3.5.2: C:\\Program Files\\Anaconda3\\python.exe\n...........................................................................\nC:\\Program Files\\Anaconda3\\lib\\site-packages\\sklearn\\externals\\joblib\\parallel.py in __call__(self=<sklearn.externals.joblib.parallel.BatchedCalls object>)\n    126     def __init__(self, iterator_slice):\n    127         self.items = list(iterator_slice)\n    128         self._size = len(self.items)\n    129 \n    130     def __call__(self):\n--> 131         return [func(*args, **kwargs) for func, args, kwargs in self.items]\n        self.items = [(<function _fit_and_score>, (Pipeline(steps=[('countvectorizer', CountVectori...alpha=0.001, class_prior=None, fit_prior=True))]), 2001    From: mss@netcom.com (Mark Singer)\\nSubj...ohio-state.edu\\nSubj...\nName: Text, dtype: object, 2001    1\n57      4\n1935    1\n2524    0\n238     ... 3\n2607    1\n2732    4\nName: Target, dtype: int64, make_scorer(f1_score), array([ 710,  725,  726, ..., 2263, 2264, 2265]), array([  0,   1,   2,   3,   4,   5,   6,   7,  ..., 773, 774, 777, 780, 781,\n       784, 786, 794]), True, {'multinomialnb__alpha': 0.001, 'tfidftransformer__norm': 'l1', 'tfidftransformer__use_idf': True}), {'error_score': 'raise', 'fit_params': {}, 'return_n_test_samples': True, 'return_parameters': True, 'return_times': True, 'return_train_score': True})]\n    132 \n    133     def __len__(self):\n    134         return self._size\n    135 \n\n...........................................................................\nC:\\Program Files\\Anaconda3\\lib\\site-packages\\sklearn\\externals\\joblib\\parallel.py in <listcomp>(.0=<list_iterator object>)\n    126     def __init__(self, iterator_slice):\n    127         self.items = list(iterator_slice)\n    128         self._size = len(self.items)\n    129 \n    130     def __call__(self):\n--> 131         return [func(*args, **kwargs) for func, args, kwargs in self.items]\n        func = <function _fit_and_score>\n        args = (Pipeline(steps=[('countvectorizer', CountVectori...alpha=0.001, class_prior=None, fit_prior=True))]), 2001    From: mss@netcom.com (Mark Singer)\\nSubj...ohio-state.edu\\nSubj...\nName: Text, dtype: object, 2001    1\n57      4\n1935    1\n2524    0\n238     ... 3\n2607    1\n2732    4\nName: Target, dtype: int64, make_scorer(f1_score), array([ 710,  725,  726, ..., 2263, 2264, 2265]), array([  0,   1,   2,   3,   4,   5,   6,   7,  ..., 773, 774, 777, 780, 781,\n       784, 786, 794]), True, {'multinomialnb__alpha': 0.001, 'tfidftransformer__norm': 'l1', 'tfidftransformer__use_idf': True})\n        kwargs = {'error_score': 'raise', 'fit_params': {}, 'return_n_test_samples': True, 'return_parameters': True, 'return_times': True, 'return_train_score': True}\n    132 \n    133     def __len__(self):\n    134         return self._size\n    135 \n\n...........................................................................\nC:\\Program Files\\Anaconda3\\lib\\site-packages\\sklearn\\model_selection\\_validation.py in _fit_and_score(estimator=Pipeline(steps=[('countvectorizer', CountVectori...alpha=0.001, class_prior=None, fit_prior=True))]), X=2001    From: mss@netcom.com (Mark Singer)\\nSubj...ohio-state.edu\\nSubj...\nName: Text, dtype: object, y=2001    1\n57      4\n1935    1\n2524    0\n238     ... 3\n2607    1\n2732    4\nName: Target, dtype: int64, scorer=make_scorer(f1_score), train=array([ 710,  725,  726, ..., 2263, 2264, 2265]), test=array([  0,   1,   2,   3,   4,   5,   6,   7,  ..., 773, 774, 777, 780, 781,\n       784, 786, 794]), verbose=True, parameters={'multinomialnb__alpha': 0.001, 'tfidftransformer__norm': 'l1', 'tfidftransformer__use_idf': True}, fit_params={}, return_train_score=True, return_parameters=True, return_n_test_samples=True, return_times=True, error_score='raise')\n    255                              \" numeric value. (Hint: if using 'raise', please\"\n    256                              \" make sure that it has been spelled correctly.)\")\n    257 \n    258     else:\n    259         fit_time = time.time() - start_time\n--> 260         test_score = _score(estimator, X_test, y_test, scorer)\n        test_score = undefined\n        estimator = Pipeline(steps=[('countvectorizer', CountVectori...alpha=0.001, class_prior=None, fit_prior=True))])\n        X_test = 2001    From: mss@netcom.com (Mark Singer)\\nSubj...m (Ron \"Asbestos\" Di...\nName: Text, dtype: object\n        y_test = 2001    1\n57      4\n1935    1\n2524    0\n238     ... 2\n1076    2\n717     2\nName: Target, dtype: int64\n        scorer = make_scorer(f1_score)\n    261         score_time = time.time() - start_time - fit_time\n    262         if return_train_score:\n    263             train_score = _score(estimator, X_train, y_train, scorer)\n    264 \n\n...........................................................................\nC:\\Program Files\\Anaconda3\\lib\\site-packages\\sklearn\\model_selection\\_validation.py in _score(estimator=Pipeline(steps=[('countvectorizer', CountVectori...alpha=0.001, class_prior=None, fit_prior=True))]), X_test=2001    From: mss@netcom.com (Mark Singer)\\nSubj...m (Ron \"Asbestos\" Di...\nName: Text, dtype: object, y_test=2001    1\n57      4\n1935    1\n2524    0\n238     ... 2\n1076    2\n717     2\nName: Target, dtype: int64, scorer=make_scorer(f1_score))\n    283 def _score(estimator, X_test, y_test, scorer):\n    284     \"\"\"Compute the score of an estimator on a given test set.\"\"\"\n    285     if y_test is None:\n    286         score = scorer(estimator, X_test)\n    287     else:\n--> 288         score = scorer(estimator, X_test, y_test)\n        score = undefined\n        scorer = make_scorer(f1_score)\n        estimator = Pipeline(steps=[('countvectorizer', CountVectori...alpha=0.001, class_prior=None, fit_prior=True))])\n        X_test = 2001    From: mss@netcom.com (Mark Singer)\\nSubj...m (Ron \"Asbestos\" Di...\nName: Text, dtype: object\n        y_test = 2001    1\n57      4\n1935    1\n2524    0\n238     ... 2\n1076    2\n717     2\nName: Target, dtype: int64\n    289     if hasattr(score, 'item'):\n    290         try:\n    291             # e.g. unwrap memmapped scalars\n    292             score = score.item()\n\n...........................................................................\nC:\\Program Files\\Anaconda3\\lib\\site-packages\\sklearn\\metrics\\scorer.py in __call__(self=make_scorer(f1_score), estimator=Pipeline(steps=[('countvectorizer', CountVectori...alpha=0.001, class_prior=None, fit_prior=True))]), X=2001    From: mss@netcom.com (Mark Singer)\\nSubj...m (Ron \"Asbestos\" Di...\nName: Text, dtype: object, y_true=2001    1\n57      4\n1935    1\n2524    0\n238     ... 2\n1076    2\n717     2\nName: Target, dtype: int64, sample_weight=None)\n     93             return self._sign * self._score_func(y_true, y_pred,\n     94                                                  sample_weight=sample_weight,\n     95                                                  **self._kwargs)\n     96         else:\n     97             return self._sign * self._score_func(y_true, y_pred,\n---> 98                                                  **self._kwargs)\n        self._kwargs = {}\n     99 \n    100 \n    101 class _ProbaScorer(_BaseScorer):\n    102     def __call__(self, clf, X, y, sample_weight=None):\n\n...........................................................................\nC:\\Program Files\\Anaconda3\\lib\\site-packages\\sklearn\\metrics\\classification.py in f1_score(y_true=2001    1\n57      4\n1935    1\n2524    0\n238     ... 2\n1076    2\n717     2\nName: Target, dtype: int64, y_pred=array([1, 2, 1, 0, 1, 3, 3, 1, 1, 0, 2, 0, 3, 0,...0, 4, 2, 0, 2, 0, 2, 2, 2, 2, 2, 2], dtype=int64), labels=None, pos_label=1, average='binary', sample_weight=None)\n    687 \n    688 \n    689     \"\"\"\n    690     return fbeta_score(y_true, y_pred, 1, labels=labels,\n    691                        pos_label=pos_label, average=average,\n--> 692                        sample_weight=sample_weight)\n        sample_weight = None\n    693 \n    694 \n    695 def fbeta_score(y_true, y_pred, beta, labels=None, pos_label=1,\n    696                 average='binary', sample_weight=None):\n\n...........................................................................\nC:\\Program Files\\Anaconda3\\lib\\site-packages\\sklearn\\metrics\\classification.py in fbeta_score(y_true=2001    1\n57      4\n1935    1\n2524    0\n238     ... 2\n1076    2\n717     2\nName: Target, dtype: int64, y_pred=array([1, 2, 1, 0, 1, 3, 3, 1, 1, 0, 2, 0, 3, 0,...0, 4, 2, 0, 2, 0, 2, 2, 2, 2, 2, 2], dtype=int64), beta=1, labels=None, pos_label=1, average='binary', sample_weight=None)\n    801                                                  beta=beta,\n    802                                                  labels=labels,\n    803                                                  pos_label=pos_label,\n    804                                                  average=average,\n    805                                                  warn_for=('f-score',),\n--> 806                                                  sample_weight=sample_weight)\n        sample_weight = None\n    807     return f\n    808 \n    809 \n    810 def _prf_divide(numerator, denominator, metric, modifier, average, warn_for):\n\n...........................................................................\nC:\\Program Files\\Anaconda3\\lib\\site-packages\\sklearn\\metrics\\classification.py in precision_recall_fscore_support(y_true=array([1, 4, 1, 0, 3, 4, 3, 1, 1, 0, 4, 0, 3, 0,...0, 4, 2, 0, 2, 0, 2, 2, 2, 2, 2, 2], dtype=int64), y_pred=array([1, 2, 1, 0, 1, 3, 3, 1, 1, 0, 2, 0, 3, 0,...0, 4, 2, 0, 2, 0, 2, 2, 2, 2, 2, 2], dtype=int64), beta=1, labels=None, pos_label=1, average='binary', warn_for=('f-score',), sample_weight=None)\n   1013                     raise ValueError(\"pos_label=%r is not a valid label: %r\" %\n   1014                                      (pos_label, present_labels))\n   1015             labels = [pos_label]\n   1016         else:\n   1017             raise ValueError(\"Target is %s but average='binary'. Please \"\n-> 1018                              \"choose another average setting.\" % y_type)\n        y_type = 'multiclass'\n   1019     elif pos_label not in (None, 1):\n   1020         warnings.warn(\"Note that pos_label (set to %r) is ignored when \"\n   1021                       \"average != 'binary' (got %r). You may use \"\n   1022                       \"labels=[pos_label] to specify a single positive class.\"\n\nValueError: Target is multiclass but average='binary'. Please choose another average setting.\n___________________________________________________________________________"
     ]
    }
   ],
   "source": [
    "scoring = ['accuracy', 'precision', 'f1']\n",
    "@interact\n",
    "def try_score(score=scoring):\n",
    "    pipe = make_pipeline(CountVectorizer(max_features=1000), TfidfTransformer(), MultinomialNB())\n",
    "\n",
    "    #These are the parameters we're searching over\n",
    "    params = {\n",
    "        #'countvectorizer__ngram_range':[(1,1), (1,2)],\n",
    "        #'countvectorizer__min_df':[2, 3, 4, 5],\n",
    "        #'countvectorizer__max_df':[.2, .4, .6, .8, 1.0],\n",
    "        'tfidftransformer__norm':['l1', 'l2', None],\n",
    "        'tfidftransformer__use_idf':[True, False],\n",
    "        'multinomialnb__alpha':[.001, .01, .1, 1]\n",
    "    }\n",
    "    grid = GridSearchCV(pipe, params, cv=3, verbose=True, n_jobs=-1, scoring=score)\n",
    "    grid.fit(X_train, y_train)\n",
    "    evaluate_grid(grid)"
   ]
  },
  {
   "cell_type": "markdown",
   "metadata": {},
   "source": [
    "__n_jobs :__ int, default=1\n",
    "\n",
    "Number of jobs to run in parallel."
   ]
  },
  {
   "cell_type": "code",
   "execution_count": 320,
   "metadata": {
    "collapsed": false
   },
   "outputs": [
    {
     "name": "stdout",
     "output_type": "stream",
     "text": [
      "Fitting 5 folds for each of 4 candidates, totalling 20 fits\n"
     ]
    },
    {
     "name": "stderr",
     "output_type": "stream",
     "text": [
      "[Parallel(n_jobs=1)]: Done  20 out of  20 | elapsed:  2.6min finished\n"
     ]
    },
    {
     "name": "stdout",
     "output_type": "stream",
     "text": [
      "Took 158.91267943382263 seconds with n_jobs=1\n"
     ]
    }
   ],
   "source": [
    "t0 = time()\n",
    "n_jobs = 1\n",
    "pipe = make_pipeline(CountVectorizer(), TfidfTransformer(), MultinomialNB())\n",
    "\n",
    "#These are the parameters we're searching over\n",
    "params = {\n",
    "    'countvectorizer__ngram_range':[(1,1), (1,2)],\n",
    "    'countvectorizer__stop_words':['english', None],\n",
    "    #'countvectorizer__min_df':[2, 3, 4, 5],\n",
    "    #'countvectorizer__max_df':[.2, .4, .6, .8, 1.0],\n",
    "    'tfidftransformer__norm':[None],\n",
    "    'tfidftransformer__use_idf':[False]\n",
    "}\n",
    "grid = GridSearchCV(pipe, params, cv=5, verbose=True, n_jobs=n_jobs)\n",
    "grid.fit(X_train, y_train)\n",
    "print('Took {} seconds with n_jobs={}'.format(time()-t0, n_jobs))"
   ]
  },
  {
   "cell_type": "code",
   "execution_count": 321,
   "metadata": {
    "collapsed": false
   },
   "outputs": [
    {
     "name": "stdout",
     "output_type": "stream",
     "text": [
      "Fitting 5 folds for each of 4 candidates, totalling 20 fits\n"
     ]
    },
    {
     "name": "stderr",
     "output_type": "stream",
     "text": [
      "[Parallel(n_jobs=-1)]: Done  20 out of  20 | elapsed:   20.5s finished\n"
     ]
    },
    {
     "name": "stdout",
     "output_type": "stream",
     "text": [
      "Took 21.6882541179657 seconds with n_jobs=-1\n"
     ]
    }
   ],
   "source": [
    "t0 = time()\n",
    "n_jobs = -1\n",
    "pipe = make_pipeline(CountVectorizer(), TfidfTransformer(), MultinomialNB())\n",
    "\n",
    "#These are the parameters we're searching over\n",
    "params = {\n",
    "    'countvectorizer__ngram_range':[(1,1), (1,2)],\n",
    "    'countvectorizer__stop_words':['english', None],\n",
    "    #'countvectorizer__min_df':[2, 3, 4, 5],\n",
    "    #'countvectorizer__max_df':[.2, .4, .6, .8, 1.0],\n",
    "    'tfidftransformer__norm':[None],\n",
    "    'tfidftransformer__use_idf':[False],\n",
    "}\n",
    "grid = GridSearchCV(pipe, params, cv=5, verbose=True, n_jobs=n_jobs)\n",
    "grid.fit(X_train, y_train)\n",
    "print('Took {} seconds with n_jobs={}'.format(time()-t0, n_jobs))"
   ]
  },
  {
   "cell_type": "markdown",
   "metadata": {},
   "source": [
    "__cv :__ int, cross-validation generator or an iterable, optional\n",
    "\n",
    "Determines the cross-validation splitting strategy. Possible inputs for cv are:\n",
    "\n",
    "  * None, to use the default 3-fold cross validation,\n",
    "\n",
    "  * integer, to specify the number of folds in a (Stratified)KFold,\n",
    "\n",
    "  * An object to be used as a cross-validation generator.\n",
    "\n",
    "  * An iterable yielding train, test splits.\n",
    "\n",
    "For integer/None inputs, if the estimator is a classifier and y is either binary or multiclass, [StratifiedKFold](http://scikit-learn.org/stable/modules/generated/sklearn.model_selection.StratifiedKFold.html#sklearn.model_selection.StratifiedKFold) is used. In all other cases, KFold is used.\n",
    "\n",
    "Refer [User Guide](http://scikit-learn.org/stable/modules/cross_validation.html#cross-validation) for the various cross-validation strategies that can be used here."
   ]
  },
  {
   "cell_type": "code",
   "execution_count": 337,
   "metadata": {
    "collapsed": false
   },
   "outputs": [
    {
     "name": "stdout",
     "output_type": "stream",
     "text": [
      "Fitting 5 folds for each of 2 candidates, totalling 10 fits\n"
     ]
    },
    {
     "name": "stderr",
     "output_type": "stream",
     "text": [
      "[Parallel(n_jobs=-1)]: Done   6 out of  10 | elapsed:   11.2s remaining:    7.4s\n",
      "[Parallel(n_jobs=-1)]: Done  10 out of  10 | elapsed:   12.7s finished\n"
     ]
    },
    {
     "name": "stdout",
     "output_type": "stream",
     "text": [
      "Best CV Score: 0.88\n",
      "Best parameters: {'countvectorizer__ngram_range': (1, 2)}\n",
      "Classification report for test sample held out: \n",
      "             precision    recall  f1-score   support\n",
      "\n",
      "          0       0.99      0.78      0.87       114\n",
      "          1       0.96      0.96      0.96       132\n",
      "          2       0.71      1.00      0.83       117\n",
      "          3       0.92      0.87      0.89       116\n",
      "          4       1.00      0.80      0.89        88\n",
      "\n",
      "avg / total       0.91      0.89      0.89       567\n",
      "\n"
     ]
    }
   ],
   "source": [
    "from sklearn.model_selection import ShuffleSplit\n",
    "\n",
    "shufflesplit = ShuffleSplit(n_splits=5, test_size=0.25, random_state=0)\n",
    "pipe = make_pipeline(CountVectorizer(), TfidfTransformer(), MultinomialNB())\n",
    "\n",
    "#These are the parameters we're searching over\n",
    "params = {\n",
    "    'countvectorizer__ngram_range':[(1,1), (1,2)],\n",
    "    #'countvectorizer__min_df':[2, 3, 4, 5],\n",
    "    #'countvectorizer__max_df':[.2, .4, .6, .8, 1.0],\n",
    "    #'tfidftransformer__norm':['l2', None],\n",
    "    #'tfidftransformer__use_idf':[True, False],\n",
    "    #'multinomialnb__alpha':[.001, .01, .1, 1]\n",
    "}\n",
    "grid = GridSearchCV(pipe, params, cv=shufflesplit, verbose=True, n_jobs=-1)\n",
    "grid.fit(X_train, y_train)\n",
    "evaluate_grid(grid)"
   ]
  },
  {
   "cell_type": "markdown",
   "metadata": {},
   "source": [
    "<a id='3.2.2'></a>\n",
    "### 3.2.2 RandomizedSearchCV\n",
    "\n",
    "__FROM SKLEARN [DOCUMENTATION](http://scikit-learn.org/stable/modules/grid_search.html#randomized-parameter-search):__\n",
    "\n",
    "While using a grid of parameter settings is currently the most widely used method for parameter optimization, other search methods have more favourable properties. RandomizedSearchCV implements a randomized search over parameters, where each setting is sampled from a distribution over possible parameter values. This has two main benefits over an exhaustive search:\n",
    "\n",
    "  * A budget can be chosen independent of the number of parameters and possible values.\n",
    "  * Adding parameters that do not influence the performance does not decrease efficiency.\n",
    "  \n",
    "Specifying how parameters should be sampled is done using a dictionary, very similar to specifying parameters for GridSearchCV.\n",
    "\n",
    "Additionally, a computation budget, being the number of sampled candidates or sampling iterations, is specified using the n_iter parameter. For each parameter, either a distribution over possible values or a list of discrete choices (which will be sampled uniformly) can be specified:"
   ]
  },
  {
   "cell_type": "markdown",
   "metadata": {},
   "source": [
    "<a id='3.2.2.1'></a>\n",
    "#### 3.2.2.1 Description\n",
    "\n",
    "__FROM SKLEARN [DOCUMENTATION](http://scikit-learn.org/stable/modules/generated/sklearn.model_selection.RandomizedSearchCV.html):__\n",
    "\n",
    "Randomized search on hyper parameters.\n",
    "\n",
    "RandomizedSearchCV implements a “fit” and a “score” method. It also implements “predict”, “predict_proba”, “decision_function”, “transform” and “inverse_transform” if they are implemented in the estimator used.\n",
    "\n",
    "The parameters of the estimator used to apply these methods are optimized by cross-validated search over parameter settings.\n",
    "In contrast to GridSearchCV, not all parameter values are tried out, but rather a fixed number of parameter settings is sampled from the specified distributions. The number of parameter settings that are tried is given by n_iter.\n",
    "\n",
    "If all parameters are presented as a list, sampling without replacement is performed. If at least one parameter is given as a distribution, sampling with replacement is used. It is highly recommended to use continuous distributions for continuous parameters."
   ]
  },
  {
   "cell_type": "markdown",
   "metadata": {},
   "source": [
    "<a id='3.2.2.2'></a>\n",
    "#### 3.2.2.2 Example\n",
    "\n",
    "RandomizedSearchCV is very similar to GridSearchCV with the only difference being n_iter parameter which will allow us to select from a bigger parameter grid"
   ]
  },
  {
   "cell_type": "code",
   "execution_count": 373,
   "metadata": {
    "collapsed": false
   },
   "outputs": [
    {
     "name": "stdout",
     "output_type": "stream",
     "text": [
      "Fitting 5 folds for each of 40 candidates, totalling 200 fits\n"
     ]
    },
    {
     "name": "stderr",
     "output_type": "stream",
     "text": [
      "[Parallel(n_jobs=-1)]: Done  34 tasks      | elapsed:   53.4s\n",
      "[Parallel(n_jobs=-1)]: Done 184 tasks      | elapsed:  4.0min\n",
      "[Parallel(n_jobs=-1)]: Done 200 out of 200 | elapsed:  4.3min finished\n"
     ]
    },
    {
     "name": "stdout",
     "output_type": "stream",
     "text": [
      "Best CV Score: 0.96\n",
      "Best parameters: {'multinomialnb__alpha': 0.01, 'countvectorizer__ngram_range': (1, 2), 'countvectorizer__min_df': 2, 'tfidftransformer__norm': 'l2', 'tfidftransformer__use_idf': True, 'countvectorizer__max_df': 0.9}\n",
      "Classification report for test sample held out: \n",
      "             precision    recall  f1-score   support\n",
      "\n",
      "          0       0.96      0.89      0.93       114\n",
      "          1       0.98      0.97      0.98       132\n",
      "          2       0.97      0.98      0.97       117\n",
      "          3       0.90      0.96      0.93       116\n",
      "          4       0.95      0.95      0.95        88\n",
      "\n",
      "avg / total       0.95      0.95      0.95       567\n",
      "\n"
     ]
    }
   ],
   "source": [
    "pipe = make_pipeline(CountVectorizer(), TfidfTransformer(), MultinomialNB())\n",
    "\n",
    "#These are the parameters we're searching over\n",
    "params = {\n",
    "    'countvectorizer__ngram_range':[(1,1), (1,2), (1,3)],\n",
    "    'countvectorizer__min_df':[0,2,3,4,5,6,7,8,9,10],\n",
    "    'countvectorizer__max_df':[.1, .2, .3, .4, .5, .6, .7, .8, .9, 1.0],\n",
    "    'tfidftransformer__norm':['l1', 'l2', None],\n",
    "    'tfidftransformer__use_idf':[True, False],\n",
    "    'multinomialnb__alpha':[.00001, .0001, .001, .01, .1, 1]\n",
    "}\n",
    "grid = RandomizedSearchCV(pipe, params, cv=5, verbose=True, n_iter=40, n_jobs=-1)\n",
    "grid.fit(X_train, y_train)\n",
    "evaluate_grid(grid)"
   ]
  },
  {
   "cell_type": "code",
   "execution_count": null,
   "metadata": {
    "collapsed": true
   },
   "outputs": [],
   "source": []
  },
  {
   "cell_type": "code",
   "execution_count": null,
   "metadata": {
    "collapsed": true
   },
   "outputs": [],
   "source": []
  },
  {
   "cell_type": "code",
   "execution_count": null,
   "metadata": {
    "collapsed": true
   },
   "outputs": [],
   "source": []
  },
  {
   "cell_type": "code",
   "execution_count": null,
   "metadata": {
    "collapsed": true
   },
   "outputs": [],
   "source": []
  },
  {
   "cell_type": "code",
   "execution_count": null,
   "metadata": {
    "collapsed": true
   },
   "outputs": [],
   "source": []
  },
  {
   "cell_type": "markdown",
   "metadata": {},
   "source": [
    "<a id='4'></a>\n",
    "# 4 Increasing Performance\n",
    "\n",
    "There are many ways to increase model performance. The best way is typically feature engineering, but we're just covering text mining here\n",
    "\n",
    "<a id='4.1'></a>\n",
    "## 4.1 Stemming\n",
    "\n",
    "One thing we can do is stem our text to shrink our feature space. This sometimes gives a better model but not always, sometimes the different classes with use different suffixes"
   ]
  },
  {
   "cell_type": "code",
   "execution_count": 386,
   "metadata": {
    "collapsed": true
   },
   "outputs": [],
   "source": [
    "from nltk.stem.snowball import SnowballStemmer\n",
    "from nltk.stem.porter import PorterStemmer\n",
    "from nltk.stem.lancaster import LancasterStemmer\n",
    "import nltk"
   ]
  },
  {
   "cell_type": "markdown",
   "metadata": {},
   "source": [
    "<a id='4.1.1'></a>\n",
    "### 4.1.1 Types\n",
    "\n",
    "We will only focus on three of the more popular stemmers\n",
    "\n",
    "### Porter\n",
    "\n",
    "This is the most common stemmer\n",
    "\n",
    "__EXAMPLE__"
   ]
  },
  {
   "cell_type": "code",
   "execution_count": 375,
   "metadata": {
    "collapsed": true
   },
   "outputs": [],
   "source": [
    "p_stemmer = PorterStemmer()"
   ]
  },
  {
   "cell_type": "code",
   "execution_count": 379,
   "metadata": {
    "collapsed": false
   },
   "outputs": [
    {
     "data": {
      "text/plain": [
       "'player'"
      ]
     },
     "execution_count": 379,
     "metadata": {},
     "output_type": "execute_result"
    }
   ],
   "source": [
    "p_stemmer.stem('player')"
   ]
  },
  {
   "cell_type": "markdown",
   "metadata": {},
   "source": [
    "### Lancaster\n",
    "\n",
    "This is a more aggresive stemmer, meaning it will chop off suffixes more frequently\n",
    "\n",
    "__EXAMPLE__"
   ]
  },
  {
   "cell_type": "code",
   "execution_count": 377,
   "metadata": {
    "collapsed": true
   },
   "outputs": [],
   "source": [
    "l_stemmer = LancasterStemmer()"
   ]
  },
  {
   "cell_type": "code",
   "execution_count": 380,
   "metadata": {
    "collapsed": false
   },
   "outputs": [
    {
     "data": {
      "text/plain": [
       "'play'"
      ]
     },
     "execution_count": 380,
     "metadata": {},
     "output_type": "execute_result"
    }
   ],
   "source": [
    "l_stemmer.stem('player')"
   ]
  },
  {
   "cell_type": "markdown",
   "metadata": {},
   "source": [
    "### Snowball \n",
    "\n",
    "Adapted version of Porter, must specify the language\n",
    "\n",
    "__EXAMPLE__"
   ]
  },
  {
   "cell_type": "code",
   "execution_count": 381,
   "metadata": {
    "collapsed": true
   },
   "outputs": [],
   "source": [
    "s_stemmer = SnowballStemmer('english')"
   ]
  },
  {
   "cell_type": "code",
   "execution_count": 382,
   "metadata": {
    "collapsed": false
   },
   "outputs": [
    {
     "data": {
      "text/plain": [
       "'generous'"
      ]
     },
     "execution_count": 382,
     "metadata": {},
     "output_type": "execute_result"
    }
   ],
   "source": [
    "s_stemmer.stem('generously')"
   ]
  },
  {
   "cell_type": "code",
   "execution_count": 383,
   "metadata": {
    "collapsed": false
   },
   "outputs": [
    {
     "data": {
      "text/plain": [
       "'gener'"
      ]
     },
     "execution_count": 383,
     "metadata": {},
     "output_type": "execute_result"
    }
   ],
   "source": [
    "p_stemmer.stem('generously')"
   ]
  },
  {
   "cell_type": "code",
   "execution_count": 384,
   "metadata": {
    "collapsed": false
   },
   "outputs": [
    {
     "data": {
      "text/plain": [
       "'gen'"
      ]
     },
     "execution_count": 384,
     "metadata": {},
     "output_type": "execute_result"
    }
   ],
   "source": [
    "l_stemmer.stem('generously')"
   ]
  },
  {
   "cell_type": "markdown",
   "metadata": {},
   "source": [
    "<a id='4.1.2'></a>\n",
    "### 4.1.2 Stemming our Text\n",
    "\n",
    "Before we begin stemming our words we need to make sure stop_words aren't being stemmed because they won't be picked up by our CountVectorizer if the word is different."
   ]
  },
  {
   "cell_type": "code",
   "execution_count": 387,
   "metadata": {
    "collapsed": false
   },
   "outputs": [],
   "source": [
    "stop_words = nltk.corpus.stopwords.words('english')"
   ]
  },
  {
   "cell_type": "code",
   "execution_count": 388,
   "metadata": {
    "collapsed": false
   },
   "outputs": [
    {
     "data": {
      "text/plain": [
       "['i', 'me', 'my', 'myself', 'we', 'our', 'ours', 'ourselves', 'you', 'your']"
      ]
     },
     "execution_count": 388,
     "metadata": {},
     "output_type": "execute_result"
    }
   ],
   "source": [
    "stop_words[:10]"
   ]
  },
  {
   "cell_type": "code",
   "execution_count": 391,
   "metadata": {
    "collapsed": false
   },
   "outputs": [
    {
     "name": "stdout",
     "output_type": "stream",
     "text": [
      "\n",
      "Stop word: because\n",
      "\tPorter: becaus\n",
      "\tLancaster: becaus\n",
      "\tSnowball: becaus\n",
      "\n",
      "Stop word: against\n",
      "\tPorter: against\n",
      "\tLancaster: against\n",
      "\tSnowball: against\n",
      "\n",
      "Stop word: between\n",
      "\tPorter: between\n",
      "\tLancaster: between\n",
      "\tSnowball: between\n",
      "\n",
      "Stop word: through\n",
      "\tPorter: through\n",
      "\tLancaster: through\n",
      "\tSnowball: through\n",
      "\n",
      "Stop word: during\n",
      "\tPorter: dure\n",
      "\tLancaster: dur\n",
      "\tSnowball: dure\n",
      "\n",
      "Stop word: before\n",
      "\tPorter: befor\n",
      "\tLancaster: bef\n",
      "\tSnowball: befor\n",
      "\n",
      "Stop word: further\n",
      "\tPorter: further\n",
      "\tLancaster: furth\n",
      "\tSnowball: further\n"
     ]
    }
   ],
   "source": [
    "for word in stop_words[50:100]:\n",
    "    \n",
    "    if len(word) > 5:\n",
    "        print('\\nStop word: {}'.format(word))\n",
    "        print('\\tPorter: {}\\n\\tLancaster: {}\\n\\tSnowball: {}'.format(p_stemmer.stem(word), l_stemmer.stem(word),\n",
    "                                                                          s_stemmer.stem(word)))"
   ]
  },
  {
   "cell_type": "markdown",
   "metadata": {},
   "source": [
    "We will then have to ignore these words when stemming"
   ]
  },
  {
   "cell_type": "code",
   "execution_count": 392,
   "metadata": {
    "collapsed": true
   },
   "outputs": [],
   "source": [
    "token_regex = re.compile('(?u)\\\\b\\\\w\\\\w+\\\\b')\n",
    "def stem_column(col, stemmer, stop_words):\n",
    "    return col.apply(lambda x: ' '.join([stemmer.stem(token) if token not in stop_words else token\n",
    "                                         for token in token_regex.findall(x)]))"
   ]
  },
  {
   "cell_type": "code",
   "execution_count": 393,
   "metadata": {
    "collapsed": true
   },
   "outputs": [],
   "source": [
    "test_df = df['Text'].head(10)\n",
    "snowball_text = stem_column(test_df, s_stemmer, stop_words)\n",
    "porter_text = stem_column(test_df, p_stemmer, stop_words)\n",
    "lancaster_text = stem_column(test_df, l_stemmer, stop_words)"
   ]
  },
  {
   "cell_type": "code",
   "execution_count": 394,
   "metadata": {
    "collapsed": false
   },
   "outputs": [
    {
     "name": "stdout",
     "output_type": "stream",
     "text": [
      "Original: \n",
      "From: rosen@kranz.enet.dec.com (Jim Rosenkranz)\n",
      "Subject: Re: Metal powder,steel,iron.\n",
      "Reply-To: rosen@kranz.enet.dec.com (Jim Rosenkranz)\n",
      "Organization: Digital Equipment Corp.\n",
      "Lines: 26\n",
      "\n",
      "In article <79557@cup.portal.com>, mmm@cup.portal.com (Mark Robert Thorson) writes:\n",
      "|>Xref: nntpd2.cxo.dec.com misc.invest:40997 misc.forsale:88577\n",
      "|>Path: nntpd2.cxo.dec.com!pa.dec.com!e2big.mko.dec.com!uvo.dec.com!news.crl.dec.com!deccrl!caen!zaphod.mps.ohio-state.edu!sdd.hp.com!portal!cup.portal.com!mmm\n",
      "|>From: mmm@cup.portal.com (Mark Robert Thorson)\n",
      "|>Newsgroups: misc.invest,misc.forsale\n",
      "|>Subject: Re: Metal powder,steel,iron.\n",
      "|>Message-ID: <79557@cup.portal.com>\n",
      "|>Date: Thu, 15 Apr 93 08:53:51 PDT\n",
      "|>Organization: The Portal System (TM)\n",
      "|>References:  <ACpDgohaWA@commed.msk.su>\n",
      "|>Lines: 4\n",
      "|>\n",
      "|>I just love these posts from the ex-Soviet Union.  Among the cars, dinette\n",
      "|>sets, video cameras, etc. every now and then an ad pops up for bee venom,\n",
      "|>RED OXIDE OF MERCURY, cobalt (100 tons minimum order), etc.  Don't they\n",
      "|>have garage sales in Russia?   :-)\n",
      "|>\n",
      "\n",
      "It really doesn't strike me as very funny. It is rather indicative of what\n",
      "a crisis their economy is in. I imagine they are in desparate need of\n",
      "markets to sustain industries and people which are nolonger under central\n",
      "control of the government.\n",
      "--\n",
      "Jim Rosenkranz\trosen@kranz.enet.dec.com\n",
      "\n",
      "\"Never try to teach a pig to sing: it can't be done, and it annoys the pig.\"\n",
      "\n",
      "\n",
      "Snowball Stemmed: \n",
      "\n",
      "from rosen kranz enet dec com jim rosenkranz subject re metal powder steel iron repli to rosen kranz enet dec com jim rosenkranz organ digit equip corp line 26 in articl 79557 cup portal com mmm cup portal com mark robert thorson write xref nntpd2 cxo dec com misc invest 40997 misc forsal 88577 path nntpd2 cxo dec com pa dec com e2big mko dec com uvo dec com news crl dec com deccrl caen zaphod mps ohio state edu sdd hp com portal cup portal com mmm from mmm cup portal com mark robert thorson newsgroup misc invest misc forsal subject re metal powder steel iron messag id 79557 cup portal com date thu 15 apr 93 08 53 51 pdt organ the portal system tm refer acpdgohawa com msk su line just love these post from the ex soviet union among the car dinett set video camera etc everi now and then an ad pop up for bee venom red oxid of mercuri cobalt 100 ton minimum order etc don they have garag sale in russia it realli doesn strike me as very funni it is rather indic of what crisi their economi is in imagin they are in despar need of market to sustain industri and peopl which are nolong under central control of the govern jim rosenkranz rosen kranz enet dec com never tri to teach pig to sing it can be done and it annoy the pig\n",
      "\n",
      "Porter Stemmed: \n",
      "\n",
      "from rosen kranz enet dec com jim rosenkranz subject re metal powder steel iron repli to rosen kranz enet dec com jim rosenkranz organ digit equip corp line 26 in articl 79557 cup portal com mmm cup portal com mark robert thorson write xref nntpd2 cxo dec com misc invest 40997 misc forsal 88577 path nntpd2 cxo dec com pa dec com e2big mko dec com uvo dec com news crl dec com deccrl caen zaphod mps ohio state edu sdd hp com portal cup portal com mmm from mmm cup portal com mark robert thorson newsgroup misc invest misc forsal subject re metal powder steel iron messag id 79557 cup portal com date thu 15 apr 93 08 53 51 pdt organ the portal system tm refer acpdgohawa com msk su line just love these post from the ex soviet union among the car dinett set video camera etc everi now and then an ad pop up for bee venom red oxid of mercuri cobalt 100 ton minimum order etc don they have garag sale in russia it realli doesn strike me as very funni it is rather indic of what crisi their economi is in imagin they are in despar need of market to sustain industri and peopl which are nolong under central control of the govern jim rosenkranz rosen kranz enet dec com never tri to teach pig to sing it can be done and it annoy the pig\n",
      "\n",
      "Lancaster Stemmed: \n",
      "\n",
      "from rosen kranz enet dec com jim rosenkranz subject re metal powder steel iron repli to rosen kranz enet dec com jim rosenkranz organ digit equip corp line 26 in articl 79557 cup portal com mmm cup portal com mark robert thorson write xref nntpd2 cxo dec com misc invest 40997 misc forsal 88577 path nntpd2 cxo dec com pa dec com e2big mko dec com uvo dec com news crl dec com deccrl caen zaphod mps ohio state edu sdd hp com portal cup portal com mmm from mmm cup portal com mark robert thorson newsgroup misc invest misc forsal subject re metal powder steel iron messag id 79557 cup portal com date thu 15 apr 93 08 53 51 pdt organ the portal system tm refer acpdgohawa com msk su line just love these post from the ex soviet union among the car dinett set video camera etc everi now and then an ad pop up for bee venom red oxid of mercuri cobalt 100 ton minimum order etc don they have garag sale in russia it realli doesn strike me as very funni it is rather indic of what crisi their economi is in imagin they are in despar need of market to sustain industri and peopl which are nolong under central control of the govern jim rosenkranz rosen kranz enet dec com never tri to teach pig to sing it can be done and it annoy the pig\n"
     ]
    }
   ],
   "source": [
    "i = 3\n",
    "print('Original: \\n{}'.format(test_df.iloc[i]))\n",
    "print('\\nSnowball Stemmed: \\n\\n{}'.format(snowball_text.iloc[i]))\n",
    "print('\\nPorter Stemmed: \\n\\n{}'.format(snowball_text.iloc[i]))\n",
    "print('\\nLancaster Stemmed: \\n\\n{}'.format(snowball_text.iloc[i]))"
   ]
  },
  {
   "cell_type": "code",
   "execution_count": 396,
   "metadata": {
    "collapsed": false
   },
   "outputs": [],
   "source": [
    "df['snowball_text'] = stem_column(df['Text'], s_stemmer, stop_words)\n",
    "df['porter_text'] = porter_text = stem_column(df['Text'], p_stemmer, stop_words)\n",
    "df['lancaster_text'] = lancaster_text = stem_column(df['Text'], l_stemmer, stop_words)"
   ]
  },
  {
   "cell_type": "code",
   "execution_count": 397,
   "metadata": {
    "collapsed": false
   },
   "outputs": [
    {
     "name": "stdout",
     "output_type": "stream",
     "text": [
      "There are 38546 tokens for column: Text\n",
      "There are 30175 tokens for column: snowball_text\n",
      "There are 30150 tokens for column: porter_text\n",
      "There are 26973 tokens for column: lancaster_text\n"
     ]
    }
   ],
   "source": [
    "for col in ['Text', 'snowball_text', 'porter_text', 'lancaster_text']:\n",
    "    cv = CountVectorizer(stop_words='english')\n",
    "    dtm = cv.fit_transform(df[col])\n",
    "    print('There are {} tokens for column: {}'.format(dtm.shape[1], col))"
   ]
  },
  {
   "cell_type": "markdown",
   "metadata": {},
   "source": [
    "<a id='4.2'></a>\n",
    "## 4.2 Custom Transformer (Advanced)\n",
    "\n",
    "We know pipelines take in transformers, but until now we've been using sklearns transformers. Most of the time this will be fine, but if you know how to create your own transformer you'll have much greater power.\n",
    "\n",
    "I already created one and saved it in file column_selector.py, this is necessary for GridSearchCV"
   ]
  },
  {
   "cell_type": "code",
   "execution_count": 398,
   "metadata": {
    "collapsed": true
   },
   "outputs": [],
   "source": [
    "from column_selector import ColSelector"
   ]
  },
  {
   "cell_type": "code",
   "execution_count": 399,
   "metadata": {
    "collapsed": true
   },
   "outputs": [],
   "source": [
    "??ColSelector"
   ]
  },
  {
   "cell_type": "markdown",
   "metadata": {},
   "source": [
    "This is a very simple transformer, that just grabs what ever column from the data set you specify"
   ]
  },
  {
   "cell_type": "code",
   "execution_count": 400,
   "metadata": {
    "collapsed": true
   },
   "outputs": [],
   "source": [
    "col = ColSelector(key='Text')"
   ]
  },
  {
   "cell_type": "code",
   "execution_count": 401,
   "metadata": {
    "collapsed": false
   },
   "outputs": [
    {
     "data": {
      "text/plain": [
       "0       From: jay@gdx.UUCP (Jay Snyder)\\nSubject: WANT...\n",
       "1       From: VEAL@utkvm1.utk.edu (David Veal)\\nSubjec...\n",
       "2       From: rickert@NeXTwork.Rose-Hulman.Edu (John H...\n",
       "3       From: rosen@kranz.enet.dec.com (Jim Rosenkranz...\n",
       "4       From: shapiro@oucsace.cs.ohiou.edu (Brian Shap...\n",
       "5       From: sbp002@acad.drake.edu\\nSubject: Re: Torr...\n",
       "6       Organization: Central Michigan University\\nFro...\n",
       "7       From: denning@guvax.acc.georgetown.edu\\nSubjec...\n",
       "8       From: DMCOLES@NUACVM.ACNS.NWU.EDU\\nSubject: Ch...\n",
       "9       From: jtchern@ocf.berkeley.edu (Joseph Hernand...\n",
       "10      From: wellison@kuhub.cc.ukans.edu\\nSubject: Re...\n",
       "11      From: ski@wpi.WPI.EDU (Joseph Mich Krzeszewski...\n",
       "12      From: smb@research.att.com (Steven Bellovin)\\n...\n",
       "13      From: jebright@magnus.acs.ohio-state.edu (Jame...\n",
       "14      From: pw@panix.com (Paul Wallich)\\nSubject: Re...\n",
       "15      From: thf2@kimbark.uchicago.edu (Ted Frank)\\nS...\n",
       "16      From: rscharfy@magnus.acs.ohio-state.edu (Ryan...\n",
       "17      From: jplee@cymbal.calpoly.edu (JASON LEE)\\nSu...\n",
       "18      From: mike@gordian.com (Michael A. Thomas)\\nSu...\n",
       "19      Subject: Re: Pgp, PEM, and RFC's (Was: Cryptog...\n",
       "20      From: pat@rwing.UUCP (Pat Myrto)\\nSubject: Re:...\n",
       "21      From: jsr2@ns1.cc.lehigh.edu (JOHN STEPHEN RAN...\n",
       "22      From: ritley@uimrl7.mrl.uiuc.edu ()\\nSubject: ...\n",
       "23      From: gld@cunixb.cc.columbia.edu (Gary L Dare)...\n",
       "24      From: lynn@granitt.uio.no (Malcolm Lynn)\\nSubj...\n",
       "25      From: harpe@netnews.louisville.edu (Mike Harpe...\n",
       "26      From: walter@psg.com (Walter Morales)\\nSubject...\n",
       "27      From: random@access.digex.com (Random)\\nSubjec...\n",
       "28      From: chin@ee.ualberta.ca (Jing Chin)\\nSubject...\n",
       "29      From: news@magnus.acs.ohio-state.edu\\nSubject:...\n",
       "                              ...                        \n",
       "2803    From: al@qiclab.scn.rain.com (Alan Peterman)\\n...\n",
       "2804    From: tuinstra@signal.ece.clarkson.edu.soe (Dw...\n",
       "2805    From: 2575brooksr@vms.csd.mu.edu\\nSubject: NeX...\n",
       "2806    Subject: *** New Computer Books for Sale ***\\n...\n",
       "2807    From: markz@ssc.com (Mark Zenier)\\nSubject: Re...\n",
       "2808    From: st1rp@rosie.uh.edu (Schwam, David S.)\\nS...\n",
       "2809    From: pla@sktb.demon.co.uk (\"Paul L. Allen\")\\n...\n",
       "2810    From: halle@rebecca.its.rpi.edu (Ezra D.B. Hal...\n",
       "2811    From: mrr@scss3.cl.msu.edu (Mark Riordan)\\nSub...\n",
       "2812    Subject: WIN/DOS Misc. Software\\nFrom: michael...\n",
       "2813    From: kaldis@romulus.rutgers.edu (Theodore A. ...\n",
       "2814    From: gtoal@gtoal.com (Graham Toal)\\nSubject: ...\n",
       "2815    From: tfs@gravity.gmu.edu (Tim Scanlon)\\nSubje...\n",
       "2816    From: dpeterik@iastate.edu (Dan Peterik)\\nSubj...\n",
       "2817    From: cjp1@aber.ac.uk (Christopher John Powell...\n",
       "2818    From: cmk@world.std.com (Charles M Kozierok)\\n...\n",
       "2819    From: Clinton-HQ@Campaign92.Org (Clinton/Gore ...\n",
       "2820    From: Daniel.J.Stern@dartmouth.edu (Daniel J. ...\n",
       "2821    From: pat@wrs.com (Patrick Boylan)\\nSubject: A...\n",
       "2822    From: bodom@silver.ucs.indiana.edu (Brian Odom...\n",
       "2823    From: erics@netcom.com (Eric Smith)\\nSubject: ...\n",
       "2824    From: dzenc@hal.gnu.ai.mit.edu (Dan Zenchelsky...\n",
       "2825    From: admiral@jhunix.hcf.jhu.edu (Steve C Liu)...\n",
       "2826    From: wgs1@Isis.MsState.Edu (Walter G. Seefeld...\n",
       "2827    From: kadie@cs.uiuc.edu (Carl M Kadie)\\nSubjec...\n",
       "2828    From: ptrei@bistromath.mitre.org (Peter Trei)\\...\n",
       "2829    From: dtmedin@catbyte.b30.ingr.com (Dave Medin...\n",
       "2830    From: gld@cunixb.cc.columbia.edu (Gary L Dare)...\n",
       "2831    From: cramer@optilink.COM (Clayton Cramer)\\nSu...\n",
       "2832    From: f92anha@fy.chalmers.se (Anders Hammarqui...\n",
       "Name: Text, dtype: object"
      ]
     },
     "execution_count": 401,
     "metadata": {},
     "output_type": "execute_result"
    }
   ],
   "source": [
    "col.fit_transform(df)"
   ]
  },
  {
   "cell_type": "code",
   "execution_count": 407,
   "metadata": {
    "collapsed": false
   },
   "outputs": [],
   "source": [
    "pipeline = Pipeline([\n",
    "    ('selector', ColSelector(key='Text')),\n",
    "    ('cv', CountVectorizer()),\n",
    "    ('tfidf', TfidfTransformer()),\n",
    "    ('sgd', SGDClassifier())\n",
    "    ])\n",
    "\n",
    "params = {\n",
    "    'selector__key':['Text', 'snowball_text', 'porter_text', 'lancaster_text'],\n",
    "    'cv__stop_words':[None, 'english'],\n",
    "    'cv__ngram_range':[(1,1), (1,2), (1,3)],\n",
    "    #'cv__min_df':[2, 4, 8, 9, 10],\n",
    "    #'cv__max_df':[.3, .4, .5, .6, .7, .8, .9, 1],\n",
    "    'tfidf__use_idf':[True],\n",
    "    'tfidf__norm':['l1', 'l2'],\n",
    "    'sgd__alpha':np.logspace(-6, 2, 10),\n",
    "    'sgd__epsilon':np.logspace(-6, 2, 10)\n",
    "}"
   ]
  },
  {
   "cell_type": "code",
   "execution_count": 424,
   "metadata": {
    "collapsed": false
   },
   "outputs": [
    {
     "name": "stdout",
     "output_type": "stream",
     "text": [
      "Fitting 5 folds for each of 100 candidates, totalling 500 fits\n"
     ]
    },
    {
     "name": "stderr",
     "output_type": "stream",
     "text": [
      "[Parallel(n_jobs=-1)]: Done  34 tasks      | elapsed:   48.5s\n",
      "[Parallel(n_jobs=-1)]: Done 184 tasks      | elapsed:  3.6min\n",
      "[Parallel(n_jobs=-1)]: Done 434 tasks      | elapsed:  8.5min\n",
      "[Parallel(n_jobs=-1)]: Done 500 out of 500 | elapsed:  9.7min finished\n"
     ]
    },
    {
     "name": "stdout",
     "output_type": "stream",
     "text": [
      "Best CV Score: 0.96\n",
      "Best parameters: {'cv__stop_words': 'english', 'sgd__epsilon': 3.9810717055349695e-05, 'tfidf__use_idf': True, 'cv__ngram_range': (1, 1), 'selector__key': 'porter_text', 'sgd__alpha': 9.9999999999999995e-07, 'tfidf__norm': 'l1'}\n"
     ]
    },
    {
     "ename": "IndexError",
     "evalue": "only integers, slices (`:`), ellipsis (`...`), numpy.newaxis (`None`) and integer or boolean arrays are valid indices",
     "output_type": "error",
     "traceback": [
      "\u001b[0;31m---------------------------------------------------------------------------\u001b[0m",
      "\u001b[0;31mIndexError\u001b[0m                                Traceback (most recent call last)",
      "\u001b[0;32m<ipython-input-424-8abc7f112bec>\u001b[0m in \u001b[0;36m<module>\u001b[0;34m()\u001b[0m\n\u001b[1;32m      5\u001b[0m \u001b[0mstemming_grid\u001b[0m \u001b[1;33m=\u001b[0m \u001b[0mRandomizedSearchCV\u001b[0m\u001b[1;33m(\u001b[0m\u001b[0mpipeline\u001b[0m\u001b[1;33m,\u001b[0m \u001b[0mparams\u001b[0m\u001b[1;33m,\u001b[0m \u001b[0mcv\u001b[0m\u001b[1;33m=\u001b[0m\u001b[1;36m5\u001b[0m\u001b[1;33m,\u001b[0m \u001b[0mn_iter\u001b[0m\u001b[1;33m=\u001b[0m\u001b[0mn_iter\u001b[0m\u001b[1;33m,\u001b[0m \u001b[0mn_jobs\u001b[0m\u001b[1;33m=\u001b[0m\u001b[1;33m-\u001b[0m\u001b[1;36m1\u001b[0m\u001b[1;33m,\u001b[0m \u001b[0mverbose\u001b[0m\u001b[1;33m=\u001b[0m\u001b[1;32mTrue\u001b[0m\u001b[1;33m)\u001b[0m\u001b[1;33m\u001b[0m\u001b[0m\n\u001b[1;32m      6\u001b[0m \u001b[0mstemming_grid\u001b[0m\u001b[1;33m.\u001b[0m\u001b[0mfit\u001b[0m\u001b[1;33m(\u001b[0m\u001b[0mX_train2\u001b[0m\u001b[1;33m,\u001b[0m \u001b[0my_train2\u001b[0m\u001b[1;33m)\u001b[0m\u001b[1;33m\u001b[0m\u001b[0m\n\u001b[0;32m----> 7\u001b[0;31m \u001b[0mevaluate_grid\u001b[0m\u001b[1;33m(\u001b[0m\u001b[0mstemming_grid\u001b[0m\u001b[1;33m,\u001b[0m \u001b[0mX_test2\u001b[0m\u001b[1;33m,\u001b[0m \u001b[0my_test2\u001b[0m\u001b[1;33m)\u001b[0m\u001b[1;33m\u001b[0m\u001b[0m\n\u001b[0m\u001b[1;32m      8\u001b[0m \u001b[0mprint\u001b[0m\u001b[1;33m(\u001b[0m\u001b[1;34m'Ran {} iterations in {} seconds'\u001b[0m\u001b[1;33m.\u001b[0m\u001b[0mformat\u001b[0m\u001b[1;33m(\u001b[0m\u001b[0mn_iter\u001b[0m\u001b[1;33m,\u001b[0m \u001b[0mtime\u001b[0m\u001b[1;33m(\u001b[0m\u001b[1;33m)\u001b[0m\u001b[1;33m-\u001b[0m\u001b[0mt0\u001b[0m\u001b[1;33m)\u001b[0m\u001b[1;33m)\u001b[0m\u001b[1;33m\u001b[0m\u001b[0m\n",
      "\u001b[0;32m<ipython-input-423-8b9742728b80>\u001b[0m in \u001b[0;36mevaluate_grid\u001b[0;34m(_grid, _y_test, _X_test)\u001b[0m\n\u001b[1;32m      2\u001b[0m     \u001b[0mprint\u001b[0m\u001b[1;33m(\u001b[0m\u001b[1;34m\"Best CV Score: {:.2f}\"\u001b[0m\u001b[1;33m.\u001b[0m\u001b[0mformat\u001b[0m\u001b[1;33m(\u001b[0m\u001b[0m_grid\u001b[0m\u001b[1;33m.\u001b[0m\u001b[0mbest_score_\u001b[0m\u001b[1;33m)\u001b[0m\u001b[1;33m)\u001b[0m\u001b[1;33m\u001b[0m\u001b[0m\n\u001b[1;32m      3\u001b[0m     \u001b[0mprint\u001b[0m\u001b[1;33m(\u001b[0m\u001b[1;34m\"Best parameters: {}\"\u001b[0m\u001b[1;33m.\u001b[0m\u001b[0mformat\u001b[0m\u001b[1;33m(\u001b[0m\u001b[0m_grid\u001b[0m\u001b[1;33m.\u001b[0m\u001b[0mbest_params_\u001b[0m\u001b[1;33m)\u001b[0m\u001b[1;33m)\u001b[0m\u001b[1;33m\u001b[0m\u001b[0m\n\u001b[0;32m----> 4\u001b[0;31m     \u001b[0mprint\u001b[0m\u001b[1;33m(\u001b[0m\u001b[1;34m\"Classification report for test sample held out: \\n{}\"\u001b[0m\u001b[1;33m.\u001b[0m\u001b[0mformat\u001b[0m\u001b[1;33m(\u001b[0m\u001b[0mclassification_report\u001b[0m\u001b[1;33m(\u001b[0m\u001b[0m_y_test\u001b[0m\u001b[1;33m,\u001b[0m \u001b[0m_grid\u001b[0m\u001b[1;33m.\u001b[0m\u001b[0mpredict\u001b[0m\u001b[1;33m(\u001b[0m\u001b[0m_X_test\u001b[0m\u001b[1;33m)\u001b[0m\u001b[1;33m)\u001b[0m\u001b[1;33m)\u001b[0m\u001b[1;33m)\u001b[0m\u001b[1;33m\u001b[0m\u001b[0m\n\u001b[0m",
      "\u001b[0;32mC:\\Program Files\\Anaconda3\\lib\\site-packages\\sklearn\\utils\\metaestimators.py\u001b[0m in \u001b[0;36m<lambda>\u001b[0;34m(*args, **kwargs)\u001b[0m\n\u001b[1;32m     52\u001b[0m \u001b[1;33m\u001b[0m\u001b[0m\n\u001b[1;32m     53\u001b[0m         \u001b[1;31m# lambda, but not partial, allows help() to work with update_wrapper\u001b[0m\u001b[1;33m\u001b[0m\u001b[1;33m\u001b[0m\u001b[0m\n\u001b[0;32m---> 54\u001b[0;31m         \u001b[0mout\u001b[0m \u001b[1;33m=\u001b[0m \u001b[1;32mlambda\u001b[0m \u001b[1;33m*\u001b[0m\u001b[0margs\u001b[0m\u001b[1;33m,\u001b[0m \u001b[1;33m**\u001b[0m\u001b[0mkwargs\u001b[0m\u001b[1;33m:\u001b[0m \u001b[0mself\u001b[0m\u001b[1;33m.\u001b[0m\u001b[0mfn\u001b[0m\u001b[1;33m(\u001b[0m\u001b[0mobj\u001b[0m\u001b[1;33m,\u001b[0m \u001b[1;33m*\u001b[0m\u001b[0margs\u001b[0m\u001b[1;33m,\u001b[0m \u001b[1;33m**\u001b[0m\u001b[0mkwargs\u001b[0m\u001b[1;33m)\u001b[0m\u001b[1;33m\u001b[0m\u001b[0m\n\u001b[0m\u001b[1;32m     55\u001b[0m         \u001b[1;31m# update the docstring of the returned function\u001b[0m\u001b[1;33m\u001b[0m\u001b[1;33m\u001b[0m\u001b[0m\n\u001b[1;32m     56\u001b[0m         \u001b[0mupdate_wrapper\u001b[0m\u001b[1;33m(\u001b[0m\u001b[0mout\u001b[0m\u001b[1;33m,\u001b[0m \u001b[0mself\u001b[0m\u001b[1;33m.\u001b[0m\u001b[0mfn\u001b[0m\u001b[1;33m)\u001b[0m\u001b[1;33m\u001b[0m\u001b[0m\n",
      "\u001b[0;32mC:\\Program Files\\Anaconda3\\lib\\site-packages\\sklearn\\model_selection\\_search.py\u001b[0m in \u001b[0;36mpredict\u001b[0;34m(self, X)\u001b[0m\n\u001b[1;32m    446\u001b[0m         \"\"\"\n\u001b[1;32m    447\u001b[0m         \u001b[0mself\u001b[0m\u001b[1;33m.\u001b[0m\u001b[0m_check_is_fitted\u001b[0m\u001b[1;33m(\u001b[0m\u001b[1;34m'predict'\u001b[0m\u001b[1;33m)\u001b[0m\u001b[1;33m\u001b[0m\u001b[0m\n\u001b[0;32m--> 448\u001b[0;31m         \u001b[1;32mreturn\u001b[0m \u001b[0mself\u001b[0m\u001b[1;33m.\u001b[0m\u001b[0mbest_estimator_\u001b[0m\u001b[1;33m.\u001b[0m\u001b[0mpredict\u001b[0m\u001b[1;33m(\u001b[0m\u001b[0mX\u001b[0m\u001b[1;33m)\u001b[0m\u001b[1;33m\u001b[0m\u001b[0m\n\u001b[0m\u001b[1;32m    449\u001b[0m \u001b[1;33m\u001b[0m\u001b[0m\n\u001b[1;32m    450\u001b[0m     \u001b[1;33m@\u001b[0m\u001b[0mif_delegate_has_method\u001b[0m\u001b[1;33m(\u001b[0m\u001b[0mdelegate\u001b[0m\u001b[1;33m=\u001b[0m\u001b[1;33m(\u001b[0m\u001b[1;34m'best_estimator_'\u001b[0m\u001b[1;33m,\u001b[0m \u001b[1;34m'estimator'\u001b[0m\u001b[1;33m)\u001b[0m\u001b[1;33m)\u001b[0m\u001b[1;33m\u001b[0m\u001b[0m\n",
      "\u001b[0;32mC:\\Program Files\\Anaconda3\\lib\\site-packages\\sklearn\\utils\\metaestimators.py\u001b[0m in \u001b[0;36m<lambda>\u001b[0;34m(*args, **kwargs)\u001b[0m\n\u001b[1;32m     52\u001b[0m \u001b[1;33m\u001b[0m\u001b[0m\n\u001b[1;32m     53\u001b[0m         \u001b[1;31m# lambda, but not partial, allows help() to work with update_wrapper\u001b[0m\u001b[1;33m\u001b[0m\u001b[1;33m\u001b[0m\u001b[0m\n\u001b[0;32m---> 54\u001b[0;31m         \u001b[0mout\u001b[0m \u001b[1;33m=\u001b[0m \u001b[1;32mlambda\u001b[0m \u001b[1;33m*\u001b[0m\u001b[0margs\u001b[0m\u001b[1;33m,\u001b[0m \u001b[1;33m**\u001b[0m\u001b[0mkwargs\u001b[0m\u001b[1;33m:\u001b[0m \u001b[0mself\u001b[0m\u001b[1;33m.\u001b[0m\u001b[0mfn\u001b[0m\u001b[1;33m(\u001b[0m\u001b[0mobj\u001b[0m\u001b[1;33m,\u001b[0m \u001b[1;33m*\u001b[0m\u001b[0margs\u001b[0m\u001b[1;33m,\u001b[0m \u001b[1;33m**\u001b[0m\u001b[0mkwargs\u001b[0m\u001b[1;33m)\u001b[0m\u001b[1;33m\u001b[0m\u001b[0m\n\u001b[0m\u001b[1;32m     55\u001b[0m         \u001b[1;31m# update the docstring of the returned function\u001b[0m\u001b[1;33m\u001b[0m\u001b[1;33m\u001b[0m\u001b[0m\n\u001b[1;32m     56\u001b[0m         \u001b[0mupdate_wrapper\u001b[0m\u001b[1;33m(\u001b[0m\u001b[0mout\u001b[0m\u001b[1;33m,\u001b[0m \u001b[0mself\u001b[0m\u001b[1;33m.\u001b[0m\u001b[0mfn\u001b[0m\u001b[1;33m)\u001b[0m\u001b[1;33m\u001b[0m\u001b[0m\n",
      "\u001b[0;32mC:\\Program Files\\Anaconda3\\lib\\site-packages\\sklearn\\pipeline.py\u001b[0m in \u001b[0;36mpredict\u001b[0;34m(self, X)\u001b[0m\n\u001b[1;32m    324\u001b[0m         \u001b[1;32mfor\u001b[0m \u001b[0mname\u001b[0m\u001b[1;33m,\u001b[0m \u001b[0mtransform\u001b[0m \u001b[1;32min\u001b[0m \u001b[0mself\u001b[0m\u001b[1;33m.\u001b[0m\u001b[0msteps\u001b[0m\u001b[1;33m[\u001b[0m\u001b[1;33m:\u001b[0m\u001b[1;33m-\u001b[0m\u001b[1;36m1\u001b[0m\u001b[1;33m]\u001b[0m\u001b[1;33m:\u001b[0m\u001b[1;33m\u001b[0m\u001b[0m\n\u001b[1;32m    325\u001b[0m             \u001b[1;32mif\u001b[0m \u001b[0mtransform\u001b[0m \u001b[1;32mis\u001b[0m \u001b[1;32mnot\u001b[0m \u001b[1;32mNone\u001b[0m\u001b[1;33m:\u001b[0m\u001b[1;33m\u001b[0m\u001b[0m\n\u001b[0;32m--> 326\u001b[0;31m                 \u001b[0mXt\u001b[0m \u001b[1;33m=\u001b[0m \u001b[0mtransform\u001b[0m\u001b[1;33m.\u001b[0m\u001b[0mtransform\u001b[0m\u001b[1;33m(\u001b[0m\u001b[0mXt\u001b[0m\u001b[1;33m)\u001b[0m\u001b[1;33m\u001b[0m\u001b[0m\n\u001b[0m\u001b[1;32m    327\u001b[0m         \u001b[1;32mreturn\u001b[0m \u001b[0mself\u001b[0m\u001b[1;33m.\u001b[0m\u001b[0msteps\u001b[0m\u001b[1;33m[\u001b[0m\u001b[1;33m-\u001b[0m\u001b[1;36m1\u001b[0m\u001b[1;33m]\u001b[0m\u001b[1;33m[\u001b[0m\u001b[1;33m-\u001b[0m\u001b[1;36m1\u001b[0m\u001b[1;33m]\u001b[0m\u001b[1;33m.\u001b[0m\u001b[0mpredict\u001b[0m\u001b[1;33m(\u001b[0m\u001b[0mXt\u001b[0m\u001b[1;33m)\u001b[0m\u001b[1;33m\u001b[0m\u001b[0m\n\u001b[1;32m    328\u001b[0m \u001b[1;33m\u001b[0m\u001b[0m\n",
      "\u001b[0;32mC:\\Users\\Colin\\Documents\\GitHub\\Text_Mining_Python_Lecture\\column_selector.py\u001b[0m in \u001b[0;36mtransform\u001b[0;34m(self, df)\u001b[0m\n\u001b[1;32m     15\u001b[0m \u001b[1;33m\u001b[0m\u001b[0m\n\u001b[1;32m     16\u001b[0m     \u001b[1;32mdef\u001b[0m \u001b[0mtransform\u001b[0m\u001b[1;33m(\u001b[0m\u001b[0mself\u001b[0m\u001b[1;33m,\u001b[0m \u001b[0mdf\u001b[0m\u001b[1;33m)\u001b[0m\u001b[1;33m:\u001b[0m\u001b[1;33m\u001b[0m\u001b[0m\n\u001b[0;32m---> 17\u001b[0;31m         \u001b[1;32mreturn\u001b[0m \u001b[0mdf\u001b[0m\u001b[1;33m[\u001b[0m\u001b[0mself\u001b[0m\u001b[1;33m.\u001b[0m\u001b[0mkey\u001b[0m\u001b[1;33m]\u001b[0m\u001b[1;33m\u001b[0m\u001b[0m\n\u001b[0m",
      "\u001b[0;31mIndexError\u001b[0m: only integers, slices (`:`), ellipsis (`...`), numpy.newaxis (`None`) and integer or boolean arrays are valid indices"
     ]
    }
   ],
   "source": [
    "X_train2, X_test2, y_train2, y_test2 = train_test_split(df, train.target, test_size=.2, random_state=0)\n",
    "n_iter = 50\n",
    "t0 = time()\n",
    "\n",
    "stemming_grid = RandomizedSearchCV(pipeline, params, cv=5, n_iter=n_iter, n_jobs=-1, verbose=True)\n",
    "stemming_grid.fit(X_train2, y_train2)\n",
    "print(\"Best CV Score: {:.2f}\".format(stemming_grid.best_score_))\n",
    "print(\"Best parameters: {}\".format(stemming_grid.best_params_))\n",
    "y_pred = stemming_grid.predict(X_test2)\n",
    "print(\"Classification report for test sample held out: \\n{}\".format(classification_report(y_test2, y_pred)))\n",
    "print(\"Confusion Matrix for test: \\n{}\".format(confusion_matrix(y_test2, y_pred)))\n",
    "print('Ran {} iterations in {} seconds'.format(n_iter, time()-t0))"
   ]
  },
  {
   "cell_type": "code",
   "execution_count": null,
   "metadata": {
    "collapsed": false
   },
   "outputs": [],
   "source": [
    "results = pd.DataFrame(stemming_grid.cv_results_)"
   ]
  },
  {
   "cell_type": "code",
   "execution_count": null,
   "metadata": {
    "collapsed": false
   },
   "outputs": [],
   "source": [
    "results.head()"
   ]
  },
  {
   "cell_type": "code",
   "execution_count": 413,
   "metadata": {
    "collapsed": false
   },
   "outputs": [
    {
     "data": {
      "text/plain": [
       "param_selector__key\n",
       "Text              0.944285\n",
       "lancaster_text    0.943954\n",
       "porter_text       0.948884\n",
       "snowball_text     0.947476\n",
       "Name: mean_test_score, dtype: float64"
      ]
     },
     "execution_count": 413,
     "metadata": {},
     "output_type": "execute_result"
    }
   ],
   "source": [
    "results.groupby(by='param_selector__key')['mean_test_score'].mean()"
   ]
  },
  {
   "cell_type": "code",
   "execution_count": 421,
   "metadata": {
    "collapsed": false
   },
   "outputs": [],
   "source": [
    "results = results.fillna('None')"
   ]
  },
  {
   "cell_type": "code",
   "execution_count": 422,
   "metadata": {
    "collapsed": false
   },
   "outputs": [
    {
     "name": "stdout",
     "output_type": "stream",
     "text": [
      "param_sgd__epsilon\n",
      "0.000001      0.945641\n",
      "0.000040      0.945204\n",
      "0.001585      0.946888\n",
      "0.063096      0.945164\n",
      "2.511886      0.946990\n",
      "100.000000    0.946708\n",
      "Name: mean_test_score, dtype: float64\n"
     ]
    }
   ],
   "source": [
    "param_cols = [col for col in results.columns if col.startswith('param_')]\n",
    "@interact\n",
    "def compare_parameter(col=param_cols):\n",
    "    print(results.groupby(by=col)['mean_test_score'].mean())"
   ]
  },
  {
   "cell_type": "code",
   "execution_count": null,
   "metadata": {
    "collapsed": true
   },
   "outputs": [],
   "source": []
  }
 ],
 "metadata": {
  "anaconda-cloud": {},
  "kernelspec": {
   "display_name": "Python [default]",
   "language": "python",
   "name": "python3"
  },
  "language_info": {
   "codemirror_mode": {
    "name": "ipython",
    "version": 3
   },
   "file_extension": ".py",
   "mimetype": "text/x-python",
   "name": "python",
   "nbconvert_exporter": "python",
   "pygments_lexer": "ipython3",
   "version": "3.5.2"
  },
  "widgets": {
   "state": {
    "4453ecf6c4054f6090b66a5f1ad6fdd0": {
     "views": [
      {
       "cell_index": 243
      }
     ]
    },
    "b639c3e3c8274c32b9ad6d5b979cd342": {
     "views": [
      {
       "cell_index": 192
      }
     ]
    }
   },
   "version": "1.2.0"
  }
 },
 "nbformat": 4,
 "nbformat_minor": 1
}
